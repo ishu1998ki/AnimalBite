{
 "cells": [
  {
   "cell_type": "code",
   "execution_count": 1,
   "id": "initial_id",
   "metadata": {
    "ExecuteTime": {
     "end_time": "2024-01-16T17:36:59.156982300Z",
     "start_time": "2024-01-16T17:36:58.722570700Z"
    }
   },
   "outputs": [],
   "source": [
    "import pandas as pd\n",
    "import numpy as np\n",
    "import os \n",
    "\n",
    "from datetime import datetime, timedelta\n",
    "from statistics import mode"
   ]
  },
  {
   "cell_type": "code",
   "execution_count": 2,
   "outputs": [
    {
     "data": {
      "text/plain": "'C:\\\\Users\\\\Christila\\\\Documents\\\\AnimalBite'"
     },
     "execution_count": 2,
     "metadata": {},
     "output_type": "execute_result"
    }
   ],
   "source": [
    "os.getcwd()"
   ],
   "metadata": {
    "collapsed": false,
    "ExecuteTime": {
     "end_time": "2024-01-16T17:37:00.051018700Z",
     "start_time": "2024-01-16T17:36:59.989118100Z"
    }
   },
   "id": "c9444c40db4621f5"
  },
  {
   "cell_type": "code",
   "execution_count": 3,
   "outputs": [
    {
     "data": {
      "text/plain": "(9003, 15)"
     },
     "execution_count": 3,
     "metadata": {},
     "output_type": "execute_result"
    }
   ],
   "source": [
    "loadData = pd.read_csv('Health_AnimalBites.csv')\n",
    "loadData.shape\n"
   ],
   "metadata": {
    "collapsed": false,
    "ExecuteTime": {
     "end_time": "2024-01-16T17:37:00.849987400Z",
     "start_time": "2024-01-16T17:37:00.791990Z"
    }
   },
   "id": "ac04392ec5689863"
  },
  {
   "cell_type": "code",
   "execution_count": 4,
   "id": "5c1b4622",
   "metadata": {
    "ExecuteTime": {
     "end_time": "2024-01-16T17:37:02.120959900Z",
     "start_time": "2024-01-16T17:37:02.061549Z"
    }
   },
   "outputs": [
    {
     "data": {
      "text/plain": "                bite_date SpeciesIDDesc      BreedIDDesc GenderIDDesc  \\\n0     1985-05-05 00:00:00           DOG              NaN       FEMALE   \n1     1986-02-12 00:00:00           DOG              NaN      UNKNOWN   \n2     1987-05-07 00:00:00           DOG              NaN      UNKNOWN   \n3     1988-10-02 00:00:00           DOG              NaN         MALE   \n4     1989-08-29 00:00:00           DOG              NaN       FEMALE   \n...                   ...           ...              ...          ...   \n8998  2017-09-05 00:00:00           DOG              NaN          NaN   \n8999  2017-09-07 00:00:00           DOG       POMERANIAN         MALE   \n9000  2017-09-07 00:00:00           DOG  LABRADOR RETRIV         MALE   \n9001  2017-09-07 00:00:00           DOG  LABRADOR RETRIV       FEMALE   \n9002  2017-09-07 00:00:00           DOG            BOXER          NaN   \n\n           color  vaccination_yrs     vaccination_date victim_zip  \\\n0     LIG. BROWN              1.0  1985-06-20 00:00:00      40229   \n1      BRO & BLA              NaN                  NaN      40218   \n2            NaN              NaN                  NaN      40219   \n3      BLA & BRO              NaN                  NaN        NaN   \n4        BLK-WHT              NaN                  NaN        NaN   \n...          ...              ...                  ...        ...   \n8998         NaN              NaN                  NaN      40243   \n8999         RED              NaN                  NaN      40204   \n9000       BROWN              NaN                  NaN      47130   \n9001     BLK WHT              NaN                  NaN      40229   \n9002     BRN BLK              NaN                  NaN      40229   \n\n     AdvIssuedYNDesc WhereBittenIDDesc      quarantine_date DispositionIDDesc  \\\n0                 NO              BODY  1985-05-05 00:00:00           UNKNOWN   \n1                 NO              BODY  1986-02-12 00:00:00           UNKNOWN   \n2                 NO              BODY  1990-05-07 00:00:00           UNKNOWN   \n3                 NO              BODY  1990-10-02 00:00:00           UNKNOWN   \n4                 NO              BODY                  NaN           UNKNOWN   \n...              ...               ...                  ...               ...   \n8998             NaN           UNKNOWN                  NaN               NaN   \n8999             NaN              HEAD                  NaN               NaN   \n9000             NaN           UNKNOWN                  NaN               NaN   \n9001             NaN              BODY                  NaN               NaN   \n9002             NaN              BODY                  NaN               NaN   \n\n     head_sent_date release_date ResultsIDDesc  \n0               NaN          NaN       UNKNOWN  \n1               NaN          NaN       UNKNOWN  \n2               NaN          NaN       UNKNOWN  \n3               NaN          NaN       UNKNOWN  \n4               NaN          NaN       UNKNOWN  \n...             ...          ...           ...  \n8998            NaN          NaN           NaN  \n8999            NaN          NaN           NaN  \n9000            NaN          NaN           NaN  \n9001            NaN          NaN           NaN  \n9002            NaN          NaN           NaN  \n\n[9003 rows x 15 columns]",
      "text/html": "<div>\n<style scoped>\n    .dataframe tbody tr th:only-of-type {\n        vertical-align: middle;\n    }\n\n    .dataframe tbody tr th {\n        vertical-align: top;\n    }\n\n    .dataframe thead th {\n        text-align: right;\n    }\n</style>\n<table border=\"1\" class=\"dataframe\">\n  <thead>\n    <tr style=\"text-align: right;\">\n      <th></th>\n      <th>bite_date</th>\n      <th>SpeciesIDDesc</th>\n      <th>BreedIDDesc</th>\n      <th>GenderIDDesc</th>\n      <th>color</th>\n      <th>vaccination_yrs</th>\n      <th>vaccination_date</th>\n      <th>victim_zip</th>\n      <th>AdvIssuedYNDesc</th>\n      <th>WhereBittenIDDesc</th>\n      <th>quarantine_date</th>\n      <th>DispositionIDDesc</th>\n      <th>head_sent_date</th>\n      <th>release_date</th>\n      <th>ResultsIDDesc</th>\n    </tr>\n  </thead>\n  <tbody>\n    <tr>\n      <th>0</th>\n      <td>1985-05-05 00:00:00</td>\n      <td>DOG</td>\n      <td>NaN</td>\n      <td>FEMALE</td>\n      <td>LIG. BROWN</td>\n      <td>1.0</td>\n      <td>1985-06-20 00:00:00</td>\n      <td>40229</td>\n      <td>NO</td>\n      <td>BODY</td>\n      <td>1985-05-05 00:00:00</td>\n      <td>UNKNOWN</td>\n      <td>NaN</td>\n      <td>NaN</td>\n      <td>UNKNOWN</td>\n    </tr>\n    <tr>\n      <th>1</th>\n      <td>1986-02-12 00:00:00</td>\n      <td>DOG</td>\n      <td>NaN</td>\n      <td>UNKNOWN</td>\n      <td>BRO &amp; BLA</td>\n      <td>NaN</td>\n      <td>NaN</td>\n      <td>40218</td>\n      <td>NO</td>\n      <td>BODY</td>\n      <td>1986-02-12 00:00:00</td>\n      <td>UNKNOWN</td>\n      <td>NaN</td>\n      <td>NaN</td>\n      <td>UNKNOWN</td>\n    </tr>\n    <tr>\n      <th>2</th>\n      <td>1987-05-07 00:00:00</td>\n      <td>DOG</td>\n      <td>NaN</td>\n      <td>UNKNOWN</td>\n      <td>NaN</td>\n      <td>NaN</td>\n      <td>NaN</td>\n      <td>40219</td>\n      <td>NO</td>\n      <td>BODY</td>\n      <td>1990-05-07 00:00:00</td>\n      <td>UNKNOWN</td>\n      <td>NaN</td>\n      <td>NaN</td>\n      <td>UNKNOWN</td>\n    </tr>\n    <tr>\n      <th>3</th>\n      <td>1988-10-02 00:00:00</td>\n      <td>DOG</td>\n      <td>NaN</td>\n      <td>MALE</td>\n      <td>BLA &amp; BRO</td>\n      <td>NaN</td>\n      <td>NaN</td>\n      <td>NaN</td>\n      <td>NO</td>\n      <td>BODY</td>\n      <td>1990-10-02 00:00:00</td>\n      <td>UNKNOWN</td>\n      <td>NaN</td>\n      <td>NaN</td>\n      <td>UNKNOWN</td>\n    </tr>\n    <tr>\n      <th>4</th>\n      <td>1989-08-29 00:00:00</td>\n      <td>DOG</td>\n      <td>NaN</td>\n      <td>FEMALE</td>\n      <td>BLK-WHT</td>\n      <td>NaN</td>\n      <td>NaN</td>\n      <td>NaN</td>\n      <td>NO</td>\n      <td>BODY</td>\n      <td>NaN</td>\n      <td>UNKNOWN</td>\n      <td>NaN</td>\n      <td>NaN</td>\n      <td>UNKNOWN</td>\n    </tr>\n    <tr>\n      <th>...</th>\n      <td>...</td>\n      <td>...</td>\n      <td>...</td>\n      <td>...</td>\n      <td>...</td>\n      <td>...</td>\n      <td>...</td>\n      <td>...</td>\n      <td>...</td>\n      <td>...</td>\n      <td>...</td>\n      <td>...</td>\n      <td>...</td>\n      <td>...</td>\n      <td>...</td>\n    </tr>\n    <tr>\n      <th>8998</th>\n      <td>2017-09-05 00:00:00</td>\n      <td>DOG</td>\n      <td>NaN</td>\n      <td>NaN</td>\n      <td>NaN</td>\n      <td>NaN</td>\n      <td>NaN</td>\n      <td>40243</td>\n      <td>NaN</td>\n      <td>UNKNOWN</td>\n      <td>NaN</td>\n      <td>NaN</td>\n      <td>NaN</td>\n      <td>NaN</td>\n      <td>NaN</td>\n    </tr>\n    <tr>\n      <th>8999</th>\n      <td>2017-09-07 00:00:00</td>\n      <td>DOG</td>\n      <td>POMERANIAN</td>\n      <td>MALE</td>\n      <td>RED</td>\n      <td>NaN</td>\n      <td>NaN</td>\n      <td>40204</td>\n      <td>NaN</td>\n      <td>HEAD</td>\n      <td>NaN</td>\n      <td>NaN</td>\n      <td>NaN</td>\n      <td>NaN</td>\n      <td>NaN</td>\n    </tr>\n    <tr>\n      <th>9000</th>\n      <td>2017-09-07 00:00:00</td>\n      <td>DOG</td>\n      <td>LABRADOR RETRIV</td>\n      <td>MALE</td>\n      <td>BROWN</td>\n      <td>NaN</td>\n      <td>NaN</td>\n      <td>47130</td>\n      <td>NaN</td>\n      <td>UNKNOWN</td>\n      <td>NaN</td>\n      <td>NaN</td>\n      <td>NaN</td>\n      <td>NaN</td>\n      <td>NaN</td>\n    </tr>\n    <tr>\n      <th>9001</th>\n      <td>2017-09-07 00:00:00</td>\n      <td>DOG</td>\n      <td>LABRADOR RETRIV</td>\n      <td>FEMALE</td>\n      <td>BLK WHT</td>\n      <td>NaN</td>\n      <td>NaN</td>\n      <td>40229</td>\n      <td>NaN</td>\n      <td>BODY</td>\n      <td>NaN</td>\n      <td>NaN</td>\n      <td>NaN</td>\n      <td>NaN</td>\n      <td>NaN</td>\n    </tr>\n    <tr>\n      <th>9002</th>\n      <td>2017-09-07 00:00:00</td>\n      <td>DOG</td>\n      <td>BOXER</td>\n      <td>NaN</td>\n      <td>BRN BLK</td>\n      <td>NaN</td>\n      <td>NaN</td>\n      <td>40229</td>\n      <td>NaN</td>\n      <td>BODY</td>\n      <td>NaN</td>\n      <td>NaN</td>\n      <td>NaN</td>\n      <td>NaN</td>\n      <td>NaN</td>\n    </tr>\n  </tbody>\n</table>\n<p>9003 rows × 15 columns</p>\n</div>"
     },
     "execution_count": 4,
     "metadata": {},
     "output_type": "execute_result"
    }
   ],
   "source": [
    "loadData"
   ]
  },
  {
   "cell_type": "code",
   "execution_count": 5,
   "id": "472f6742993dde66",
   "metadata": {
    "ExecuteTime": {
     "end_time": "2024-01-16T17:37:11.455350800Z",
     "start_time": "2024-01-16T17:37:11.344797400Z"
    }
   },
   "outputs": [
    {
     "data": {
      "text/plain": "bite_date             317\nSpeciesIDDesc         118\nBreedIDDesc          5244\nGenderIDDesc         2526\ncolor                2577\nvaccination_yrs      5265\nvaccination_date     4888\nvictim_zip           1838\nAdvIssuedYNDesc      6438\nWhereBittenIDDesc     616\nquarantine_date      6983\nDispositionIDDesc    7468\nhead_sent_date       8608\nrelease_date         7558\nResultsIDDesc        7460\ndtype: int64"
     },
     "execution_count": 5,
     "metadata": {},
     "output_type": "execute_result"
    }
   ],
   "source": [
    "loadData.isnull().sum()"
   ]
  },
  {
   "cell_type": "code",
   "execution_count": 6,
   "id": "dc894c2b",
   "metadata": {
    "ExecuteTime": {
     "end_time": "2024-01-16T17:37:15.253987600Z",
     "start_time": "2024-01-16T17:37:15.196767800Z"
    }
   },
   "outputs": [],
   "source": [
    "# creating a copy from original dataset\n",
    "preprocessed_data =  loadData.copy()"
   ]
  },
  {
   "cell_type": "code",
   "execution_count": 7,
   "id": "d67c549d",
   "metadata": {
    "ExecuteTime": {
     "end_time": "2024-01-16T17:37:18.708689Z",
     "start_time": "2024-01-16T17:37:18.625905300Z"
    }
   },
   "outputs": [],
   "source": [
    "# convert date columns from string type to datetime type\n",
    "def convert_to_dateTime(dataframe, columnName):\n",
    "    dataframe[columnName] = pd.to_datetime(dataframe[columnName])\n",
    "    \n",
    "    return dataframe[columnName]\n",
    "    \n",
    "\n",
    "# convert date into one format\n",
    "def convert_date_into_one_format(dataframe, columnName):\n",
    "    dataframe[columnName] = pd.to_datetime(dataframe[columnName], format='%Y-%m-%d %H:%M:%S')\n",
    "    \n",
    "    return dataframe[columnName]\n",
    "\n",
    "# to get difference between two columns\n",
    "def get_difference_between_columns(dataframe,newColumnNam, columnName1, columnName2):\n",
    "    dataframe[newColumnNam] = dataframe[columnName1] - dataframe[columnName2]\n",
    "    \n",
    "    return dataframe[newColumnNam]\n",
    "\n",
    "# to sort data\n",
    "def sorting_data(dataframe,columnName,bitvalue):\n",
    "    sortByDifference = dataframe.sort_values(by=columnName, ascending = bitvalue)\n",
    "    \n",
    "    return sortByDifference\n",
    "    \n",
    "\n",
    "# to correct data using index location\n",
    "def correct_data_using_index(dataframe,columnName,rowNum,date):\n",
    "    dataframe.loc[rowNum, columnName] = pd.to_datetime(date)\n",
    "    \n",
    "    return dataframe.loc[rowNum, columnName] \n",
    "\n",
    "# to get the average of a column\n",
    "def get_average(dataframe,columnName):\n",
    "    average = dataframe[columnName].mean()\n",
    "    \n",
    "    return average\n",
    " \n",
    " \n",
    " # to check null values\n",
    "def check_null_values(dataframe,column):\n",
    "    nullRows = dataframe[dataframe[column].isnull().sum(axis=1) > 1]\n",
    "    \n",
    "    return nullRows\n",
    "    \n",
    "    \n",
    "# to fill missing values\n",
    "def to_fillna_byAdding(dataframe,columnNameToFill,usedColumnToFill,day):\n",
    "    dataframe[columnNameToFill] = dataframe[columnNameToFill].fillna(dataframe[usedColumnToFill] + pd.Timedelta(days = day))\n",
    "    \n",
    "    return dataframe[columnNameToFill]\n",
    "    \n",
    "    \n",
    "def to_fillna_bySubstracting(dataframe,columnNameToFill,usedColumnToFill,day):\n",
    "    dataframe[columnNameToFill] = dataframe[columnNameToFill].fillna(dataframe[usedColumnToFill] - pd.Timedelta(days = day))\n",
    "    \n",
    "    return dataframe[columnNameToFill]\n",
    "\n",
    "# to fill catedorical data\n",
    "\n",
    "def fill_category(dataframe,columnName, fillValue):\n",
    "    dataframe[columnName] = dataframe[columnName].fillna(fillValue)\n",
    "    \n",
    "    return dataframe[columnName]"
   ]
  },
  {
   "cell_type": "code",
   "execution_count": 8,
   "outputs": [
    {
     "ename": "OutOfBoundsDatetime",
     "evalue": "Out of bounds nanosecond timestamp: 5013-07-15 00:00:00, at position 1384. You might want to try:\n    - passing `format` if your strings have a consistent format;\n    - passing `format='ISO8601'` if your strings are all ISO8601 but not necessarily in exactly the same format;\n    - passing `format='mixed'`, and the format will be inferred for each element individually. You might want to use `dayfirst` alongside this.",
     "output_type": "error",
     "traceback": [
      "\u001B[1;31m---------------------------------------------------------------------------\u001B[0m",
      "\u001B[1;31mOutOfBoundsDatetime\u001B[0m                       Traceback (most recent call last)",
      "Cell \u001B[1;32mIn[8], line 2\u001B[0m\n\u001B[0;32m      1\u001B[0m \u001B[38;5;66;03m# we need to convert string data into datetime\u001B[39;00m\n\u001B[1;32m----> 2\u001B[0m \u001B[43mconvert_to_dateTime\u001B[49m\u001B[43m(\u001B[49m\u001B[43mpreprocessed_data\u001B[49m\u001B[43m,\u001B[49m\u001B[43m \u001B[49m\u001B[38;5;124;43m'\u001B[39;49m\u001B[38;5;124;43mbite_date\u001B[39;49m\u001B[38;5;124;43m'\u001B[39;49m\u001B[43m)\u001B[49m\n",
      "Cell \u001B[1;32mIn[7], line 3\u001B[0m, in \u001B[0;36mconvert_to_dateTime\u001B[1;34m(dataframe, columnName)\u001B[0m\n\u001B[0;32m      2\u001B[0m \u001B[38;5;28;01mdef\u001B[39;00m \u001B[38;5;21mconvert_to_dateTime\u001B[39m(dataframe, columnName):\n\u001B[1;32m----> 3\u001B[0m     dataframe[columnName] \u001B[38;5;241m=\u001B[39m \u001B[43mpd\u001B[49m\u001B[38;5;241;43m.\u001B[39;49m\u001B[43mto_datetime\u001B[49m\u001B[43m(\u001B[49m\u001B[43mdataframe\u001B[49m\u001B[43m[\u001B[49m\u001B[43mcolumnName\u001B[49m\u001B[43m]\u001B[49m\u001B[43m)\u001B[49m\n\u001B[0;32m      5\u001B[0m     \u001B[38;5;28;01mreturn\u001B[39;00m dataframe[columnName]\n",
      "File \u001B[1;32m~\\AppData\\Local\\Programs\\Python\\Python311\\Lib\\site-packages\\pandas\\core\\tools\\datetimes.py:1108\u001B[0m, in \u001B[0;36mto_datetime\u001B[1;34m(arg, errors, dayfirst, yearfirst, utc, format, exact, unit, infer_datetime_format, origin, cache)\u001B[0m\n\u001B[0;32m   1106\u001B[0m             result \u001B[38;5;241m=\u001B[39m arg\u001B[38;5;241m.\u001B[39mtz_localize(\u001B[38;5;124m\"\u001B[39m\u001B[38;5;124mutc\u001B[39m\u001B[38;5;124m\"\u001B[39m)\n\u001B[0;32m   1107\u001B[0m \u001B[38;5;28;01melif\u001B[39;00m \u001B[38;5;28misinstance\u001B[39m(arg, ABCSeries):\n\u001B[1;32m-> 1108\u001B[0m     cache_array \u001B[38;5;241m=\u001B[39m \u001B[43m_maybe_cache\u001B[49m\u001B[43m(\u001B[49m\u001B[43marg\u001B[49m\u001B[43m,\u001B[49m\u001B[43m \u001B[49m\u001B[38;5;28;43mformat\u001B[39;49m\u001B[43m,\u001B[49m\u001B[43m \u001B[49m\u001B[43mcache\u001B[49m\u001B[43m,\u001B[49m\u001B[43m \u001B[49m\u001B[43mconvert_listlike\u001B[49m\u001B[43m)\u001B[49m\n\u001B[0;32m   1109\u001B[0m     \u001B[38;5;28;01mif\u001B[39;00m \u001B[38;5;129;01mnot\u001B[39;00m cache_array\u001B[38;5;241m.\u001B[39mempty:\n\u001B[0;32m   1110\u001B[0m         result \u001B[38;5;241m=\u001B[39m arg\u001B[38;5;241m.\u001B[39mmap(cache_array)\n",
      "File \u001B[1;32m~\\AppData\\Local\\Programs\\Python\\Python311\\Lib\\site-packages\\pandas\\core\\tools\\datetimes.py:254\u001B[0m, in \u001B[0;36m_maybe_cache\u001B[1;34m(arg, format, cache, convert_listlike)\u001B[0m\n\u001B[0;32m    252\u001B[0m unique_dates \u001B[38;5;241m=\u001B[39m unique(arg)\n\u001B[0;32m    253\u001B[0m \u001B[38;5;28;01mif\u001B[39;00m \u001B[38;5;28mlen\u001B[39m(unique_dates) \u001B[38;5;241m<\u001B[39m \u001B[38;5;28mlen\u001B[39m(arg):\n\u001B[1;32m--> 254\u001B[0m     cache_dates \u001B[38;5;241m=\u001B[39m \u001B[43mconvert_listlike\u001B[49m\u001B[43m(\u001B[49m\u001B[43munique_dates\u001B[49m\u001B[43m,\u001B[49m\u001B[43m \u001B[49m\u001B[38;5;28;43mformat\u001B[39;49m\u001B[43m)\u001B[49m\n\u001B[0;32m    255\u001B[0m     \u001B[38;5;66;03m# GH#45319\u001B[39;00m\n\u001B[0;32m    256\u001B[0m     \u001B[38;5;28;01mtry\u001B[39;00m:\n",
      "File \u001B[1;32m~\\AppData\\Local\\Programs\\Python\\Python311\\Lib\\site-packages\\pandas\\core\\tools\\datetimes.py:488\u001B[0m, in \u001B[0;36m_convert_listlike_datetimes\u001B[1;34m(arg, format, name, utc, unit, errors, dayfirst, yearfirst, exact)\u001B[0m\n\u001B[0;32m    486\u001B[0m \u001B[38;5;66;03m# `format` could be inferred, or user didn't ask for mixed-format parsing.\u001B[39;00m\n\u001B[0;32m    487\u001B[0m \u001B[38;5;28;01mif\u001B[39;00m \u001B[38;5;28mformat\u001B[39m \u001B[38;5;129;01mis\u001B[39;00m \u001B[38;5;129;01mnot\u001B[39;00m \u001B[38;5;28;01mNone\u001B[39;00m \u001B[38;5;129;01mand\u001B[39;00m \u001B[38;5;28mformat\u001B[39m \u001B[38;5;241m!=\u001B[39m \u001B[38;5;124m\"\u001B[39m\u001B[38;5;124mmixed\u001B[39m\u001B[38;5;124m\"\u001B[39m:\n\u001B[1;32m--> 488\u001B[0m     \u001B[38;5;28;01mreturn\u001B[39;00m \u001B[43m_array_strptime_with_fallback\u001B[49m\u001B[43m(\u001B[49m\u001B[43marg\u001B[49m\u001B[43m,\u001B[49m\u001B[43m \u001B[49m\u001B[43mname\u001B[49m\u001B[43m,\u001B[49m\u001B[43m \u001B[49m\u001B[43mutc\u001B[49m\u001B[43m,\u001B[49m\u001B[43m \u001B[49m\u001B[38;5;28;43mformat\u001B[39;49m\u001B[43m,\u001B[49m\u001B[43m \u001B[49m\u001B[43mexact\u001B[49m\u001B[43m,\u001B[49m\u001B[43m \u001B[49m\u001B[43merrors\u001B[49m\u001B[43m)\u001B[49m\n\u001B[0;32m    490\u001B[0m result, tz_parsed \u001B[38;5;241m=\u001B[39m objects_to_datetime64ns(\n\u001B[0;32m    491\u001B[0m     arg,\n\u001B[0;32m    492\u001B[0m     dayfirst\u001B[38;5;241m=\u001B[39mdayfirst,\n\u001B[1;32m   (...)\u001B[0m\n\u001B[0;32m    496\u001B[0m     allow_object\u001B[38;5;241m=\u001B[39m\u001B[38;5;28;01mTrue\u001B[39;00m,\n\u001B[0;32m    497\u001B[0m )\n\u001B[0;32m    499\u001B[0m \u001B[38;5;28;01mif\u001B[39;00m tz_parsed \u001B[38;5;129;01mis\u001B[39;00m \u001B[38;5;129;01mnot\u001B[39;00m \u001B[38;5;28;01mNone\u001B[39;00m:\n\u001B[0;32m    500\u001B[0m     \u001B[38;5;66;03m# We can take a shortcut since the datetime64 numpy array\u001B[39;00m\n\u001B[0;32m    501\u001B[0m     \u001B[38;5;66;03m# is in UTC\u001B[39;00m\n",
      "File \u001B[1;32m~\\AppData\\Local\\Programs\\Python\\Python311\\Lib\\site-packages\\pandas\\core\\tools\\datetimes.py:519\u001B[0m, in \u001B[0;36m_array_strptime_with_fallback\u001B[1;34m(arg, name, utc, fmt, exact, errors)\u001B[0m\n\u001B[0;32m    508\u001B[0m \u001B[38;5;28;01mdef\u001B[39;00m \u001B[38;5;21m_array_strptime_with_fallback\u001B[39m(\n\u001B[0;32m    509\u001B[0m     arg,\n\u001B[0;32m    510\u001B[0m     name,\n\u001B[1;32m   (...)\u001B[0m\n\u001B[0;32m    514\u001B[0m     errors: \u001B[38;5;28mstr\u001B[39m,\n\u001B[0;32m    515\u001B[0m ) \u001B[38;5;241m-\u001B[39m\u001B[38;5;241m>\u001B[39m Index:\n\u001B[0;32m    516\u001B[0m \u001B[38;5;250m    \u001B[39m\u001B[38;5;124;03m\"\"\"\u001B[39;00m\n\u001B[0;32m    517\u001B[0m \u001B[38;5;124;03m    Call array_strptime, with fallback behavior depending on 'errors'.\u001B[39;00m\n\u001B[0;32m    518\u001B[0m \u001B[38;5;124;03m    \"\"\"\u001B[39;00m\n\u001B[1;32m--> 519\u001B[0m     result, timezones \u001B[38;5;241m=\u001B[39m \u001B[43marray_strptime\u001B[49m\u001B[43m(\u001B[49m\u001B[43marg\u001B[49m\u001B[43m,\u001B[49m\u001B[43m \u001B[49m\u001B[43mfmt\u001B[49m\u001B[43m,\u001B[49m\u001B[43m \u001B[49m\u001B[43mexact\u001B[49m\u001B[38;5;241;43m=\u001B[39;49m\u001B[43mexact\u001B[49m\u001B[43m,\u001B[49m\u001B[43m \u001B[49m\u001B[43merrors\u001B[49m\u001B[38;5;241;43m=\u001B[39;49m\u001B[43merrors\u001B[49m\u001B[43m,\u001B[49m\u001B[43m \u001B[49m\u001B[43mutc\u001B[49m\u001B[38;5;241;43m=\u001B[39;49m\u001B[43mutc\u001B[49m\u001B[43m)\u001B[49m\n\u001B[0;32m    520\u001B[0m     \u001B[38;5;28;01mif\u001B[39;00m \u001B[38;5;28many\u001B[39m(tz \u001B[38;5;129;01mis\u001B[39;00m \u001B[38;5;129;01mnot\u001B[39;00m \u001B[38;5;28;01mNone\u001B[39;00m \u001B[38;5;28;01mfor\u001B[39;00m tz \u001B[38;5;129;01min\u001B[39;00m timezones):\n\u001B[0;32m    521\u001B[0m         \u001B[38;5;28;01mreturn\u001B[39;00m _return_parsed_timezone_results(result, timezones, utc, name)\n",
      "File \u001B[1;32mstrptime.pyx:534\u001B[0m, in \u001B[0;36mpandas._libs.tslibs.strptime.array_strptime\u001B[1;34m()\u001B[0m\n",
      "File \u001B[1;32mstrptime.pyx:337\u001B[0m, in \u001B[0;36mpandas._libs.tslibs.strptime.array_strptime\u001B[1;34m()\u001B[0m\n",
      "File \u001B[1;32mnp_datetime.pyx:231\u001B[0m, in \u001B[0;36mpandas._libs.tslibs.np_datetime.check_dts_bounds\u001B[1;34m()\u001B[0m\n",
      "\u001B[1;31mOutOfBoundsDatetime\u001B[0m: Out of bounds nanosecond timestamp: 5013-07-15 00:00:00, at position 1384. You might want to try:\n    - passing `format` if your strings have a consistent format;\n    - passing `format='ISO8601'` if your strings are all ISO8601 but not necessarily in exactly the same format;\n    - passing `format='mixed'`, and the format will be inferred for each element individually. You might want to use `dayfirst` alongside this."
     ]
    }
   ],
   "source": [
    "# we need to convert string data into datetime\n",
    "convert_to_dateTime(preprocessed_data, 'bite_date')"
   ],
   "metadata": {
    "collapsed": false,
    "ExecuteTime": {
     "end_time": "2024-01-16T17:37:22.214144200Z",
     "start_time": "2024-01-16T17:37:20.898802300Z"
    }
   },
   "id": "c2359943fb47852"
  },
  {
   "cell_type": "code",
   "execution_count": 9,
   "outputs": [
    {
     "ename": "OutOfBoundsDatetime",
     "evalue": "Out of bounds nanosecond timestamp: 5013-07-15 00:00:00, at position 1384",
     "output_type": "error",
     "traceback": [
      "\u001B[1;31m---------------------------------------------------------------------------\u001B[0m",
      "\u001B[1;31mOverflowError\u001B[0m                             Traceback (most recent call last)",
      "File \u001B[1;32mconversion.pyx:234\u001B[0m, in \u001B[0;36mpandas._libs.tslibs.conversion._TSObject.ensure_reso\u001B[1;34m()\u001B[0m\n",
      "File \u001B[1;32mnp_datetime.pyx:629\u001B[0m, in \u001B[0;36mpandas._libs.tslibs.np_datetime.convert_reso\u001B[1;34m()\u001B[0m\n",
      "\u001B[1;31mOverflowError\u001B[0m: value too large",
      "\nThe above exception was the direct cause of the following exception:\n",
      "\u001B[1;31mOutOfBoundsDatetime\u001B[0m                       Traceback (most recent call last)",
      "Cell \u001B[1;32mIn[9], line 3\u001B[0m\n\u001B[0;32m      1\u001B[0m \u001B[38;5;66;03m# there is a error message as 'Out of bounds'\u001B[39;00m\n\u001B[0;32m      2\u001B[0m \u001B[38;5;66;03m# instead of defining exact format for datetime data mixed format will convert string to time data adaptavity. \u001B[39;00m\n\u001B[1;32m----> 3\u001B[0m \u001B[43mpd\u001B[49m\u001B[38;5;241;43m.\u001B[39;49m\u001B[43mto_datetime\u001B[49m\u001B[43m(\u001B[49m\u001B[43mpreprocessed_data\u001B[49m\u001B[43m[\u001B[49m\u001B[38;5;124;43m'\u001B[39;49m\u001B[38;5;124;43mbite_date\u001B[39;49m\u001B[38;5;124;43m'\u001B[39;49m\u001B[43m]\u001B[49m\u001B[43m,\u001B[49m\u001B[43m \u001B[49m\u001B[38;5;28;43mformat\u001B[39;49m\u001B[38;5;241;43m=\u001B[39;49m\u001B[38;5;124;43m'\u001B[39;49m\u001B[38;5;124;43mmixed\u001B[39;49m\u001B[38;5;124;43m'\u001B[39;49m\u001B[43m)\u001B[49m\n",
      "File \u001B[1;32m~\\AppData\\Local\\Programs\\Python\\Python311\\Lib\\site-packages\\pandas\\core\\tools\\datetimes.py:1108\u001B[0m, in \u001B[0;36mto_datetime\u001B[1;34m(arg, errors, dayfirst, yearfirst, utc, format, exact, unit, infer_datetime_format, origin, cache)\u001B[0m\n\u001B[0;32m   1106\u001B[0m             result \u001B[38;5;241m=\u001B[39m arg\u001B[38;5;241m.\u001B[39mtz_localize(\u001B[38;5;124m\"\u001B[39m\u001B[38;5;124mutc\u001B[39m\u001B[38;5;124m\"\u001B[39m)\n\u001B[0;32m   1107\u001B[0m \u001B[38;5;28;01melif\u001B[39;00m \u001B[38;5;28misinstance\u001B[39m(arg, ABCSeries):\n\u001B[1;32m-> 1108\u001B[0m     cache_array \u001B[38;5;241m=\u001B[39m \u001B[43m_maybe_cache\u001B[49m\u001B[43m(\u001B[49m\u001B[43marg\u001B[49m\u001B[43m,\u001B[49m\u001B[43m \u001B[49m\u001B[38;5;28;43mformat\u001B[39;49m\u001B[43m,\u001B[49m\u001B[43m \u001B[49m\u001B[43mcache\u001B[49m\u001B[43m,\u001B[49m\u001B[43m \u001B[49m\u001B[43mconvert_listlike\u001B[49m\u001B[43m)\u001B[49m\n\u001B[0;32m   1109\u001B[0m     \u001B[38;5;28;01mif\u001B[39;00m \u001B[38;5;129;01mnot\u001B[39;00m cache_array\u001B[38;5;241m.\u001B[39mempty:\n\u001B[0;32m   1110\u001B[0m         result \u001B[38;5;241m=\u001B[39m arg\u001B[38;5;241m.\u001B[39mmap(cache_array)\n",
      "File \u001B[1;32m~\\AppData\\Local\\Programs\\Python\\Python311\\Lib\\site-packages\\pandas\\core\\tools\\datetimes.py:254\u001B[0m, in \u001B[0;36m_maybe_cache\u001B[1;34m(arg, format, cache, convert_listlike)\u001B[0m\n\u001B[0;32m    252\u001B[0m unique_dates \u001B[38;5;241m=\u001B[39m unique(arg)\n\u001B[0;32m    253\u001B[0m \u001B[38;5;28;01mif\u001B[39;00m \u001B[38;5;28mlen\u001B[39m(unique_dates) \u001B[38;5;241m<\u001B[39m \u001B[38;5;28mlen\u001B[39m(arg):\n\u001B[1;32m--> 254\u001B[0m     cache_dates \u001B[38;5;241m=\u001B[39m \u001B[43mconvert_listlike\u001B[49m\u001B[43m(\u001B[49m\u001B[43munique_dates\u001B[49m\u001B[43m,\u001B[49m\u001B[43m \u001B[49m\u001B[38;5;28;43mformat\u001B[39;49m\u001B[43m)\u001B[49m\n\u001B[0;32m    255\u001B[0m     \u001B[38;5;66;03m# GH#45319\u001B[39;00m\n\u001B[0;32m    256\u001B[0m     \u001B[38;5;28;01mtry\u001B[39;00m:\n",
      "File \u001B[1;32m~\\AppData\\Local\\Programs\\Python\\Python311\\Lib\\site-packages\\pandas\\core\\tools\\datetimes.py:490\u001B[0m, in \u001B[0;36m_convert_listlike_datetimes\u001B[1;34m(arg, format, name, utc, unit, errors, dayfirst, yearfirst, exact)\u001B[0m\n\u001B[0;32m    487\u001B[0m \u001B[38;5;28;01mif\u001B[39;00m \u001B[38;5;28mformat\u001B[39m \u001B[38;5;129;01mis\u001B[39;00m \u001B[38;5;129;01mnot\u001B[39;00m \u001B[38;5;28;01mNone\u001B[39;00m \u001B[38;5;129;01mand\u001B[39;00m \u001B[38;5;28mformat\u001B[39m \u001B[38;5;241m!=\u001B[39m \u001B[38;5;124m\"\u001B[39m\u001B[38;5;124mmixed\u001B[39m\u001B[38;5;124m\"\u001B[39m:\n\u001B[0;32m    488\u001B[0m     \u001B[38;5;28;01mreturn\u001B[39;00m _array_strptime_with_fallback(arg, name, utc, \u001B[38;5;28mformat\u001B[39m, exact, errors)\n\u001B[1;32m--> 490\u001B[0m result, tz_parsed \u001B[38;5;241m=\u001B[39m \u001B[43mobjects_to_datetime64ns\u001B[49m\u001B[43m(\u001B[49m\n\u001B[0;32m    491\u001B[0m \u001B[43m    \u001B[49m\u001B[43marg\u001B[49m\u001B[43m,\u001B[49m\n\u001B[0;32m    492\u001B[0m \u001B[43m    \u001B[49m\u001B[43mdayfirst\u001B[49m\u001B[38;5;241;43m=\u001B[39;49m\u001B[43mdayfirst\u001B[49m\u001B[43m,\u001B[49m\n\u001B[0;32m    493\u001B[0m \u001B[43m    \u001B[49m\u001B[43myearfirst\u001B[49m\u001B[38;5;241;43m=\u001B[39;49m\u001B[43myearfirst\u001B[49m\u001B[43m,\u001B[49m\n\u001B[0;32m    494\u001B[0m \u001B[43m    \u001B[49m\u001B[43mutc\u001B[49m\u001B[38;5;241;43m=\u001B[39;49m\u001B[43mutc\u001B[49m\u001B[43m,\u001B[49m\n\u001B[0;32m    495\u001B[0m \u001B[43m    \u001B[49m\u001B[43merrors\u001B[49m\u001B[38;5;241;43m=\u001B[39;49m\u001B[43merrors\u001B[49m\u001B[43m,\u001B[49m\n\u001B[0;32m    496\u001B[0m \u001B[43m    \u001B[49m\u001B[43mallow_object\u001B[49m\u001B[38;5;241;43m=\u001B[39;49m\u001B[38;5;28;43;01mTrue\u001B[39;49;00m\u001B[43m,\u001B[49m\n\u001B[0;32m    497\u001B[0m \u001B[43m\u001B[49m\u001B[43m)\u001B[49m\n\u001B[0;32m    499\u001B[0m \u001B[38;5;28;01mif\u001B[39;00m tz_parsed \u001B[38;5;129;01mis\u001B[39;00m \u001B[38;5;129;01mnot\u001B[39;00m \u001B[38;5;28;01mNone\u001B[39;00m:\n\u001B[0;32m    500\u001B[0m     \u001B[38;5;66;03m# We can take a shortcut since the datetime64 numpy array\u001B[39;00m\n\u001B[0;32m    501\u001B[0m     \u001B[38;5;66;03m# is in UTC\u001B[39;00m\n\u001B[0;32m    502\u001B[0m     dta \u001B[38;5;241m=\u001B[39m DatetimeArray(result, dtype\u001B[38;5;241m=\u001B[39mtz_to_dtype(tz_parsed))\n",
      "File \u001B[1;32m~\\AppData\\Local\\Programs\\Python\\Python311\\Lib\\site-packages\\pandas\\core\\arrays\\datetimes.py:2346\u001B[0m, in \u001B[0;36mobjects_to_datetime64ns\u001B[1;34m(data, dayfirst, yearfirst, utc, errors, allow_object)\u001B[0m\n\u001B[0;32m   2343\u001B[0m \u001B[38;5;66;03m# if str-dtype, convert\u001B[39;00m\n\u001B[0;32m   2344\u001B[0m data \u001B[38;5;241m=\u001B[39m np\u001B[38;5;241m.\u001B[39marray(data, copy\u001B[38;5;241m=\u001B[39m\u001B[38;5;28;01mFalse\u001B[39;00m, dtype\u001B[38;5;241m=\u001B[39mnp\u001B[38;5;241m.\u001B[39mobject_)\n\u001B[1;32m-> 2346\u001B[0m result, tz_parsed \u001B[38;5;241m=\u001B[39m \u001B[43mtslib\u001B[49m\u001B[38;5;241;43m.\u001B[39;49m\u001B[43marray_to_datetime\u001B[49m\u001B[43m(\u001B[49m\n\u001B[0;32m   2347\u001B[0m \u001B[43m    \u001B[49m\u001B[43mdata\u001B[49m\u001B[43m,\u001B[49m\n\u001B[0;32m   2348\u001B[0m \u001B[43m    \u001B[49m\u001B[43merrors\u001B[49m\u001B[38;5;241;43m=\u001B[39;49m\u001B[43merrors\u001B[49m\u001B[43m,\u001B[49m\n\u001B[0;32m   2349\u001B[0m \u001B[43m    \u001B[49m\u001B[43mutc\u001B[49m\u001B[38;5;241;43m=\u001B[39;49m\u001B[43mutc\u001B[49m\u001B[43m,\u001B[49m\n\u001B[0;32m   2350\u001B[0m \u001B[43m    \u001B[49m\u001B[43mdayfirst\u001B[49m\u001B[38;5;241;43m=\u001B[39;49m\u001B[43mdayfirst\u001B[49m\u001B[43m,\u001B[49m\n\u001B[0;32m   2351\u001B[0m \u001B[43m    \u001B[49m\u001B[43myearfirst\u001B[49m\u001B[38;5;241;43m=\u001B[39;49m\u001B[43myearfirst\u001B[49m\u001B[43m,\u001B[49m\n\u001B[0;32m   2352\u001B[0m \u001B[43m\u001B[49m\u001B[43m)\u001B[49m\n\u001B[0;32m   2354\u001B[0m \u001B[38;5;28;01mif\u001B[39;00m tz_parsed \u001B[38;5;129;01mis\u001B[39;00m \u001B[38;5;129;01mnot\u001B[39;00m \u001B[38;5;28;01mNone\u001B[39;00m:\n\u001B[0;32m   2355\u001B[0m     \u001B[38;5;66;03m# We can take a shortcut since the datetime64 numpy array\u001B[39;00m\n\u001B[0;32m   2356\u001B[0m     \u001B[38;5;66;03m#  is in UTC\u001B[39;00m\n\u001B[0;32m   2357\u001B[0m     \u001B[38;5;66;03m# Return i8 values to denote unix timestamps\u001B[39;00m\n\u001B[0;32m   2358\u001B[0m     \u001B[38;5;28;01mreturn\u001B[39;00m result\u001B[38;5;241m.\u001B[39mview(\u001B[38;5;124m\"\u001B[39m\u001B[38;5;124mi8\u001B[39m\u001B[38;5;124m\"\u001B[39m), tz_parsed\n",
      "File \u001B[1;32mtslib.pyx:403\u001B[0m, in \u001B[0;36mpandas._libs.tslib.array_to_datetime\u001B[1;34m()\u001B[0m\n",
      "File \u001B[1;32mtslib.pyx:552\u001B[0m, in \u001B[0;36mpandas._libs.tslib.array_to_datetime\u001B[1;34m()\u001B[0m\n",
      "File \u001B[1;32mtslib.pyx:520\u001B[0m, in \u001B[0;36mpandas._libs.tslib.array_to_datetime\u001B[1;34m()\u001B[0m\n",
      "File \u001B[1;32mconversion.pyx:237\u001B[0m, in \u001B[0;36mpandas._libs.tslibs.conversion._TSObject.ensure_reso\u001B[1;34m()\u001B[0m\n",
      "\u001B[1;31mOutOfBoundsDatetime\u001B[0m: Out of bounds nanosecond timestamp: 5013-07-15 00:00:00, at position 1384"
     ]
    }
   ],
   "source": [
    "# there is a error message as 'Out of bounds'\n",
    "# instead of defining exact format for datetime data mixed format will convert string to time data adaptavity. \n",
    "pd.to_datetime(preprocessed_data['bite_date'], format='mixed')"
   ],
   "metadata": {
    "collapsed": false,
    "ExecuteTime": {
     "end_time": "2024-01-16T17:37:24.781276100Z",
     "start_time": "2024-01-16T17:37:24.522566900Z"
    }
   },
   "id": "1f2eb859"
  },
  {
   "cell_type": "code",
   "execution_count": 10,
   "outputs": [],
   "source": [
    "#convert bite_date into needed format\n",
    "preprocessed_data['bite_date'] = preprocessed_data['bite_date'].str.replace('5013-07-15 00:00:00','2013-07-15 00:00:00')"
   ],
   "metadata": {
    "collapsed": false,
    "ExecuteTime": {
     "end_time": "2024-01-16T17:37:31.186004600Z",
     "start_time": "2024-01-16T17:37:31.133770500Z"
    }
   },
   "id": "7400a394"
  },
  {
   "cell_type": "code",
   "execution_count": 11,
   "outputs": [
    {
     "data": {
      "text/plain": "0      1985-05-05\n1      1986-02-12\n2      1987-05-07\n3      1988-10-02\n4      1989-08-29\n          ...    \n8998   2017-09-05\n8999   2017-09-07\n9000   2017-09-07\n9001   2017-09-07\n9002   2017-09-07\nName: bite_date, Length: 9003, dtype: datetime64[ns]"
     },
     "execution_count": 11,
     "metadata": {},
     "output_type": "execute_result"
    }
   ],
   "source": [
    "convert_to_dateTime(preprocessed_data, 'bite_date')"
   ],
   "metadata": {
    "collapsed": false,
    "ExecuteTime": {
     "end_time": "2024-01-16T17:37:32.771123600Z",
     "start_time": "2024-01-16T17:37:32.653837300Z"
    }
   },
   "id": "c3cb3b6f085ce00a"
  },
  {
   "cell_type": "code",
   "execution_count": 12,
   "outputs": [
    {
     "data": {
      "text/plain": "0      1985-05-05\n1      1986-02-12\n2      1990-05-07\n3      1990-10-02\n4             NaT\n          ...    \n8998          NaT\n8999          NaT\n9000          NaT\n9001          NaT\n9002          NaT\nName: quarantine_date, Length: 9003, dtype: datetime64[ns]"
     },
     "execution_count": 12,
     "metadata": {},
     "output_type": "execute_result"
    }
   ],
   "source": [
    "# convert quarantine_date column from string type to datetime type\n",
    "convert_to_dateTime(preprocessed_data, 'quarantine_date')"
   ],
   "metadata": {
    "collapsed": false,
    "ExecuteTime": {
     "end_time": "2024-01-16T17:37:36.590009900Z",
     "start_time": "2024-01-16T17:37:36.457195900Z"
    }
   },
   "id": "b2b5a807dccc0b8d"
  },
  {
   "cell_type": "code",
   "execution_count": 13,
   "outputs": [
    {
     "data": {
      "text/plain": "0      1985-05-05\n1      1986-02-12\n2      1990-05-07\n3      1990-10-02\n4             NaT\n          ...    \n8998          NaT\n8999          NaT\n9000          NaT\n9001          NaT\n9002          NaT\nName: quarantine_date, Length: 9003, dtype: datetime64[ns]"
     },
     "execution_count": 13,
     "metadata": {},
     "output_type": "execute_result"
    }
   ],
   "source": [
    "# convert 'quarantine_date' column into one format\n",
    "convert_date_into_one_format(preprocessed_data,'quarantine_date')"
   ],
   "metadata": {
    "collapsed": false,
    "ExecuteTime": {
     "end_time": "2024-01-16T17:37:39.775386100Z",
     "start_time": "2024-01-16T17:37:39.700077800Z"
    }
   },
   "id": "1d32e250"
  },
  {
   "cell_type": "code",
   "execution_count": 14,
   "id": "660af1db",
   "metadata": {
    "ExecuteTime": {
     "end_time": "2024-01-16T17:37:44.075874500Z",
     "start_time": "2024-01-16T17:37:43.998127900Z"
    }
   },
   "outputs": [
    {
     "name": "stdout",
     "output_type": "stream",
     "text": [
      "datetime64[ns] datetime64[ns]\n"
     ]
    }
   ],
   "source": [
    "print(preprocessed_data['bite_date'].dtypes, preprocessed_data['quarantine_date'].dtypes)"
   ]
  },
  {
   "cell_type": "markdown",
   "source": [
    "## First edit 'bite_date' and 'quarantine_date' column using difference between those two columns"
   ],
   "metadata": {
    "collapsed": false
   },
   "id": "9d8092cf5ab0eb01"
  },
  {
   "cell_type": "code",
   "execution_count": 15,
   "id": "e8a3412e",
   "metadata": {
    "ExecuteTime": {
     "end_time": "2024-01-16T17:37:50.172990Z",
     "start_time": "2024-01-16T17:37:50.101619700Z"
    }
   },
   "outputs": [
    {
     "data": {
      "text/plain": "      bite_date SpeciesIDDesc      BreedIDDesc GenderIDDesc       color  \\\n0    1985-05-05           DOG              NaN       FEMALE  LIG. BROWN   \n1    1986-02-12           DOG              NaN      UNKNOWN   BRO & BLA   \n2    1987-05-07           DOG              NaN      UNKNOWN         NaN   \n3    1988-10-02           DOG              NaN         MALE   BLA & BRO   \n4    1989-08-29           DOG              NaN       FEMALE     BLK-WHT   \n...         ...           ...              ...          ...         ...   \n8998 2017-09-05           DOG              NaN          NaN         NaN   \n8999 2017-09-07           DOG       POMERANIAN         MALE         RED   \n9000 2017-09-07           DOG  LABRADOR RETRIV         MALE       BROWN   \n9001 2017-09-07           DOG  LABRADOR RETRIV       FEMALE     BLK WHT   \n9002 2017-09-07           DOG            BOXER          NaN     BRN BLK   \n\n      vaccination_yrs     vaccination_date victim_zip AdvIssuedYNDesc  \\\n0                 1.0  1985-06-20 00:00:00      40229              NO   \n1                 NaN                  NaN      40218              NO   \n2                 NaN                  NaN      40219              NO   \n3                 NaN                  NaN        NaN              NO   \n4                 NaN                  NaN        NaN              NO   \n...               ...                  ...        ...             ...   \n8998              NaN                  NaN      40243             NaN   \n8999              NaN                  NaN      40204             NaN   \n9000              NaN                  NaN      47130             NaN   \n9001              NaN                  NaN      40229             NaN   \n9002              NaN                  NaN      40229             NaN   \n\n     WhereBittenIDDesc quarantine_date DispositionIDDesc head_sent_date  \\\n0                 BODY      1985-05-05           UNKNOWN            NaN   \n1                 BODY      1986-02-12           UNKNOWN            NaN   \n2                 BODY      1990-05-07           UNKNOWN            NaN   \n3                 BODY      1990-10-02           UNKNOWN            NaN   \n4                 BODY             NaT           UNKNOWN            NaN   \n...                ...             ...               ...            ...   \n8998           UNKNOWN             NaT               NaN            NaN   \n8999              HEAD             NaT               NaN            NaN   \n9000           UNKNOWN             NaT               NaN            NaN   \n9001              BODY             NaT               NaN            NaN   \n9002              BODY             NaT               NaN            NaN   \n\n     release_date ResultsIDDesc DifferenceOfBitedateAndQuarantinedate  \n0             NaN       UNKNOWN                                0 days  \n1             NaN       UNKNOWN                                0 days  \n2             NaN       UNKNOWN                             1096 days  \n3             NaN       UNKNOWN                              730 days  \n4             NaN       UNKNOWN                                   NaT  \n...           ...           ...                                   ...  \n8998          NaN           NaN                                   NaT  \n8999          NaN           NaN                                   NaT  \n9000          NaN           NaN                                   NaT  \n9001          NaN           NaN                                   NaT  \n9002          NaN           NaN                                   NaT  \n\n[9003 rows x 16 columns]",
      "text/html": "<div>\n<style scoped>\n    .dataframe tbody tr th:only-of-type {\n        vertical-align: middle;\n    }\n\n    .dataframe tbody tr th {\n        vertical-align: top;\n    }\n\n    .dataframe thead th {\n        text-align: right;\n    }\n</style>\n<table border=\"1\" class=\"dataframe\">\n  <thead>\n    <tr style=\"text-align: right;\">\n      <th></th>\n      <th>bite_date</th>\n      <th>SpeciesIDDesc</th>\n      <th>BreedIDDesc</th>\n      <th>GenderIDDesc</th>\n      <th>color</th>\n      <th>vaccination_yrs</th>\n      <th>vaccination_date</th>\n      <th>victim_zip</th>\n      <th>AdvIssuedYNDesc</th>\n      <th>WhereBittenIDDesc</th>\n      <th>quarantine_date</th>\n      <th>DispositionIDDesc</th>\n      <th>head_sent_date</th>\n      <th>release_date</th>\n      <th>ResultsIDDesc</th>\n      <th>DifferenceOfBitedateAndQuarantinedate</th>\n    </tr>\n  </thead>\n  <tbody>\n    <tr>\n      <th>0</th>\n      <td>1985-05-05</td>\n      <td>DOG</td>\n      <td>NaN</td>\n      <td>FEMALE</td>\n      <td>LIG. BROWN</td>\n      <td>1.0</td>\n      <td>1985-06-20 00:00:00</td>\n      <td>40229</td>\n      <td>NO</td>\n      <td>BODY</td>\n      <td>1985-05-05</td>\n      <td>UNKNOWN</td>\n      <td>NaN</td>\n      <td>NaN</td>\n      <td>UNKNOWN</td>\n      <td>0 days</td>\n    </tr>\n    <tr>\n      <th>1</th>\n      <td>1986-02-12</td>\n      <td>DOG</td>\n      <td>NaN</td>\n      <td>UNKNOWN</td>\n      <td>BRO &amp; BLA</td>\n      <td>NaN</td>\n      <td>NaN</td>\n      <td>40218</td>\n      <td>NO</td>\n      <td>BODY</td>\n      <td>1986-02-12</td>\n      <td>UNKNOWN</td>\n      <td>NaN</td>\n      <td>NaN</td>\n      <td>UNKNOWN</td>\n      <td>0 days</td>\n    </tr>\n    <tr>\n      <th>2</th>\n      <td>1987-05-07</td>\n      <td>DOG</td>\n      <td>NaN</td>\n      <td>UNKNOWN</td>\n      <td>NaN</td>\n      <td>NaN</td>\n      <td>NaN</td>\n      <td>40219</td>\n      <td>NO</td>\n      <td>BODY</td>\n      <td>1990-05-07</td>\n      <td>UNKNOWN</td>\n      <td>NaN</td>\n      <td>NaN</td>\n      <td>UNKNOWN</td>\n      <td>1096 days</td>\n    </tr>\n    <tr>\n      <th>3</th>\n      <td>1988-10-02</td>\n      <td>DOG</td>\n      <td>NaN</td>\n      <td>MALE</td>\n      <td>BLA &amp; BRO</td>\n      <td>NaN</td>\n      <td>NaN</td>\n      <td>NaN</td>\n      <td>NO</td>\n      <td>BODY</td>\n      <td>1990-10-02</td>\n      <td>UNKNOWN</td>\n      <td>NaN</td>\n      <td>NaN</td>\n      <td>UNKNOWN</td>\n      <td>730 days</td>\n    </tr>\n    <tr>\n      <th>4</th>\n      <td>1989-08-29</td>\n      <td>DOG</td>\n      <td>NaN</td>\n      <td>FEMALE</td>\n      <td>BLK-WHT</td>\n      <td>NaN</td>\n      <td>NaN</td>\n      <td>NaN</td>\n      <td>NO</td>\n      <td>BODY</td>\n      <td>NaT</td>\n      <td>UNKNOWN</td>\n      <td>NaN</td>\n      <td>NaN</td>\n      <td>UNKNOWN</td>\n      <td>NaT</td>\n    </tr>\n    <tr>\n      <th>...</th>\n      <td>...</td>\n      <td>...</td>\n      <td>...</td>\n      <td>...</td>\n      <td>...</td>\n      <td>...</td>\n      <td>...</td>\n      <td>...</td>\n      <td>...</td>\n      <td>...</td>\n      <td>...</td>\n      <td>...</td>\n      <td>...</td>\n      <td>...</td>\n      <td>...</td>\n      <td>...</td>\n    </tr>\n    <tr>\n      <th>8998</th>\n      <td>2017-09-05</td>\n      <td>DOG</td>\n      <td>NaN</td>\n      <td>NaN</td>\n      <td>NaN</td>\n      <td>NaN</td>\n      <td>NaN</td>\n      <td>40243</td>\n      <td>NaN</td>\n      <td>UNKNOWN</td>\n      <td>NaT</td>\n      <td>NaN</td>\n      <td>NaN</td>\n      <td>NaN</td>\n      <td>NaN</td>\n      <td>NaT</td>\n    </tr>\n    <tr>\n      <th>8999</th>\n      <td>2017-09-07</td>\n      <td>DOG</td>\n      <td>POMERANIAN</td>\n      <td>MALE</td>\n      <td>RED</td>\n      <td>NaN</td>\n      <td>NaN</td>\n      <td>40204</td>\n      <td>NaN</td>\n      <td>HEAD</td>\n      <td>NaT</td>\n      <td>NaN</td>\n      <td>NaN</td>\n      <td>NaN</td>\n      <td>NaN</td>\n      <td>NaT</td>\n    </tr>\n    <tr>\n      <th>9000</th>\n      <td>2017-09-07</td>\n      <td>DOG</td>\n      <td>LABRADOR RETRIV</td>\n      <td>MALE</td>\n      <td>BROWN</td>\n      <td>NaN</td>\n      <td>NaN</td>\n      <td>47130</td>\n      <td>NaN</td>\n      <td>UNKNOWN</td>\n      <td>NaT</td>\n      <td>NaN</td>\n      <td>NaN</td>\n      <td>NaN</td>\n      <td>NaN</td>\n      <td>NaT</td>\n    </tr>\n    <tr>\n      <th>9001</th>\n      <td>2017-09-07</td>\n      <td>DOG</td>\n      <td>LABRADOR RETRIV</td>\n      <td>FEMALE</td>\n      <td>BLK WHT</td>\n      <td>NaN</td>\n      <td>NaN</td>\n      <td>40229</td>\n      <td>NaN</td>\n      <td>BODY</td>\n      <td>NaT</td>\n      <td>NaN</td>\n      <td>NaN</td>\n      <td>NaN</td>\n      <td>NaN</td>\n      <td>NaT</td>\n    </tr>\n    <tr>\n      <th>9002</th>\n      <td>2017-09-07</td>\n      <td>DOG</td>\n      <td>BOXER</td>\n      <td>NaN</td>\n      <td>BRN BLK</td>\n      <td>NaN</td>\n      <td>NaN</td>\n      <td>40229</td>\n      <td>NaN</td>\n      <td>BODY</td>\n      <td>NaT</td>\n      <td>NaN</td>\n      <td>NaN</td>\n      <td>NaN</td>\n      <td>NaN</td>\n      <td>NaT</td>\n    </tr>\n  </tbody>\n</table>\n<p>9003 rows × 16 columns</p>\n</div>"
     },
     "execution_count": 15,
     "metadata": {},
     "output_type": "execute_result"
    }
   ],
   "source": [
    "# Get difference between quarantine_date column and bite_date column\n",
    "\n",
    "get_difference_between_columns(preprocessed_data,'DifferenceOfBitedateAndQuarantinedate','quarantine_date','bite_date')\n",
    "preprocessed_data"
   ]
  },
  {
   "cell_type": "code",
   "execution_count": 16,
   "id": "3b48421b",
   "metadata": {
    "ExecuteTime": {
     "end_time": "2024-01-16T17:38:04.732487100Z",
     "start_time": "2024-01-16T17:38:04.637967700Z"
    }
   },
   "outputs": [],
   "source": [
    "# select rows that are difference of the days greater than 0 days(not nulls)\n",
    "daysGreaterThan0 = preprocessed_data[preprocessed_data['DifferenceOfBitedateAndQuarantinedate']>timedelta(days=1)]"
   ]
  },
  {
   "cell_type": "code",
   "execution_count": 17,
   "outputs": [
    {
     "data": {
      "text/plain": "      bite_date SpeciesIDDesc      BreedIDDesc GenderIDDesc       color  \\\n2    1987-05-07           DOG              NaN      UNKNOWN         NaN   \n3    1988-10-02           DOG              NaN         MALE   BLA & BRO   \n103  2010-01-27           DOG              NaN       FEMALE   BRN-BLACK   \n2093 2011-04-14           DOG  LABRADOR RETRIV         MALE      BLONDE   \n1984 2011-04-15           DOG          MALTASE         MALE       WHITE   \n...         ...           ...              ...          ...         ...   \n1075 2010-11-20           CAT              NaN      UNKNOWN         NaN   \n1057 2010-11-13           DOG              NaN      UNKNOWN  LT BRN-BLK   \n1035 2010-11-07           CAT              NaN         MALE       WHITE   \n1032 2010-11-07           DOG              NaN       FEMALE       WHITE   \n8866 2017-08-05           DOG              NaN         MALE     BLK/TAN   \n\n      vaccination_yrs     vaccination_date victim_zip AdvIssuedYNDesc  \\\n2                 NaN                  NaN      40219              NO   \n3                 NaN                  NaN        NaN              NO   \n103               1.0  2010-07-30 00:00:00      40229              NO   \n2093              3.0  2009-06-02 00:00:00      40228              NO   \n1984              3.0  2011-06-29 00:00:00      40245              NO   \n...               ...                  ...        ...             ...   \n1075              NaN                  NaN      40213              NO   \n1057              NaN                  NaN      40207             YES   \n1035              1.0  2010-11-20 00:00:00      40218              NO   \n1032              1.0  2010-11-08 00:00:00      40216              NO   \n8866              1.0  2016-11-26 00:00:00      40207              NO   \n\n     WhereBittenIDDesc quarantine_date DispositionIDDesc head_sent_date  \\\n2                 BODY      1990-05-07           UNKNOWN            NaN   \n3                 BODY      1990-10-02           UNKNOWN            NaN   \n103               BODY      2011-01-28           UNKNOWN            NaN   \n2093              BODY      2011-07-15               NaN            NaN   \n1984              BODY      2011-06-16               NaN            NaN   \n...                ...             ...               ...            ...   \n1075              BODY      2010-11-22          RELEASED            NaN   \n1057              BODY      2010-11-15           UNKNOWN            NaN   \n1035              BODY      2010-11-09          RELEASED            NaN   \n1032              HEAD      2010-11-09          RELEASED            NaN   \n8866              BODY      2017-08-07               NaN            NaN   \n\n             release_date ResultsIDDesc DifferenceOfBitedateAndQuarantinedate  \n2                     NaN       UNKNOWN                             1096 days  \n3                     NaN       UNKNOWN                              730 days  \n103                   NaN       UNKNOWN                              366 days  \n2093                  NaN           NaN                               92 days  \n1984                  NaN           NaN                               62 days  \n...                   ...           ...                                   ...  \n1075                  NaN       UNKNOWN                                2 days  \n1057                  NaN       UNKNOWN                                2 days  \n1035                  NaN       UNKNOWN                                2 days  \n1032                  NaN       UNKNOWN                                2 days  \n8866  2017-08-15 00:00:00           NaN                                2 days  \n\n[979 rows x 16 columns]",
      "text/html": "<div>\n<style scoped>\n    .dataframe tbody tr th:only-of-type {\n        vertical-align: middle;\n    }\n\n    .dataframe tbody tr th {\n        vertical-align: top;\n    }\n\n    .dataframe thead th {\n        text-align: right;\n    }\n</style>\n<table border=\"1\" class=\"dataframe\">\n  <thead>\n    <tr style=\"text-align: right;\">\n      <th></th>\n      <th>bite_date</th>\n      <th>SpeciesIDDesc</th>\n      <th>BreedIDDesc</th>\n      <th>GenderIDDesc</th>\n      <th>color</th>\n      <th>vaccination_yrs</th>\n      <th>vaccination_date</th>\n      <th>victim_zip</th>\n      <th>AdvIssuedYNDesc</th>\n      <th>WhereBittenIDDesc</th>\n      <th>quarantine_date</th>\n      <th>DispositionIDDesc</th>\n      <th>head_sent_date</th>\n      <th>release_date</th>\n      <th>ResultsIDDesc</th>\n      <th>DifferenceOfBitedateAndQuarantinedate</th>\n    </tr>\n  </thead>\n  <tbody>\n    <tr>\n      <th>2</th>\n      <td>1987-05-07</td>\n      <td>DOG</td>\n      <td>NaN</td>\n      <td>UNKNOWN</td>\n      <td>NaN</td>\n      <td>NaN</td>\n      <td>NaN</td>\n      <td>40219</td>\n      <td>NO</td>\n      <td>BODY</td>\n      <td>1990-05-07</td>\n      <td>UNKNOWN</td>\n      <td>NaN</td>\n      <td>NaN</td>\n      <td>UNKNOWN</td>\n      <td>1096 days</td>\n    </tr>\n    <tr>\n      <th>3</th>\n      <td>1988-10-02</td>\n      <td>DOG</td>\n      <td>NaN</td>\n      <td>MALE</td>\n      <td>BLA &amp; BRO</td>\n      <td>NaN</td>\n      <td>NaN</td>\n      <td>NaN</td>\n      <td>NO</td>\n      <td>BODY</td>\n      <td>1990-10-02</td>\n      <td>UNKNOWN</td>\n      <td>NaN</td>\n      <td>NaN</td>\n      <td>UNKNOWN</td>\n      <td>730 days</td>\n    </tr>\n    <tr>\n      <th>103</th>\n      <td>2010-01-27</td>\n      <td>DOG</td>\n      <td>NaN</td>\n      <td>FEMALE</td>\n      <td>BRN-BLACK</td>\n      <td>1.0</td>\n      <td>2010-07-30 00:00:00</td>\n      <td>40229</td>\n      <td>NO</td>\n      <td>BODY</td>\n      <td>2011-01-28</td>\n      <td>UNKNOWN</td>\n      <td>NaN</td>\n      <td>NaN</td>\n      <td>UNKNOWN</td>\n      <td>366 days</td>\n    </tr>\n    <tr>\n      <th>2093</th>\n      <td>2011-04-14</td>\n      <td>DOG</td>\n      <td>LABRADOR RETRIV</td>\n      <td>MALE</td>\n      <td>BLONDE</td>\n      <td>3.0</td>\n      <td>2009-06-02 00:00:00</td>\n      <td>40228</td>\n      <td>NO</td>\n      <td>BODY</td>\n      <td>2011-07-15</td>\n      <td>NaN</td>\n      <td>NaN</td>\n      <td>NaN</td>\n      <td>NaN</td>\n      <td>92 days</td>\n    </tr>\n    <tr>\n      <th>1984</th>\n      <td>2011-04-15</td>\n      <td>DOG</td>\n      <td>MALTASE</td>\n      <td>MALE</td>\n      <td>WHITE</td>\n      <td>3.0</td>\n      <td>2011-06-29 00:00:00</td>\n      <td>40245</td>\n      <td>NO</td>\n      <td>BODY</td>\n      <td>2011-06-16</td>\n      <td>NaN</td>\n      <td>NaN</td>\n      <td>NaN</td>\n      <td>NaN</td>\n      <td>62 days</td>\n    </tr>\n    <tr>\n      <th>...</th>\n      <td>...</td>\n      <td>...</td>\n      <td>...</td>\n      <td>...</td>\n      <td>...</td>\n      <td>...</td>\n      <td>...</td>\n      <td>...</td>\n      <td>...</td>\n      <td>...</td>\n      <td>...</td>\n      <td>...</td>\n      <td>...</td>\n      <td>...</td>\n      <td>...</td>\n      <td>...</td>\n    </tr>\n    <tr>\n      <th>1075</th>\n      <td>2010-11-20</td>\n      <td>CAT</td>\n      <td>NaN</td>\n      <td>UNKNOWN</td>\n      <td>NaN</td>\n      <td>NaN</td>\n      <td>NaN</td>\n      <td>40213</td>\n      <td>NO</td>\n      <td>BODY</td>\n      <td>2010-11-22</td>\n      <td>RELEASED</td>\n      <td>NaN</td>\n      <td>NaN</td>\n      <td>UNKNOWN</td>\n      <td>2 days</td>\n    </tr>\n    <tr>\n      <th>1057</th>\n      <td>2010-11-13</td>\n      <td>DOG</td>\n      <td>NaN</td>\n      <td>UNKNOWN</td>\n      <td>LT BRN-BLK</td>\n      <td>NaN</td>\n      <td>NaN</td>\n      <td>40207</td>\n      <td>YES</td>\n      <td>BODY</td>\n      <td>2010-11-15</td>\n      <td>UNKNOWN</td>\n      <td>NaN</td>\n      <td>NaN</td>\n      <td>UNKNOWN</td>\n      <td>2 days</td>\n    </tr>\n    <tr>\n      <th>1035</th>\n      <td>2010-11-07</td>\n      <td>CAT</td>\n      <td>NaN</td>\n      <td>MALE</td>\n      <td>WHITE</td>\n      <td>1.0</td>\n      <td>2010-11-20 00:00:00</td>\n      <td>40218</td>\n      <td>NO</td>\n      <td>BODY</td>\n      <td>2010-11-09</td>\n      <td>RELEASED</td>\n      <td>NaN</td>\n      <td>NaN</td>\n      <td>UNKNOWN</td>\n      <td>2 days</td>\n    </tr>\n    <tr>\n      <th>1032</th>\n      <td>2010-11-07</td>\n      <td>DOG</td>\n      <td>NaN</td>\n      <td>FEMALE</td>\n      <td>WHITE</td>\n      <td>1.0</td>\n      <td>2010-11-08 00:00:00</td>\n      <td>40216</td>\n      <td>NO</td>\n      <td>HEAD</td>\n      <td>2010-11-09</td>\n      <td>RELEASED</td>\n      <td>NaN</td>\n      <td>NaN</td>\n      <td>UNKNOWN</td>\n      <td>2 days</td>\n    </tr>\n    <tr>\n      <th>8866</th>\n      <td>2017-08-05</td>\n      <td>DOG</td>\n      <td>NaN</td>\n      <td>MALE</td>\n      <td>BLK/TAN</td>\n      <td>1.0</td>\n      <td>2016-11-26 00:00:00</td>\n      <td>40207</td>\n      <td>NO</td>\n      <td>BODY</td>\n      <td>2017-08-07</td>\n      <td>NaN</td>\n      <td>NaN</td>\n      <td>2017-08-15 00:00:00</td>\n      <td>NaN</td>\n      <td>2 days</td>\n    </tr>\n  </tbody>\n</table>\n<p>979 rows × 16 columns</p>\n</div>"
     },
     "execution_count": 17,
     "metadata": {},
     "output_type": "execute_result"
    }
   ],
   "source": [
    "sorting_data(daysGreaterThan0,'DifferenceOfBitedateAndQuarantinedate',False)"
   ],
   "metadata": {
    "collapsed": false,
    "ExecuteTime": {
     "end_time": "2024-01-16T17:38:07.679461Z",
     "start_time": "2024-01-16T17:38:07.551503200Z"
    }
   },
   "id": "7c3e931e3f3101dc"
  },
  {
   "cell_type": "code",
   "execution_count": 34,
   "outputs": [],
   "source": [
    "# # when lokking at the sorted data base on 'DifferenceOfBitedateAndQuarantinedate' column, Difference of Bite_date and Quarantine_date cannot be 1096 days, 730 days, 366 days, 92 days, 62 days.\n",
    "# # let's edit at least 4 rows\n",
    "# preprocessed_data['quarantine_date'] = correct_data_using_index(preprocessed_data,'quarantine_date',2,'1987-05-07')\n",
    "# \n",
    "# preprocessed_data['quarantine_date'] = correct_data_using_index(preprocessed_data,'quarantine_date',3,'1988-10-02')\n",
    "# \n",
    "# # when looking at Row of 102, we can decide quarantine_date should be 2010 year\n",
    "# preprocessed_data['quarantine_date']= correct_data_using_index(preprocessed_data,'quarantine_date',103,'2010-01-28')\n",
    "# \n",
    "# # when looking at Row of 2092, we can decide bite_date should be 07 month.\n",
    "# preprocessed_data['bite_date'] = correct_data_using_index(preprocessed_data,'bite_date',2093,'2011-07-14')"
   ],
   "metadata": {
    "collapsed": false,
    "ExecuteTime": {
     "end_time": "2024-01-16T17:31:52.231356800Z",
     "start_time": "2024-01-16T17:31:52.140180800Z"
    }
   },
   "id": "fde3dc1317644a83"
  },
  {
   "cell_type": "code",
   "execution_count": 18,
   "outputs": [
    {
     "data": {
      "text/plain": "Timedelta('-13 days +00:40:57.485029941')"
     },
     "execution_count": 18,
     "metadata": {},
     "output_type": "execute_result"
    }
   ],
   "source": [
    "# when we need to fill null rows in quarantine_date or bite_date, first we need to find the average date of the DifferenceOfBitedateAndQuarantinedate.\n",
    "\n",
    "get_average(preprocessed_data,'DifferenceOfBitedateAndQuarantinedate')"
   ],
   "metadata": {
    "collapsed": false,
    "ExecuteTime": {
     "end_time": "2024-01-16T17:39:43.191709Z",
     "start_time": "2024-01-16T17:39:43.137719Z"
    }
   },
   "id": "7fdc4c64153f3b09"
  },
  {
   "cell_type": "markdown",
   "source": [
    "#averageDifference cannot be a minus value. The reason can be there some rows that are quarantine_date lower than bite_date. this happened when we get average at first.\n"
   ],
   "metadata": {
    "collapsed": false
   },
   "id": "d5b0cda0ef32580f"
  },
  {
   "cell_type": "code",
   "execution_count": 19,
   "outputs": [
    {
     "data": {
      "text/plain": "      bite_date SpeciesIDDesc      BreedIDDesc GenderIDDesc      color  \\\n1512 2101-02-18           CAT              NaN       FEMALE      BLACK   \n771  2010-08-12           DOG              NaN       FEMALE  BLK-WHITE   \n785  2010-08-17           DOG              NaN         MALE  WHITE-BLK   \n526  2010-06-08           DOG              NaN      UNKNOWN        TAN   \n2113 2011-07-19           DOG              NaN          NaN        NaN   \n...         ...           ...              ...          ...        ...   \n8998 2017-09-05           DOG              NaN          NaN        NaN   \n8999 2017-09-07           DOG       POMERANIAN         MALE        RED   \n9000 2017-09-07           DOG  LABRADOR RETRIV         MALE      BROWN   \n9001 2017-09-07           DOG  LABRADOR RETRIV       FEMALE    BLK WHT   \n9002 2017-09-07           DOG            BOXER          NaN    BRN BLK   \n\n      vaccination_yrs vaccination_date victim_zip AdvIssuedYNDesc  \\\n1512              NaN              NaN      40202             NaN   \n771               NaN              NaN      40218              NO   \n785               NaN              NaN      40219              NO   \n526               NaN              NaN      40291              NO   \n2113              NaN              NaN      40223              NO   \n...               ...              ...        ...             ...   \n8998              NaN              NaN      40243             NaN   \n8999              NaN              NaN      40204             NaN   \n9000              NaN              NaN      47130             NaN   \n9001              NaN              NaN      40229             NaN   \n9002              NaN              NaN      40229             NaN   \n\n     WhereBittenIDDesc quarantine_date DispositionIDDesc head_sent_date  \\\n1512              BODY      2011-02-18          RELEASED            NaN   \n771               BODY      2010-05-12           UNKNOWN            NaN   \n785               BODY      2010-08-07           UNKNOWN            NaN   \n526               BODY      2010-06-01           UNKNOWN            NaN   \n2113              BODY      2011-07-16               NaN            NaN   \n...                ...             ...               ...            ...   \n8998           UNKNOWN             NaT               NaN            NaN   \n8999              HEAD             NaT               NaN            NaN   \n9000           UNKNOWN             NaT               NaN            NaN   \n9001              BODY             NaT               NaN            NaN   \n9002              BODY             NaT               NaN            NaN   \n\n     release_date ResultsIDDesc DifferenceOfBitedateAndQuarantinedate  \n1512          NaN           NaN                           -32872 days  \n771           NaN       UNKNOWN                              -92 days  \n785           NaN       UNKNOWN                              -10 days  \n526           NaN       UNKNOWN                               -7 days  \n2113          NaN           NaN                               -3 days  \n...           ...           ...                                   ...  \n8998          NaN           NaN                                   NaT  \n8999          NaN           NaN                                   NaT  \n9000          NaN           NaN                                   NaT  \n9001          NaN           NaN                                   NaT  \n9002          NaN           NaN                                   NaT  \n\n[9003 rows x 16 columns]",
      "text/html": "<div>\n<style scoped>\n    .dataframe tbody tr th:only-of-type {\n        vertical-align: middle;\n    }\n\n    .dataframe tbody tr th {\n        vertical-align: top;\n    }\n\n    .dataframe thead th {\n        text-align: right;\n    }\n</style>\n<table border=\"1\" class=\"dataframe\">\n  <thead>\n    <tr style=\"text-align: right;\">\n      <th></th>\n      <th>bite_date</th>\n      <th>SpeciesIDDesc</th>\n      <th>BreedIDDesc</th>\n      <th>GenderIDDesc</th>\n      <th>color</th>\n      <th>vaccination_yrs</th>\n      <th>vaccination_date</th>\n      <th>victim_zip</th>\n      <th>AdvIssuedYNDesc</th>\n      <th>WhereBittenIDDesc</th>\n      <th>quarantine_date</th>\n      <th>DispositionIDDesc</th>\n      <th>head_sent_date</th>\n      <th>release_date</th>\n      <th>ResultsIDDesc</th>\n      <th>DifferenceOfBitedateAndQuarantinedate</th>\n    </tr>\n  </thead>\n  <tbody>\n    <tr>\n      <th>1512</th>\n      <td>2101-02-18</td>\n      <td>CAT</td>\n      <td>NaN</td>\n      <td>FEMALE</td>\n      <td>BLACK</td>\n      <td>NaN</td>\n      <td>NaN</td>\n      <td>40202</td>\n      <td>NaN</td>\n      <td>BODY</td>\n      <td>2011-02-18</td>\n      <td>RELEASED</td>\n      <td>NaN</td>\n      <td>NaN</td>\n      <td>NaN</td>\n      <td>-32872 days</td>\n    </tr>\n    <tr>\n      <th>771</th>\n      <td>2010-08-12</td>\n      <td>DOG</td>\n      <td>NaN</td>\n      <td>FEMALE</td>\n      <td>BLK-WHITE</td>\n      <td>NaN</td>\n      <td>NaN</td>\n      <td>40218</td>\n      <td>NO</td>\n      <td>BODY</td>\n      <td>2010-05-12</td>\n      <td>UNKNOWN</td>\n      <td>NaN</td>\n      <td>NaN</td>\n      <td>UNKNOWN</td>\n      <td>-92 days</td>\n    </tr>\n    <tr>\n      <th>785</th>\n      <td>2010-08-17</td>\n      <td>DOG</td>\n      <td>NaN</td>\n      <td>MALE</td>\n      <td>WHITE-BLK</td>\n      <td>NaN</td>\n      <td>NaN</td>\n      <td>40219</td>\n      <td>NO</td>\n      <td>BODY</td>\n      <td>2010-08-07</td>\n      <td>UNKNOWN</td>\n      <td>NaN</td>\n      <td>NaN</td>\n      <td>UNKNOWN</td>\n      <td>-10 days</td>\n    </tr>\n    <tr>\n      <th>526</th>\n      <td>2010-06-08</td>\n      <td>DOG</td>\n      <td>NaN</td>\n      <td>UNKNOWN</td>\n      <td>TAN</td>\n      <td>NaN</td>\n      <td>NaN</td>\n      <td>40291</td>\n      <td>NO</td>\n      <td>BODY</td>\n      <td>2010-06-01</td>\n      <td>UNKNOWN</td>\n      <td>NaN</td>\n      <td>NaN</td>\n      <td>UNKNOWN</td>\n      <td>-7 days</td>\n    </tr>\n    <tr>\n      <th>2113</th>\n      <td>2011-07-19</td>\n      <td>DOG</td>\n      <td>NaN</td>\n      <td>NaN</td>\n      <td>NaN</td>\n      <td>NaN</td>\n      <td>NaN</td>\n      <td>40223</td>\n      <td>NO</td>\n      <td>BODY</td>\n      <td>2011-07-16</td>\n      <td>NaN</td>\n      <td>NaN</td>\n      <td>NaN</td>\n      <td>NaN</td>\n      <td>-3 days</td>\n    </tr>\n    <tr>\n      <th>...</th>\n      <td>...</td>\n      <td>...</td>\n      <td>...</td>\n      <td>...</td>\n      <td>...</td>\n      <td>...</td>\n      <td>...</td>\n      <td>...</td>\n      <td>...</td>\n      <td>...</td>\n      <td>...</td>\n      <td>...</td>\n      <td>...</td>\n      <td>...</td>\n      <td>...</td>\n      <td>...</td>\n    </tr>\n    <tr>\n      <th>8998</th>\n      <td>2017-09-05</td>\n      <td>DOG</td>\n      <td>NaN</td>\n      <td>NaN</td>\n      <td>NaN</td>\n      <td>NaN</td>\n      <td>NaN</td>\n      <td>40243</td>\n      <td>NaN</td>\n      <td>UNKNOWN</td>\n      <td>NaT</td>\n      <td>NaN</td>\n      <td>NaN</td>\n      <td>NaN</td>\n      <td>NaN</td>\n      <td>NaT</td>\n    </tr>\n    <tr>\n      <th>8999</th>\n      <td>2017-09-07</td>\n      <td>DOG</td>\n      <td>POMERANIAN</td>\n      <td>MALE</td>\n      <td>RED</td>\n      <td>NaN</td>\n      <td>NaN</td>\n      <td>40204</td>\n      <td>NaN</td>\n      <td>HEAD</td>\n      <td>NaT</td>\n      <td>NaN</td>\n      <td>NaN</td>\n      <td>NaN</td>\n      <td>NaN</td>\n      <td>NaT</td>\n    </tr>\n    <tr>\n      <th>9000</th>\n      <td>2017-09-07</td>\n      <td>DOG</td>\n      <td>LABRADOR RETRIV</td>\n      <td>MALE</td>\n      <td>BROWN</td>\n      <td>NaN</td>\n      <td>NaN</td>\n      <td>47130</td>\n      <td>NaN</td>\n      <td>UNKNOWN</td>\n      <td>NaT</td>\n      <td>NaN</td>\n      <td>NaN</td>\n      <td>NaN</td>\n      <td>NaN</td>\n      <td>NaT</td>\n    </tr>\n    <tr>\n      <th>9001</th>\n      <td>2017-09-07</td>\n      <td>DOG</td>\n      <td>LABRADOR RETRIV</td>\n      <td>FEMALE</td>\n      <td>BLK WHT</td>\n      <td>NaN</td>\n      <td>NaN</td>\n      <td>40229</td>\n      <td>NaN</td>\n      <td>BODY</td>\n      <td>NaT</td>\n      <td>NaN</td>\n      <td>NaN</td>\n      <td>NaN</td>\n      <td>NaN</td>\n      <td>NaT</td>\n    </tr>\n    <tr>\n      <th>9002</th>\n      <td>2017-09-07</td>\n      <td>DOG</td>\n      <td>BOXER</td>\n      <td>NaN</td>\n      <td>BRN BLK</td>\n      <td>NaN</td>\n      <td>NaN</td>\n      <td>40229</td>\n      <td>NaN</td>\n      <td>BODY</td>\n      <td>NaT</td>\n      <td>NaN</td>\n      <td>NaN</td>\n      <td>NaN</td>\n      <td>NaN</td>\n      <td>NaT</td>\n    </tr>\n  </tbody>\n</table>\n<p>9003 rows × 16 columns</p>\n</div>"
     },
     "execution_count": 19,
     "metadata": {},
     "output_type": "execute_result"
    }
   ],
   "source": [
    "# sorting rows based on 'DifferenceOfBitedateAndQuarantinedate' column\n",
    "\n",
    "sorting_data(preprocessed_data,'DifferenceOfBitedateAndQuarantinedate',True)"
   ],
   "metadata": {
    "collapsed": false,
    "ExecuteTime": {
     "end_time": "2024-01-16T17:40:22.691655800Z",
     "start_time": "2024-01-16T17:40:22.618592Z"
    }
   },
   "id": "766d70a6"
  },
  {
   "cell_type": "code",
   "execution_count": 20,
   "outputs": [
    {
     "data": {
      "text/plain": "Timestamp('2010-05-12 00:00:00')"
     },
     "execution_count": 20,
     "metadata": {},
     "output_type": "execute_result"
    }
   ],
   "source": [
    "# we got the error data in row numbers - 1512,771,785,526,2113, we have to correct this\n",
    "# In row number 1512, it cannot be the bite_date as year of 2101. it should be year of 2011\n",
    "\n",
    "correct_data_using_index(preprocessed_data,'bite_date',1512,'2011-02-18')\n",
    "\n",
    "# In row number 771 the month of bite_date can be 05 instead of 08\n",
    "correct_data_using_index(preprocessed_data,'bite_date',771,'2010-05-12')\n"
   ],
   "metadata": {
    "collapsed": false,
    "ExecuteTime": {
     "end_time": "2024-01-16T17:40:55.479852200Z",
     "start_time": "2024-01-16T17:40:55.397775800Z"
    }
   },
   "id": "f7323f5369ebb4ef"
  },
  {
   "cell_type": "code",
   "execution_count": 22,
   "outputs": [
    {
     "data": {
      "text/plain": "      bite_date SpeciesIDDesc      BreedIDDesc GenderIDDesc      color  \\\n785  2010-08-17           DOG              NaN         MALE  WHITE-BLK   \n526  2010-06-08           DOG              NaN      UNKNOWN        TAN   \n2113 2011-07-19           DOG              NaN          NaN        NaN   \n992  2010-10-26           DOG              NaN         MALE      BROWN   \n997  2010-10-28           CAT              NaN      UNKNOWN     CALICO   \n...         ...           ...              ...          ...        ...   \n8998 2017-09-05           DOG              NaN          NaN        NaN   \n8999 2017-09-07           DOG       POMERANIAN         MALE        RED   \n9000 2017-09-07           DOG  LABRADOR RETRIV         MALE      BROWN   \n9001 2017-09-07           DOG  LABRADOR RETRIV       FEMALE    BLK WHT   \n9002 2017-09-07           DOG            BOXER          NaN    BRN BLK   \n\n      vaccination_yrs vaccination_date victim_zip AdvIssuedYNDesc  \\\n785               NaN              NaN      40219              NO   \n526               NaN              NaN      40291              NO   \n2113              NaN              NaN      40223              NO   \n992               NaN              NaN      40216              NO   \n997               NaN              NaN      40203              NO   \n...               ...              ...        ...             ...   \n8998              NaN              NaN      40243             NaN   \n8999              NaN              NaN      40204             NaN   \n9000              NaN              NaN      47130             NaN   \n9001              NaN              NaN      40229             NaN   \n9002              NaN              NaN      40229             NaN   \n\n     WhereBittenIDDesc quarantine_date DispositionIDDesc head_sent_date  \\\n785               BODY      2010-08-07           UNKNOWN            NaN   \n526               BODY      2010-06-01           UNKNOWN            NaN   \n2113              BODY      2011-07-16               NaN            NaN   \n992               BODY      2010-10-26           UNKNOWN            NaN   \n997               BODY      2010-10-28           UNKNOWN            NaN   \n...                ...             ...               ...            ...   \n8998           UNKNOWN             NaT               NaN            NaN   \n8999              HEAD             NaT               NaN            NaN   \n9000           UNKNOWN             NaT               NaN            NaN   \n9001              BODY             NaT               NaN            NaN   \n9002              BODY             NaT               NaN            NaN   \n\n     release_date ResultsIDDesc DifferenceOfBitedateAndQuarantinedate  \n785           NaN       UNKNOWN                              -10 days  \n526           NaN       UNKNOWN                               -7 days  \n2113          NaN           NaN                               -3 days  \n992           NaN       UNKNOWN                                0 days  \n997           NaN       UNKNOWN                                0 days  \n...           ...           ...                                   ...  \n8998          NaN           NaN                                   NaT  \n8999          NaN           NaN                                   NaT  \n9000          NaN           NaN                                   NaT  \n9001          NaN           NaN                                   NaT  \n9002          NaN           NaN                                   NaT  \n\n[9003 rows x 16 columns]",
      "text/html": "<div>\n<style scoped>\n    .dataframe tbody tr th:only-of-type {\n        vertical-align: middle;\n    }\n\n    .dataframe tbody tr th {\n        vertical-align: top;\n    }\n\n    .dataframe thead th {\n        text-align: right;\n    }\n</style>\n<table border=\"1\" class=\"dataframe\">\n  <thead>\n    <tr style=\"text-align: right;\">\n      <th></th>\n      <th>bite_date</th>\n      <th>SpeciesIDDesc</th>\n      <th>BreedIDDesc</th>\n      <th>GenderIDDesc</th>\n      <th>color</th>\n      <th>vaccination_yrs</th>\n      <th>vaccination_date</th>\n      <th>victim_zip</th>\n      <th>AdvIssuedYNDesc</th>\n      <th>WhereBittenIDDesc</th>\n      <th>quarantine_date</th>\n      <th>DispositionIDDesc</th>\n      <th>head_sent_date</th>\n      <th>release_date</th>\n      <th>ResultsIDDesc</th>\n      <th>DifferenceOfBitedateAndQuarantinedate</th>\n    </tr>\n  </thead>\n  <tbody>\n    <tr>\n      <th>785</th>\n      <td>2010-08-17</td>\n      <td>DOG</td>\n      <td>NaN</td>\n      <td>MALE</td>\n      <td>WHITE-BLK</td>\n      <td>NaN</td>\n      <td>NaN</td>\n      <td>40219</td>\n      <td>NO</td>\n      <td>BODY</td>\n      <td>2010-08-07</td>\n      <td>UNKNOWN</td>\n      <td>NaN</td>\n      <td>NaN</td>\n      <td>UNKNOWN</td>\n      <td>-10 days</td>\n    </tr>\n    <tr>\n      <th>526</th>\n      <td>2010-06-08</td>\n      <td>DOG</td>\n      <td>NaN</td>\n      <td>UNKNOWN</td>\n      <td>TAN</td>\n      <td>NaN</td>\n      <td>NaN</td>\n      <td>40291</td>\n      <td>NO</td>\n      <td>BODY</td>\n      <td>2010-06-01</td>\n      <td>UNKNOWN</td>\n      <td>NaN</td>\n      <td>NaN</td>\n      <td>UNKNOWN</td>\n      <td>-7 days</td>\n    </tr>\n    <tr>\n      <th>2113</th>\n      <td>2011-07-19</td>\n      <td>DOG</td>\n      <td>NaN</td>\n      <td>NaN</td>\n      <td>NaN</td>\n      <td>NaN</td>\n      <td>NaN</td>\n      <td>40223</td>\n      <td>NO</td>\n      <td>BODY</td>\n      <td>2011-07-16</td>\n      <td>NaN</td>\n      <td>NaN</td>\n      <td>NaN</td>\n      <td>NaN</td>\n      <td>-3 days</td>\n    </tr>\n    <tr>\n      <th>992</th>\n      <td>2010-10-26</td>\n      <td>DOG</td>\n      <td>NaN</td>\n      <td>MALE</td>\n      <td>BROWN</td>\n      <td>NaN</td>\n      <td>NaN</td>\n      <td>40216</td>\n      <td>NO</td>\n      <td>BODY</td>\n      <td>2010-10-26</td>\n      <td>UNKNOWN</td>\n      <td>NaN</td>\n      <td>NaN</td>\n      <td>UNKNOWN</td>\n      <td>0 days</td>\n    </tr>\n    <tr>\n      <th>997</th>\n      <td>2010-10-28</td>\n      <td>CAT</td>\n      <td>NaN</td>\n      <td>UNKNOWN</td>\n      <td>CALICO</td>\n      <td>NaN</td>\n      <td>NaN</td>\n      <td>40203</td>\n      <td>NO</td>\n      <td>BODY</td>\n      <td>2010-10-28</td>\n      <td>UNKNOWN</td>\n      <td>NaN</td>\n      <td>NaN</td>\n      <td>UNKNOWN</td>\n      <td>0 days</td>\n    </tr>\n    <tr>\n      <th>...</th>\n      <td>...</td>\n      <td>...</td>\n      <td>...</td>\n      <td>...</td>\n      <td>...</td>\n      <td>...</td>\n      <td>...</td>\n      <td>...</td>\n      <td>...</td>\n      <td>...</td>\n      <td>...</td>\n      <td>...</td>\n      <td>...</td>\n      <td>...</td>\n      <td>...</td>\n      <td>...</td>\n    </tr>\n    <tr>\n      <th>8998</th>\n      <td>2017-09-05</td>\n      <td>DOG</td>\n      <td>NaN</td>\n      <td>NaN</td>\n      <td>NaN</td>\n      <td>NaN</td>\n      <td>NaN</td>\n      <td>40243</td>\n      <td>NaN</td>\n      <td>UNKNOWN</td>\n      <td>NaT</td>\n      <td>NaN</td>\n      <td>NaN</td>\n      <td>NaN</td>\n      <td>NaN</td>\n      <td>NaT</td>\n    </tr>\n    <tr>\n      <th>8999</th>\n      <td>2017-09-07</td>\n      <td>DOG</td>\n      <td>POMERANIAN</td>\n      <td>MALE</td>\n      <td>RED</td>\n      <td>NaN</td>\n      <td>NaN</td>\n      <td>40204</td>\n      <td>NaN</td>\n      <td>HEAD</td>\n      <td>NaT</td>\n      <td>NaN</td>\n      <td>NaN</td>\n      <td>NaN</td>\n      <td>NaN</td>\n      <td>NaT</td>\n    </tr>\n    <tr>\n      <th>9000</th>\n      <td>2017-09-07</td>\n      <td>DOG</td>\n      <td>LABRADOR RETRIV</td>\n      <td>MALE</td>\n      <td>BROWN</td>\n      <td>NaN</td>\n      <td>NaN</td>\n      <td>47130</td>\n      <td>NaN</td>\n      <td>UNKNOWN</td>\n      <td>NaT</td>\n      <td>NaN</td>\n      <td>NaN</td>\n      <td>NaN</td>\n      <td>NaN</td>\n      <td>NaT</td>\n    </tr>\n    <tr>\n      <th>9001</th>\n      <td>2017-09-07</td>\n      <td>DOG</td>\n      <td>LABRADOR RETRIV</td>\n      <td>FEMALE</td>\n      <td>BLK WHT</td>\n      <td>NaN</td>\n      <td>NaN</td>\n      <td>40229</td>\n      <td>NaN</td>\n      <td>BODY</td>\n      <td>NaT</td>\n      <td>NaN</td>\n      <td>NaN</td>\n      <td>NaN</td>\n      <td>NaN</td>\n      <td>NaT</td>\n    </tr>\n    <tr>\n      <th>9002</th>\n      <td>2017-09-07</td>\n      <td>DOG</td>\n      <td>BOXER</td>\n      <td>NaN</td>\n      <td>BRN BLK</td>\n      <td>NaN</td>\n      <td>NaN</td>\n      <td>40229</td>\n      <td>NaN</td>\n      <td>BODY</td>\n      <td>NaT</td>\n      <td>NaN</td>\n      <td>NaN</td>\n      <td>NaN</td>\n      <td>NaN</td>\n      <td>NaT</td>\n    </tr>\n  </tbody>\n</table>\n<p>9003 rows × 16 columns</p>\n</div>"
     },
     "execution_count": 22,
     "metadata": {},
     "output_type": "execute_result"
    }
   ],
   "source": [
    "# let's again check the difference\n",
    "get_difference_between_columns(preprocessed_data,'DifferenceOfBitedateAndQuarantinedate','quarantine_date','bite_date')\n",
    "sorting_data(preprocessed_data,'DifferenceOfBitedateAndQuarantinedate',True)"
   ],
   "metadata": {
    "collapsed": false,
    "ExecuteTime": {
     "end_time": "2024-01-16T17:42:27.208754400Z",
     "start_time": "2024-01-16T17:42:27.127104800Z"
    }
   },
   "id": "64a860ea38a80e31"
  },
  {
   "cell_type": "code",
   "execution_count": 23,
   "outputs": [],
   "source": [
    "# In row numbers  785,526 and 2113  have wrong bite_date, the difference cannot be minus value. 3 data cannot be much effect. therefore we can drop those 3 values from the dataframe\n",
    "indexesToDrop = [526,785,2113]\n",
    "preprocessed_data = preprocessed_data.drop(indexesToDrop)"
   ],
   "metadata": {
    "collapsed": false,
    "ExecuteTime": {
     "end_time": "2024-01-16T17:42:49.593106700Z",
     "start_time": "2024-01-16T17:42:49.558032800Z"
    }
   },
   "id": "91a253cbee880faa"
  },
  {
   "cell_type": "code",
   "execution_count": 24,
   "outputs": [],
   "source": [
    "# after drop row values we need to reindex those\n",
    "preprocessed_data = preprocessed_data.reset_index(drop=True)\n"
   ],
   "metadata": {
    "collapsed": false,
    "ExecuteTime": {
     "end_time": "2024-01-16T17:42:54.097404900Z",
     "start_time": "2024-01-16T17:42:54.057605500Z"
    }
   },
   "id": "39198acfffd7c11e"
  },
  {
   "cell_type": "code",
   "execution_count": 25,
   "outputs": [
    {
     "data": {
      "text/plain": "Timedelta('3 days 11:49:33.913043478')"
     },
     "execution_count": 25,
     "metadata": {},
     "output_type": "execute_result"
    }
   ],
   "source": [
    "#before check the average of difference we need to find the difference again. for that we can call the 'get_difference_between_columns' function again\n",
    "\n",
    "get_difference_between_columns(preprocessed_data,'DifferenceOfBitedateAndQuarantinedate','quarantine_date','bite_date')\n",
    "preprocessed_data\n",
    "\n",
    "# Let's again check the average of difference\n",
    "\n",
    "get_average(preprocessed_data,'DifferenceOfBitedateAndQuarantinedate')"
   ],
   "metadata": {
    "collapsed": false,
    "ExecuteTime": {
     "end_time": "2024-01-16T17:43:09.790696600Z",
     "start_time": "2024-01-16T17:43:09.741879800Z"
    }
   },
   "id": "9ff5cc210dc60989"
  },
  {
   "cell_type": "code",
   "execution_count": 26,
   "outputs": [
    {
     "data": {
      "text/plain": "      bite_date SpeciesIDDesc      BreedIDDesc GenderIDDesc    color  \\\n4    1989-08-29           DOG              NaN       FEMALE  BLK-WHT   \n5    1989-11-24           DOG              NaN      UNKNOWN      NaN   \n71   2010-01-09           DOG              NaN      UNKNOWN  BLK-WHT   \n78   2010-01-12           DOG              NaN         MALE  BRN-WHT   \n121  2010-02-04           DOG              NaN      UNKNOWN      NaN   \n...         ...           ...              ...          ...      ...   \n8995 2017-09-05           DOG              NaN          NaN      NaN   \n8996 2017-09-07           DOG       POMERANIAN         MALE      RED   \n8997 2017-09-07           DOG  LABRADOR RETRIV         MALE    BROWN   \n8998 2017-09-07           DOG  LABRADOR RETRIV       FEMALE  BLK WHT   \n8999 2017-09-07           DOG            BOXER          NaN  BRN BLK   \n\n      vaccination_yrs vaccination_date victim_zip AdvIssuedYNDesc  \\\n4                 NaN              NaN        NaN              NO   \n5                 NaN              NaN      40211              NO   \n71                NaN              NaN      40219              NO   \n78                NaN              NaN      40214              NO   \n121               NaN              NaN      40229              NO   \n...               ...              ...        ...             ...   \n8995              NaN              NaN      40243             NaN   \n8996              NaN              NaN      40204             NaN   \n8997              NaN              NaN      47130             NaN   \n8998              NaN              NaN      40229             NaN   \n8999              NaN              NaN      40229             NaN   \n\n     WhereBittenIDDesc quarantine_date DispositionIDDesc       head_sent_date  \\\n4                 BODY             NaT           UNKNOWN                  NaN   \n5                 BODY             NaT           UNKNOWN                  NaN   \n71                BODY             NaT           UNKNOWN  2010-01-10 00:00:00   \n78                BODY             NaT           UNKNOWN  2010-01-14 00:00:00   \n121               BODY             NaT           UNKNOWN  2010-02-05 00:00:00   \n...                ...             ...               ...                  ...   \n8995           UNKNOWN             NaT               NaN                  NaN   \n8996              HEAD             NaT               NaN                  NaN   \n8997           UNKNOWN             NaT               NaN                  NaN   \n8998              BODY             NaT               NaN                  NaN   \n8999              BODY             NaT               NaN                  NaN   \n\n     release_date ResultsIDDesc DifferenceOfBitedateAndQuarantinedate  \n4             NaN       UNKNOWN                                   NaT  \n5             NaN       UNKNOWN                                   NaT  \n71            NaN       UNKNOWN                                   NaT  \n78            NaN       UNKNOWN                                   NaT  \n121           NaN       UNKNOWN                                   NaT  \n...           ...           ...                                   ...  \n8995          NaN           NaN                                   NaT  \n8996          NaN           NaN                                   NaT  \n8997          NaN           NaN                                   NaT  \n8998          NaN           NaN                                   NaT  \n8999          NaN           NaN                                   NaT  \n\n[6999 rows x 16 columns]",
      "text/html": "<div>\n<style scoped>\n    .dataframe tbody tr th:only-of-type {\n        vertical-align: middle;\n    }\n\n    .dataframe tbody tr th {\n        vertical-align: top;\n    }\n\n    .dataframe thead th {\n        text-align: right;\n    }\n</style>\n<table border=\"1\" class=\"dataframe\">\n  <thead>\n    <tr style=\"text-align: right;\">\n      <th></th>\n      <th>bite_date</th>\n      <th>SpeciesIDDesc</th>\n      <th>BreedIDDesc</th>\n      <th>GenderIDDesc</th>\n      <th>color</th>\n      <th>vaccination_yrs</th>\n      <th>vaccination_date</th>\n      <th>victim_zip</th>\n      <th>AdvIssuedYNDesc</th>\n      <th>WhereBittenIDDesc</th>\n      <th>quarantine_date</th>\n      <th>DispositionIDDesc</th>\n      <th>head_sent_date</th>\n      <th>release_date</th>\n      <th>ResultsIDDesc</th>\n      <th>DifferenceOfBitedateAndQuarantinedate</th>\n    </tr>\n  </thead>\n  <tbody>\n    <tr>\n      <th>4</th>\n      <td>1989-08-29</td>\n      <td>DOG</td>\n      <td>NaN</td>\n      <td>FEMALE</td>\n      <td>BLK-WHT</td>\n      <td>NaN</td>\n      <td>NaN</td>\n      <td>NaN</td>\n      <td>NO</td>\n      <td>BODY</td>\n      <td>NaT</td>\n      <td>UNKNOWN</td>\n      <td>NaN</td>\n      <td>NaN</td>\n      <td>UNKNOWN</td>\n      <td>NaT</td>\n    </tr>\n    <tr>\n      <th>5</th>\n      <td>1989-11-24</td>\n      <td>DOG</td>\n      <td>NaN</td>\n      <td>UNKNOWN</td>\n      <td>NaN</td>\n      <td>NaN</td>\n      <td>NaN</td>\n      <td>40211</td>\n      <td>NO</td>\n      <td>BODY</td>\n      <td>NaT</td>\n      <td>UNKNOWN</td>\n      <td>NaN</td>\n      <td>NaN</td>\n      <td>UNKNOWN</td>\n      <td>NaT</td>\n    </tr>\n    <tr>\n      <th>71</th>\n      <td>2010-01-09</td>\n      <td>DOG</td>\n      <td>NaN</td>\n      <td>UNKNOWN</td>\n      <td>BLK-WHT</td>\n      <td>NaN</td>\n      <td>NaN</td>\n      <td>40219</td>\n      <td>NO</td>\n      <td>BODY</td>\n      <td>NaT</td>\n      <td>UNKNOWN</td>\n      <td>2010-01-10 00:00:00</td>\n      <td>NaN</td>\n      <td>UNKNOWN</td>\n      <td>NaT</td>\n    </tr>\n    <tr>\n      <th>78</th>\n      <td>2010-01-12</td>\n      <td>DOG</td>\n      <td>NaN</td>\n      <td>MALE</td>\n      <td>BRN-WHT</td>\n      <td>NaN</td>\n      <td>NaN</td>\n      <td>40214</td>\n      <td>NO</td>\n      <td>BODY</td>\n      <td>NaT</td>\n      <td>UNKNOWN</td>\n      <td>2010-01-14 00:00:00</td>\n      <td>NaN</td>\n      <td>UNKNOWN</td>\n      <td>NaT</td>\n    </tr>\n    <tr>\n      <th>121</th>\n      <td>2010-02-04</td>\n      <td>DOG</td>\n      <td>NaN</td>\n      <td>UNKNOWN</td>\n      <td>NaN</td>\n      <td>NaN</td>\n      <td>NaN</td>\n      <td>40229</td>\n      <td>NO</td>\n      <td>BODY</td>\n      <td>NaT</td>\n      <td>UNKNOWN</td>\n      <td>2010-02-05 00:00:00</td>\n      <td>NaN</td>\n      <td>UNKNOWN</td>\n      <td>NaT</td>\n    </tr>\n    <tr>\n      <th>...</th>\n      <td>...</td>\n      <td>...</td>\n      <td>...</td>\n      <td>...</td>\n      <td>...</td>\n      <td>...</td>\n      <td>...</td>\n      <td>...</td>\n      <td>...</td>\n      <td>...</td>\n      <td>...</td>\n      <td>...</td>\n      <td>...</td>\n      <td>...</td>\n      <td>...</td>\n      <td>...</td>\n    </tr>\n    <tr>\n      <th>8995</th>\n      <td>2017-09-05</td>\n      <td>DOG</td>\n      <td>NaN</td>\n      <td>NaN</td>\n      <td>NaN</td>\n      <td>NaN</td>\n      <td>NaN</td>\n      <td>40243</td>\n      <td>NaN</td>\n      <td>UNKNOWN</td>\n      <td>NaT</td>\n      <td>NaN</td>\n      <td>NaN</td>\n      <td>NaN</td>\n      <td>NaN</td>\n      <td>NaT</td>\n    </tr>\n    <tr>\n      <th>8996</th>\n      <td>2017-09-07</td>\n      <td>DOG</td>\n      <td>POMERANIAN</td>\n      <td>MALE</td>\n      <td>RED</td>\n      <td>NaN</td>\n      <td>NaN</td>\n      <td>40204</td>\n      <td>NaN</td>\n      <td>HEAD</td>\n      <td>NaT</td>\n      <td>NaN</td>\n      <td>NaN</td>\n      <td>NaN</td>\n      <td>NaN</td>\n      <td>NaT</td>\n    </tr>\n    <tr>\n      <th>8997</th>\n      <td>2017-09-07</td>\n      <td>DOG</td>\n      <td>LABRADOR RETRIV</td>\n      <td>MALE</td>\n      <td>BROWN</td>\n      <td>NaN</td>\n      <td>NaN</td>\n      <td>47130</td>\n      <td>NaN</td>\n      <td>UNKNOWN</td>\n      <td>NaT</td>\n      <td>NaN</td>\n      <td>NaN</td>\n      <td>NaN</td>\n      <td>NaN</td>\n      <td>NaT</td>\n    </tr>\n    <tr>\n      <th>8998</th>\n      <td>2017-09-07</td>\n      <td>DOG</td>\n      <td>LABRADOR RETRIV</td>\n      <td>FEMALE</td>\n      <td>BLK WHT</td>\n      <td>NaN</td>\n      <td>NaN</td>\n      <td>40229</td>\n      <td>NaN</td>\n      <td>BODY</td>\n      <td>NaT</td>\n      <td>NaN</td>\n      <td>NaN</td>\n      <td>NaN</td>\n      <td>NaN</td>\n      <td>NaT</td>\n    </tr>\n    <tr>\n      <th>8999</th>\n      <td>2017-09-07</td>\n      <td>DOG</td>\n      <td>BOXER</td>\n      <td>NaN</td>\n      <td>BRN BLK</td>\n      <td>NaN</td>\n      <td>NaN</td>\n      <td>40229</td>\n      <td>NaN</td>\n      <td>BODY</td>\n      <td>NaT</td>\n      <td>NaN</td>\n      <td>NaN</td>\n      <td>NaN</td>\n      <td>NaN</td>\n      <td>NaT</td>\n    </tr>\n  </tbody>\n</table>\n<p>6999 rows × 16 columns</p>\n</div>"
     },
     "execution_count": 26,
     "metadata": {},
     "output_type": "execute_result"
    }
   ],
   "source": [
    "# to get any of column('bite_date','quarantine_date','difference') that have null values\n",
    "selectedcolumn = ['bite_date','quarantine_date','DifferenceOfBitedateAndQuarantinedate']\n",
    "check_null_values(preprocessed_data,selectedcolumn)"
   ],
   "metadata": {
    "collapsed": false,
    "ExecuteTime": {
     "end_time": "2024-01-16T17:43:37.137411500Z",
     "start_time": "2024-01-16T17:43:37.036940Z"
    }
   },
   "id": "211aa1e40123518"
  },
  {
   "cell_type": "code",
   "execution_count": 27,
   "outputs": [
    {
     "data": {
      "text/plain": "0      1985-05-05\n1      1986-02-12\n2      1990-05-07\n3      1990-10-02\n4      1989-09-01\n          ...    \n8995   2017-09-08\n8996   2017-09-10\n8997   2017-09-10\n8998   2017-09-10\n8999   2017-09-10\nName: quarantine_date, Length: 9000, dtype: datetime64[ns]"
     },
     "execution_count": 27,
     "metadata": {},
     "output_type": "execute_result"
    }
   ],
   "source": [
    "# Edit quarantine_date when have only bite_date. to edit this we need to add average date difference from quarantine_date.\n",
    "\n",
    "to_fillna_byAdding(preprocessed_data,'quarantine_date','bite_date',3)"
   ],
   "metadata": {
    "collapsed": false,
    "ExecuteTime": {
     "end_time": "2024-01-16T17:43:59.449708600Z",
     "start_time": "2024-01-16T17:43:59.404051800Z"
    }
   },
   "id": "9e50b22f3de7d9f4"
  },
  {
   "cell_type": "code",
   "execution_count": 28,
   "outputs": [
    {
     "data": {
      "text/plain": "0      1985-05-05\n1      1986-02-12\n2      1987-05-07\n3      1988-10-02\n4      1989-08-29\n          ...    \n8995   2017-09-05\n8996   2017-09-07\n8997   2017-09-07\n8998   2017-09-07\n8999   2017-09-07\nName: bite_date, Length: 9000, dtype: datetime64[ns]"
     },
     "execution_count": 28,
     "metadata": {},
     "output_type": "execute_result"
    }
   ],
   "source": [
    "# edit bite_date when have only quarantine_date. to edit this we need to substract average date difference from quarantine_date.\n",
    "\n",
    "to_fillna_bySubstracting(preprocessed_data,'bite_date','quarantine_date',3)"
   ],
   "metadata": {
    "collapsed": false,
    "ExecuteTime": {
     "end_time": "2024-01-16T17:44:21.746946300Z",
     "start_time": "2024-01-16T17:44:21.677607600Z"
    }
   },
   "id": "81dda5c150757d4e"
  },
  {
   "cell_type": "code",
   "execution_count": 29,
   "outputs": [
    {
     "data": {
      "text/plain": "      bite_date SpeciesIDDesc      BreedIDDesc GenderIDDesc       color  \\\n0    1985-05-05           DOG              NaN       FEMALE  LIG. BROWN   \n1    1986-02-12           DOG              NaN      UNKNOWN   BRO & BLA   \n2    1987-05-07           DOG              NaN      UNKNOWN         NaN   \n3    1988-10-02           DOG              NaN         MALE   BLA & BRO   \n4    1989-08-29           DOG              NaN       FEMALE     BLK-WHT   \n...         ...           ...              ...          ...         ...   \n8995 2017-09-05           DOG              NaN          NaN         NaN   \n8996 2017-09-07           DOG       POMERANIAN         MALE         RED   \n8997 2017-09-07           DOG  LABRADOR RETRIV         MALE       BROWN   \n8998 2017-09-07           DOG  LABRADOR RETRIV       FEMALE     BLK WHT   \n8999 2017-09-07           DOG            BOXER          NaN     BRN BLK   \n\n      vaccination_yrs     vaccination_date victim_zip AdvIssuedYNDesc  \\\n0                 1.0  1985-06-20 00:00:00      40229              NO   \n1                 NaN                  NaN      40218              NO   \n2                 NaN                  NaN      40219              NO   \n3                 NaN                  NaN        NaN              NO   \n4                 NaN                  NaN        NaN              NO   \n...               ...                  ...        ...             ...   \n8995              NaN                  NaN      40243             NaN   \n8996              NaN                  NaN      40204             NaN   \n8997              NaN                  NaN      47130             NaN   \n8998              NaN                  NaN      40229             NaN   \n8999              NaN                  NaN      40229             NaN   \n\n     WhereBittenIDDesc quarantine_date DispositionIDDesc head_sent_date  \\\n0                 BODY      1985-05-05           UNKNOWN            NaN   \n1                 BODY      1986-02-12           UNKNOWN            NaN   \n2                 BODY      1990-05-07           UNKNOWN            NaN   \n3                 BODY      1990-10-02           UNKNOWN            NaN   \n4                 BODY      1989-09-01           UNKNOWN            NaN   \n...                ...             ...               ...            ...   \n8995           UNKNOWN      2017-09-08               NaN            NaN   \n8996              HEAD      2017-09-10               NaN            NaN   \n8997           UNKNOWN      2017-09-10               NaN            NaN   \n8998              BODY      2017-09-10               NaN            NaN   \n8999              BODY      2017-09-10               NaN            NaN   \n\n     release_date ResultsIDDesc DifferenceOfBitedateAndQuarantinedate  \n0             NaN       UNKNOWN                                0 days  \n1             NaN       UNKNOWN                                0 days  \n2             NaN       UNKNOWN                             1096 days  \n3             NaN       UNKNOWN                              730 days  \n4             NaN       UNKNOWN                                   NaT  \n...           ...           ...                                   ...  \n8995          NaN           NaN                                   NaT  \n8996          NaN           NaN                                   NaT  \n8997          NaN           NaN                                   NaT  \n8998          NaN           NaN                                   NaT  \n8999          NaN           NaN                                   NaT  \n\n[9000 rows x 16 columns]",
      "text/html": "<div>\n<style scoped>\n    .dataframe tbody tr th:only-of-type {\n        vertical-align: middle;\n    }\n\n    .dataframe tbody tr th {\n        vertical-align: top;\n    }\n\n    .dataframe thead th {\n        text-align: right;\n    }\n</style>\n<table border=\"1\" class=\"dataframe\">\n  <thead>\n    <tr style=\"text-align: right;\">\n      <th></th>\n      <th>bite_date</th>\n      <th>SpeciesIDDesc</th>\n      <th>BreedIDDesc</th>\n      <th>GenderIDDesc</th>\n      <th>color</th>\n      <th>vaccination_yrs</th>\n      <th>vaccination_date</th>\n      <th>victim_zip</th>\n      <th>AdvIssuedYNDesc</th>\n      <th>WhereBittenIDDesc</th>\n      <th>quarantine_date</th>\n      <th>DispositionIDDesc</th>\n      <th>head_sent_date</th>\n      <th>release_date</th>\n      <th>ResultsIDDesc</th>\n      <th>DifferenceOfBitedateAndQuarantinedate</th>\n    </tr>\n  </thead>\n  <tbody>\n    <tr>\n      <th>0</th>\n      <td>1985-05-05</td>\n      <td>DOG</td>\n      <td>NaN</td>\n      <td>FEMALE</td>\n      <td>LIG. BROWN</td>\n      <td>1.0</td>\n      <td>1985-06-20 00:00:00</td>\n      <td>40229</td>\n      <td>NO</td>\n      <td>BODY</td>\n      <td>1985-05-05</td>\n      <td>UNKNOWN</td>\n      <td>NaN</td>\n      <td>NaN</td>\n      <td>UNKNOWN</td>\n      <td>0 days</td>\n    </tr>\n    <tr>\n      <th>1</th>\n      <td>1986-02-12</td>\n      <td>DOG</td>\n      <td>NaN</td>\n      <td>UNKNOWN</td>\n      <td>BRO &amp; BLA</td>\n      <td>NaN</td>\n      <td>NaN</td>\n      <td>40218</td>\n      <td>NO</td>\n      <td>BODY</td>\n      <td>1986-02-12</td>\n      <td>UNKNOWN</td>\n      <td>NaN</td>\n      <td>NaN</td>\n      <td>UNKNOWN</td>\n      <td>0 days</td>\n    </tr>\n    <tr>\n      <th>2</th>\n      <td>1987-05-07</td>\n      <td>DOG</td>\n      <td>NaN</td>\n      <td>UNKNOWN</td>\n      <td>NaN</td>\n      <td>NaN</td>\n      <td>NaN</td>\n      <td>40219</td>\n      <td>NO</td>\n      <td>BODY</td>\n      <td>1990-05-07</td>\n      <td>UNKNOWN</td>\n      <td>NaN</td>\n      <td>NaN</td>\n      <td>UNKNOWN</td>\n      <td>1096 days</td>\n    </tr>\n    <tr>\n      <th>3</th>\n      <td>1988-10-02</td>\n      <td>DOG</td>\n      <td>NaN</td>\n      <td>MALE</td>\n      <td>BLA &amp; BRO</td>\n      <td>NaN</td>\n      <td>NaN</td>\n      <td>NaN</td>\n      <td>NO</td>\n      <td>BODY</td>\n      <td>1990-10-02</td>\n      <td>UNKNOWN</td>\n      <td>NaN</td>\n      <td>NaN</td>\n      <td>UNKNOWN</td>\n      <td>730 days</td>\n    </tr>\n    <tr>\n      <th>4</th>\n      <td>1989-08-29</td>\n      <td>DOG</td>\n      <td>NaN</td>\n      <td>FEMALE</td>\n      <td>BLK-WHT</td>\n      <td>NaN</td>\n      <td>NaN</td>\n      <td>NaN</td>\n      <td>NO</td>\n      <td>BODY</td>\n      <td>1989-09-01</td>\n      <td>UNKNOWN</td>\n      <td>NaN</td>\n      <td>NaN</td>\n      <td>UNKNOWN</td>\n      <td>NaT</td>\n    </tr>\n    <tr>\n      <th>...</th>\n      <td>...</td>\n      <td>...</td>\n      <td>...</td>\n      <td>...</td>\n      <td>...</td>\n      <td>...</td>\n      <td>...</td>\n      <td>...</td>\n      <td>...</td>\n      <td>...</td>\n      <td>...</td>\n      <td>...</td>\n      <td>...</td>\n      <td>...</td>\n      <td>...</td>\n      <td>...</td>\n    </tr>\n    <tr>\n      <th>8995</th>\n      <td>2017-09-05</td>\n      <td>DOG</td>\n      <td>NaN</td>\n      <td>NaN</td>\n      <td>NaN</td>\n      <td>NaN</td>\n      <td>NaN</td>\n      <td>40243</td>\n      <td>NaN</td>\n      <td>UNKNOWN</td>\n      <td>2017-09-08</td>\n      <td>NaN</td>\n      <td>NaN</td>\n      <td>NaN</td>\n      <td>NaN</td>\n      <td>NaT</td>\n    </tr>\n    <tr>\n      <th>8996</th>\n      <td>2017-09-07</td>\n      <td>DOG</td>\n      <td>POMERANIAN</td>\n      <td>MALE</td>\n      <td>RED</td>\n      <td>NaN</td>\n      <td>NaN</td>\n      <td>40204</td>\n      <td>NaN</td>\n      <td>HEAD</td>\n      <td>2017-09-10</td>\n      <td>NaN</td>\n      <td>NaN</td>\n      <td>NaN</td>\n      <td>NaN</td>\n      <td>NaT</td>\n    </tr>\n    <tr>\n      <th>8997</th>\n      <td>2017-09-07</td>\n      <td>DOG</td>\n      <td>LABRADOR RETRIV</td>\n      <td>MALE</td>\n      <td>BROWN</td>\n      <td>NaN</td>\n      <td>NaN</td>\n      <td>47130</td>\n      <td>NaN</td>\n      <td>UNKNOWN</td>\n      <td>2017-09-10</td>\n      <td>NaN</td>\n      <td>NaN</td>\n      <td>NaN</td>\n      <td>NaN</td>\n      <td>NaT</td>\n    </tr>\n    <tr>\n      <th>8998</th>\n      <td>2017-09-07</td>\n      <td>DOG</td>\n      <td>LABRADOR RETRIV</td>\n      <td>FEMALE</td>\n      <td>BLK WHT</td>\n      <td>NaN</td>\n      <td>NaN</td>\n      <td>40229</td>\n      <td>NaN</td>\n      <td>BODY</td>\n      <td>2017-09-10</td>\n      <td>NaN</td>\n      <td>NaN</td>\n      <td>NaN</td>\n      <td>NaN</td>\n      <td>NaT</td>\n    </tr>\n    <tr>\n      <th>8999</th>\n      <td>2017-09-07</td>\n      <td>DOG</td>\n      <td>BOXER</td>\n      <td>NaN</td>\n      <td>BRN BLK</td>\n      <td>NaN</td>\n      <td>NaN</td>\n      <td>40229</td>\n      <td>NaN</td>\n      <td>BODY</td>\n      <td>2017-09-10</td>\n      <td>NaN</td>\n      <td>NaN</td>\n      <td>NaN</td>\n      <td>NaN</td>\n      <td>NaT</td>\n    </tr>\n  </tbody>\n</table>\n<p>9000 rows × 16 columns</p>\n</div>"
     },
     "execution_count": 29,
     "metadata": {},
     "output_type": "execute_result"
    }
   ],
   "source": [
    "preprocessed_data"
   ],
   "metadata": {
    "collapsed": false,
    "ExecuteTime": {
     "end_time": "2024-01-16T17:44:30.255685600Z",
     "start_time": "2024-01-16T17:44:30.161752300Z"
    }
   },
   "id": "1bbbd458c8daf981"
  },
  {
   "cell_type": "code",
   "execution_count": 30,
   "outputs": [
    {
     "data": {
      "text/plain": "     bite_date SpeciesIDDesc    BreedIDDesc GenderIDDesc    color  \\\n1686       NaT           CAT            NaN          NaN      NaN   \n1687       NaT           CAT            NaN          NaN      NaN   \n1689       NaT           NaN            NaN          NaN      NaN   \n1847       NaT           CAT            NaN          NaN      NaN   \n1855       NaT           BAT            NaN          NaN      NaN   \n...        ...           ...            ...          ...      ...   \n8899       NaT           DOG  BORDER COLLIE         MALE  BLK WHT   \n8921       NaT           DOG            NaN          NaN      NaN   \n8924       NaT           BAT            NaN          NaN      NaN   \n8925       NaT           BAT            NaN          NaN      NaN   \n8928       NaT           DOG            NaN          NaN      NaN   \n\n      vaccination_yrs     vaccination_date victim_zip AdvIssuedYNDesc  \\\n1686              NaN                  NaN        NaN             NaN   \n1687              NaN                  NaN        NaN             NaN   \n1689              NaN                  NaN        NaN             NaN   \n1847              NaN                  NaN        NaN             NaN   \n1855              NaN                  NaN        NaN             NaN   \n...               ...                  ...        ...             ...   \n8899              1.0  2017-07-18 00:00:00        NaN             NaN   \n8921              NaN                  NaN      40206             NaN   \n8924              NaN                  NaN      40291             YES   \n8925              NaN                  NaN      40291             YES   \n8928              NaN                  NaN      40242             NaN   \n\n     WhereBittenIDDesc quarantine_date DispositionIDDesc head_sent_date  \\\n1686               NaN             NaT               NaN            NaN   \n1687               NaN             NaT               NaN            NaN   \n1689               NaN             NaT               NaN            NaN   \n1847               NaN             NaT               NaN            NaN   \n1855               NaN             NaT               NaN            NaN   \n...                ...             ...               ...            ...   \n8899               NaN             NaT               NaN            NaN   \n8921               NaN             NaT               NaN            NaN   \n8924               NaN             NaT               NaN            NaN   \n8925               NaN             NaT               NaN            NaN   \n8928               NaN             NaT               NaN            NaN   \n\n             release_date ResultsIDDesc DifferenceOfBitedateAndQuarantinedate  \n1686                  NaN           NaN                                   NaT  \n1687                  NaN           NaN                                   NaT  \n1689                  NaN           NaN                                   NaT  \n1847                  NaN           NaN                                   NaT  \n1855                  NaN           NaN                                   NaT  \n...                   ...           ...                                   ...  \n8899  2017-08-18 00:00:00           NaN                                   NaT  \n8921                  NaN           NaN                                   NaT  \n8924                  NaN           NaN                                   NaT  \n8925                  NaN           NaN                                   NaT  \n8928                  NaN           NaN                                   NaT  \n\n[127 rows x 16 columns]",
      "text/html": "<div>\n<style scoped>\n    .dataframe tbody tr th:only-of-type {\n        vertical-align: middle;\n    }\n\n    .dataframe tbody tr th {\n        vertical-align: top;\n    }\n\n    .dataframe thead th {\n        text-align: right;\n    }\n</style>\n<table border=\"1\" class=\"dataframe\">\n  <thead>\n    <tr style=\"text-align: right;\">\n      <th></th>\n      <th>bite_date</th>\n      <th>SpeciesIDDesc</th>\n      <th>BreedIDDesc</th>\n      <th>GenderIDDesc</th>\n      <th>color</th>\n      <th>vaccination_yrs</th>\n      <th>vaccination_date</th>\n      <th>victim_zip</th>\n      <th>AdvIssuedYNDesc</th>\n      <th>WhereBittenIDDesc</th>\n      <th>quarantine_date</th>\n      <th>DispositionIDDesc</th>\n      <th>head_sent_date</th>\n      <th>release_date</th>\n      <th>ResultsIDDesc</th>\n      <th>DifferenceOfBitedateAndQuarantinedate</th>\n    </tr>\n  </thead>\n  <tbody>\n    <tr>\n      <th>1686</th>\n      <td>NaT</td>\n      <td>CAT</td>\n      <td>NaN</td>\n      <td>NaN</td>\n      <td>NaN</td>\n      <td>NaN</td>\n      <td>NaN</td>\n      <td>NaN</td>\n      <td>NaN</td>\n      <td>NaN</td>\n      <td>NaT</td>\n      <td>NaN</td>\n      <td>NaN</td>\n      <td>NaN</td>\n      <td>NaN</td>\n      <td>NaT</td>\n    </tr>\n    <tr>\n      <th>1687</th>\n      <td>NaT</td>\n      <td>CAT</td>\n      <td>NaN</td>\n      <td>NaN</td>\n      <td>NaN</td>\n      <td>NaN</td>\n      <td>NaN</td>\n      <td>NaN</td>\n      <td>NaN</td>\n      <td>NaN</td>\n      <td>NaT</td>\n      <td>NaN</td>\n      <td>NaN</td>\n      <td>NaN</td>\n      <td>NaN</td>\n      <td>NaT</td>\n    </tr>\n    <tr>\n      <th>1689</th>\n      <td>NaT</td>\n      <td>NaN</td>\n      <td>NaN</td>\n      <td>NaN</td>\n      <td>NaN</td>\n      <td>NaN</td>\n      <td>NaN</td>\n      <td>NaN</td>\n      <td>NaN</td>\n      <td>NaN</td>\n      <td>NaT</td>\n      <td>NaN</td>\n      <td>NaN</td>\n      <td>NaN</td>\n      <td>NaN</td>\n      <td>NaT</td>\n    </tr>\n    <tr>\n      <th>1847</th>\n      <td>NaT</td>\n      <td>CAT</td>\n      <td>NaN</td>\n      <td>NaN</td>\n      <td>NaN</td>\n      <td>NaN</td>\n      <td>NaN</td>\n      <td>NaN</td>\n      <td>NaN</td>\n      <td>NaN</td>\n      <td>NaT</td>\n      <td>NaN</td>\n      <td>NaN</td>\n      <td>NaN</td>\n      <td>NaN</td>\n      <td>NaT</td>\n    </tr>\n    <tr>\n      <th>1855</th>\n      <td>NaT</td>\n      <td>BAT</td>\n      <td>NaN</td>\n      <td>NaN</td>\n      <td>NaN</td>\n      <td>NaN</td>\n      <td>NaN</td>\n      <td>NaN</td>\n      <td>NaN</td>\n      <td>NaN</td>\n      <td>NaT</td>\n      <td>NaN</td>\n      <td>NaN</td>\n      <td>NaN</td>\n      <td>NaN</td>\n      <td>NaT</td>\n    </tr>\n    <tr>\n      <th>...</th>\n      <td>...</td>\n      <td>...</td>\n      <td>...</td>\n      <td>...</td>\n      <td>...</td>\n      <td>...</td>\n      <td>...</td>\n      <td>...</td>\n      <td>...</td>\n      <td>...</td>\n      <td>...</td>\n      <td>...</td>\n      <td>...</td>\n      <td>...</td>\n      <td>...</td>\n      <td>...</td>\n    </tr>\n    <tr>\n      <th>8899</th>\n      <td>NaT</td>\n      <td>DOG</td>\n      <td>BORDER COLLIE</td>\n      <td>MALE</td>\n      <td>BLK WHT</td>\n      <td>1.0</td>\n      <td>2017-07-18 00:00:00</td>\n      <td>NaN</td>\n      <td>NaN</td>\n      <td>NaN</td>\n      <td>NaT</td>\n      <td>NaN</td>\n      <td>NaN</td>\n      <td>2017-08-18 00:00:00</td>\n      <td>NaN</td>\n      <td>NaT</td>\n    </tr>\n    <tr>\n      <th>8921</th>\n      <td>NaT</td>\n      <td>DOG</td>\n      <td>NaN</td>\n      <td>NaN</td>\n      <td>NaN</td>\n      <td>NaN</td>\n      <td>NaN</td>\n      <td>40206</td>\n      <td>NaN</td>\n      <td>NaN</td>\n      <td>NaT</td>\n      <td>NaN</td>\n      <td>NaN</td>\n      <td>NaN</td>\n      <td>NaN</td>\n      <td>NaT</td>\n    </tr>\n    <tr>\n      <th>8924</th>\n      <td>NaT</td>\n      <td>BAT</td>\n      <td>NaN</td>\n      <td>NaN</td>\n      <td>NaN</td>\n      <td>NaN</td>\n      <td>NaN</td>\n      <td>40291</td>\n      <td>YES</td>\n      <td>NaN</td>\n      <td>NaT</td>\n      <td>NaN</td>\n      <td>NaN</td>\n      <td>NaN</td>\n      <td>NaN</td>\n      <td>NaT</td>\n    </tr>\n    <tr>\n      <th>8925</th>\n      <td>NaT</td>\n      <td>BAT</td>\n      <td>NaN</td>\n      <td>NaN</td>\n      <td>NaN</td>\n      <td>NaN</td>\n      <td>NaN</td>\n      <td>40291</td>\n      <td>YES</td>\n      <td>NaN</td>\n      <td>NaT</td>\n      <td>NaN</td>\n      <td>NaN</td>\n      <td>NaN</td>\n      <td>NaN</td>\n      <td>NaT</td>\n    </tr>\n    <tr>\n      <th>8928</th>\n      <td>NaT</td>\n      <td>DOG</td>\n      <td>NaN</td>\n      <td>NaN</td>\n      <td>NaN</td>\n      <td>NaN</td>\n      <td>NaN</td>\n      <td>40242</td>\n      <td>NaN</td>\n      <td>NaN</td>\n      <td>NaT</td>\n      <td>NaN</td>\n      <td>NaN</td>\n      <td>NaN</td>\n      <td>NaN</td>\n      <td>NaT</td>\n    </tr>\n  </tbody>\n</table>\n<p>127 rows × 16 columns</p>\n</div>"
     },
     "execution_count": 30,
     "metadata": {},
     "output_type": "execute_result"
    }
   ],
   "source": [
    "# now we can check the rest of rows that have null data in both column\n",
    "columnsInCount = ['bite_date','head_sent_date']\n",
    "check_null_values(preprocessed_data,columnsInCount)"
   ],
   "metadata": {
    "collapsed": false,
    "ExecuteTime": {
     "end_time": "2024-01-16T17:44:38.702211700Z",
     "start_time": "2024-01-16T17:44:38.601632900Z"
    }
   },
   "id": "bb740efb29a9962d"
  },
  {
   "cell_type": "markdown",
   "source": [
    "## Second, to edit 'bite_date' column, let's use 'head_sent_date' column"
   ],
   "metadata": {
    "collapsed": false
   },
   "id": "bf79b7c8ae724119"
  },
  {
   "cell_type": "code",
   "execution_count": 31,
   "outputs": [
    {
     "ename": "TypeError",
     "evalue": "cannot subtract DatetimeArray from ndarray",
     "output_type": "error",
     "traceback": [
      "\u001B[1;31m---------------------------------------------------------------------------\u001B[0m",
      "\u001B[1;31mTypeError\u001B[0m                                 Traceback (most recent call last)",
      "Cell \u001B[1;32mIn[31], line 2\u001B[0m\n\u001B[0;32m      1\u001B[0m \u001B[38;5;66;03m# before filling rest of null date in bite_date and quarantine_date column, let's check the difference and average date between head_sent_date and bite_date\u001B[39;00m\n\u001B[1;32m----> 2\u001B[0m \u001B[43mget_difference_between_columns\u001B[49m\u001B[43m(\u001B[49m\u001B[43mpreprocessed_data\u001B[49m\u001B[43m,\u001B[49m\u001B[38;5;124;43m'\u001B[39;49m\u001B[38;5;124;43mdiffernceOfBiteAndHeadSent\u001B[39;49m\u001B[38;5;124;43m'\u001B[39;49m\u001B[43m,\u001B[49m\u001B[38;5;124;43m'\u001B[39;49m\u001B[38;5;124;43mhead_sent_date\u001B[39;49m\u001B[38;5;124;43m'\u001B[39;49m\u001B[43m,\u001B[49m\u001B[38;5;124;43m'\u001B[39;49m\u001B[38;5;124;43mbite_date\u001B[39;49m\u001B[38;5;124;43m'\u001B[39;49m\u001B[43m)\u001B[49m\n",
      "Cell \u001B[1;32mIn[7], line 16\u001B[0m, in \u001B[0;36mget_difference_between_columns\u001B[1;34m(dataframe, newColumnNam, columnName1, columnName2)\u001B[0m\n\u001B[0;32m     15\u001B[0m \u001B[38;5;28;01mdef\u001B[39;00m \u001B[38;5;21mget_difference_between_columns\u001B[39m(dataframe,newColumnNam, columnName1, columnName2):\n\u001B[1;32m---> 16\u001B[0m     dataframe[newColumnNam] \u001B[38;5;241m=\u001B[39m \u001B[43mdataframe\u001B[49m\u001B[43m[\u001B[49m\u001B[43mcolumnName1\u001B[49m\u001B[43m]\u001B[49m\u001B[43m \u001B[49m\u001B[38;5;241;43m-\u001B[39;49m\u001B[43m \u001B[49m\u001B[43mdataframe\u001B[49m\u001B[43m[\u001B[49m\u001B[43mcolumnName2\u001B[49m\u001B[43m]\u001B[49m\n\u001B[0;32m     18\u001B[0m     \u001B[38;5;28;01mreturn\u001B[39;00m dataframe[newColumnNam]\n",
      "File \u001B[1;32m~\\AppData\\Local\\Programs\\Python\\Python311\\Lib\\site-packages\\pandas\\core\\ops\\common.py:76\u001B[0m, in \u001B[0;36m_unpack_zerodim_and_defer.<locals>.new_method\u001B[1;34m(self, other)\u001B[0m\n\u001B[0;32m     72\u001B[0m             \u001B[38;5;28;01mreturn\u001B[39;00m \u001B[38;5;28mNotImplemented\u001B[39m\n\u001B[0;32m     74\u001B[0m other \u001B[38;5;241m=\u001B[39m item_from_zerodim(other)\n\u001B[1;32m---> 76\u001B[0m \u001B[38;5;28;01mreturn\u001B[39;00m \u001B[43mmethod\u001B[49m\u001B[43m(\u001B[49m\u001B[38;5;28;43mself\u001B[39;49m\u001B[43m,\u001B[49m\u001B[43m \u001B[49m\u001B[43mother\u001B[49m\u001B[43m)\u001B[49m\n",
      "File \u001B[1;32m~\\AppData\\Local\\Programs\\Python\\Python311\\Lib\\site-packages\\pandas\\core\\arraylike.py:194\u001B[0m, in \u001B[0;36mOpsMixin.__sub__\u001B[1;34m(self, other)\u001B[0m\n\u001B[0;32m    192\u001B[0m \u001B[38;5;129m@unpack_zerodim_and_defer\u001B[39m(\u001B[38;5;124m\"\u001B[39m\u001B[38;5;124m__sub__\u001B[39m\u001B[38;5;124m\"\u001B[39m)\n\u001B[0;32m    193\u001B[0m \u001B[38;5;28;01mdef\u001B[39;00m \u001B[38;5;21m__sub__\u001B[39m(\u001B[38;5;28mself\u001B[39m, other):\n\u001B[1;32m--> 194\u001B[0m     \u001B[38;5;28;01mreturn\u001B[39;00m \u001B[38;5;28;43mself\u001B[39;49m\u001B[38;5;241;43m.\u001B[39;49m\u001B[43m_arith_method\u001B[49m\u001B[43m(\u001B[49m\u001B[43mother\u001B[49m\u001B[43m,\u001B[49m\u001B[43m \u001B[49m\u001B[43moperator\u001B[49m\u001B[38;5;241;43m.\u001B[39;49m\u001B[43msub\u001B[49m\u001B[43m)\u001B[49m\n",
      "File \u001B[1;32m~\\AppData\\Local\\Programs\\Python\\Python311\\Lib\\site-packages\\pandas\\core\\series.py:5820\u001B[0m, in \u001B[0;36mSeries._arith_method\u001B[1;34m(self, other, op)\u001B[0m\n\u001B[0;32m   5818\u001B[0m \u001B[38;5;28;01mdef\u001B[39;00m \u001B[38;5;21m_arith_method\u001B[39m(\u001B[38;5;28mself\u001B[39m, other, op):\n\u001B[0;32m   5819\u001B[0m     \u001B[38;5;28mself\u001B[39m, other \u001B[38;5;241m=\u001B[39m \u001B[38;5;28mself\u001B[39m\u001B[38;5;241m.\u001B[39m_align_for_op(other)\n\u001B[1;32m-> 5820\u001B[0m     \u001B[38;5;28;01mreturn\u001B[39;00m \u001B[43mbase\u001B[49m\u001B[38;5;241;43m.\u001B[39;49m\u001B[43mIndexOpsMixin\u001B[49m\u001B[38;5;241;43m.\u001B[39;49m\u001B[43m_arith_method\u001B[49m\u001B[43m(\u001B[49m\u001B[38;5;28;43mself\u001B[39;49m\u001B[43m,\u001B[49m\u001B[43m \u001B[49m\u001B[43mother\u001B[49m\u001B[43m,\u001B[49m\u001B[43m \u001B[49m\u001B[43mop\u001B[49m\u001B[43m)\u001B[49m\n",
      "File \u001B[1;32m~\\AppData\\Local\\Programs\\Python\\Python311\\Lib\\site-packages\\pandas\\core\\base.py:1381\u001B[0m, in \u001B[0;36mIndexOpsMixin._arith_method\u001B[1;34m(self, other, op)\u001B[0m\n\u001B[0;32m   1378\u001B[0m     rvalues \u001B[38;5;241m=\u001B[39m np\u001B[38;5;241m.\u001B[39marange(rvalues\u001B[38;5;241m.\u001B[39mstart, rvalues\u001B[38;5;241m.\u001B[39mstop, rvalues\u001B[38;5;241m.\u001B[39mstep)\n\u001B[0;32m   1380\u001B[0m \u001B[38;5;28;01mwith\u001B[39;00m np\u001B[38;5;241m.\u001B[39merrstate(\u001B[38;5;28mall\u001B[39m\u001B[38;5;241m=\u001B[39m\u001B[38;5;124m\"\u001B[39m\u001B[38;5;124mignore\u001B[39m\u001B[38;5;124m\"\u001B[39m):\n\u001B[1;32m-> 1381\u001B[0m     result \u001B[38;5;241m=\u001B[39m \u001B[43mops\u001B[49m\u001B[38;5;241;43m.\u001B[39;49m\u001B[43marithmetic_op\u001B[49m\u001B[43m(\u001B[49m\u001B[43mlvalues\u001B[49m\u001B[43m,\u001B[49m\u001B[43m \u001B[49m\u001B[43mrvalues\u001B[49m\u001B[43m,\u001B[49m\u001B[43m \u001B[49m\u001B[43mop\u001B[49m\u001B[43m)\u001B[49m\n\u001B[0;32m   1383\u001B[0m \u001B[38;5;28;01mreturn\u001B[39;00m \u001B[38;5;28mself\u001B[39m\u001B[38;5;241m.\u001B[39m_construct_result(result, name\u001B[38;5;241m=\u001B[39mres_name)\n",
      "File \u001B[1;32m~\\AppData\\Local\\Programs\\Python\\Python311\\Lib\\site-packages\\pandas\\core\\ops\\array_ops.py:275\u001B[0m, in \u001B[0;36marithmetic_op\u001B[1;34m(left, right, op)\u001B[0m\n\u001B[0;32m    262\u001B[0m \u001B[38;5;66;03m# NB: We assume that extract_array and ensure_wrapped_if_datetimelike\u001B[39;00m\n\u001B[0;32m    263\u001B[0m \u001B[38;5;66;03m#  have already been called on `left` and `right`,\u001B[39;00m\n\u001B[0;32m    264\u001B[0m \u001B[38;5;66;03m#  and `maybe_prepare_scalar_for_op` has already been called on `right`\u001B[39;00m\n\u001B[0;32m    265\u001B[0m \u001B[38;5;66;03m# We need to special-case datetime64/timedelta64 dtypes (e.g. because numpy\u001B[39;00m\n\u001B[0;32m    266\u001B[0m \u001B[38;5;66;03m# casts integer dtypes to timedelta64 when operating with timedelta64 - GH#22390)\u001B[39;00m\n\u001B[0;32m    268\u001B[0m \u001B[38;5;28;01mif\u001B[39;00m (\n\u001B[0;32m    269\u001B[0m     should_extension_dispatch(left, right)\n\u001B[0;32m    270\u001B[0m     \u001B[38;5;129;01mor\u001B[39;00m \u001B[38;5;28misinstance\u001B[39m(right, (Timedelta, BaseOffset, Timestamp))\n\u001B[1;32m   (...)\u001B[0m\n\u001B[0;32m    273\u001B[0m     \u001B[38;5;66;03m# Timedelta/Timestamp and other custom scalars are included in the check\u001B[39;00m\n\u001B[0;32m    274\u001B[0m     \u001B[38;5;66;03m# because numexpr will fail on it, see GH#31457\u001B[39;00m\n\u001B[1;32m--> 275\u001B[0m     res_values \u001B[38;5;241m=\u001B[39m \u001B[43mop\u001B[49m\u001B[43m(\u001B[49m\u001B[43mleft\u001B[49m\u001B[43m,\u001B[49m\u001B[43m \u001B[49m\u001B[43mright\u001B[49m\u001B[43m)\u001B[49m\n\u001B[0;32m    276\u001B[0m \u001B[38;5;28;01melse\u001B[39;00m:\n\u001B[0;32m    277\u001B[0m     \u001B[38;5;66;03m# TODO we should handle EAs consistently and move this check before the if/else\u001B[39;00m\n\u001B[0;32m    278\u001B[0m     \u001B[38;5;66;03m# (https://github.com/pandas-dev/pandas/issues/41165)\u001B[39;00m\n\u001B[0;32m    279\u001B[0m     \u001B[38;5;66;03m# error: Argument 2 to \"_bool_arith_check\" has incompatible type\u001B[39;00m\n\u001B[0;32m    280\u001B[0m     \u001B[38;5;66;03m# \"Union[ExtensionArray, ndarray[Any, Any]]\"; expected \"ndarray[Any, Any]\"\u001B[39;00m\n\u001B[0;32m    281\u001B[0m     _bool_arith_check(op, left, right)  \u001B[38;5;66;03m# type: ignore[arg-type]\u001B[39;00m\n",
      "File \u001B[1;32m~\\AppData\\Local\\Programs\\Python\\Python311\\Lib\\site-packages\\pandas\\core\\arrays\\datetimelike.py:2107\u001B[0m, in \u001B[0;36mTimelikeOps.__array_ufunc__\u001B[1;34m(self, ufunc, method, *inputs, **kwargs)\u001B[0m\n\u001B[0;32m   2099\u001B[0m \u001B[38;5;28;01mif\u001B[39;00m (\n\u001B[0;32m   2100\u001B[0m     ufunc \u001B[38;5;129;01min\u001B[39;00m [np\u001B[38;5;241m.\u001B[39misnan, np\u001B[38;5;241m.\u001B[39misinf, np\u001B[38;5;241m.\u001B[39misfinite]\n\u001B[0;32m   2101\u001B[0m     \u001B[38;5;129;01mand\u001B[39;00m \u001B[38;5;28mlen\u001B[39m(inputs) \u001B[38;5;241m==\u001B[39m \u001B[38;5;241m1\u001B[39m\n\u001B[0;32m   2102\u001B[0m     \u001B[38;5;129;01mand\u001B[39;00m inputs[\u001B[38;5;241m0\u001B[39m] \u001B[38;5;129;01mis\u001B[39;00m \u001B[38;5;28mself\u001B[39m\n\u001B[0;32m   2103\u001B[0m ):\n\u001B[0;32m   2104\u001B[0m     \u001B[38;5;66;03m# numpy 1.18 changed isinf and isnan to not raise on dt64/td64\u001B[39;00m\n\u001B[0;32m   2105\u001B[0m     \u001B[38;5;28;01mreturn\u001B[39;00m \u001B[38;5;28mgetattr\u001B[39m(ufunc, method)(\u001B[38;5;28mself\u001B[39m\u001B[38;5;241m.\u001B[39m_ndarray, \u001B[38;5;241m*\u001B[39m\u001B[38;5;241m*\u001B[39mkwargs)\n\u001B[1;32m-> 2107\u001B[0m \u001B[38;5;28;01mreturn\u001B[39;00m \u001B[38;5;28;43msuper\u001B[39;49m\u001B[43m(\u001B[49m\u001B[43m)\u001B[49m\u001B[38;5;241;43m.\u001B[39;49m\u001B[43m__array_ufunc__\u001B[49m\u001B[43m(\u001B[49m\u001B[43mufunc\u001B[49m\u001B[43m,\u001B[49m\u001B[43m \u001B[49m\u001B[43mmethod\u001B[49m\u001B[43m,\u001B[49m\u001B[43m \u001B[49m\u001B[38;5;241;43m*\u001B[39;49m\u001B[43minputs\u001B[49m\u001B[43m,\u001B[49m\u001B[43m \u001B[49m\u001B[38;5;241;43m*\u001B[39;49m\u001B[38;5;241;43m*\u001B[39;49m\u001B[43mkwargs\u001B[49m\u001B[43m)\u001B[49m\n",
      "File \u001B[1;32m~\\AppData\\Local\\Programs\\Python\\Python311\\Lib\\site-packages\\pandas\\core\\arrays\\base.py:2149\u001B[0m, in \u001B[0;36mExtensionArray.__array_ufunc__\u001B[1;34m(self, ufunc, method, *inputs, **kwargs)\u001B[0m\n\u001B[0;32m   2144\u001B[0m \u001B[38;5;28;01mif\u001B[39;00m \u001B[38;5;28many\u001B[39m(\n\u001B[0;32m   2145\u001B[0m     \u001B[38;5;28misinstance\u001B[39m(other, (ABCSeries, ABCIndex, ABCDataFrame)) \u001B[38;5;28;01mfor\u001B[39;00m other \u001B[38;5;129;01min\u001B[39;00m inputs\n\u001B[0;32m   2146\u001B[0m ):\n\u001B[0;32m   2147\u001B[0m     \u001B[38;5;28;01mreturn\u001B[39;00m \u001B[38;5;28mNotImplemented\u001B[39m\n\u001B[1;32m-> 2149\u001B[0m result \u001B[38;5;241m=\u001B[39m \u001B[43marraylike\u001B[49m\u001B[38;5;241;43m.\u001B[39;49m\u001B[43mmaybe_dispatch_ufunc_to_dunder_op\u001B[49m\u001B[43m(\u001B[49m\n\u001B[0;32m   2150\u001B[0m \u001B[43m    \u001B[49m\u001B[38;5;28;43mself\u001B[39;49m\u001B[43m,\u001B[49m\u001B[43m \u001B[49m\u001B[43mufunc\u001B[49m\u001B[43m,\u001B[49m\u001B[43m \u001B[49m\u001B[43mmethod\u001B[49m\u001B[43m,\u001B[49m\u001B[43m \u001B[49m\u001B[38;5;241;43m*\u001B[39;49m\u001B[43minputs\u001B[49m\u001B[43m,\u001B[49m\u001B[43m \u001B[49m\u001B[38;5;241;43m*\u001B[39;49m\u001B[38;5;241;43m*\u001B[39;49m\u001B[43mkwargs\u001B[49m\n\u001B[0;32m   2151\u001B[0m \u001B[43m\u001B[49m\u001B[43m)\u001B[49m\n\u001B[0;32m   2152\u001B[0m \u001B[38;5;28;01mif\u001B[39;00m result \u001B[38;5;129;01mis\u001B[39;00m \u001B[38;5;129;01mnot\u001B[39;00m \u001B[38;5;28mNotImplemented\u001B[39m:\n\u001B[0;32m   2153\u001B[0m     \u001B[38;5;28;01mreturn\u001B[39;00m result\n",
      "File \u001B[1;32mops_dispatch.pyx:113\u001B[0m, in \u001B[0;36mpandas._libs.ops_dispatch.maybe_dispatch_ufunc_to_dunder_op\u001B[1;34m()\u001B[0m\n",
      "File \u001B[1;32m~\\AppData\\Local\\Programs\\Python\\Python311\\Lib\\site-packages\\pandas\\core\\arrays\\datetimelike.py:1460\u001B[0m, in \u001B[0;36mDatetimeLikeArrayMixin.__rsub__\u001B[1;34m(self, other)\u001B[0m\n\u001B[0;32m   1456\u001B[0m     \u001B[38;5;28;01mreturn\u001B[39;00m other \u001B[38;5;241m-\u001B[39m \u001B[38;5;28mself\u001B[39m\n\u001B[0;32m   1457\u001B[0m \u001B[38;5;28;01melif\u001B[39;00m \u001B[38;5;28mself\u001B[39m\u001B[38;5;241m.\u001B[39mdtype\u001B[38;5;241m.\u001B[39mkind \u001B[38;5;241m==\u001B[39m \u001B[38;5;124m\"\u001B[39m\u001B[38;5;124mM\u001B[39m\u001B[38;5;124m\"\u001B[39m \u001B[38;5;129;01mand\u001B[39;00m \u001B[38;5;28mhasattr\u001B[39m(other, \u001B[38;5;124m\"\u001B[39m\u001B[38;5;124mdtype\u001B[39m\u001B[38;5;124m\"\u001B[39m) \u001B[38;5;129;01mand\u001B[39;00m \u001B[38;5;129;01mnot\u001B[39;00m other_is_dt64:\n\u001B[0;32m   1458\u001B[0m     \u001B[38;5;66;03m# GH#19959 datetime - datetime is well-defined as timedelta,\u001B[39;00m\n\u001B[0;32m   1459\u001B[0m     \u001B[38;5;66;03m# but any other type - datetime is not well-defined.\u001B[39;00m\n\u001B[1;32m-> 1460\u001B[0m     \u001B[38;5;28;01mraise\u001B[39;00m \u001B[38;5;167;01mTypeError\u001B[39;00m(\n\u001B[0;32m   1461\u001B[0m         \u001B[38;5;124mf\u001B[39m\u001B[38;5;124m\"\u001B[39m\u001B[38;5;124mcannot subtract \u001B[39m\u001B[38;5;132;01m{\u001B[39;00m\u001B[38;5;28mtype\u001B[39m(\u001B[38;5;28mself\u001B[39m)\u001B[38;5;241m.\u001B[39m\u001B[38;5;18m__name__\u001B[39m\u001B[38;5;132;01m}\u001B[39;00m\u001B[38;5;124m from \u001B[39m\u001B[38;5;132;01m{\u001B[39;00m\u001B[38;5;28mtype\u001B[39m(other)\u001B[38;5;241m.\u001B[39m\u001B[38;5;18m__name__\u001B[39m\u001B[38;5;132;01m}\u001B[39;00m\u001B[38;5;124m\"\u001B[39m\n\u001B[0;32m   1462\u001B[0m     )\n\u001B[0;32m   1463\u001B[0m \u001B[38;5;28;01melif\u001B[39;00m \u001B[38;5;28misinstance\u001B[39m(\u001B[38;5;28mself\u001B[39m\u001B[38;5;241m.\u001B[39mdtype, PeriodDtype) \u001B[38;5;129;01mand\u001B[39;00m lib\u001B[38;5;241m.\u001B[39mis_np_dtype(other_dtype, \u001B[38;5;124m\"\u001B[39m\u001B[38;5;124mm\u001B[39m\u001B[38;5;124m\"\u001B[39m):\n\u001B[0;32m   1464\u001B[0m     \u001B[38;5;66;03m# TODO: Can we simplify/generalize these cases at all?\u001B[39;00m\n\u001B[0;32m   1465\u001B[0m     \u001B[38;5;28;01mraise\u001B[39;00m \u001B[38;5;167;01mTypeError\u001B[39;00m(\u001B[38;5;124mf\u001B[39m\u001B[38;5;124m\"\u001B[39m\u001B[38;5;124mcannot subtract \u001B[39m\u001B[38;5;132;01m{\u001B[39;00m\u001B[38;5;28mtype\u001B[39m(\u001B[38;5;28mself\u001B[39m)\u001B[38;5;241m.\u001B[39m\u001B[38;5;18m__name__\u001B[39m\u001B[38;5;132;01m}\u001B[39;00m\u001B[38;5;124m from \u001B[39m\u001B[38;5;132;01m{\u001B[39;00mother\u001B[38;5;241m.\u001B[39mdtype\u001B[38;5;132;01m}\u001B[39;00m\u001B[38;5;124m\"\u001B[39m)\n",
      "\u001B[1;31mTypeError\u001B[0m: cannot subtract DatetimeArray from ndarray"
     ]
    }
   ],
   "source": [
    "# before filling rest of null date in bite_date and quarantine_date column, let's check the difference and average date between head_sent_date and bite_date\n",
    "get_difference_between_columns(preprocessed_data,'differnceOfBiteAndHeadSent','head_sent_date','bite_date')"
   ],
   "metadata": {
    "collapsed": false,
    "ExecuteTime": {
     "end_time": "2024-01-16T17:45:33.754802100Z",
     "start_time": "2024-01-16T17:45:32.784318500Z"
    }
   },
   "id": "cc6ccd4659a728ea"
  },
  {
   "cell_type": "code",
   "execution_count": 32,
   "outputs": [
    {
     "data": {
      "text/plain": "0      NaT\n1      NaT\n2      NaT\n3      NaT\n4      NaT\n        ..\n8995   NaT\n8996   NaT\n8997   NaT\n8998   NaT\n8999   NaT\nName: head_sent_date, Length: 9000, dtype: datetime64[ns]"
     },
     "execution_count": 32,
     "metadata": {},
     "output_type": "execute_result"
    }
   ],
   "source": [
    "# before substract we need to convert head_sent_date column into datetime\n",
    "convert_to_dateTime(preprocessed_data,'head_sent_date')\n"
   ],
   "metadata": {
    "collapsed": false,
    "ExecuteTime": {
     "end_time": "2024-01-16T17:45:39.549071600Z",
     "start_time": "2024-01-16T17:45:39.520867Z"
    }
   },
   "id": "a09bb53b431db999"
  },
  {
   "cell_type": "code",
   "execution_count": 33,
   "outputs": [
    {
     "data": {
      "text/plain": "0      NaT\n1      NaT\n2      NaT\n3      NaT\n4      NaT\n        ..\n8995   NaT\n8996   NaT\n8997   NaT\n8998   NaT\n8999   NaT\nName: differnceOfBiteAndHeadSent, Length: 9000, dtype: timedelta64[ns]"
     },
     "execution_count": 33,
     "metadata": {},
     "output_type": "execute_result"
    }
   ],
   "source": [
    "get_difference_between_columns(preprocessed_data,'differnceOfBiteAndHeadSent','head_sent_date','bite_date')"
   ],
   "metadata": {
    "collapsed": false,
    "ExecuteTime": {
     "end_time": "2024-01-16T17:45:46.838940Z",
     "start_time": "2024-01-16T17:45:46.783390200Z"
    }
   },
   "id": "25c7bd8ee9dbeee8"
  },
  {
   "cell_type": "code",
   "execution_count": 39,
   "outputs": [
    {
     "data": {
      "text/plain": "      bite_date SpeciesIDDesc      BreedIDDesc GenderIDDesc       color  \\\n0    1985-05-05           DOG              NaN       FEMALE  LIG. BROWN   \n1    1986-02-12           DOG              NaN      UNKNOWN   BRO & BLA   \n2    1987-05-07           DOG              NaN      UNKNOWN         NaN   \n3    1988-10-02           DOG              NaN         MALE   BLA & BRO   \n4    1989-08-29           DOG              NaN       FEMALE     BLK-WHT   \n...         ...           ...              ...          ...         ...   \n8995 2017-09-05           DOG              NaN          NaN         NaN   \n8996 2017-09-07           DOG       POMERANIAN         MALE         RED   \n8997 2017-09-07           DOG  LABRADOR RETRIV         MALE       BROWN   \n8998 2017-09-07           DOG  LABRADOR RETRIV       FEMALE     BLK WHT   \n8999 2017-09-07           DOG            BOXER          NaN     BRN BLK   \n\n      vaccination_yrs     vaccination_date victim_zip AdvIssuedYNDesc  \\\n0                 1.0  1985-06-20 00:00:00      40229              NO   \n1                 NaN                  NaN      40218              NO   \n2                 NaN                  NaN      40219              NO   \n3                 NaN                  NaN        NaN              NO   \n4                 NaN                  NaN        NaN              NO   \n...               ...                  ...        ...             ...   \n8995              NaN                  NaN      40243             NaN   \n8996              NaN                  NaN      40204             NaN   \n8997              NaN                  NaN      47130             NaN   \n8998              NaN                  NaN      40229             NaN   \n8999              NaN                  NaN      40229             NaN   \n\n     WhereBittenIDDesc quarantine_date DispositionIDDesc head_sent_date  \\\n0                 BODY      1985-05-05           UNKNOWN            NaT   \n1                 BODY      1986-02-12           UNKNOWN            NaT   \n2                 BODY      1990-05-07           UNKNOWN            NaT   \n3                 BODY      1990-10-02           UNKNOWN            NaT   \n4                 BODY      1989-09-01           UNKNOWN            NaT   \n...                ...             ...               ...            ...   \n8995           UNKNOWN      2017-09-08               NaN            NaT   \n8996              HEAD      2017-09-10               NaN            NaT   \n8997           UNKNOWN      2017-09-10               NaN            NaT   \n8998              BODY      2017-09-10               NaN            NaT   \n8999              BODY      2017-09-10               NaN            NaT   \n\n     release_date ResultsIDDesc DifferenceOfBitedateAndQuarantinedate  \\\n0             NaN       UNKNOWN                                0 days   \n1             NaN       UNKNOWN                                0 days   \n2             NaN       UNKNOWN                             1096 days   \n3             NaN       UNKNOWN                              730 days   \n4             NaN       UNKNOWN                                   NaT   \n...           ...           ...                                   ...   \n8995          NaN           NaN                                   NaT   \n8996          NaN           NaN                                   NaT   \n8997          NaN           NaN                                   NaT   \n8998          NaN           NaN                                   NaT   \n8999          NaN           NaN                                   NaT   \n\n     differnceOfBiteAndHeadSent  \n0                           NaT  \n1                           NaT  \n2                           NaT  \n3                           NaT  \n4                           NaT  \n...                         ...  \n8995                        NaT  \n8996                        NaT  \n8997                        NaT  \n8998                        NaT  \n8999                        NaT  \n\n[9000 rows x 17 columns]",
      "text/html": "<div>\n<style scoped>\n    .dataframe tbody tr th:only-of-type {\n        vertical-align: middle;\n    }\n\n    .dataframe tbody tr th {\n        vertical-align: top;\n    }\n\n    .dataframe thead th {\n        text-align: right;\n    }\n</style>\n<table border=\"1\" class=\"dataframe\">\n  <thead>\n    <tr style=\"text-align: right;\">\n      <th></th>\n      <th>bite_date</th>\n      <th>SpeciesIDDesc</th>\n      <th>BreedIDDesc</th>\n      <th>GenderIDDesc</th>\n      <th>color</th>\n      <th>vaccination_yrs</th>\n      <th>vaccination_date</th>\n      <th>victim_zip</th>\n      <th>AdvIssuedYNDesc</th>\n      <th>WhereBittenIDDesc</th>\n      <th>quarantine_date</th>\n      <th>DispositionIDDesc</th>\n      <th>head_sent_date</th>\n      <th>release_date</th>\n      <th>ResultsIDDesc</th>\n      <th>DifferenceOfBitedateAndQuarantinedate</th>\n      <th>differnceOfBiteAndHeadSent</th>\n    </tr>\n  </thead>\n  <tbody>\n    <tr>\n      <th>0</th>\n      <td>1985-05-05</td>\n      <td>DOG</td>\n      <td>NaN</td>\n      <td>FEMALE</td>\n      <td>LIG. BROWN</td>\n      <td>1.0</td>\n      <td>1985-06-20 00:00:00</td>\n      <td>40229</td>\n      <td>NO</td>\n      <td>BODY</td>\n      <td>1985-05-05</td>\n      <td>UNKNOWN</td>\n      <td>NaT</td>\n      <td>NaN</td>\n      <td>UNKNOWN</td>\n      <td>0 days</td>\n      <td>NaT</td>\n    </tr>\n    <tr>\n      <th>1</th>\n      <td>1986-02-12</td>\n      <td>DOG</td>\n      <td>NaN</td>\n      <td>UNKNOWN</td>\n      <td>BRO &amp; BLA</td>\n      <td>NaN</td>\n      <td>NaN</td>\n      <td>40218</td>\n      <td>NO</td>\n      <td>BODY</td>\n      <td>1986-02-12</td>\n      <td>UNKNOWN</td>\n      <td>NaT</td>\n      <td>NaN</td>\n      <td>UNKNOWN</td>\n      <td>0 days</td>\n      <td>NaT</td>\n    </tr>\n    <tr>\n      <th>2</th>\n      <td>1987-05-07</td>\n      <td>DOG</td>\n      <td>NaN</td>\n      <td>UNKNOWN</td>\n      <td>NaN</td>\n      <td>NaN</td>\n      <td>NaN</td>\n      <td>40219</td>\n      <td>NO</td>\n      <td>BODY</td>\n      <td>1990-05-07</td>\n      <td>UNKNOWN</td>\n      <td>NaT</td>\n      <td>NaN</td>\n      <td>UNKNOWN</td>\n      <td>1096 days</td>\n      <td>NaT</td>\n    </tr>\n    <tr>\n      <th>3</th>\n      <td>1988-10-02</td>\n      <td>DOG</td>\n      <td>NaN</td>\n      <td>MALE</td>\n      <td>BLA &amp; BRO</td>\n      <td>NaN</td>\n      <td>NaN</td>\n      <td>NaN</td>\n      <td>NO</td>\n      <td>BODY</td>\n      <td>1990-10-02</td>\n      <td>UNKNOWN</td>\n      <td>NaT</td>\n      <td>NaN</td>\n      <td>UNKNOWN</td>\n      <td>730 days</td>\n      <td>NaT</td>\n    </tr>\n    <tr>\n      <th>4</th>\n      <td>1989-08-29</td>\n      <td>DOG</td>\n      <td>NaN</td>\n      <td>FEMALE</td>\n      <td>BLK-WHT</td>\n      <td>NaN</td>\n      <td>NaN</td>\n      <td>NaN</td>\n      <td>NO</td>\n      <td>BODY</td>\n      <td>1989-09-01</td>\n      <td>UNKNOWN</td>\n      <td>NaT</td>\n      <td>NaN</td>\n      <td>UNKNOWN</td>\n      <td>NaT</td>\n      <td>NaT</td>\n    </tr>\n    <tr>\n      <th>...</th>\n      <td>...</td>\n      <td>...</td>\n      <td>...</td>\n      <td>...</td>\n      <td>...</td>\n      <td>...</td>\n      <td>...</td>\n      <td>...</td>\n      <td>...</td>\n      <td>...</td>\n      <td>...</td>\n      <td>...</td>\n      <td>...</td>\n      <td>...</td>\n      <td>...</td>\n      <td>...</td>\n      <td>...</td>\n    </tr>\n    <tr>\n      <th>8995</th>\n      <td>2017-09-05</td>\n      <td>DOG</td>\n      <td>NaN</td>\n      <td>NaN</td>\n      <td>NaN</td>\n      <td>NaN</td>\n      <td>NaN</td>\n      <td>40243</td>\n      <td>NaN</td>\n      <td>UNKNOWN</td>\n      <td>2017-09-08</td>\n      <td>NaN</td>\n      <td>NaT</td>\n      <td>NaN</td>\n      <td>NaN</td>\n      <td>NaT</td>\n      <td>NaT</td>\n    </tr>\n    <tr>\n      <th>8996</th>\n      <td>2017-09-07</td>\n      <td>DOG</td>\n      <td>POMERANIAN</td>\n      <td>MALE</td>\n      <td>RED</td>\n      <td>NaN</td>\n      <td>NaN</td>\n      <td>40204</td>\n      <td>NaN</td>\n      <td>HEAD</td>\n      <td>2017-09-10</td>\n      <td>NaN</td>\n      <td>NaT</td>\n      <td>NaN</td>\n      <td>NaN</td>\n      <td>NaT</td>\n      <td>NaT</td>\n    </tr>\n    <tr>\n      <th>8997</th>\n      <td>2017-09-07</td>\n      <td>DOG</td>\n      <td>LABRADOR RETRIV</td>\n      <td>MALE</td>\n      <td>BROWN</td>\n      <td>NaN</td>\n      <td>NaN</td>\n      <td>47130</td>\n      <td>NaN</td>\n      <td>UNKNOWN</td>\n      <td>2017-09-10</td>\n      <td>NaN</td>\n      <td>NaT</td>\n      <td>NaN</td>\n      <td>NaN</td>\n      <td>NaT</td>\n      <td>NaT</td>\n    </tr>\n    <tr>\n      <th>8998</th>\n      <td>2017-09-07</td>\n      <td>DOG</td>\n      <td>LABRADOR RETRIV</td>\n      <td>FEMALE</td>\n      <td>BLK WHT</td>\n      <td>NaN</td>\n      <td>NaN</td>\n      <td>40229</td>\n      <td>NaN</td>\n      <td>BODY</td>\n      <td>2017-09-10</td>\n      <td>NaN</td>\n      <td>NaT</td>\n      <td>NaN</td>\n      <td>NaN</td>\n      <td>NaT</td>\n      <td>NaT</td>\n    </tr>\n    <tr>\n      <th>8999</th>\n      <td>2017-09-07</td>\n      <td>DOG</td>\n      <td>BOXER</td>\n      <td>NaN</td>\n      <td>BRN BLK</td>\n      <td>NaN</td>\n      <td>NaN</td>\n      <td>40229</td>\n      <td>NaN</td>\n      <td>BODY</td>\n      <td>2017-09-10</td>\n      <td>NaN</td>\n      <td>NaT</td>\n      <td>NaN</td>\n      <td>NaN</td>\n      <td>NaT</td>\n      <td>NaT</td>\n    </tr>\n  </tbody>\n</table>\n<p>9000 rows × 17 columns</p>\n</div>"
     },
     "execution_count": 39,
     "metadata": {},
     "output_type": "execute_result"
    }
   ],
   "source": [
    "preprocessed_data"
   ],
   "metadata": {
    "collapsed": false,
    "ExecuteTime": {
     "end_time": "2024-01-16T17:47:07.534883800Z",
     "start_time": "2024-01-16T17:47:07.448054500Z"
    }
   },
   "id": "6dbb3efacdff0ebd"
  },
  {
   "cell_type": "code",
   "execution_count": 35,
   "outputs": [
    {
     "data": {
      "text/plain": "Timedelta('7 days 22:22:15.746606334')"
     },
     "execution_count": 35,
     "metadata": {},
     "output_type": "execute_result"
    }
   ],
   "source": [
    "# get average of DiffernceOfBiteAndHeadSent\n",
    "get_average(preprocessed_data,'differnceOfBiteAndHeadSent')"
   ],
   "metadata": {
    "collapsed": false,
    "ExecuteTime": {
     "end_time": "2024-01-16T17:46:06.359909200Z",
     "start_time": "2024-01-16T17:46:06.339978900Z"
    }
   },
   "id": "37f097e1449e54e7"
  },
  {
   "cell_type": "code",
   "execution_count": 36,
   "outputs": [
    {
     "data": {
      "text/plain": "     bite_date SpeciesIDDesc    BreedIDDesc GenderIDDesc    color  \\\n1686       NaT           CAT            NaN          NaN      NaN   \n1687       NaT           CAT            NaN          NaN      NaN   \n1689       NaT           NaN            NaN          NaN      NaN   \n1847       NaT           CAT            NaN          NaN      NaN   \n1855       NaT           BAT            NaN          NaN      NaN   \n...        ...           ...            ...          ...      ...   \n8899       NaT           DOG  BORDER COLLIE         MALE  BLK WHT   \n8921       NaT           DOG            NaN          NaN      NaN   \n8924       NaT           BAT            NaN          NaN      NaN   \n8925       NaT           BAT            NaN          NaN      NaN   \n8928       NaT           DOG            NaN          NaN      NaN   \n\n      vaccination_yrs     vaccination_date victim_zip AdvIssuedYNDesc  \\\n1686              NaN                  NaN        NaN             NaN   \n1687              NaN                  NaN        NaN             NaN   \n1689              NaN                  NaN        NaN             NaN   \n1847              NaN                  NaN        NaN             NaN   \n1855              NaN                  NaN        NaN             NaN   \n...               ...                  ...        ...             ...   \n8899              1.0  2017-07-18 00:00:00        NaN             NaN   \n8921              NaN                  NaN      40206             NaN   \n8924              NaN                  NaN      40291             YES   \n8925              NaN                  NaN      40291             YES   \n8928              NaN                  NaN      40242             NaN   \n\n     WhereBittenIDDesc quarantine_date DispositionIDDesc head_sent_date  \\\n1686               NaN             NaT               NaN            NaT   \n1687               NaN             NaT               NaN            NaT   \n1689               NaN             NaT               NaN            NaT   \n1847               NaN             NaT               NaN            NaT   \n1855               NaN             NaT               NaN            NaT   \n...                ...             ...               ...            ...   \n8899               NaN             NaT               NaN            NaT   \n8921               NaN             NaT               NaN            NaT   \n8924               NaN             NaT               NaN            NaT   \n8925               NaN             NaT               NaN            NaT   \n8928               NaN             NaT               NaN            NaT   \n\n             release_date ResultsIDDesc DifferenceOfBitedateAndQuarantinedate  \\\n1686                  NaN           NaN                                   NaT   \n1687                  NaN           NaN                                   NaT   \n1689                  NaN           NaN                                   NaT   \n1847                  NaN           NaN                                   NaT   \n1855                  NaN           NaN                                   NaT   \n...                   ...           ...                                   ...   \n8899  2017-08-18 00:00:00           NaN                                   NaT   \n8921                  NaN           NaN                                   NaT   \n8924                  NaN           NaN                                   NaT   \n8925                  NaN           NaN                                   NaT   \n8928                  NaN           NaN                                   NaT   \n\n     differnceOfBiteAndHeadSent  \n1686                        NaT  \n1687                        NaT  \n1689                        NaT  \n1847                        NaT  \n1855                        NaT  \n...                         ...  \n8899                        NaT  \n8921                        NaT  \n8924                        NaT  \n8925                        NaT  \n8928                        NaT  \n\n[127 rows x 17 columns]",
      "text/html": "<div>\n<style scoped>\n    .dataframe tbody tr th:only-of-type {\n        vertical-align: middle;\n    }\n\n    .dataframe tbody tr th {\n        vertical-align: top;\n    }\n\n    .dataframe thead th {\n        text-align: right;\n    }\n</style>\n<table border=\"1\" class=\"dataframe\">\n  <thead>\n    <tr style=\"text-align: right;\">\n      <th></th>\n      <th>bite_date</th>\n      <th>SpeciesIDDesc</th>\n      <th>BreedIDDesc</th>\n      <th>GenderIDDesc</th>\n      <th>color</th>\n      <th>vaccination_yrs</th>\n      <th>vaccination_date</th>\n      <th>victim_zip</th>\n      <th>AdvIssuedYNDesc</th>\n      <th>WhereBittenIDDesc</th>\n      <th>quarantine_date</th>\n      <th>DispositionIDDesc</th>\n      <th>head_sent_date</th>\n      <th>release_date</th>\n      <th>ResultsIDDesc</th>\n      <th>DifferenceOfBitedateAndQuarantinedate</th>\n      <th>differnceOfBiteAndHeadSent</th>\n    </tr>\n  </thead>\n  <tbody>\n    <tr>\n      <th>1686</th>\n      <td>NaT</td>\n      <td>CAT</td>\n      <td>NaN</td>\n      <td>NaN</td>\n      <td>NaN</td>\n      <td>NaN</td>\n      <td>NaN</td>\n      <td>NaN</td>\n      <td>NaN</td>\n      <td>NaN</td>\n      <td>NaT</td>\n      <td>NaN</td>\n      <td>NaT</td>\n      <td>NaN</td>\n      <td>NaN</td>\n      <td>NaT</td>\n      <td>NaT</td>\n    </tr>\n    <tr>\n      <th>1687</th>\n      <td>NaT</td>\n      <td>CAT</td>\n      <td>NaN</td>\n      <td>NaN</td>\n      <td>NaN</td>\n      <td>NaN</td>\n      <td>NaN</td>\n      <td>NaN</td>\n      <td>NaN</td>\n      <td>NaN</td>\n      <td>NaT</td>\n      <td>NaN</td>\n      <td>NaT</td>\n      <td>NaN</td>\n      <td>NaN</td>\n      <td>NaT</td>\n      <td>NaT</td>\n    </tr>\n    <tr>\n      <th>1689</th>\n      <td>NaT</td>\n      <td>NaN</td>\n      <td>NaN</td>\n      <td>NaN</td>\n      <td>NaN</td>\n      <td>NaN</td>\n      <td>NaN</td>\n      <td>NaN</td>\n      <td>NaN</td>\n      <td>NaN</td>\n      <td>NaT</td>\n      <td>NaN</td>\n      <td>NaT</td>\n      <td>NaN</td>\n      <td>NaN</td>\n      <td>NaT</td>\n      <td>NaT</td>\n    </tr>\n    <tr>\n      <th>1847</th>\n      <td>NaT</td>\n      <td>CAT</td>\n      <td>NaN</td>\n      <td>NaN</td>\n      <td>NaN</td>\n      <td>NaN</td>\n      <td>NaN</td>\n      <td>NaN</td>\n      <td>NaN</td>\n      <td>NaN</td>\n      <td>NaT</td>\n      <td>NaN</td>\n      <td>NaT</td>\n      <td>NaN</td>\n      <td>NaN</td>\n      <td>NaT</td>\n      <td>NaT</td>\n    </tr>\n    <tr>\n      <th>1855</th>\n      <td>NaT</td>\n      <td>BAT</td>\n      <td>NaN</td>\n      <td>NaN</td>\n      <td>NaN</td>\n      <td>NaN</td>\n      <td>NaN</td>\n      <td>NaN</td>\n      <td>NaN</td>\n      <td>NaN</td>\n      <td>NaT</td>\n      <td>NaN</td>\n      <td>NaT</td>\n      <td>NaN</td>\n      <td>NaN</td>\n      <td>NaT</td>\n      <td>NaT</td>\n    </tr>\n    <tr>\n      <th>...</th>\n      <td>...</td>\n      <td>...</td>\n      <td>...</td>\n      <td>...</td>\n      <td>...</td>\n      <td>...</td>\n      <td>...</td>\n      <td>...</td>\n      <td>...</td>\n      <td>...</td>\n      <td>...</td>\n      <td>...</td>\n      <td>...</td>\n      <td>...</td>\n      <td>...</td>\n      <td>...</td>\n      <td>...</td>\n    </tr>\n    <tr>\n      <th>8899</th>\n      <td>NaT</td>\n      <td>DOG</td>\n      <td>BORDER COLLIE</td>\n      <td>MALE</td>\n      <td>BLK WHT</td>\n      <td>1.0</td>\n      <td>2017-07-18 00:00:00</td>\n      <td>NaN</td>\n      <td>NaN</td>\n      <td>NaN</td>\n      <td>NaT</td>\n      <td>NaN</td>\n      <td>NaT</td>\n      <td>2017-08-18 00:00:00</td>\n      <td>NaN</td>\n      <td>NaT</td>\n      <td>NaT</td>\n    </tr>\n    <tr>\n      <th>8921</th>\n      <td>NaT</td>\n      <td>DOG</td>\n      <td>NaN</td>\n      <td>NaN</td>\n      <td>NaN</td>\n      <td>NaN</td>\n      <td>NaN</td>\n      <td>40206</td>\n      <td>NaN</td>\n      <td>NaN</td>\n      <td>NaT</td>\n      <td>NaN</td>\n      <td>NaT</td>\n      <td>NaN</td>\n      <td>NaN</td>\n      <td>NaT</td>\n      <td>NaT</td>\n    </tr>\n    <tr>\n      <th>8924</th>\n      <td>NaT</td>\n      <td>BAT</td>\n      <td>NaN</td>\n      <td>NaN</td>\n      <td>NaN</td>\n      <td>NaN</td>\n      <td>NaN</td>\n      <td>40291</td>\n      <td>YES</td>\n      <td>NaN</td>\n      <td>NaT</td>\n      <td>NaN</td>\n      <td>NaT</td>\n      <td>NaN</td>\n      <td>NaN</td>\n      <td>NaT</td>\n      <td>NaT</td>\n    </tr>\n    <tr>\n      <th>8925</th>\n      <td>NaT</td>\n      <td>BAT</td>\n      <td>NaN</td>\n      <td>NaN</td>\n      <td>NaN</td>\n      <td>NaN</td>\n      <td>NaN</td>\n      <td>40291</td>\n      <td>YES</td>\n      <td>NaN</td>\n      <td>NaT</td>\n      <td>NaN</td>\n      <td>NaT</td>\n      <td>NaN</td>\n      <td>NaN</td>\n      <td>NaT</td>\n      <td>NaT</td>\n    </tr>\n    <tr>\n      <th>8928</th>\n      <td>NaT</td>\n      <td>DOG</td>\n      <td>NaN</td>\n      <td>NaN</td>\n      <td>NaN</td>\n      <td>NaN</td>\n      <td>NaN</td>\n      <td>40242</td>\n      <td>NaN</td>\n      <td>NaN</td>\n      <td>NaT</td>\n      <td>NaN</td>\n      <td>NaT</td>\n      <td>NaN</td>\n      <td>NaN</td>\n      <td>NaT</td>\n      <td>NaT</td>\n    </tr>\n  </tbody>\n</table>\n<p>127 rows × 17 columns</p>\n</div>"
     },
     "execution_count": 36,
     "metadata": {},
     "output_type": "execute_result"
    }
   ],
   "source": [
    "# now let's check that have null value in head_sent_date column.\n",
    "columnsInCount = ['bite_date','head_sent_date']\n",
    "check_null_values(preprocessed_data,columnsInCount)"
   ],
   "metadata": {
    "collapsed": false,
    "ExecuteTime": {
     "end_time": "2024-01-16T17:46:22.619515500Z",
     "start_time": "2024-01-16T17:46:22.509345600Z"
    }
   },
   "id": "39bd48b75854f36f"
  },
  {
   "cell_type": "code",
   "execution_count": 37,
   "outputs": [
    {
     "data": {
      "text/plain": "      bite_date SpeciesIDDesc      BreedIDDesc GenderIDDesc      color  \\\n1405 2014-03-24           DOG         PIT BULL          NaN      WHITE   \n1432 2015-06-23           DOG         PIT BULL       FEMALE    BRINDLE   \n1434 2015-07-14           DOG         PIT BULL       FEMALE  BLUE WHIT   \n1488 2016-12-06           CAT              NaN          NaN        NaN   \n1501 2017-05-14           DOG           MASTIF         MALE        NaN   \n...         ...           ...              ...          ...        ...   \n8995 2017-09-05           DOG              NaN          NaN        NaN   \n8996 2017-09-07           DOG       POMERANIAN         MALE        RED   \n8997 2017-09-07           DOG  LABRADOR RETRIV         MALE      BROWN   \n8998 2017-09-07           DOG  LABRADOR RETRIV       FEMALE    BLK WHT   \n8999 2017-09-07           DOG            BOXER          NaN    BRN BLK   \n\n      vaccination_yrs     vaccination_date victim_zip AdvIssuedYNDesc  \\\n1405              NaN                  NaN      40205             NaN   \n1432              NaN                  NaN      40215             NaN   \n1434              NaN                  NaN      40219             NaN   \n1488              NaN                  NaN        NaN             NaN   \n1501              3.0  2017-02-04 00:00:00      40241             NaN   \n...               ...                  ...        ...             ...   \n8995              NaN                  NaN      40243             NaN   \n8996              NaN                  NaN      40204             NaN   \n8997              NaN                  NaN      47130             NaN   \n8998              NaN                  NaN      40229             NaN   \n8999              NaN                  NaN      40229             NaN   \n\n     WhereBittenIDDesc quarantine_date DispositionIDDesc head_sent_date  \\\n1405              BODY      2014-03-27               NaN     2017-03-24   \n1432              BODY      2015-06-26               NaN     2016-06-26   \n1434              BODY      2015-07-17               NaN     2015-07-24   \n1488              BODY      2016-12-09               NaN     2016-12-16   \n1501              BODY      2017-05-17               NaN     2017-05-24   \n...                ...             ...               ...            ...   \n8995           UNKNOWN      2017-09-08               NaN            NaT   \n8996              HEAD      2017-09-10               NaN            NaT   \n8997           UNKNOWN      2017-09-10               NaN            NaT   \n8998              BODY      2017-09-10               NaN            NaT   \n8999              BODY      2017-09-10               NaN            NaT   \n\n     release_date ResultsIDDesc DifferenceOfBitedateAndQuarantinedate  \\\n1405          NaN      NEGATIVE                                   NaT   \n1432          NaN      NEGATIVE                                   NaT   \n1434          NaN           NaN                                   NaT   \n1488          NaN      NEGATIVE                                   NaT   \n1501          NaN      NEGATIVE                                   NaT   \n...           ...           ...                                   ...   \n8995          NaN           NaN                                   NaT   \n8996          NaN           NaN                                   NaT   \n8997          NaN           NaN                                   NaT   \n8998          NaN           NaN                                   NaT   \n8999          NaN           NaN                                   NaT   \n\n     differnceOfBiteAndHeadSent  \n1405                  1096 days  \n1432                   369 days  \n1434                    10 days  \n1488                    10 days  \n1501                    10 days  \n...                         ...  \n8995                        NaT  \n8996                        NaT  \n8997                        NaT  \n8998                        NaT  \n8999                        NaT  \n\n[9000 rows x 17 columns]",
      "text/html": "<div>\n<style scoped>\n    .dataframe tbody tr th:only-of-type {\n        vertical-align: middle;\n    }\n\n    .dataframe tbody tr th {\n        vertical-align: top;\n    }\n\n    .dataframe thead th {\n        text-align: right;\n    }\n</style>\n<table border=\"1\" class=\"dataframe\">\n  <thead>\n    <tr style=\"text-align: right;\">\n      <th></th>\n      <th>bite_date</th>\n      <th>SpeciesIDDesc</th>\n      <th>BreedIDDesc</th>\n      <th>GenderIDDesc</th>\n      <th>color</th>\n      <th>vaccination_yrs</th>\n      <th>vaccination_date</th>\n      <th>victim_zip</th>\n      <th>AdvIssuedYNDesc</th>\n      <th>WhereBittenIDDesc</th>\n      <th>quarantine_date</th>\n      <th>DispositionIDDesc</th>\n      <th>head_sent_date</th>\n      <th>release_date</th>\n      <th>ResultsIDDesc</th>\n      <th>DifferenceOfBitedateAndQuarantinedate</th>\n      <th>differnceOfBiteAndHeadSent</th>\n    </tr>\n  </thead>\n  <tbody>\n    <tr>\n      <th>1405</th>\n      <td>2014-03-24</td>\n      <td>DOG</td>\n      <td>PIT BULL</td>\n      <td>NaN</td>\n      <td>WHITE</td>\n      <td>NaN</td>\n      <td>NaN</td>\n      <td>40205</td>\n      <td>NaN</td>\n      <td>BODY</td>\n      <td>2014-03-27</td>\n      <td>NaN</td>\n      <td>2017-03-24</td>\n      <td>NaN</td>\n      <td>NEGATIVE</td>\n      <td>NaT</td>\n      <td>1096 days</td>\n    </tr>\n    <tr>\n      <th>1432</th>\n      <td>2015-06-23</td>\n      <td>DOG</td>\n      <td>PIT BULL</td>\n      <td>FEMALE</td>\n      <td>BRINDLE</td>\n      <td>NaN</td>\n      <td>NaN</td>\n      <td>40215</td>\n      <td>NaN</td>\n      <td>BODY</td>\n      <td>2015-06-26</td>\n      <td>NaN</td>\n      <td>2016-06-26</td>\n      <td>NaN</td>\n      <td>NEGATIVE</td>\n      <td>NaT</td>\n      <td>369 days</td>\n    </tr>\n    <tr>\n      <th>1434</th>\n      <td>2015-07-14</td>\n      <td>DOG</td>\n      <td>PIT BULL</td>\n      <td>FEMALE</td>\n      <td>BLUE WHIT</td>\n      <td>NaN</td>\n      <td>NaN</td>\n      <td>40219</td>\n      <td>NaN</td>\n      <td>BODY</td>\n      <td>2015-07-17</td>\n      <td>NaN</td>\n      <td>2015-07-24</td>\n      <td>NaN</td>\n      <td>NaN</td>\n      <td>NaT</td>\n      <td>10 days</td>\n    </tr>\n    <tr>\n      <th>1488</th>\n      <td>2016-12-06</td>\n      <td>CAT</td>\n      <td>NaN</td>\n      <td>NaN</td>\n      <td>NaN</td>\n      <td>NaN</td>\n      <td>NaN</td>\n      <td>NaN</td>\n      <td>NaN</td>\n      <td>BODY</td>\n      <td>2016-12-09</td>\n      <td>NaN</td>\n      <td>2016-12-16</td>\n      <td>NaN</td>\n      <td>NEGATIVE</td>\n      <td>NaT</td>\n      <td>10 days</td>\n    </tr>\n    <tr>\n      <th>1501</th>\n      <td>2017-05-14</td>\n      <td>DOG</td>\n      <td>MASTIF</td>\n      <td>MALE</td>\n      <td>NaN</td>\n      <td>3.0</td>\n      <td>2017-02-04 00:00:00</td>\n      <td>40241</td>\n      <td>NaN</td>\n      <td>BODY</td>\n      <td>2017-05-17</td>\n      <td>NaN</td>\n      <td>2017-05-24</td>\n      <td>NaN</td>\n      <td>NEGATIVE</td>\n      <td>NaT</td>\n      <td>10 days</td>\n    </tr>\n    <tr>\n      <th>...</th>\n      <td>...</td>\n      <td>...</td>\n      <td>...</td>\n      <td>...</td>\n      <td>...</td>\n      <td>...</td>\n      <td>...</td>\n      <td>...</td>\n      <td>...</td>\n      <td>...</td>\n      <td>...</td>\n      <td>...</td>\n      <td>...</td>\n      <td>...</td>\n      <td>...</td>\n      <td>...</td>\n      <td>...</td>\n    </tr>\n    <tr>\n      <th>8995</th>\n      <td>2017-09-05</td>\n      <td>DOG</td>\n      <td>NaN</td>\n      <td>NaN</td>\n      <td>NaN</td>\n      <td>NaN</td>\n      <td>NaN</td>\n      <td>40243</td>\n      <td>NaN</td>\n      <td>UNKNOWN</td>\n      <td>2017-09-08</td>\n      <td>NaN</td>\n      <td>NaT</td>\n      <td>NaN</td>\n      <td>NaN</td>\n      <td>NaT</td>\n      <td>NaT</td>\n    </tr>\n    <tr>\n      <th>8996</th>\n      <td>2017-09-07</td>\n      <td>DOG</td>\n      <td>POMERANIAN</td>\n      <td>MALE</td>\n      <td>RED</td>\n      <td>NaN</td>\n      <td>NaN</td>\n      <td>40204</td>\n      <td>NaN</td>\n      <td>HEAD</td>\n      <td>2017-09-10</td>\n      <td>NaN</td>\n      <td>NaT</td>\n      <td>NaN</td>\n      <td>NaN</td>\n      <td>NaT</td>\n      <td>NaT</td>\n    </tr>\n    <tr>\n      <th>8997</th>\n      <td>2017-09-07</td>\n      <td>DOG</td>\n      <td>LABRADOR RETRIV</td>\n      <td>MALE</td>\n      <td>BROWN</td>\n      <td>NaN</td>\n      <td>NaN</td>\n      <td>47130</td>\n      <td>NaN</td>\n      <td>UNKNOWN</td>\n      <td>2017-09-10</td>\n      <td>NaN</td>\n      <td>NaT</td>\n      <td>NaN</td>\n      <td>NaN</td>\n      <td>NaT</td>\n      <td>NaT</td>\n    </tr>\n    <tr>\n      <th>8998</th>\n      <td>2017-09-07</td>\n      <td>DOG</td>\n      <td>LABRADOR RETRIV</td>\n      <td>FEMALE</td>\n      <td>BLK WHT</td>\n      <td>NaN</td>\n      <td>NaN</td>\n      <td>40229</td>\n      <td>NaN</td>\n      <td>BODY</td>\n      <td>2017-09-10</td>\n      <td>NaN</td>\n      <td>NaT</td>\n      <td>NaN</td>\n      <td>NaN</td>\n      <td>NaT</td>\n      <td>NaT</td>\n    </tr>\n    <tr>\n      <th>8999</th>\n      <td>2017-09-07</td>\n      <td>DOG</td>\n      <td>BOXER</td>\n      <td>NaN</td>\n      <td>BRN BLK</td>\n      <td>NaN</td>\n      <td>NaN</td>\n      <td>40229</td>\n      <td>NaN</td>\n      <td>BODY</td>\n      <td>2017-09-10</td>\n      <td>NaN</td>\n      <td>NaT</td>\n      <td>NaN</td>\n      <td>NaN</td>\n      <td>NaT</td>\n      <td>NaT</td>\n    </tr>\n  </tbody>\n</table>\n<p>9000 rows × 17 columns</p>\n</div>"
     },
     "execution_count": 37,
     "metadata": {},
     "output_type": "execute_result"
    }
   ],
   "source": [
    "sorting_data(preprocessed_data,'differnceOfBiteAndHeadSent',False)"
   ],
   "metadata": {
    "collapsed": false,
    "ExecuteTime": {
     "end_time": "2024-01-16T17:46:28.037327600Z",
     "start_time": "2024-01-16T17:46:27.952876600Z"
    }
   },
   "id": "20f8e8fe7a1ad198"
  },
  {
   "cell_type": "code",
   "execution_count": 38,
   "outputs": [
    {
     "data": {
      "text/plain": "Timestamp('2014-03-24 00:00:00')"
     },
     "execution_count": 38,
     "metadata": {},
     "output_type": "execute_result"
    }
   ],
   "source": [
    "# when looking at sort values in differenceOfBiteAndHeadSent column, values cannot be 1096, 369, 93,92, days. those values should be change\n",
    "# when looking at the real dataset, row of 1404 row is filled in 2014. There for 1405 row also should be in 2014. therefore we need correct head_sent_date in R1404 into 2014. \n",
    "\n",
    "correct_data_using_index(preprocessed_data,'head_sent_date',1405,'2014-03-24')"
   ],
   "metadata": {
    "collapsed": false,
    "ExecuteTime": {
     "end_time": "2024-01-16T17:46:56.016948700Z",
     "start_time": "2024-01-16T17:46:55.977892700Z"
    }
   },
   "id": "8967bd19911558"
  },
  {
   "cell_type": "code",
   "execution_count": 40,
   "outputs": [
    {
     "data": {
      "text/plain": "Timestamp('2015-06-26 00:00:00')"
     },
     "execution_count": 40,
     "metadata": {},
     "output_type": "execute_result"
    }
   ],
   "source": [
    "# when looking at the real dataset, row of 1431 and 1433 row is filled in 2015. There for 1432 row also should be in 2015. therefore we need to correct head_sent_date in R1432 into 2015. \n",
    "\n",
    "correct_data_using_index(preprocessed_data,'head_sent_date',1432,'2015-06-26')"
   ],
   "metadata": {
    "collapsed": false,
    "ExecuteTime": {
     "end_time": "2024-01-16T17:48:10.931380800Z",
     "start_time": "2024-01-16T17:48:10.879066Z"
    }
   },
   "id": "f1c5cdc2496ef235"
  },
  {
   "cell_type": "code",
   "execution_count": 41,
   "outputs": [
    {
     "data": {
      "text/plain": "Timestamp('2010-08-12 00:00:00')"
     },
     "execution_count": 41,
     "metadata": {},
     "output_type": "execute_result"
    }
   ],
   "source": [
    "# we need to change these location also 764,765\n",
    "correct_data_using_index(preprocessed_data,'head_sent_date',764,'2010-08-12')\n",
    "correct_data_using_index(preprocessed_data,'head_sent_date',765,'2010-08-12')"
   ],
   "metadata": {
    "collapsed": false,
    "ExecuteTime": {
     "end_time": "2024-01-16T17:48:18.594082Z",
     "start_time": "2024-01-16T17:48:18.506207400Z"
    }
   },
   "id": "f816ad2e72d4339c"
  },
  {
   "cell_type": "code",
   "execution_count": 43,
   "outputs": [
    {
     "data": {
      "text/plain": "0      NaT\n1      NaT\n2      NaT\n3      NaT\n4      NaT\n        ..\n8995   NaT\n8996   NaT\n8997   NaT\n8998   NaT\n8999   NaT\nName: differnceOfBiteAndHeadSent, Length: 9000, dtype: timedelta64[ns]"
     },
     "execution_count": 43,
     "metadata": {},
     "output_type": "execute_result"
    }
   ],
   "source": [
    "# before sort lets get difference again\n",
    "get_difference_between_columns(preprocessed_data,'differnceOfBiteAndHeadSent','head_sent_date','bite_date')"
   ],
   "metadata": {
    "collapsed": false,
    "ExecuteTime": {
     "end_time": "2024-01-16T17:50:06.188051600Z",
     "start_time": "2024-01-16T17:50:06.075664600Z"
    }
   },
   "id": "b4db5325950a21b2"
  },
  {
   "cell_type": "code",
   "execution_count": 44,
   "outputs": [
    {
     "data": {
      "text/plain": "      bite_date SpeciesIDDesc      BreedIDDesc GenderIDDesc      color  \\\n1434 2015-07-14           DOG         PIT BULL       FEMALE  BLUE WHIT   \n1488 2016-12-06           CAT              NaN          NaN        NaN   \n1501 2017-05-14           DOG           MASTIF         MALE        NaN   \n1371 2011-10-05           CAT              NaN         MALE     ORANGE   \n1496 2017-03-14           DOG        CHOW CHOW         MALE        BRN   \n...         ...           ...              ...          ...        ...   \n8995 2017-09-05           DOG              NaN          NaN        NaN   \n8996 2017-09-07           DOG       POMERANIAN         MALE        RED   \n8997 2017-09-07           DOG  LABRADOR RETRIV         MALE      BROWN   \n8998 2017-09-07           DOG  LABRADOR RETRIV       FEMALE    BLK WHT   \n8999 2017-09-07           DOG            BOXER          NaN    BRN BLK   \n\n      vaccination_yrs     vaccination_date victim_zip AdvIssuedYNDesc  \\\n1434              NaN                  NaN      40219             NaN   \n1488              NaN                  NaN        NaN             NaN   \n1501              3.0  2017-02-04 00:00:00      40241             NaN   \n1371              NaN                  NaN      40223              NO   \n1496              NaN                  NaN      40214             NaN   \n...               ...                  ...        ...             ...   \n8995              NaN                  NaN      40243             NaN   \n8996              NaN                  NaN      40204             NaN   \n8997              NaN                  NaN      47130             NaN   \n8998              NaN                  NaN      40229             NaN   \n8999              NaN                  NaN      40229             NaN   \n\n     WhereBittenIDDesc quarantine_date DispositionIDDesc head_sent_date  \\\n1434              BODY      2015-07-17               NaN     2015-07-24   \n1488              BODY      2016-12-09               NaN     2016-12-16   \n1501              BODY      2017-05-17               NaN     2017-05-24   \n1371              BODY      2011-10-05              DIED     2011-10-14   \n1496              HEAD      2017-03-17               NaN     2017-03-23   \n...                ...             ...               ...            ...   \n8995           UNKNOWN      2017-09-08               NaN            NaT   \n8996              HEAD      2017-09-10               NaN            NaT   \n8997           UNKNOWN      2017-09-10               NaN            NaT   \n8998              BODY      2017-09-10               NaN            NaT   \n8999              BODY      2017-09-10               NaN            NaT   \n\n     release_date ResultsIDDesc DifferenceOfBitedateAndQuarantinedate  \\\n1434          NaN           NaN                                   NaT   \n1488          NaN      NEGATIVE                                   NaT   \n1501          NaN      NEGATIVE                                   NaT   \n1371          NaN      NEGATIVE                                0 days   \n1496          NaN      NEGATIVE                                   NaT   \n...           ...           ...                                   ...   \n8995          NaN           NaN                                   NaT   \n8996          NaN           NaN                                   NaT   \n8997          NaN           NaN                                   NaT   \n8998          NaN           NaN                                   NaT   \n8999          NaN           NaN                                   NaT   \n\n     differnceOfBiteAndHeadSent  \n1434                    10 days  \n1488                    10 days  \n1501                    10 days  \n1371                     9 days  \n1496                     9 days  \n...                         ...  \n8995                        NaT  \n8996                        NaT  \n8997                        NaT  \n8998                        NaT  \n8999                        NaT  \n\n[9000 rows x 17 columns]",
      "text/html": "<div>\n<style scoped>\n    .dataframe tbody tr th:only-of-type {\n        vertical-align: middle;\n    }\n\n    .dataframe tbody tr th {\n        vertical-align: top;\n    }\n\n    .dataframe thead th {\n        text-align: right;\n    }\n</style>\n<table border=\"1\" class=\"dataframe\">\n  <thead>\n    <tr style=\"text-align: right;\">\n      <th></th>\n      <th>bite_date</th>\n      <th>SpeciesIDDesc</th>\n      <th>BreedIDDesc</th>\n      <th>GenderIDDesc</th>\n      <th>color</th>\n      <th>vaccination_yrs</th>\n      <th>vaccination_date</th>\n      <th>victim_zip</th>\n      <th>AdvIssuedYNDesc</th>\n      <th>WhereBittenIDDesc</th>\n      <th>quarantine_date</th>\n      <th>DispositionIDDesc</th>\n      <th>head_sent_date</th>\n      <th>release_date</th>\n      <th>ResultsIDDesc</th>\n      <th>DifferenceOfBitedateAndQuarantinedate</th>\n      <th>differnceOfBiteAndHeadSent</th>\n    </tr>\n  </thead>\n  <tbody>\n    <tr>\n      <th>1434</th>\n      <td>2015-07-14</td>\n      <td>DOG</td>\n      <td>PIT BULL</td>\n      <td>FEMALE</td>\n      <td>BLUE WHIT</td>\n      <td>NaN</td>\n      <td>NaN</td>\n      <td>40219</td>\n      <td>NaN</td>\n      <td>BODY</td>\n      <td>2015-07-17</td>\n      <td>NaN</td>\n      <td>2015-07-24</td>\n      <td>NaN</td>\n      <td>NaN</td>\n      <td>NaT</td>\n      <td>10 days</td>\n    </tr>\n    <tr>\n      <th>1488</th>\n      <td>2016-12-06</td>\n      <td>CAT</td>\n      <td>NaN</td>\n      <td>NaN</td>\n      <td>NaN</td>\n      <td>NaN</td>\n      <td>NaN</td>\n      <td>NaN</td>\n      <td>NaN</td>\n      <td>BODY</td>\n      <td>2016-12-09</td>\n      <td>NaN</td>\n      <td>2016-12-16</td>\n      <td>NaN</td>\n      <td>NEGATIVE</td>\n      <td>NaT</td>\n      <td>10 days</td>\n    </tr>\n    <tr>\n      <th>1501</th>\n      <td>2017-05-14</td>\n      <td>DOG</td>\n      <td>MASTIF</td>\n      <td>MALE</td>\n      <td>NaN</td>\n      <td>3.0</td>\n      <td>2017-02-04 00:00:00</td>\n      <td>40241</td>\n      <td>NaN</td>\n      <td>BODY</td>\n      <td>2017-05-17</td>\n      <td>NaN</td>\n      <td>2017-05-24</td>\n      <td>NaN</td>\n      <td>NEGATIVE</td>\n      <td>NaT</td>\n      <td>10 days</td>\n    </tr>\n    <tr>\n      <th>1371</th>\n      <td>2011-10-05</td>\n      <td>CAT</td>\n      <td>NaN</td>\n      <td>MALE</td>\n      <td>ORANGE</td>\n      <td>NaN</td>\n      <td>NaN</td>\n      <td>40223</td>\n      <td>NO</td>\n      <td>BODY</td>\n      <td>2011-10-05</td>\n      <td>DIED</td>\n      <td>2011-10-14</td>\n      <td>NaN</td>\n      <td>NEGATIVE</td>\n      <td>0 days</td>\n      <td>9 days</td>\n    </tr>\n    <tr>\n      <th>1496</th>\n      <td>2017-03-14</td>\n      <td>DOG</td>\n      <td>CHOW CHOW</td>\n      <td>MALE</td>\n      <td>BRN</td>\n      <td>NaN</td>\n      <td>NaN</td>\n      <td>40214</td>\n      <td>NaN</td>\n      <td>HEAD</td>\n      <td>2017-03-17</td>\n      <td>NaN</td>\n      <td>2017-03-23</td>\n      <td>NaN</td>\n      <td>NEGATIVE</td>\n      <td>NaT</td>\n      <td>9 days</td>\n    </tr>\n    <tr>\n      <th>...</th>\n      <td>...</td>\n      <td>...</td>\n      <td>...</td>\n      <td>...</td>\n      <td>...</td>\n      <td>...</td>\n      <td>...</td>\n      <td>...</td>\n      <td>...</td>\n      <td>...</td>\n      <td>...</td>\n      <td>...</td>\n      <td>...</td>\n      <td>...</td>\n      <td>...</td>\n      <td>...</td>\n      <td>...</td>\n    </tr>\n    <tr>\n      <th>8995</th>\n      <td>2017-09-05</td>\n      <td>DOG</td>\n      <td>NaN</td>\n      <td>NaN</td>\n      <td>NaN</td>\n      <td>NaN</td>\n      <td>NaN</td>\n      <td>40243</td>\n      <td>NaN</td>\n      <td>UNKNOWN</td>\n      <td>2017-09-08</td>\n      <td>NaN</td>\n      <td>NaT</td>\n      <td>NaN</td>\n      <td>NaN</td>\n      <td>NaT</td>\n      <td>NaT</td>\n    </tr>\n    <tr>\n      <th>8996</th>\n      <td>2017-09-07</td>\n      <td>DOG</td>\n      <td>POMERANIAN</td>\n      <td>MALE</td>\n      <td>RED</td>\n      <td>NaN</td>\n      <td>NaN</td>\n      <td>40204</td>\n      <td>NaN</td>\n      <td>HEAD</td>\n      <td>2017-09-10</td>\n      <td>NaN</td>\n      <td>NaT</td>\n      <td>NaN</td>\n      <td>NaN</td>\n      <td>NaT</td>\n      <td>NaT</td>\n    </tr>\n    <tr>\n      <th>8997</th>\n      <td>2017-09-07</td>\n      <td>DOG</td>\n      <td>LABRADOR RETRIV</td>\n      <td>MALE</td>\n      <td>BROWN</td>\n      <td>NaN</td>\n      <td>NaN</td>\n      <td>47130</td>\n      <td>NaN</td>\n      <td>UNKNOWN</td>\n      <td>2017-09-10</td>\n      <td>NaN</td>\n      <td>NaT</td>\n      <td>NaN</td>\n      <td>NaN</td>\n      <td>NaT</td>\n      <td>NaT</td>\n    </tr>\n    <tr>\n      <th>8998</th>\n      <td>2017-09-07</td>\n      <td>DOG</td>\n      <td>LABRADOR RETRIV</td>\n      <td>FEMALE</td>\n      <td>BLK WHT</td>\n      <td>NaN</td>\n      <td>NaN</td>\n      <td>40229</td>\n      <td>NaN</td>\n      <td>BODY</td>\n      <td>2017-09-10</td>\n      <td>NaN</td>\n      <td>NaT</td>\n      <td>NaN</td>\n      <td>NaN</td>\n      <td>NaT</td>\n      <td>NaT</td>\n    </tr>\n    <tr>\n      <th>8999</th>\n      <td>2017-09-07</td>\n      <td>DOG</td>\n      <td>BOXER</td>\n      <td>NaN</td>\n      <td>BRN BLK</td>\n      <td>NaN</td>\n      <td>NaN</td>\n      <td>40229</td>\n      <td>NaN</td>\n      <td>BODY</td>\n      <td>2017-09-10</td>\n      <td>NaN</td>\n      <td>NaT</td>\n      <td>NaN</td>\n      <td>NaN</td>\n      <td>NaT</td>\n      <td>NaT</td>\n    </tr>\n  </tbody>\n</table>\n<p>9000 rows × 17 columns</p>\n</div>"
     },
     "execution_count": 44,
     "metadata": {},
     "output_type": "execute_result"
    }
   ],
   "source": [
    "sorting_data(preprocessed_data,'differnceOfBiteAndHeadSent',False)"
   ],
   "metadata": {
    "collapsed": false,
    "ExecuteTime": {
     "end_time": "2024-01-16T17:50:11.932304600Z",
     "start_time": "2024-01-16T17:50:11.828415200Z"
    }
   },
   "id": "44f0e21c903d829b"
  },
  {
   "cell_type": "code",
   "execution_count": 45,
   "outputs": [
    {
     "data": {
      "text/plain": "Timedelta('1 days 07:29:35.565610859')"
     },
     "execution_count": 45,
     "metadata": {},
     "output_type": "execute_result"
    }
   ],
   "source": [
    "#let's again check the mean value\n",
    "get_average(preprocessed_data,'differnceOfBiteAndHeadSent')"
   ],
   "metadata": {
    "collapsed": false,
    "ExecuteTime": {
     "end_time": "2024-01-16T17:50:36.613874800Z",
     "start_time": "2024-01-16T17:50:36.517635100Z"
    }
   },
   "id": "70f91b651b251602"
  },
  {
   "cell_type": "code",
   "execution_count": 46,
   "outputs": [],
   "source": [
    "# there are some values in the row of head_sent_date column. by using those values we can fill bite_date column that are having null values in the rows\n",
    "\n",
    "preprocessed_data['bite_date'] = to_fillna_bySubstracting(preprocessed_data,'bite_date','head_sent_date',1)"
   ],
   "metadata": {
    "collapsed": false,
    "ExecuteTime": {
     "end_time": "2024-01-16T17:50:46.606184200Z",
     "start_time": "2024-01-16T17:50:46.518718700Z"
    }
   },
   "id": "9c894111742ec2ba"
  },
  {
   "cell_type": "code",
   "execution_count": 48,
   "outputs": [
    {
     "data": {
      "text/plain": "     bite_date SpeciesIDDesc    BreedIDDesc GenderIDDesc    color  \\\n1686       NaT           CAT            NaN          NaN      NaN   \n1687       NaT           CAT            NaN          NaN      NaN   \n1689       NaT           NaN            NaN          NaN      NaN   \n1847       NaT           CAT            NaN          NaN      NaN   \n1855       NaT           BAT            NaN          NaN      NaN   \n...        ...           ...            ...          ...      ...   \n8899       NaT           DOG  BORDER COLLIE         MALE  BLK WHT   \n8921       NaT           DOG            NaN          NaN      NaN   \n8924       NaT           BAT            NaN          NaN      NaN   \n8925       NaT           BAT            NaN          NaN      NaN   \n8928       NaT           DOG            NaN          NaN      NaN   \n\n      vaccination_yrs     vaccination_date victim_zip AdvIssuedYNDesc  \\\n1686              NaN                  NaN        NaN             NaN   \n1687              NaN                  NaN        NaN             NaN   \n1689              NaN                  NaN        NaN             NaN   \n1847              NaN                  NaN        NaN             NaN   \n1855              NaN                  NaN        NaN             NaN   \n...               ...                  ...        ...             ...   \n8899              1.0  2017-07-18 00:00:00        NaN             NaN   \n8921              NaN                  NaN      40206             NaN   \n8924              NaN                  NaN      40291             YES   \n8925              NaN                  NaN      40291             YES   \n8928              NaN                  NaN      40242             NaN   \n\n     WhereBittenIDDesc quarantine_date DispositionIDDesc head_sent_date  \\\n1686               NaN             NaT               NaN            NaT   \n1687               NaN             NaT               NaN            NaT   \n1689               NaN             NaT               NaN            NaT   \n1847               NaN             NaT               NaN            NaT   \n1855               NaN             NaT               NaN            NaT   \n...                ...             ...               ...            ...   \n8899               NaN             NaT               NaN            NaT   \n8921               NaN             NaT               NaN            NaT   \n8924               NaN             NaT               NaN            NaT   \n8925               NaN             NaT               NaN            NaT   \n8928               NaN             NaT               NaN            NaT   \n\n             release_date ResultsIDDesc DifferenceOfBitedateAndQuarantinedate  \\\n1686                  NaN           NaN                                   NaT   \n1687                  NaN           NaN                                   NaT   \n1689                  NaN           NaN                                   NaT   \n1847                  NaN           NaN                                   NaT   \n1855                  NaN           NaN                                   NaT   \n...                   ...           ...                                   ...   \n8899  2017-08-18 00:00:00           NaN                                   NaT   \n8921                  NaN           NaN                                   NaT   \n8924                  NaN           NaN                                   NaT   \n8925                  NaN           NaN                                   NaT   \n8928                  NaN           NaN                                   NaT   \n\n     differnceOfBiteAndHeadSent  \n1686                        NaT  \n1687                        NaT  \n1689                        NaT  \n1847                        NaT  \n1855                        NaT  \n...                         ...  \n8899                        NaT  \n8921                        NaT  \n8924                        NaT  \n8925                        NaT  \n8928                        NaT  \n\n[127 rows x 17 columns]",
      "text/html": "<div>\n<style scoped>\n    .dataframe tbody tr th:only-of-type {\n        vertical-align: middle;\n    }\n\n    .dataframe tbody tr th {\n        vertical-align: top;\n    }\n\n    .dataframe thead th {\n        text-align: right;\n    }\n</style>\n<table border=\"1\" class=\"dataframe\">\n  <thead>\n    <tr style=\"text-align: right;\">\n      <th></th>\n      <th>bite_date</th>\n      <th>SpeciesIDDesc</th>\n      <th>BreedIDDesc</th>\n      <th>GenderIDDesc</th>\n      <th>color</th>\n      <th>vaccination_yrs</th>\n      <th>vaccination_date</th>\n      <th>victim_zip</th>\n      <th>AdvIssuedYNDesc</th>\n      <th>WhereBittenIDDesc</th>\n      <th>quarantine_date</th>\n      <th>DispositionIDDesc</th>\n      <th>head_sent_date</th>\n      <th>release_date</th>\n      <th>ResultsIDDesc</th>\n      <th>DifferenceOfBitedateAndQuarantinedate</th>\n      <th>differnceOfBiteAndHeadSent</th>\n    </tr>\n  </thead>\n  <tbody>\n    <tr>\n      <th>1686</th>\n      <td>NaT</td>\n      <td>CAT</td>\n      <td>NaN</td>\n      <td>NaN</td>\n      <td>NaN</td>\n      <td>NaN</td>\n      <td>NaN</td>\n      <td>NaN</td>\n      <td>NaN</td>\n      <td>NaN</td>\n      <td>NaT</td>\n      <td>NaN</td>\n      <td>NaT</td>\n      <td>NaN</td>\n      <td>NaN</td>\n      <td>NaT</td>\n      <td>NaT</td>\n    </tr>\n    <tr>\n      <th>1687</th>\n      <td>NaT</td>\n      <td>CAT</td>\n      <td>NaN</td>\n      <td>NaN</td>\n      <td>NaN</td>\n      <td>NaN</td>\n      <td>NaN</td>\n      <td>NaN</td>\n      <td>NaN</td>\n      <td>NaN</td>\n      <td>NaT</td>\n      <td>NaN</td>\n      <td>NaT</td>\n      <td>NaN</td>\n      <td>NaN</td>\n      <td>NaT</td>\n      <td>NaT</td>\n    </tr>\n    <tr>\n      <th>1689</th>\n      <td>NaT</td>\n      <td>NaN</td>\n      <td>NaN</td>\n      <td>NaN</td>\n      <td>NaN</td>\n      <td>NaN</td>\n      <td>NaN</td>\n      <td>NaN</td>\n      <td>NaN</td>\n      <td>NaN</td>\n      <td>NaT</td>\n      <td>NaN</td>\n      <td>NaT</td>\n      <td>NaN</td>\n      <td>NaN</td>\n      <td>NaT</td>\n      <td>NaT</td>\n    </tr>\n    <tr>\n      <th>1847</th>\n      <td>NaT</td>\n      <td>CAT</td>\n      <td>NaN</td>\n      <td>NaN</td>\n      <td>NaN</td>\n      <td>NaN</td>\n      <td>NaN</td>\n      <td>NaN</td>\n      <td>NaN</td>\n      <td>NaN</td>\n      <td>NaT</td>\n      <td>NaN</td>\n      <td>NaT</td>\n      <td>NaN</td>\n      <td>NaN</td>\n      <td>NaT</td>\n      <td>NaT</td>\n    </tr>\n    <tr>\n      <th>1855</th>\n      <td>NaT</td>\n      <td>BAT</td>\n      <td>NaN</td>\n      <td>NaN</td>\n      <td>NaN</td>\n      <td>NaN</td>\n      <td>NaN</td>\n      <td>NaN</td>\n      <td>NaN</td>\n      <td>NaN</td>\n      <td>NaT</td>\n      <td>NaN</td>\n      <td>NaT</td>\n      <td>NaN</td>\n      <td>NaN</td>\n      <td>NaT</td>\n      <td>NaT</td>\n    </tr>\n    <tr>\n      <th>...</th>\n      <td>...</td>\n      <td>...</td>\n      <td>...</td>\n      <td>...</td>\n      <td>...</td>\n      <td>...</td>\n      <td>...</td>\n      <td>...</td>\n      <td>...</td>\n      <td>...</td>\n      <td>...</td>\n      <td>...</td>\n      <td>...</td>\n      <td>...</td>\n      <td>...</td>\n      <td>...</td>\n      <td>...</td>\n    </tr>\n    <tr>\n      <th>8899</th>\n      <td>NaT</td>\n      <td>DOG</td>\n      <td>BORDER COLLIE</td>\n      <td>MALE</td>\n      <td>BLK WHT</td>\n      <td>1.0</td>\n      <td>2017-07-18 00:00:00</td>\n      <td>NaN</td>\n      <td>NaN</td>\n      <td>NaN</td>\n      <td>NaT</td>\n      <td>NaN</td>\n      <td>NaT</td>\n      <td>2017-08-18 00:00:00</td>\n      <td>NaN</td>\n      <td>NaT</td>\n      <td>NaT</td>\n    </tr>\n    <tr>\n      <th>8921</th>\n      <td>NaT</td>\n      <td>DOG</td>\n      <td>NaN</td>\n      <td>NaN</td>\n      <td>NaN</td>\n      <td>NaN</td>\n      <td>NaN</td>\n      <td>40206</td>\n      <td>NaN</td>\n      <td>NaN</td>\n      <td>NaT</td>\n      <td>NaN</td>\n      <td>NaT</td>\n      <td>NaN</td>\n      <td>NaN</td>\n      <td>NaT</td>\n      <td>NaT</td>\n    </tr>\n    <tr>\n      <th>8924</th>\n      <td>NaT</td>\n      <td>BAT</td>\n      <td>NaN</td>\n      <td>NaN</td>\n      <td>NaN</td>\n      <td>NaN</td>\n      <td>NaN</td>\n      <td>40291</td>\n      <td>YES</td>\n      <td>NaN</td>\n      <td>NaT</td>\n      <td>NaN</td>\n      <td>NaT</td>\n      <td>NaN</td>\n      <td>NaN</td>\n      <td>NaT</td>\n      <td>NaT</td>\n    </tr>\n    <tr>\n      <th>8925</th>\n      <td>NaT</td>\n      <td>BAT</td>\n      <td>NaN</td>\n      <td>NaN</td>\n      <td>NaN</td>\n      <td>NaN</td>\n      <td>NaN</td>\n      <td>40291</td>\n      <td>YES</td>\n      <td>NaN</td>\n      <td>NaT</td>\n      <td>NaN</td>\n      <td>NaT</td>\n      <td>NaN</td>\n      <td>NaN</td>\n      <td>NaT</td>\n      <td>NaT</td>\n    </tr>\n    <tr>\n      <th>8928</th>\n      <td>NaT</td>\n      <td>DOG</td>\n      <td>NaN</td>\n      <td>NaN</td>\n      <td>NaN</td>\n      <td>NaN</td>\n      <td>NaN</td>\n      <td>40242</td>\n      <td>NaN</td>\n      <td>NaN</td>\n      <td>NaT</td>\n      <td>NaN</td>\n      <td>NaT</td>\n      <td>NaN</td>\n      <td>NaN</td>\n      <td>NaT</td>\n      <td>NaT</td>\n    </tr>\n  </tbody>\n</table>\n<p>127 rows × 17 columns</p>\n</div>"
     },
     "execution_count": 48,
     "metadata": {},
     "output_type": "execute_result"
    }
   ],
   "source": [
    "selectedThreeColumn = ['bite_date','head_sent_date']\n",
    "check_null_values(preprocessed_data, selectedThreeColumn)"
   ],
   "metadata": {
    "collapsed": false,
    "ExecuteTime": {
     "end_time": "2024-01-16T17:53:01.789607400Z",
     "start_time": "2024-01-16T17:53:01.728208600Z"
    }
   },
   "id": "caae11c66b437cab"
  },
  {
   "cell_type": "markdown",
   "source": [
    "## Let's add rest of the row using forward fill method"
   ],
   "metadata": {
    "collapsed": false
   },
   "id": "4544058518b87e68"
  },
  {
   "cell_type": "code",
   "execution_count": 53,
   "outputs": [],
   "source": [
    "# when see the dataset, lot of data already filled. the rest of the data we can fill by using previous dates.\n",
    "# preprocessed_data['bite_date'] = preprocessed_data['bite_date'].fillna(method='ffill')\n",
    "\n",
    "preprocessed_data['bite_date'] = preprocessed_data['bite_date'].ffill()"
   ],
   "metadata": {
    "collapsed": false,
    "ExecuteTime": {
     "end_time": "2024-01-16T17:56:55.690636200Z",
     "start_time": "2024-01-16T17:56:55.638547700Z"
    }
   },
   "id": "a7a2a612903ed52c"
  },
  {
   "cell_type": "code",
   "execution_count": 56,
   "outputs": [
    {
     "data": {
      "text/plain": "Empty DataFrame\nColumns: [bite_date, SpeciesIDDesc, BreedIDDesc, GenderIDDesc, color, vaccination_yrs, vaccination_date, victim_zip, AdvIssuedYNDesc, WhereBittenIDDesc, quarantine_date, DispositionIDDesc, head_sent_date, release_date, ResultsIDDesc, DifferenceOfBitedateAndQuarantinedate, differnceOfBiteAndHeadSent]\nIndex: []",
      "text/html": "<div>\n<style scoped>\n    .dataframe tbody tr th:only-of-type {\n        vertical-align: middle;\n    }\n\n    .dataframe tbody tr th {\n        vertical-align: top;\n    }\n\n    .dataframe thead th {\n        text-align: right;\n    }\n</style>\n<table border=\"1\" class=\"dataframe\">\n  <thead>\n    <tr style=\"text-align: right;\">\n      <th></th>\n      <th>bite_date</th>\n      <th>SpeciesIDDesc</th>\n      <th>BreedIDDesc</th>\n      <th>GenderIDDesc</th>\n      <th>color</th>\n      <th>vaccination_yrs</th>\n      <th>vaccination_date</th>\n      <th>victim_zip</th>\n      <th>AdvIssuedYNDesc</th>\n      <th>WhereBittenIDDesc</th>\n      <th>quarantine_date</th>\n      <th>DispositionIDDesc</th>\n      <th>head_sent_date</th>\n      <th>release_date</th>\n      <th>ResultsIDDesc</th>\n      <th>DifferenceOfBitedateAndQuarantinedate</th>\n      <th>differnceOfBiteAndHeadSent</th>\n    </tr>\n  </thead>\n  <tbody>\n  </tbody>\n</table>\n</div>"
     },
     "execution_count": 56,
     "metadata": {},
     "output_type": "execute_result"
    }
   ],
   "source": [
    "selectedThreeColumn = ['bite_date','head_sent_date']\n",
    "check_null_values(preprocessed_data, selectedThreeColumn)"
   ],
   "metadata": {
    "collapsed": false,
    "ExecuteTime": {
     "end_time": "2024-01-16T17:57:35.555602400Z",
     "start_time": "2024-01-16T17:57:35.459685100Z"
    }
   },
   "id": "8a3da80f26c5bc0f"
  },
  {
   "cell_type": "code",
   "execution_count": 57,
   "outputs": [
    {
     "data": {
      "text/plain": "      bite_date SpeciesIDDesc      BreedIDDesc GenderIDDesc       color  \\\n0    1985-05-05           DOG              NaN       FEMALE  LIG. BROWN   \n1    1986-02-12           DOG              NaN      UNKNOWN   BRO & BLA   \n2    1987-05-07           DOG              NaN      UNKNOWN         NaN   \n3    1988-10-02           DOG              NaN         MALE   BLA & BRO   \n4    1989-08-29           DOG              NaN       FEMALE     BLK-WHT   \n...         ...           ...              ...          ...         ...   \n8995 2017-09-05           DOG              NaN          NaN         NaN   \n8996 2017-09-07           DOG       POMERANIAN         MALE         RED   \n8997 2017-09-07           DOG  LABRADOR RETRIV         MALE       BROWN   \n8998 2017-09-07           DOG  LABRADOR RETRIV       FEMALE     BLK WHT   \n8999 2017-09-07           DOG            BOXER          NaN     BRN BLK   \n\n      vaccination_yrs     vaccination_date victim_zip AdvIssuedYNDesc  \\\n0                 1.0  1985-06-20 00:00:00      40229              NO   \n1                 NaN                  NaN      40218              NO   \n2                 NaN                  NaN      40219              NO   \n3                 NaN                  NaN        NaN              NO   \n4                 NaN                  NaN        NaN              NO   \n...               ...                  ...        ...             ...   \n8995              NaN                  NaN      40243             NaN   \n8996              NaN                  NaN      40204             NaN   \n8997              NaN                  NaN      47130             NaN   \n8998              NaN                  NaN      40229             NaN   \n8999              NaN                  NaN      40229             NaN   \n\n     WhereBittenIDDesc quarantine_date DispositionIDDesc head_sent_date  \\\n0                 BODY      1985-05-05           UNKNOWN            NaT   \n1                 BODY      1986-02-12           UNKNOWN            NaT   \n2                 BODY      1990-05-07           UNKNOWN            NaT   \n3                 BODY      1990-10-02           UNKNOWN            NaT   \n4                 BODY      1989-09-01           UNKNOWN            NaT   \n...                ...             ...               ...            ...   \n8995           UNKNOWN      2017-09-08               NaN            NaT   \n8996              HEAD      2017-09-10               NaN            NaT   \n8997           UNKNOWN      2017-09-10               NaN            NaT   \n8998              BODY      2017-09-10               NaN            NaT   \n8999              BODY      2017-09-10               NaN            NaT   \n\n     release_date ResultsIDDesc DifferenceOfBitedateAndQuarantinedate  \\\n0             NaN       UNKNOWN                                0 days   \n1             NaN       UNKNOWN                                0 days   \n2             NaN       UNKNOWN                             1096 days   \n3             NaN       UNKNOWN                              730 days   \n4             NaN       UNKNOWN                                   NaT   \n...           ...           ...                                   ...   \n8995          NaN           NaN                                   NaT   \n8996          NaN           NaN                                   NaT   \n8997          NaN           NaN                                   NaT   \n8998          NaN           NaN                                   NaT   \n8999          NaN           NaN                                   NaT   \n\n     differnceOfBiteAndHeadSent  \n0                           NaT  \n1                           NaT  \n2                           NaT  \n3                           NaT  \n4                           NaT  \n...                         ...  \n8995                        NaT  \n8996                        NaT  \n8997                        NaT  \n8998                        NaT  \n8999                        NaT  \n\n[9000 rows x 17 columns]",
      "text/html": "<div>\n<style scoped>\n    .dataframe tbody tr th:only-of-type {\n        vertical-align: middle;\n    }\n\n    .dataframe tbody tr th {\n        vertical-align: top;\n    }\n\n    .dataframe thead th {\n        text-align: right;\n    }\n</style>\n<table border=\"1\" class=\"dataframe\">\n  <thead>\n    <tr style=\"text-align: right;\">\n      <th></th>\n      <th>bite_date</th>\n      <th>SpeciesIDDesc</th>\n      <th>BreedIDDesc</th>\n      <th>GenderIDDesc</th>\n      <th>color</th>\n      <th>vaccination_yrs</th>\n      <th>vaccination_date</th>\n      <th>victim_zip</th>\n      <th>AdvIssuedYNDesc</th>\n      <th>WhereBittenIDDesc</th>\n      <th>quarantine_date</th>\n      <th>DispositionIDDesc</th>\n      <th>head_sent_date</th>\n      <th>release_date</th>\n      <th>ResultsIDDesc</th>\n      <th>DifferenceOfBitedateAndQuarantinedate</th>\n      <th>differnceOfBiteAndHeadSent</th>\n    </tr>\n  </thead>\n  <tbody>\n    <tr>\n      <th>0</th>\n      <td>1985-05-05</td>\n      <td>DOG</td>\n      <td>NaN</td>\n      <td>FEMALE</td>\n      <td>LIG. BROWN</td>\n      <td>1.0</td>\n      <td>1985-06-20 00:00:00</td>\n      <td>40229</td>\n      <td>NO</td>\n      <td>BODY</td>\n      <td>1985-05-05</td>\n      <td>UNKNOWN</td>\n      <td>NaT</td>\n      <td>NaN</td>\n      <td>UNKNOWN</td>\n      <td>0 days</td>\n      <td>NaT</td>\n    </tr>\n    <tr>\n      <th>1</th>\n      <td>1986-02-12</td>\n      <td>DOG</td>\n      <td>NaN</td>\n      <td>UNKNOWN</td>\n      <td>BRO &amp; BLA</td>\n      <td>NaN</td>\n      <td>NaN</td>\n      <td>40218</td>\n      <td>NO</td>\n      <td>BODY</td>\n      <td>1986-02-12</td>\n      <td>UNKNOWN</td>\n      <td>NaT</td>\n      <td>NaN</td>\n      <td>UNKNOWN</td>\n      <td>0 days</td>\n      <td>NaT</td>\n    </tr>\n    <tr>\n      <th>2</th>\n      <td>1987-05-07</td>\n      <td>DOG</td>\n      <td>NaN</td>\n      <td>UNKNOWN</td>\n      <td>NaN</td>\n      <td>NaN</td>\n      <td>NaN</td>\n      <td>40219</td>\n      <td>NO</td>\n      <td>BODY</td>\n      <td>1990-05-07</td>\n      <td>UNKNOWN</td>\n      <td>NaT</td>\n      <td>NaN</td>\n      <td>UNKNOWN</td>\n      <td>1096 days</td>\n      <td>NaT</td>\n    </tr>\n    <tr>\n      <th>3</th>\n      <td>1988-10-02</td>\n      <td>DOG</td>\n      <td>NaN</td>\n      <td>MALE</td>\n      <td>BLA &amp; BRO</td>\n      <td>NaN</td>\n      <td>NaN</td>\n      <td>NaN</td>\n      <td>NO</td>\n      <td>BODY</td>\n      <td>1990-10-02</td>\n      <td>UNKNOWN</td>\n      <td>NaT</td>\n      <td>NaN</td>\n      <td>UNKNOWN</td>\n      <td>730 days</td>\n      <td>NaT</td>\n    </tr>\n    <tr>\n      <th>4</th>\n      <td>1989-08-29</td>\n      <td>DOG</td>\n      <td>NaN</td>\n      <td>FEMALE</td>\n      <td>BLK-WHT</td>\n      <td>NaN</td>\n      <td>NaN</td>\n      <td>NaN</td>\n      <td>NO</td>\n      <td>BODY</td>\n      <td>1989-09-01</td>\n      <td>UNKNOWN</td>\n      <td>NaT</td>\n      <td>NaN</td>\n      <td>UNKNOWN</td>\n      <td>NaT</td>\n      <td>NaT</td>\n    </tr>\n    <tr>\n      <th>...</th>\n      <td>...</td>\n      <td>...</td>\n      <td>...</td>\n      <td>...</td>\n      <td>...</td>\n      <td>...</td>\n      <td>...</td>\n      <td>...</td>\n      <td>...</td>\n      <td>...</td>\n      <td>...</td>\n      <td>...</td>\n      <td>...</td>\n      <td>...</td>\n      <td>...</td>\n      <td>...</td>\n      <td>...</td>\n    </tr>\n    <tr>\n      <th>8995</th>\n      <td>2017-09-05</td>\n      <td>DOG</td>\n      <td>NaN</td>\n      <td>NaN</td>\n      <td>NaN</td>\n      <td>NaN</td>\n      <td>NaN</td>\n      <td>40243</td>\n      <td>NaN</td>\n      <td>UNKNOWN</td>\n      <td>2017-09-08</td>\n      <td>NaN</td>\n      <td>NaT</td>\n      <td>NaN</td>\n      <td>NaN</td>\n      <td>NaT</td>\n      <td>NaT</td>\n    </tr>\n    <tr>\n      <th>8996</th>\n      <td>2017-09-07</td>\n      <td>DOG</td>\n      <td>POMERANIAN</td>\n      <td>MALE</td>\n      <td>RED</td>\n      <td>NaN</td>\n      <td>NaN</td>\n      <td>40204</td>\n      <td>NaN</td>\n      <td>HEAD</td>\n      <td>2017-09-10</td>\n      <td>NaN</td>\n      <td>NaT</td>\n      <td>NaN</td>\n      <td>NaN</td>\n      <td>NaT</td>\n      <td>NaT</td>\n    </tr>\n    <tr>\n      <th>8997</th>\n      <td>2017-09-07</td>\n      <td>DOG</td>\n      <td>LABRADOR RETRIV</td>\n      <td>MALE</td>\n      <td>BROWN</td>\n      <td>NaN</td>\n      <td>NaN</td>\n      <td>47130</td>\n      <td>NaN</td>\n      <td>UNKNOWN</td>\n      <td>2017-09-10</td>\n      <td>NaN</td>\n      <td>NaT</td>\n      <td>NaN</td>\n      <td>NaN</td>\n      <td>NaT</td>\n      <td>NaT</td>\n    </tr>\n    <tr>\n      <th>8998</th>\n      <td>2017-09-07</td>\n      <td>DOG</td>\n      <td>LABRADOR RETRIV</td>\n      <td>FEMALE</td>\n      <td>BLK WHT</td>\n      <td>NaN</td>\n      <td>NaN</td>\n      <td>40229</td>\n      <td>NaN</td>\n      <td>BODY</td>\n      <td>2017-09-10</td>\n      <td>NaN</td>\n      <td>NaT</td>\n      <td>NaN</td>\n      <td>NaN</td>\n      <td>NaT</td>\n      <td>NaT</td>\n    </tr>\n    <tr>\n      <th>8999</th>\n      <td>2017-09-07</td>\n      <td>DOG</td>\n      <td>BOXER</td>\n      <td>NaN</td>\n      <td>BRN BLK</td>\n      <td>NaN</td>\n      <td>NaN</td>\n      <td>40229</td>\n      <td>NaN</td>\n      <td>BODY</td>\n      <td>2017-09-10</td>\n      <td>NaN</td>\n      <td>NaT</td>\n      <td>NaN</td>\n      <td>NaN</td>\n      <td>NaT</td>\n      <td>NaT</td>\n    </tr>\n  </tbody>\n</table>\n<p>9000 rows × 17 columns</p>\n</div>"
     },
     "execution_count": 57,
     "metadata": {},
     "output_type": "execute_result"
    }
   ],
   "source": [
    "preprocessed_data"
   ],
   "metadata": {
    "collapsed": false,
    "ExecuteTime": {
     "end_time": "2024-01-16T17:58:02.699435Z",
     "start_time": "2024-01-16T17:58:02.591304100Z"
    }
   },
   "id": "a9e575cae0b9f0f7"
  },
  {
   "cell_type": "code",
   "execution_count": 58,
   "outputs": [],
   "source": [
    "# now we can again edit the 'quatantine_date' column by using bite_date and average of difference those two columns\n",
    "preprocessed_data['quarantine_date'] = to_fillna_byAdding(preprocessed_data,'quarantine_date','bite_date',3)"
   ],
   "metadata": {
    "collapsed": false,
    "ExecuteTime": {
     "end_time": "2024-01-16T18:01:00.612231400Z",
     "start_time": "2024-01-16T18:01:00.557640Z"
    }
   },
   "id": "65fcf862a9a694f"
  },
  {
   "cell_type": "code",
   "execution_count": 59,
   "outputs": [
    {
     "data": {
      "text/plain": "      bite_date SpeciesIDDesc      BreedIDDesc GenderIDDesc       color  \\\n0    1985-05-05           DOG              NaN       FEMALE  LIG. BROWN   \n1    1986-02-12           DOG              NaN      UNKNOWN   BRO & BLA   \n2    1987-05-07           DOG              NaN      UNKNOWN         NaN   \n3    1988-10-02           DOG              NaN         MALE   BLA & BRO   \n4    1989-08-29           DOG              NaN       FEMALE     BLK-WHT   \n...         ...           ...              ...          ...         ...   \n8995 2017-09-05           DOG              NaN          NaN         NaN   \n8996 2017-09-07           DOG       POMERANIAN         MALE         RED   \n8997 2017-09-07           DOG  LABRADOR RETRIV         MALE       BROWN   \n8998 2017-09-07           DOG  LABRADOR RETRIV       FEMALE     BLK WHT   \n8999 2017-09-07           DOG            BOXER          NaN     BRN BLK   \n\n      vaccination_yrs     vaccination_date victim_zip AdvIssuedYNDesc  \\\n0                 1.0  1985-06-20 00:00:00      40229              NO   \n1                 NaN                  NaN      40218              NO   \n2                 NaN                  NaN      40219              NO   \n3                 NaN                  NaN        NaN              NO   \n4                 NaN                  NaN        NaN              NO   \n...               ...                  ...        ...             ...   \n8995              NaN                  NaN      40243             NaN   \n8996              NaN                  NaN      40204             NaN   \n8997              NaN                  NaN      47130             NaN   \n8998              NaN                  NaN      40229             NaN   \n8999              NaN                  NaN      40229             NaN   \n\n     WhereBittenIDDesc quarantine_date DispositionIDDesc head_sent_date  \\\n0                 BODY      1985-05-05           UNKNOWN            NaT   \n1                 BODY      1986-02-12           UNKNOWN            NaT   \n2                 BODY      1990-05-07           UNKNOWN            NaT   \n3                 BODY      1990-10-02           UNKNOWN            NaT   \n4                 BODY      1989-09-01           UNKNOWN            NaT   \n...                ...             ...               ...            ...   \n8995           UNKNOWN      2017-09-08               NaN            NaT   \n8996              HEAD      2017-09-10               NaN            NaT   \n8997           UNKNOWN      2017-09-10               NaN            NaT   \n8998              BODY      2017-09-10               NaN            NaT   \n8999              BODY      2017-09-10               NaN            NaT   \n\n     release_date ResultsIDDesc DifferenceOfBitedateAndQuarantinedate  \\\n0             NaN       UNKNOWN                                0 days   \n1             NaN       UNKNOWN                                0 days   \n2             NaN       UNKNOWN                             1096 days   \n3             NaN       UNKNOWN                              730 days   \n4             NaN       UNKNOWN                                   NaT   \n...           ...           ...                                   ...   \n8995          NaN           NaN                                   NaT   \n8996          NaN           NaN                                   NaT   \n8997          NaN           NaN                                   NaT   \n8998          NaN           NaN                                   NaT   \n8999          NaN           NaN                                   NaT   \n\n     differnceOfBiteAndHeadSent  \n0                           NaT  \n1                           NaT  \n2                           NaT  \n3                           NaT  \n4                           NaT  \n...                         ...  \n8995                        NaT  \n8996                        NaT  \n8997                        NaT  \n8998                        NaT  \n8999                        NaT  \n\n[9000 rows x 17 columns]",
      "text/html": "<div>\n<style scoped>\n    .dataframe tbody tr th:only-of-type {\n        vertical-align: middle;\n    }\n\n    .dataframe tbody tr th {\n        vertical-align: top;\n    }\n\n    .dataframe thead th {\n        text-align: right;\n    }\n</style>\n<table border=\"1\" class=\"dataframe\">\n  <thead>\n    <tr style=\"text-align: right;\">\n      <th></th>\n      <th>bite_date</th>\n      <th>SpeciesIDDesc</th>\n      <th>BreedIDDesc</th>\n      <th>GenderIDDesc</th>\n      <th>color</th>\n      <th>vaccination_yrs</th>\n      <th>vaccination_date</th>\n      <th>victim_zip</th>\n      <th>AdvIssuedYNDesc</th>\n      <th>WhereBittenIDDesc</th>\n      <th>quarantine_date</th>\n      <th>DispositionIDDesc</th>\n      <th>head_sent_date</th>\n      <th>release_date</th>\n      <th>ResultsIDDesc</th>\n      <th>DifferenceOfBitedateAndQuarantinedate</th>\n      <th>differnceOfBiteAndHeadSent</th>\n    </tr>\n  </thead>\n  <tbody>\n    <tr>\n      <th>0</th>\n      <td>1985-05-05</td>\n      <td>DOG</td>\n      <td>NaN</td>\n      <td>FEMALE</td>\n      <td>LIG. BROWN</td>\n      <td>1.0</td>\n      <td>1985-06-20 00:00:00</td>\n      <td>40229</td>\n      <td>NO</td>\n      <td>BODY</td>\n      <td>1985-05-05</td>\n      <td>UNKNOWN</td>\n      <td>NaT</td>\n      <td>NaN</td>\n      <td>UNKNOWN</td>\n      <td>0 days</td>\n      <td>NaT</td>\n    </tr>\n    <tr>\n      <th>1</th>\n      <td>1986-02-12</td>\n      <td>DOG</td>\n      <td>NaN</td>\n      <td>UNKNOWN</td>\n      <td>BRO &amp; BLA</td>\n      <td>NaN</td>\n      <td>NaN</td>\n      <td>40218</td>\n      <td>NO</td>\n      <td>BODY</td>\n      <td>1986-02-12</td>\n      <td>UNKNOWN</td>\n      <td>NaT</td>\n      <td>NaN</td>\n      <td>UNKNOWN</td>\n      <td>0 days</td>\n      <td>NaT</td>\n    </tr>\n    <tr>\n      <th>2</th>\n      <td>1987-05-07</td>\n      <td>DOG</td>\n      <td>NaN</td>\n      <td>UNKNOWN</td>\n      <td>NaN</td>\n      <td>NaN</td>\n      <td>NaN</td>\n      <td>40219</td>\n      <td>NO</td>\n      <td>BODY</td>\n      <td>1990-05-07</td>\n      <td>UNKNOWN</td>\n      <td>NaT</td>\n      <td>NaN</td>\n      <td>UNKNOWN</td>\n      <td>1096 days</td>\n      <td>NaT</td>\n    </tr>\n    <tr>\n      <th>3</th>\n      <td>1988-10-02</td>\n      <td>DOG</td>\n      <td>NaN</td>\n      <td>MALE</td>\n      <td>BLA &amp; BRO</td>\n      <td>NaN</td>\n      <td>NaN</td>\n      <td>NaN</td>\n      <td>NO</td>\n      <td>BODY</td>\n      <td>1990-10-02</td>\n      <td>UNKNOWN</td>\n      <td>NaT</td>\n      <td>NaN</td>\n      <td>UNKNOWN</td>\n      <td>730 days</td>\n      <td>NaT</td>\n    </tr>\n    <tr>\n      <th>4</th>\n      <td>1989-08-29</td>\n      <td>DOG</td>\n      <td>NaN</td>\n      <td>FEMALE</td>\n      <td>BLK-WHT</td>\n      <td>NaN</td>\n      <td>NaN</td>\n      <td>NaN</td>\n      <td>NO</td>\n      <td>BODY</td>\n      <td>1989-09-01</td>\n      <td>UNKNOWN</td>\n      <td>NaT</td>\n      <td>NaN</td>\n      <td>UNKNOWN</td>\n      <td>NaT</td>\n      <td>NaT</td>\n    </tr>\n    <tr>\n      <th>...</th>\n      <td>...</td>\n      <td>...</td>\n      <td>...</td>\n      <td>...</td>\n      <td>...</td>\n      <td>...</td>\n      <td>...</td>\n      <td>...</td>\n      <td>...</td>\n      <td>...</td>\n      <td>...</td>\n      <td>...</td>\n      <td>...</td>\n      <td>...</td>\n      <td>...</td>\n      <td>...</td>\n      <td>...</td>\n    </tr>\n    <tr>\n      <th>8995</th>\n      <td>2017-09-05</td>\n      <td>DOG</td>\n      <td>NaN</td>\n      <td>NaN</td>\n      <td>NaN</td>\n      <td>NaN</td>\n      <td>NaN</td>\n      <td>40243</td>\n      <td>NaN</td>\n      <td>UNKNOWN</td>\n      <td>2017-09-08</td>\n      <td>NaN</td>\n      <td>NaT</td>\n      <td>NaN</td>\n      <td>NaN</td>\n      <td>NaT</td>\n      <td>NaT</td>\n    </tr>\n    <tr>\n      <th>8996</th>\n      <td>2017-09-07</td>\n      <td>DOG</td>\n      <td>POMERANIAN</td>\n      <td>MALE</td>\n      <td>RED</td>\n      <td>NaN</td>\n      <td>NaN</td>\n      <td>40204</td>\n      <td>NaN</td>\n      <td>HEAD</td>\n      <td>2017-09-10</td>\n      <td>NaN</td>\n      <td>NaT</td>\n      <td>NaN</td>\n      <td>NaN</td>\n      <td>NaT</td>\n      <td>NaT</td>\n    </tr>\n    <tr>\n      <th>8997</th>\n      <td>2017-09-07</td>\n      <td>DOG</td>\n      <td>LABRADOR RETRIV</td>\n      <td>MALE</td>\n      <td>BROWN</td>\n      <td>NaN</td>\n      <td>NaN</td>\n      <td>47130</td>\n      <td>NaN</td>\n      <td>UNKNOWN</td>\n      <td>2017-09-10</td>\n      <td>NaN</td>\n      <td>NaT</td>\n      <td>NaN</td>\n      <td>NaN</td>\n      <td>NaT</td>\n      <td>NaT</td>\n    </tr>\n    <tr>\n      <th>8998</th>\n      <td>2017-09-07</td>\n      <td>DOG</td>\n      <td>LABRADOR RETRIV</td>\n      <td>FEMALE</td>\n      <td>BLK WHT</td>\n      <td>NaN</td>\n      <td>NaN</td>\n      <td>40229</td>\n      <td>NaN</td>\n      <td>BODY</td>\n      <td>2017-09-10</td>\n      <td>NaN</td>\n      <td>NaT</td>\n      <td>NaN</td>\n      <td>NaN</td>\n      <td>NaT</td>\n      <td>NaT</td>\n    </tr>\n    <tr>\n      <th>8999</th>\n      <td>2017-09-07</td>\n      <td>DOG</td>\n      <td>BOXER</td>\n      <td>NaN</td>\n      <td>BRN BLK</td>\n      <td>NaN</td>\n      <td>NaN</td>\n      <td>40229</td>\n      <td>NaN</td>\n      <td>BODY</td>\n      <td>2017-09-10</td>\n      <td>NaN</td>\n      <td>NaT</td>\n      <td>NaN</td>\n      <td>NaN</td>\n      <td>NaT</td>\n      <td>NaT</td>\n    </tr>\n  </tbody>\n</table>\n<p>9000 rows × 17 columns</p>\n</div>"
     },
     "execution_count": 59,
     "metadata": {},
     "output_type": "execute_result"
    }
   ],
   "source": [
    "preprocessed_data"
   ],
   "metadata": {
    "collapsed": false,
    "ExecuteTime": {
     "end_time": "2024-01-16T18:01:10.999228400Z",
     "start_time": "2024-01-16T18:01:10.873351600Z"
    }
   },
   "id": "db78ff42683d3102"
  },
  {
   "cell_type": "code",
   "execution_count": 60,
   "outputs": [
    {
     "data": {
      "text/plain": "Empty DataFrame\nColumns: [bite_date, SpeciesIDDesc, BreedIDDesc, GenderIDDesc, color, vaccination_yrs, vaccination_date, victim_zip, AdvIssuedYNDesc, WhereBittenIDDesc, quarantine_date, DispositionIDDesc, head_sent_date, release_date, ResultsIDDesc, DifferenceOfBitedateAndQuarantinedate, differnceOfBiteAndHeadSent]\nIndex: []",
      "text/html": "<div>\n<style scoped>\n    .dataframe tbody tr th:only-of-type {\n        vertical-align: middle;\n    }\n\n    .dataframe tbody tr th {\n        vertical-align: top;\n    }\n\n    .dataframe thead th {\n        text-align: right;\n    }\n</style>\n<table border=\"1\" class=\"dataframe\">\n  <thead>\n    <tr style=\"text-align: right;\">\n      <th></th>\n      <th>bite_date</th>\n      <th>SpeciesIDDesc</th>\n      <th>BreedIDDesc</th>\n      <th>GenderIDDesc</th>\n      <th>color</th>\n      <th>vaccination_yrs</th>\n      <th>vaccination_date</th>\n      <th>victim_zip</th>\n      <th>AdvIssuedYNDesc</th>\n      <th>WhereBittenIDDesc</th>\n      <th>quarantine_date</th>\n      <th>DispositionIDDesc</th>\n      <th>head_sent_date</th>\n      <th>release_date</th>\n      <th>ResultsIDDesc</th>\n      <th>DifferenceOfBitedateAndQuarantinedate</th>\n      <th>differnceOfBiteAndHeadSent</th>\n    </tr>\n  </thead>\n  <tbody>\n  </tbody>\n</table>\n</div>"
     },
     "execution_count": 60,
     "metadata": {},
     "output_type": "execute_result"
    }
   ],
   "source": [
    "check_null_values(preprocessed_data,selectedcolumn)"
   ],
   "metadata": {
    "collapsed": false,
    "ExecuteTime": {
     "end_time": "2024-01-16T18:02:25.389206800Z",
     "start_time": "2024-01-16T18:02:25.328220100Z"
    }
   },
   "id": "b8d61a02bcefd23b"
  },
  {
   "cell_type": "code",
   "execution_count": 61,
   "outputs": [
    {
     "data": {
      "text/plain": "0"
     },
     "execution_count": 61,
     "metadata": {},
     "output_type": "execute_result"
    }
   ],
   "source": [
    "preprocessed_data['bite_date'].isnull().sum()"
   ],
   "metadata": {
    "collapsed": false,
    "ExecuteTime": {
     "end_time": "2024-01-16T18:02:32.485301600Z",
     "start_time": "2024-01-16T18:02:32.424044300Z"
    }
   },
   "id": "87a0431d05ca7c79"
  },
  {
   "cell_type": "code",
   "execution_count": 62,
   "outputs": [
    {
     "data": {
      "text/plain": "0"
     },
     "execution_count": 62,
     "metadata": {},
     "output_type": "execute_result"
    }
   ],
   "source": [
    "preprocessed_data['quarantine_date'].isnull().sum()"
   ],
   "metadata": {
    "collapsed": false,
    "ExecuteTime": {
     "end_time": "2024-01-16T18:02:54.461291Z",
     "start_time": "2024-01-16T18:02:54.335324500Z"
    }
   },
   "id": "e3e7e145a4aa8d0"
  },
  {
   "cell_type": "code",
   "execution_count": 63,
   "outputs": [
    {
     "data": {
      "text/plain": "8605"
     },
     "execution_count": 63,
     "metadata": {},
     "output_type": "execute_result"
    }
   ],
   "source": [
    "preprocessed_data['head_sent_date'].isnull().sum()"
   ],
   "metadata": {
    "collapsed": false,
    "ExecuteTime": {
     "end_time": "2024-01-16T18:03:10.544147500Z",
     "start_time": "2024-01-16T18:03:10.481800700Z"
    }
   },
   "id": "eb272b950cac5f16"
  },
  {
   "cell_type": "code",
   "execution_count": 64,
   "outputs": [
    {
     "data": {
      "text/plain": "0      1985-05-06\n1      1986-02-13\n2      1987-05-08\n3      1988-10-03\n4      1989-08-30\n          ...    \n8995   2017-09-06\n8996   2017-09-08\n8997   2017-09-08\n8998   2017-09-08\n8999   2017-09-08\nName: head_sent_date, Length: 9000, dtype: datetime64[ns]"
     },
     "execution_count": 64,
     "metadata": {},
     "output_type": "execute_result"
    }
   ],
   "source": [
    "# let's add 'head_sent_date' column as well\n",
    "to_fillna_byAdding(preprocessed_data,'head_sent_date','bite_date',1)"
   ],
   "metadata": {
    "collapsed": false,
    "ExecuteTime": {
     "end_time": "2024-01-16T18:05:12.617395400Z",
     "start_time": "2024-01-16T18:05:12.552794Z"
    }
   },
   "id": "3778e130aa0a29ff"
  },
  {
   "cell_type": "code",
   "execution_count": 65,
   "outputs": [
    {
     "data": {
      "text/plain": "0"
     },
     "execution_count": 65,
     "metadata": {},
     "output_type": "execute_result"
    }
   ],
   "source": [
    "preprocessed_data['head_sent_date'].isnull().sum()"
   ],
   "metadata": {
    "collapsed": false,
    "ExecuteTime": {
     "end_time": "2024-01-16T18:05:27.771180100Z",
     "start_time": "2024-01-16T18:05:27.710608600Z"
    }
   },
   "id": "bd0d59cb18dc1030"
  },
  {
   "cell_type": "code",
   "execution_count": 66,
   "outputs": [
    {
     "data": {
      "text/plain": "118"
     },
     "execution_count": 66,
     "metadata": {},
     "output_type": "execute_result"
    }
   ],
   "source": [
    "preprocessed_data['SpeciesIDDesc'].isnull().sum()"
   ],
   "metadata": {
    "collapsed": false,
    "ExecuteTime": {
     "end_time": "2024-01-16T18:05:42.946704800Z",
     "start_time": "2024-01-16T18:05:42.858523300Z"
    }
   },
   "id": "88964ad4eb73c722"
  },
  {
   "cell_type": "code",
   "execution_count": 67,
   "outputs": [
    {
     "data": {
      "text/plain": "'DOG'"
     },
     "execution_count": 67,
     "metadata": {},
     "output_type": "execute_result"
    }
   ],
   "source": [
    "# get the most bitten animal in the dataset\n",
    "\n",
    "mode(preprocessed_data['SpeciesIDDesc'])"
   ],
   "metadata": {
    "collapsed": false,
    "ExecuteTime": {
     "end_time": "2024-01-16T18:05:56.422406900Z",
     "start_time": "2024-01-16T18:05:56.350570200Z"
    }
   },
   "id": "80cf95aac44d27c5"
  },
  {
   "cell_type": "code",
   "execution_count": 78,
   "outputs": [
    {
     "data": {
      "text/plain": "0       DOG\n1       DOG\n2       DOG\n3       DOG\n4       DOG\n       ... \n8995    DOG\n8996    DOG\n8997    DOG\n8998    DOG\n8999    DOG\nName: SpeciesIDDesc, Length: 9000, dtype: object"
     },
     "execution_count": 78,
     "metadata": {},
     "output_type": "execute_result"
    }
   ],
   "source": [
    "#lets fill missing values in 'SpeciesIDDesc' column using mode value.\n",
    "fill_category(preprocessed_data,'SpeciesIDDesc','DOG')\n",
    "\n"
   ],
   "metadata": {
    "collapsed": false,
    "ExecuteTime": {
     "end_time": "2024-01-16T18:08:43.745901600Z",
     "start_time": "2024-01-16T18:08:43.681598300Z"
    }
   },
   "id": "36cf7a13285dc767"
  },
  {
   "cell_type": "code",
   "execution_count": 69,
   "outputs": [
    {
     "data": {
      "text/plain": "0"
     },
     "execution_count": 69,
     "metadata": {},
     "output_type": "execute_result"
    }
   ],
   "source": [
    "preprocessed_data['SpeciesIDDesc'].isnull().sum()"
   ],
   "metadata": {
    "collapsed": false,
    "ExecuteTime": {
     "end_time": "2024-01-16T18:06:08.726401800Z",
     "start_time": "2024-01-16T18:06:08.687227800Z"
    }
   },
   "id": "78014f423c5ae860"
  },
  {
   "cell_type": "code",
   "execution_count": 73,
   "outputs": [
    {
     "data": {
      "text/plain": "0"
     },
     "execution_count": 73,
     "metadata": {},
     "output_type": "execute_result"
    }
   ],
   "source": [
    "# let's check gender column\n",
    "preprocessed_data['GenderIDDesc'].isnull().sum()\n"
   ],
   "metadata": {
    "collapsed": false,
    "ExecuteTime": {
     "end_time": "2024-01-16T18:06:49.471749400Z",
     "start_time": "2024-01-16T18:06:49.425960900Z"
    }
   },
   "id": "311bb88225c96250"
  },
  {
   "cell_type": "code",
   "execution_count": 71,
   "outputs": [
    {
     "data": {
      "text/plain": "'MALE'"
     },
     "execution_count": 71,
     "metadata": {},
     "output_type": "execute_result"
    }
   ],
   "source": [
    "# categorical_values = preprocessed_data['SpeciesIDDesc']\n",
    "mode(preprocessed_data['GenderIDDesc'])\n"
   ],
   "metadata": {
    "collapsed": false,
    "ExecuteTime": {
     "end_time": "2024-01-16T18:06:18.179544500Z",
     "start_time": "2024-01-16T18:06:18.138370200Z"
    }
   },
   "id": "bfe887f271098bc8"
  },
  {
   "cell_type": "code",
   "execution_count": 72,
   "outputs": [
    {
     "data": {
      "text/plain": "0        FEMALE\n1       UNKNOWN\n2       UNKNOWN\n3          MALE\n4        FEMALE\n         ...   \n8995       MALE\n8996       MALE\n8997       MALE\n8998     FEMALE\n8999       MALE\nName: GenderIDDesc, Length: 9000, dtype: object"
     },
     "execution_count": 72,
     "metadata": {},
     "output_type": "execute_result"
    }
   ],
   "source": [
    "# let's fill null values using mode of gender\n",
    "fill_category(preprocessed_data,'GenderIDDesc','MALE')\n"
   ],
   "metadata": {
    "collapsed": false,
    "ExecuteTime": {
     "end_time": "2024-01-16T18:06:38.277046600Z",
     "start_time": "2024-01-16T18:06:38.206647400Z"
    }
   },
   "id": "fe93f4e6f53ca90b"
  },
  {
   "cell_type": "code",
   "execution_count": 83,
   "outputs": [],
   "source": [
    "preprocessed_data['GenderIDDesc'] = preprocessed_data['GenderIDDesc'].replace('UNKNOWN','MALE')\n"
   ],
   "metadata": {
    "collapsed": false,
    "ExecuteTime": {
     "end_time": "2024-01-16T18:10:44.393363800Z",
     "start_time": "2024-01-16T18:10:44.332351Z"
    }
   },
   "id": "19b80b85425f1f5d"
  },
  {
   "cell_type": "code",
   "execution_count": 84,
   "outputs": [
    {
     "data": {
      "text/plain": "0       FEMALE\n1         MALE\n2         MALE\n3         MALE\n4       FEMALE\n         ...  \n8995      MALE\n8996      MALE\n8997      MALE\n8998    FEMALE\n8999      MALE\nName: GenderIDDesc, Length: 9000, dtype: object"
     },
     "execution_count": 84,
     "metadata": {},
     "output_type": "execute_result"
    }
   ],
   "source": [
    "preprocessed_data['GenderIDDesc']"
   ],
   "metadata": {
    "collapsed": false,
    "ExecuteTime": {
     "end_time": "2024-01-16T18:10:48.159092Z",
     "start_time": "2024-01-16T18:10:48.105604300Z"
    }
   },
   "id": "7e11f2c5e75aadba"
  },
  {
   "cell_type": "code",
   "execution_count": 85,
   "outputs": [
    {
     "data": {
      "text/plain": "GenderIDDesc\nMALE      6984\nFEMALE    2016\nName: count, dtype: int64"
     },
     "execution_count": 85,
     "metadata": {},
     "output_type": "execute_result"
    }
   ],
   "source": [
    "preprocessed_data['GenderIDDesc'].value_counts()"
   ],
   "metadata": {
    "collapsed": false,
    "ExecuteTime": {
     "end_time": "2024-01-16T18:10:52.155712200Z",
     "start_time": "2024-01-16T18:10:52.069510300Z"
    }
   },
   "id": "e6a6f66c63aca0bd"
  },
  {
   "cell_type": "code",
   "execution_count": 86,
   "outputs": [
    {
     "data": {
      "text/plain": "color\nBLACK         671\nBROWN         433\nWHITE         394\nBLK WHT       277\nTAN           222\n             ... \nWH/BLACK        1\nBL/WH/BROW      1\nORG/WHITE       1\nTAN/SILVER      1\nBRONW           1\nName: count, Length: 712, dtype: int64"
     },
     "execution_count": 86,
     "metadata": {},
     "output_type": "execute_result"
    }
   ],
   "source": [
    "#let's get unique count in color column\n",
    "preprocessed_data['color'].value_counts()"
   ],
   "metadata": {
    "collapsed": false,
    "ExecuteTime": {
     "end_time": "2024-01-16T18:11:11.873465800Z",
     "start_time": "2024-01-16T18:11:11.814991600Z"
    }
   },
   "id": "4be73bbad1c37db0"
  },
  {
   "cell_type": "code",
   "execution_count": 87,
   "outputs": [
    {
     "data": {
      "text/plain": "'BLACK'"
     },
     "execution_count": 87,
     "metadata": {},
     "output_type": "execute_result"
    }
   ],
   "source": [
    "# check mode value by dropping nulls\n",
    "mode(preprocessed_data['color'].dropna())"
   ],
   "metadata": {
    "collapsed": false,
    "ExecuteTime": {
     "end_time": "2024-01-16T18:11:19.471214100Z",
     "start_time": "2024-01-16T18:11:19.414248Z"
    }
   },
   "id": "e3c71978b882a69f"
  },
  {
   "cell_type": "code",
   "execution_count": 88,
   "outputs": [
    {
     "data": {
      "text/plain": "2576"
     },
     "execution_count": 88,
     "metadata": {},
     "output_type": "execute_result"
    }
   ],
   "source": [
    "preprocessed_data['color'].isnull().sum()"
   ],
   "metadata": {
    "collapsed": false,
    "ExecuteTime": {
     "end_time": "2024-01-16T18:11:21.318708700Z",
     "start_time": "2024-01-16T18:11:21.252555400Z"
    }
   },
   "id": "54c5e539607c05b"
  },
  {
   "cell_type": "code",
   "execution_count": 89,
   "outputs": [],
   "source": [
    "preprocessed_data['color'] = fill_category(preprocessed_data,'color','BLACK')"
   ],
   "metadata": {
    "collapsed": false,
    "ExecuteTime": {
     "end_time": "2024-01-16T18:11:25.832781500Z",
     "start_time": "2024-01-16T18:11:25.787991100Z"
    }
   },
   "id": "b26741b815a2a514"
  },
  {
   "cell_type": "code",
   "execution_count": 90,
   "outputs": [
    {
     "data": {
      "text/plain": "'BLACK'"
     },
     "execution_count": 90,
     "metadata": {},
     "output_type": "execute_result"
    }
   ],
   "source": [
    "mode(preprocessed_data['color'])"
   ],
   "metadata": {
    "collapsed": false,
    "ExecuteTime": {
     "end_time": "2024-01-16T18:11:26.652769200Z",
     "start_time": "2024-01-16T18:11:26.609268200Z"
    }
   },
   "id": "38c77dd2e7171f1f"
  },
  {
   "cell_type": "code",
   "execution_count": 22,
   "outputs": [
    {
     "data": {
      "text/plain": "0       LIG. BROWN\n1        BRO & BLA\n2            BLACK\n3        BLA & BRO\n4          BLK-WHT\n           ...    \n8998         BLACK\n8999           RED\n9000         BROWN\n9001       BLK WHT\n9002       BRN BLK\nName: color, Length: 9003, dtype: object"
     },
     "execution_count": 22,
     "metadata": {},
     "output_type": "execute_result"
    }
   ],
   "source": [
    "preprocessed_data['color']"
   ],
   "metadata": {
    "collapsed": false,
    "ExecuteTime": {
     "end_time": "2024-01-16T07:51:11.242969Z",
     "start_time": "2024-01-16T07:51:11.165071800Z"
    }
   },
   "id": "640b1d5c193ba8b0"
  },
  {
   "cell_type": "code",
   "execution_count": 91,
   "outputs": [
    {
     "data": {
      "text/plain": "0"
     },
     "execution_count": 91,
     "metadata": {},
     "output_type": "execute_result"
    }
   ],
   "source": [
    "preprocessed_data['color'].isnull().sum()"
   ],
   "metadata": {
    "collapsed": false,
    "ExecuteTime": {
     "end_time": "2024-01-16T18:11:42.881737400Z",
     "start_time": "2024-01-16T18:11:42.828481200Z"
    }
   },
   "id": "381e15879d10c466"
  },
  {
   "cell_type": "code",
   "execution_count": null,
   "outputs": [],
   "source": [],
   "metadata": {
    "collapsed": false
   },
   "id": "cecc2742e4b04988"
  }
 ],
 "metadata": {
  "kernelspec": {
   "display_name": "Python 3 (ipykernel)",
   "language": "python",
   "name": "python3"
  },
  "language_info": {
   "codemirror_mode": {
    "name": "ipython",
    "version": 3
   },
   "file_extension": ".py",
   "mimetype": "text/x-python",
   "name": "python",
   "nbconvert_exporter": "python",
   "pygments_lexer": "ipython3",
   "version": "3.11.4"
  }
 },
 "nbformat": 4,
 "nbformat_minor": 5
}
