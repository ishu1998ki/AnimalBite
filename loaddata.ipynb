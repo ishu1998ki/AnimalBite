{
 "cells": [
  {
   "cell_type": "code",
   "execution_count": 1,
   "id": "initial_id",
   "metadata": {
    "ExecuteTime": {
     "end_time": "2024-01-16T07:33:23.396008900Z",
     "start_time": "2024-01-16T07:33:19.653325700Z"
    }
   },
   "outputs": [],
   "source": [
    "import pandas as pd\n",
    "import numpy as np\n",
    "import os \n",
    "\n",
    "from datetime import datetime, timedelta\n",
    "from statistics import mode\n"
   ]
  },
  {
   "cell_type": "code",
   "execution_count": 2,
   "outputs": [
    {
     "data": {
      "text/plain": "'C:\\\\Users\\\\Christila\\\\Documents\\\\AnimalBite'"
     },
     "execution_count": 2,
     "metadata": {},
     "output_type": "execute_result"
    }
   ],
   "source": [
    "os.getcwd()"
   ],
   "metadata": {
    "collapsed": false,
    "ExecuteTime": {
     "end_time": "2024-01-16T07:33:27.374806100Z",
     "start_time": "2024-01-16T07:33:27.327186400Z"
    }
   },
   "id": "c9444c40db4621f5"
  },
  {
   "cell_type": "code",
   "execution_count": 3,
   "outputs": [
    {
     "data": {
      "text/plain": "(9003, 15)"
     },
     "execution_count": 3,
     "metadata": {},
     "output_type": "execute_result"
    }
   ],
   "source": [
    "loadData = pd.read_csv('Health_AnimalBites.csv')\n",
    "loadData.shape\n"
   ],
   "metadata": {
    "collapsed": false,
    "ExecuteTime": {
     "end_time": "2024-01-16T07:33:59.868854100Z",
     "start_time": "2024-01-16T07:33:59.681652400Z"
    }
   },
   "id": "ac04392ec5689863"
  },
  {
   "cell_type": "code",
   "execution_count": 4,
   "id": "5c1b4622",
   "metadata": {
    "ExecuteTime": {
     "end_time": "2024-01-16T07:34:09.693915100Z",
     "start_time": "2024-01-16T07:34:09.576061900Z"
    }
   },
   "outputs": [
    {
     "data": {
      "text/plain": "             bite_date SpeciesIDDesc BreedIDDesc GenderIDDesc       color  \\\n0  1985-05-05 00:00:00           DOG         NaN       FEMALE  LIG. BROWN   \n1  1986-02-12 00:00:00           DOG         NaN      UNKNOWN   BRO & BLA   \n2  1987-05-07 00:00:00           DOG         NaN      UNKNOWN         NaN   \n3  1988-10-02 00:00:00           DOG         NaN         MALE   BLA & BRO   \n4  1989-08-29 00:00:00           DOG         NaN       FEMALE     BLK-WHT   \n\n   vaccination_yrs     vaccination_date victim_zip AdvIssuedYNDesc  \\\n0              1.0  1985-06-20 00:00:00      40229              NO   \n1              NaN                  NaN      40218              NO   \n2              NaN                  NaN      40219              NO   \n3              NaN                  NaN        NaN              NO   \n4              NaN                  NaN        NaN              NO   \n\n  WhereBittenIDDesc      quarantine_date DispositionIDDesc head_sent_date  \\\n0              BODY  1985-05-05 00:00:00           UNKNOWN            NaN   \n1              BODY  1986-02-12 00:00:00           UNKNOWN            NaN   \n2              BODY  1990-05-07 00:00:00           UNKNOWN            NaN   \n3              BODY  1990-10-02 00:00:00           UNKNOWN            NaN   \n4              BODY                  NaN           UNKNOWN            NaN   \n\n  release_date ResultsIDDesc  \n0          NaN       UNKNOWN  \n1          NaN       UNKNOWN  \n2          NaN       UNKNOWN  \n3          NaN       UNKNOWN  \n4          NaN       UNKNOWN  ",
      "text/html": "<div>\n<style scoped>\n    .dataframe tbody tr th:only-of-type {\n        vertical-align: middle;\n    }\n\n    .dataframe tbody tr th {\n        vertical-align: top;\n    }\n\n    .dataframe thead th {\n        text-align: right;\n    }\n</style>\n<table border=\"1\" class=\"dataframe\">\n  <thead>\n    <tr style=\"text-align: right;\">\n      <th></th>\n      <th>bite_date</th>\n      <th>SpeciesIDDesc</th>\n      <th>BreedIDDesc</th>\n      <th>GenderIDDesc</th>\n      <th>color</th>\n      <th>vaccination_yrs</th>\n      <th>vaccination_date</th>\n      <th>victim_zip</th>\n      <th>AdvIssuedYNDesc</th>\n      <th>WhereBittenIDDesc</th>\n      <th>quarantine_date</th>\n      <th>DispositionIDDesc</th>\n      <th>head_sent_date</th>\n      <th>release_date</th>\n      <th>ResultsIDDesc</th>\n    </tr>\n  </thead>\n  <tbody>\n    <tr>\n      <th>0</th>\n      <td>1985-05-05 00:00:00</td>\n      <td>DOG</td>\n      <td>NaN</td>\n      <td>FEMALE</td>\n      <td>LIG. BROWN</td>\n      <td>1.0</td>\n      <td>1985-06-20 00:00:00</td>\n      <td>40229</td>\n      <td>NO</td>\n      <td>BODY</td>\n      <td>1985-05-05 00:00:00</td>\n      <td>UNKNOWN</td>\n      <td>NaN</td>\n      <td>NaN</td>\n      <td>UNKNOWN</td>\n    </tr>\n    <tr>\n      <th>1</th>\n      <td>1986-02-12 00:00:00</td>\n      <td>DOG</td>\n      <td>NaN</td>\n      <td>UNKNOWN</td>\n      <td>BRO &amp; BLA</td>\n      <td>NaN</td>\n      <td>NaN</td>\n      <td>40218</td>\n      <td>NO</td>\n      <td>BODY</td>\n      <td>1986-02-12 00:00:00</td>\n      <td>UNKNOWN</td>\n      <td>NaN</td>\n      <td>NaN</td>\n      <td>UNKNOWN</td>\n    </tr>\n    <tr>\n      <th>2</th>\n      <td>1987-05-07 00:00:00</td>\n      <td>DOG</td>\n      <td>NaN</td>\n      <td>UNKNOWN</td>\n      <td>NaN</td>\n      <td>NaN</td>\n      <td>NaN</td>\n      <td>40219</td>\n      <td>NO</td>\n      <td>BODY</td>\n      <td>1990-05-07 00:00:00</td>\n      <td>UNKNOWN</td>\n      <td>NaN</td>\n      <td>NaN</td>\n      <td>UNKNOWN</td>\n    </tr>\n    <tr>\n      <th>3</th>\n      <td>1988-10-02 00:00:00</td>\n      <td>DOG</td>\n      <td>NaN</td>\n      <td>MALE</td>\n      <td>BLA &amp; BRO</td>\n      <td>NaN</td>\n      <td>NaN</td>\n      <td>NaN</td>\n      <td>NO</td>\n      <td>BODY</td>\n      <td>1990-10-02 00:00:00</td>\n      <td>UNKNOWN</td>\n      <td>NaN</td>\n      <td>NaN</td>\n      <td>UNKNOWN</td>\n    </tr>\n    <tr>\n      <th>4</th>\n      <td>1989-08-29 00:00:00</td>\n      <td>DOG</td>\n      <td>NaN</td>\n      <td>FEMALE</td>\n      <td>BLK-WHT</td>\n      <td>NaN</td>\n      <td>NaN</td>\n      <td>NaN</td>\n      <td>NO</td>\n      <td>BODY</td>\n      <td>NaN</td>\n      <td>UNKNOWN</td>\n      <td>NaN</td>\n      <td>NaN</td>\n      <td>UNKNOWN</td>\n    </tr>\n  </tbody>\n</table>\n</div>"
     },
     "execution_count": 4,
     "metadata": {},
     "output_type": "execute_result"
    }
   ],
   "source": [
    "loadData.head()"
   ]
  },
  {
   "cell_type": "code",
   "execution_count": 5,
   "id": "472f6742993dde66",
   "metadata": {
    "ExecuteTime": {
     "end_time": "2024-01-16T07:34:16.203847400Z",
     "start_time": "2024-01-16T07:34:15.998091800Z"
    }
   },
   "outputs": [
    {
     "data": {
      "text/plain": "bite_date             317\nSpeciesIDDesc         118\nBreedIDDesc          5244\nGenderIDDesc         2526\ncolor                2577\nvaccination_yrs      5265\nvaccination_date     4888\nvictim_zip           1838\nAdvIssuedYNDesc      6438\nWhereBittenIDDesc     616\nquarantine_date      6983\nDispositionIDDesc    7468\nhead_sent_date       8608\nrelease_date         7558\nResultsIDDesc        7460\ndtype: int64"
     },
     "execution_count": 5,
     "metadata": {},
     "output_type": "execute_result"
    }
   ],
   "source": [
    "loadData.isnull().sum()"
   ]
  },
  {
   "cell_type": "code",
   "execution_count": 6,
   "id": "dc894c2b",
   "metadata": {
    "ExecuteTime": {
     "end_time": "2024-01-16T07:34:21.303066400Z",
     "start_time": "2024-01-16T07:34:21.190692400Z"
    }
   },
   "outputs": [],
   "source": [
    "preprocessed_data =  loadData.copy()"
   ]
  },
  {
   "cell_type": "code",
   "execution_count": 7,
   "id": "1f2eb859",
   "metadata": {
    "ExecuteTime": {
     "end_time": "2024-01-16T07:34:24.519782300Z",
     "start_time": "2024-01-16T07:34:23.438573100Z"
    }
   },
   "outputs": [
    {
     "ename": "OutOfBoundsDatetime",
     "evalue": "Out of bounds nanosecond timestamp: 5013-07-15 00:00:00, at position 1384",
     "output_type": "error",
     "traceback": [
      "\u001B[1;31m---------------------------------------------------------------------------\u001B[0m",
      "\u001B[1;31mOverflowError\u001B[0m                             Traceback (most recent call last)",
      "File \u001B[1;32mconversion.pyx:234\u001B[0m, in \u001B[0;36mpandas._libs.tslibs.conversion._TSObject.ensure_reso\u001B[1;34m()\u001B[0m\n",
      "File \u001B[1;32mnp_datetime.pyx:629\u001B[0m, in \u001B[0;36mpandas._libs.tslibs.np_datetime.convert_reso\u001B[1;34m()\u001B[0m\n",
      "\u001B[1;31mOverflowError\u001B[0m: value too large",
      "\nThe above exception was the direct cause of the following exception:\n",
      "\u001B[1;31mOutOfBoundsDatetime\u001B[0m                       Traceback (most recent call last)",
      "Cell \u001B[1;32mIn[7], line 2\u001B[0m\n\u001B[0;32m      1\u001B[0m \u001B[38;5;66;03m#\u001B[39;00m\n\u001B[1;32m----> 2\u001B[0m \u001B[43mpd\u001B[49m\u001B[38;5;241;43m.\u001B[39;49m\u001B[43mto_datetime\u001B[49m\u001B[43m(\u001B[49m\u001B[43mpreprocessed_data\u001B[49m\u001B[43m[\u001B[49m\u001B[38;5;124;43m'\u001B[39;49m\u001B[38;5;124;43mbite_date\u001B[39;49m\u001B[38;5;124;43m'\u001B[39;49m\u001B[43m]\u001B[49m\u001B[43m,\u001B[49m\u001B[43m \u001B[49m\u001B[38;5;28;43mformat\u001B[39;49m\u001B[38;5;241;43m=\u001B[39;49m\u001B[38;5;124;43m'\u001B[39;49m\u001B[38;5;124;43mmixed\u001B[39;49m\u001B[38;5;124;43m'\u001B[39;49m\u001B[43m)\u001B[49m\n",
      "File \u001B[1;32m~\\AppData\\Local\\Programs\\Python\\Python311\\Lib\\site-packages\\pandas\\core\\tools\\datetimes.py:1108\u001B[0m, in \u001B[0;36mto_datetime\u001B[1;34m(arg, errors, dayfirst, yearfirst, utc, format, exact, unit, infer_datetime_format, origin, cache)\u001B[0m\n\u001B[0;32m   1106\u001B[0m             result \u001B[38;5;241m=\u001B[39m arg\u001B[38;5;241m.\u001B[39mtz_localize(\u001B[38;5;124m\"\u001B[39m\u001B[38;5;124mutc\u001B[39m\u001B[38;5;124m\"\u001B[39m)\n\u001B[0;32m   1107\u001B[0m \u001B[38;5;28;01melif\u001B[39;00m \u001B[38;5;28misinstance\u001B[39m(arg, ABCSeries):\n\u001B[1;32m-> 1108\u001B[0m     cache_array \u001B[38;5;241m=\u001B[39m \u001B[43m_maybe_cache\u001B[49m\u001B[43m(\u001B[49m\u001B[43marg\u001B[49m\u001B[43m,\u001B[49m\u001B[43m \u001B[49m\u001B[38;5;28;43mformat\u001B[39;49m\u001B[43m,\u001B[49m\u001B[43m \u001B[49m\u001B[43mcache\u001B[49m\u001B[43m,\u001B[49m\u001B[43m \u001B[49m\u001B[43mconvert_listlike\u001B[49m\u001B[43m)\u001B[49m\n\u001B[0;32m   1109\u001B[0m     \u001B[38;5;28;01mif\u001B[39;00m \u001B[38;5;129;01mnot\u001B[39;00m cache_array\u001B[38;5;241m.\u001B[39mempty:\n\u001B[0;32m   1110\u001B[0m         result \u001B[38;5;241m=\u001B[39m arg\u001B[38;5;241m.\u001B[39mmap(cache_array)\n",
      "File \u001B[1;32m~\\AppData\\Local\\Programs\\Python\\Python311\\Lib\\site-packages\\pandas\\core\\tools\\datetimes.py:254\u001B[0m, in \u001B[0;36m_maybe_cache\u001B[1;34m(arg, format, cache, convert_listlike)\u001B[0m\n\u001B[0;32m    252\u001B[0m unique_dates \u001B[38;5;241m=\u001B[39m unique(arg)\n\u001B[0;32m    253\u001B[0m \u001B[38;5;28;01mif\u001B[39;00m \u001B[38;5;28mlen\u001B[39m(unique_dates) \u001B[38;5;241m<\u001B[39m \u001B[38;5;28mlen\u001B[39m(arg):\n\u001B[1;32m--> 254\u001B[0m     cache_dates \u001B[38;5;241m=\u001B[39m \u001B[43mconvert_listlike\u001B[49m\u001B[43m(\u001B[49m\u001B[43munique_dates\u001B[49m\u001B[43m,\u001B[49m\u001B[43m \u001B[49m\u001B[38;5;28;43mformat\u001B[39;49m\u001B[43m)\u001B[49m\n\u001B[0;32m    255\u001B[0m     \u001B[38;5;66;03m# GH#45319\u001B[39;00m\n\u001B[0;32m    256\u001B[0m     \u001B[38;5;28;01mtry\u001B[39;00m:\n",
      "File \u001B[1;32m~\\AppData\\Local\\Programs\\Python\\Python311\\Lib\\site-packages\\pandas\\core\\tools\\datetimes.py:490\u001B[0m, in \u001B[0;36m_convert_listlike_datetimes\u001B[1;34m(arg, format, name, utc, unit, errors, dayfirst, yearfirst, exact)\u001B[0m\n\u001B[0;32m    487\u001B[0m \u001B[38;5;28;01mif\u001B[39;00m \u001B[38;5;28mformat\u001B[39m \u001B[38;5;129;01mis\u001B[39;00m \u001B[38;5;129;01mnot\u001B[39;00m \u001B[38;5;28;01mNone\u001B[39;00m \u001B[38;5;129;01mand\u001B[39;00m \u001B[38;5;28mformat\u001B[39m \u001B[38;5;241m!=\u001B[39m \u001B[38;5;124m\"\u001B[39m\u001B[38;5;124mmixed\u001B[39m\u001B[38;5;124m\"\u001B[39m:\n\u001B[0;32m    488\u001B[0m     \u001B[38;5;28;01mreturn\u001B[39;00m _array_strptime_with_fallback(arg, name, utc, \u001B[38;5;28mformat\u001B[39m, exact, errors)\n\u001B[1;32m--> 490\u001B[0m result, tz_parsed \u001B[38;5;241m=\u001B[39m \u001B[43mobjects_to_datetime64ns\u001B[49m\u001B[43m(\u001B[49m\n\u001B[0;32m    491\u001B[0m \u001B[43m    \u001B[49m\u001B[43marg\u001B[49m\u001B[43m,\u001B[49m\n\u001B[0;32m    492\u001B[0m \u001B[43m    \u001B[49m\u001B[43mdayfirst\u001B[49m\u001B[38;5;241;43m=\u001B[39;49m\u001B[43mdayfirst\u001B[49m\u001B[43m,\u001B[49m\n\u001B[0;32m    493\u001B[0m \u001B[43m    \u001B[49m\u001B[43myearfirst\u001B[49m\u001B[38;5;241;43m=\u001B[39;49m\u001B[43myearfirst\u001B[49m\u001B[43m,\u001B[49m\n\u001B[0;32m    494\u001B[0m \u001B[43m    \u001B[49m\u001B[43mutc\u001B[49m\u001B[38;5;241;43m=\u001B[39;49m\u001B[43mutc\u001B[49m\u001B[43m,\u001B[49m\n\u001B[0;32m    495\u001B[0m \u001B[43m    \u001B[49m\u001B[43merrors\u001B[49m\u001B[38;5;241;43m=\u001B[39;49m\u001B[43merrors\u001B[49m\u001B[43m,\u001B[49m\n\u001B[0;32m    496\u001B[0m \u001B[43m    \u001B[49m\u001B[43mallow_object\u001B[49m\u001B[38;5;241;43m=\u001B[39;49m\u001B[38;5;28;43;01mTrue\u001B[39;49;00m\u001B[43m,\u001B[49m\n\u001B[0;32m    497\u001B[0m \u001B[43m\u001B[49m\u001B[43m)\u001B[49m\n\u001B[0;32m    499\u001B[0m \u001B[38;5;28;01mif\u001B[39;00m tz_parsed \u001B[38;5;129;01mis\u001B[39;00m \u001B[38;5;129;01mnot\u001B[39;00m \u001B[38;5;28;01mNone\u001B[39;00m:\n\u001B[0;32m    500\u001B[0m     \u001B[38;5;66;03m# We can take a shortcut since the datetime64 numpy array\u001B[39;00m\n\u001B[0;32m    501\u001B[0m     \u001B[38;5;66;03m# is in UTC\u001B[39;00m\n\u001B[0;32m    502\u001B[0m     dta \u001B[38;5;241m=\u001B[39m DatetimeArray(result, dtype\u001B[38;5;241m=\u001B[39mtz_to_dtype(tz_parsed))\n",
      "File \u001B[1;32m~\\AppData\\Local\\Programs\\Python\\Python311\\Lib\\site-packages\\pandas\\core\\arrays\\datetimes.py:2346\u001B[0m, in \u001B[0;36mobjects_to_datetime64ns\u001B[1;34m(data, dayfirst, yearfirst, utc, errors, allow_object)\u001B[0m\n\u001B[0;32m   2343\u001B[0m \u001B[38;5;66;03m# if str-dtype, convert\u001B[39;00m\n\u001B[0;32m   2344\u001B[0m data \u001B[38;5;241m=\u001B[39m np\u001B[38;5;241m.\u001B[39marray(data, copy\u001B[38;5;241m=\u001B[39m\u001B[38;5;28;01mFalse\u001B[39;00m, dtype\u001B[38;5;241m=\u001B[39mnp\u001B[38;5;241m.\u001B[39mobject_)\n\u001B[1;32m-> 2346\u001B[0m result, tz_parsed \u001B[38;5;241m=\u001B[39m \u001B[43mtslib\u001B[49m\u001B[38;5;241;43m.\u001B[39;49m\u001B[43marray_to_datetime\u001B[49m\u001B[43m(\u001B[49m\n\u001B[0;32m   2347\u001B[0m \u001B[43m    \u001B[49m\u001B[43mdata\u001B[49m\u001B[43m,\u001B[49m\n\u001B[0;32m   2348\u001B[0m \u001B[43m    \u001B[49m\u001B[43merrors\u001B[49m\u001B[38;5;241;43m=\u001B[39;49m\u001B[43merrors\u001B[49m\u001B[43m,\u001B[49m\n\u001B[0;32m   2349\u001B[0m \u001B[43m    \u001B[49m\u001B[43mutc\u001B[49m\u001B[38;5;241;43m=\u001B[39;49m\u001B[43mutc\u001B[49m\u001B[43m,\u001B[49m\n\u001B[0;32m   2350\u001B[0m \u001B[43m    \u001B[49m\u001B[43mdayfirst\u001B[49m\u001B[38;5;241;43m=\u001B[39;49m\u001B[43mdayfirst\u001B[49m\u001B[43m,\u001B[49m\n\u001B[0;32m   2351\u001B[0m \u001B[43m    \u001B[49m\u001B[43myearfirst\u001B[49m\u001B[38;5;241;43m=\u001B[39;49m\u001B[43myearfirst\u001B[49m\u001B[43m,\u001B[49m\n\u001B[0;32m   2352\u001B[0m \u001B[43m\u001B[49m\u001B[43m)\u001B[49m\n\u001B[0;32m   2354\u001B[0m \u001B[38;5;28;01mif\u001B[39;00m tz_parsed \u001B[38;5;129;01mis\u001B[39;00m \u001B[38;5;129;01mnot\u001B[39;00m \u001B[38;5;28;01mNone\u001B[39;00m:\n\u001B[0;32m   2355\u001B[0m     \u001B[38;5;66;03m# We can take a shortcut since the datetime64 numpy array\u001B[39;00m\n\u001B[0;32m   2356\u001B[0m     \u001B[38;5;66;03m#  is in UTC\u001B[39;00m\n\u001B[0;32m   2357\u001B[0m     \u001B[38;5;66;03m# Return i8 values to denote unix timestamps\u001B[39;00m\n\u001B[0;32m   2358\u001B[0m     \u001B[38;5;28;01mreturn\u001B[39;00m result\u001B[38;5;241m.\u001B[39mview(\u001B[38;5;124m\"\u001B[39m\u001B[38;5;124mi8\u001B[39m\u001B[38;5;124m\"\u001B[39m), tz_parsed\n",
      "File \u001B[1;32mtslib.pyx:403\u001B[0m, in \u001B[0;36mpandas._libs.tslib.array_to_datetime\u001B[1;34m()\u001B[0m\n",
      "File \u001B[1;32mtslib.pyx:552\u001B[0m, in \u001B[0;36mpandas._libs.tslib.array_to_datetime\u001B[1;34m()\u001B[0m\n",
      "File \u001B[1;32mtslib.pyx:520\u001B[0m, in \u001B[0;36mpandas._libs.tslib.array_to_datetime\u001B[1;34m()\u001B[0m\n",
      "File \u001B[1;32mconversion.pyx:237\u001B[0m, in \u001B[0;36mpandas._libs.tslibs.conversion._TSObject.ensure_reso\u001B[1;34m()\u001B[0m\n",
      "\u001B[1;31mOutOfBoundsDatetime\u001B[0m: Out of bounds nanosecond timestamp: 5013-07-15 00:00:00, at position 1384"
     ]
    }
   ],
   "source": [
    "# instead of defining exact format for datetime data mixed format will convert string to time data adaptavity. \n",
    "pd.to_datetime(preprocessed_data['bite_date'], format='mixed')"
   ]
  },
  {
   "cell_type": "code",
   "execution_count": 8,
   "id": "7400a394",
   "metadata": {
    "ExecuteTime": {
     "end_time": "2024-01-16T07:34:29.287306600Z",
     "start_time": "2024-01-16T07:34:29.204646500Z"
    }
   },
   "outputs": [],
   "source": [
    "#convert bite_date into needed format\n",
    "preprocessed_data['bite_date'] = preprocessed_data['bite_date'].str.replace('5013-07-15 00:00:00','2013-07-15 00:00:00')"
   ]
  },
  {
   "cell_type": "code",
   "execution_count": 9,
   "id": "d67c549d",
   "metadata": {
    "ExecuteTime": {
     "end_time": "2024-01-16T07:34:32.007654Z",
     "start_time": "2024-01-16T07:34:31.910854800Z"
    }
   },
   "outputs": [],
   "source": [
    "preprocessed_data['bite_date'] = pd.to_datetime(preprocessed_data['bite_date'])"
   ]
  },
  {
   "cell_type": "code",
   "execution_count": 10,
   "id": "1d32e250",
   "metadata": {
    "ExecuteTime": {
     "end_time": "2024-01-16T07:34:33.953643300Z",
     "start_time": "2024-01-16T07:34:33.921649600Z"
    }
   },
   "outputs": [
    {
     "data": {
      "text/plain": "0      1985-05-05\n1      1986-02-12\n2      1990-05-07\n3      1990-10-02\n4             NaT\n          ...    \n8998          NaT\n8999          NaT\n9000          NaT\n9001          NaT\n9002          NaT\nName: quarantine_date, Length: 9003, dtype: datetime64[ns]"
     },
     "execution_count": 10,
     "metadata": {},
     "output_type": "execute_result"
    }
   ],
   "source": [
    "# convert date into one format\n",
    "pd.to_datetime(preprocessed_data['quarantine_date'], format='%Y-%m-%d %H:%M:%S')"
   ]
  },
  {
   "cell_type": "code",
   "execution_count": 18,
   "id": "b756ea40",
   "metadata": {
    "ExecuteTime": {
     "end_time": "2024-01-16T07:37:58.815753300Z",
     "start_time": "2024-01-16T07:37:58.715337700Z"
    }
   },
   "outputs": [],
   "source": [
    "# convert quarantine_date column from string type to datetime type\n",
    "preprocessed_data['quarantine_date'] = pd.to_datetime(preprocessed_data['quarantine_date'])"
   ]
  },
  {
   "cell_type": "code",
   "execution_count": 12,
   "id": "660af1db",
   "metadata": {
    "ExecuteTime": {
     "end_time": "2024-01-16T07:34:42.765779700Z",
     "start_time": "2024-01-16T07:34:42.634792400Z"
    }
   },
   "outputs": [
    {
     "data": {
      "text/plain": "dtype('<M8[ns]')"
     },
     "execution_count": 12,
     "metadata": {},
     "output_type": "execute_result"
    }
   ],
   "source": [
    "preprocessed_data['quarantine_date'].dtypes"
   ]
  },
  {
   "cell_type": "code",
   "execution_count": 13,
   "id": "e8a3412e",
   "metadata": {
    "ExecuteTime": {
     "end_time": "2024-01-16T07:34:46.729953Z",
     "start_time": "2024-01-16T07:34:46.653602200Z"
    }
   },
   "outputs": [],
   "source": [
    "#get difference between quarantine_date column and bite_date column\n",
    "difference = preprocessed_data['quarantine_date'] - preprocessed_data['bite_date']"
   ]
  },
  {
   "cell_type": "code",
   "execution_count": 14,
   "id": "0af1ebe1",
   "metadata": {
    "ExecuteTime": {
     "end_time": "2024-01-16T07:34:48.563008100Z",
     "start_time": "2024-01-16T07:34:48.466008Z"
    }
   },
   "outputs": [
    {
     "data": {
      "text/plain": "0      0 days\n1      0 days\n2   1096 days\n3    730 days\n4         NaT\ndtype: timedelta64[ns]"
     },
     "execution_count": 14,
     "metadata": {},
     "output_type": "execute_result"
    }
   ],
   "source": [
    "difference.head()"
   ]
  },
  {
   "cell_type": "code",
   "execution_count": 15,
   "id": "faac8a02",
   "metadata": {
    "ExecuteTime": {
     "end_time": "2024-01-16T07:34:56.925202400Z",
     "start_time": "2024-01-16T07:34:56.867104900Z"
    }
   },
   "outputs": [],
   "source": [
    "# store the difference by creating new column in dataframe\n",
    "preprocessed_data['difference'] = difference"
   ]
  },
  {
   "cell_type": "code",
   "execution_count": 16,
   "id": "5501f431",
   "metadata": {
    "ExecuteTime": {
     "end_time": "2024-01-16T07:34:59.802950700Z",
     "start_time": "2024-01-16T07:34:59.684544400Z"
    }
   },
   "outputs": [
    {
     "data": {
      "text/plain": "   bite_date SpeciesIDDesc BreedIDDesc GenderIDDesc       color  \\\n0 1985-05-05           DOG         NaN       FEMALE  LIG. BROWN   \n1 1986-02-12           DOG         NaN      UNKNOWN   BRO & BLA   \n2 1987-05-07           DOG         NaN      UNKNOWN         NaN   \n3 1988-10-02           DOG         NaN         MALE   BLA & BRO   \n4 1989-08-29           DOG         NaN       FEMALE     BLK-WHT   \n\n   vaccination_yrs     vaccination_date victim_zip AdvIssuedYNDesc  \\\n0              1.0  1985-06-20 00:00:00      40229              NO   \n1              NaN                  NaN      40218              NO   \n2              NaN                  NaN      40219              NO   \n3              NaN                  NaN        NaN              NO   \n4              NaN                  NaN        NaN              NO   \n\n  WhereBittenIDDesc quarantine_date DispositionIDDesc head_sent_date  \\\n0              BODY      1985-05-05           UNKNOWN            NaN   \n1              BODY      1986-02-12           UNKNOWN            NaN   \n2              BODY      1990-05-07           UNKNOWN            NaN   \n3              BODY      1990-10-02           UNKNOWN            NaN   \n4              BODY             NaT           UNKNOWN            NaN   \n\n  release_date ResultsIDDesc difference  \n0          NaN       UNKNOWN     0 days  \n1          NaN       UNKNOWN     0 days  \n2          NaN       UNKNOWN  1096 days  \n3          NaN       UNKNOWN   730 days  \n4          NaN       UNKNOWN        NaT  ",
      "text/html": "<div>\n<style scoped>\n    .dataframe tbody tr th:only-of-type {\n        vertical-align: middle;\n    }\n\n    .dataframe tbody tr th {\n        vertical-align: top;\n    }\n\n    .dataframe thead th {\n        text-align: right;\n    }\n</style>\n<table border=\"1\" class=\"dataframe\">\n  <thead>\n    <tr style=\"text-align: right;\">\n      <th></th>\n      <th>bite_date</th>\n      <th>SpeciesIDDesc</th>\n      <th>BreedIDDesc</th>\n      <th>GenderIDDesc</th>\n      <th>color</th>\n      <th>vaccination_yrs</th>\n      <th>vaccination_date</th>\n      <th>victim_zip</th>\n      <th>AdvIssuedYNDesc</th>\n      <th>WhereBittenIDDesc</th>\n      <th>quarantine_date</th>\n      <th>DispositionIDDesc</th>\n      <th>head_sent_date</th>\n      <th>release_date</th>\n      <th>ResultsIDDesc</th>\n      <th>difference</th>\n    </tr>\n  </thead>\n  <tbody>\n    <tr>\n      <th>0</th>\n      <td>1985-05-05</td>\n      <td>DOG</td>\n      <td>NaN</td>\n      <td>FEMALE</td>\n      <td>LIG. BROWN</td>\n      <td>1.0</td>\n      <td>1985-06-20 00:00:00</td>\n      <td>40229</td>\n      <td>NO</td>\n      <td>BODY</td>\n      <td>1985-05-05</td>\n      <td>UNKNOWN</td>\n      <td>NaN</td>\n      <td>NaN</td>\n      <td>UNKNOWN</td>\n      <td>0 days</td>\n    </tr>\n    <tr>\n      <th>1</th>\n      <td>1986-02-12</td>\n      <td>DOG</td>\n      <td>NaN</td>\n      <td>UNKNOWN</td>\n      <td>BRO &amp; BLA</td>\n      <td>NaN</td>\n      <td>NaN</td>\n      <td>40218</td>\n      <td>NO</td>\n      <td>BODY</td>\n      <td>1986-02-12</td>\n      <td>UNKNOWN</td>\n      <td>NaN</td>\n      <td>NaN</td>\n      <td>UNKNOWN</td>\n      <td>0 days</td>\n    </tr>\n    <tr>\n      <th>2</th>\n      <td>1987-05-07</td>\n      <td>DOG</td>\n      <td>NaN</td>\n      <td>UNKNOWN</td>\n      <td>NaN</td>\n      <td>NaN</td>\n      <td>NaN</td>\n      <td>40219</td>\n      <td>NO</td>\n      <td>BODY</td>\n      <td>1990-05-07</td>\n      <td>UNKNOWN</td>\n      <td>NaN</td>\n      <td>NaN</td>\n      <td>UNKNOWN</td>\n      <td>1096 days</td>\n    </tr>\n    <tr>\n      <th>3</th>\n      <td>1988-10-02</td>\n      <td>DOG</td>\n      <td>NaN</td>\n      <td>MALE</td>\n      <td>BLA &amp; BRO</td>\n      <td>NaN</td>\n      <td>NaN</td>\n      <td>NaN</td>\n      <td>NO</td>\n      <td>BODY</td>\n      <td>1990-10-02</td>\n      <td>UNKNOWN</td>\n      <td>NaN</td>\n      <td>NaN</td>\n      <td>UNKNOWN</td>\n      <td>730 days</td>\n    </tr>\n    <tr>\n      <th>4</th>\n      <td>1989-08-29</td>\n      <td>DOG</td>\n      <td>NaN</td>\n      <td>FEMALE</td>\n      <td>BLK-WHT</td>\n      <td>NaN</td>\n      <td>NaN</td>\n      <td>NaN</td>\n      <td>NO</td>\n      <td>BODY</td>\n      <td>NaT</td>\n      <td>UNKNOWN</td>\n      <td>NaN</td>\n      <td>NaN</td>\n      <td>UNKNOWN</td>\n      <td>NaT</td>\n    </tr>\n  </tbody>\n</table>\n</div>"
     },
     "execution_count": 16,
     "metadata": {},
     "output_type": "execute_result"
    }
   ],
   "source": [
    "preprocessed_data.head()"
   ]
  },
  {
   "cell_type": "code",
   "execution_count": 17,
   "id": "36eca3c1",
   "metadata": {
    "ExecuteTime": {
     "end_time": "2024-01-16T07:35:04.125612200Z",
     "start_time": "2024-01-16T07:35:03.943263300Z"
    }
   },
   "outputs": [
    {
     "data": {
      "text/plain": "      bite_date quarantine_date difference\n0    1985-05-05      1985-05-05     0 days\n1    1986-02-12      1986-02-12     0 days\n2    1987-05-07      1990-05-07  1096 days\n3    1988-10-02      1990-10-02   730 days\n4    1989-08-29             NaT        NaT\n...         ...             ...        ...\n8998 2017-09-05             NaT        NaT\n8999 2017-09-07             NaT        NaT\n9000 2017-09-07             NaT        NaT\n9001 2017-09-07             NaT        NaT\n9002 2017-09-07             NaT        NaT\n\n[9003 rows x 3 columns]",
      "text/html": "<div>\n<style scoped>\n    .dataframe tbody tr th:only-of-type {\n        vertical-align: middle;\n    }\n\n    .dataframe tbody tr th {\n        vertical-align: top;\n    }\n\n    .dataframe thead th {\n        text-align: right;\n    }\n</style>\n<table border=\"1\" class=\"dataframe\">\n  <thead>\n    <tr style=\"text-align: right;\">\n      <th></th>\n      <th>bite_date</th>\n      <th>quarantine_date</th>\n      <th>difference</th>\n    </tr>\n  </thead>\n  <tbody>\n    <tr>\n      <th>0</th>\n      <td>1985-05-05</td>\n      <td>1985-05-05</td>\n      <td>0 days</td>\n    </tr>\n    <tr>\n      <th>1</th>\n      <td>1986-02-12</td>\n      <td>1986-02-12</td>\n      <td>0 days</td>\n    </tr>\n    <tr>\n      <th>2</th>\n      <td>1987-05-07</td>\n      <td>1990-05-07</td>\n      <td>1096 days</td>\n    </tr>\n    <tr>\n      <th>3</th>\n      <td>1988-10-02</td>\n      <td>1990-10-02</td>\n      <td>730 days</td>\n    </tr>\n    <tr>\n      <th>4</th>\n      <td>1989-08-29</td>\n      <td>NaT</td>\n      <td>NaT</td>\n    </tr>\n    <tr>\n      <th>...</th>\n      <td>...</td>\n      <td>...</td>\n      <td>...</td>\n    </tr>\n    <tr>\n      <th>8998</th>\n      <td>2017-09-05</td>\n      <td>NaT</td>\n      <td>NaT</td>\n    </tr>\n    <tr>\n      <th>8999</th>\n      <td>2017-09-07</td>\n      <td>NaT</td>\n      <td>NaT</td>\n    </tr>\n    <tr>\n      <th>9000</th>\n      <td>2017-09-07</td>\n      <td>NaT</td>\n      <td>NaT</td>\n    </tr>\n    <tr>\n      <th>9001</th>\n      <td>2017-09-07</td>\n      <td>NaT</td>\n      <td>NaT</td>\n    </tr>\n    <tr>\n      <th>9002</th>\n      <td>2017-09-07</td>\n      <td>NaT</td>\n      <td>NaT</td>\n    </tr>\n  </tbody>\n</table>\n<p>9003 rows × 3 columns</p>\n</div>"
     },
     "execution_count": 17,
     "metadata": {},
     "output_type": "execute_result"
    }
   ],
   "source": [
    "preprocessed_data[['bite_date','quarantine_date','difference']]"
   ]
  },
  {
   "cell_type": "code",
   "execution_count": 18,
   "id": "3b48421b",
   "metadata": {
    "ExecuteTime": {
     "end_time": "2024-01-15T10:04:50.631250700Z",
     "start_time": "2024-01-15T10:04:50.556607600Z"
    }
   },
   "outputs": [],
   "source": [
    "# select rows that are difference of the days greater than 0 days(not nulls)\n",
    "selected_rows = preprocessed_data[preprocessed_data['difference']>timedelta(days=1)]"
   ]
  },
  {
   "cell_type": "code",
   "execution_count": 19,
   "id": "766d70a6",
   "metadata": {
    "ExecuteTime": {
     "end_time": "2024-01-15T10:04:52.303252300Z",
     "start_time": "2024-01-15T10:04:52.279361300Z"
    }
   },
   "outputs": [],
   "source": [
    "# sorting rows based on difference column\n",
    "sorted_df = selected_rows.sort_values(by='difference',ascending=False)"
   ]
  },
  {
   "cell_type": "code",
   "execution_count": 20,
   "outputs": [
    {
     "data": {
      "text/plain": "      bite_date quarantine_date difference\n2    1987-05-07      1990-05-07  1096 days\n3    1988-10-02      1990-10-02   730 days\n103  2010-01-27      2011-01-28   366 days\n2093 2011-04-14      2011-07-15    92 days\n1984 2011-04-15      2011-06-16    62 days\n...         ...             ...        ...\n1075 2010-11-20      2010-11-22     2 days\n1057 2010-11-13      2010-11-15     2 days\n1035 2010-11-07      2010-11-09     2 days\n1032 2010-11-07      2010-11-09     2 days\n8866 2017-08-05      2017-08-07     2 days\n\n[979 rows x 3 columns]",
      "text/html": "<div>\n<style scoped>\n    .dataframe tbody tr th:only-of-type {\n        vertical-align: middle;\n    }\n\n    .dataframe tbody tr th {\n        vertical-align: top;\n    }\n\n    .dataframe thead th {\n        text-align: right;\n    }\n</style>\n<table border=\"1\" class=\"dataframe\">\n  <thead>\n    <tr style=\"text-align: right;\">\n      <th></th>\n      <th>bite_date</th>\n      <th>quarantine_date</th>\n      <th>difference</th>\n    </tr>\n  </thead>\n  <tbody>\n    <tr>\n      <th>2</th>\n      <td>1987-05-07</td>\n      <td>1990-05-07</td>\n      <td>1096 days</td>\n    </tr>\n    <tr>\n      <th>3</th>\n      <td>1988-10-02</td>\n      <td>1990-10-02</td>\n      <td>730 days</td>\n    </tr>\n    <tr>\n      <th>103</th>\n      <td>2010-01-27</td>\n      <td>2011-01-28</td>\n      <td>366 days</td>\n    </tr>\n    <tr>\n      <th>2093</th>\n      <td>2011-04-14</td>\n      <td>2011-07-15</td>\n      <td>92 days</td>\n    </tr>\n    <tr>\n      <th>1984</th>\n      <td>2011-04-15</td>\n      <td>2011-06-16</td>\n      <td>62 days</td>\n    </tr>\n    <tr>\n      <th>...</th>\n      <td>...</td>\n      <td>...</td>\n      <td>...</td>\n    </tr>\n    <tr>\n      <th>1075</th>\n      <td>2010-11-20</td>\n      <td>2010-11-22</td>\n      <td>2 days</td>\n    </tr>\n    <tr>\n      <th>1057</th>\n      <td>2010-11-13</td>\n      <td>2010-11-15</td>\n      <td>2 days</td>\n    </tr>\n    <tr>\n      <th>1035</th>\n      <td>2010-11-07</td>\n      <td>2010-11-09</td>\n      <td>2 days</td>\n    </tr>\n    <tr>\n      <th>1032</th>\n      <td>2010-11-07</td>\n      <td>2010-11-09</td>\n      <td>2 days</td>\n    </tr>\n    <tr>\n      <th>8866</th>\n      <td>2017-08-05</td>\n      <td>2017-08-07</td>\n      <td>2 days</td>\n    </tr>\n  </tbody>\n</table>\n<p>979 rows × 3 columns</p>\n</div>"
     },
     "execution_count": 20,
     "metadata": {},
     "output_type": "execute_result"
    }
   ],
   "source": [
    "# select needed column\n",
    "sorted_df[['bite_date','quarantine_date','difference']]\n"
   ],
   "metadata": {
    "collapsed": false,
    "ExecuteTime": {
     "end_time": "2024-01-15T10:04:54.710752900Z",
     "start_time": "2024-01-15T10:04:54.665049200Z"
    }
   },
   "id": "4e40e8a621bd73a8"
  },
  {
   "cell_type": "code",
   "execution_count": 22,
   "outputs": [
    {
     "data": {
      "text/plain": "Timedelta('-13 days +00:40:57.485029941')"
     },
     "execution_count": 22,
     "metadata": {},
     "output_type": "execute_result"
    }
   ],
   "source": [
    "# when we need to fill null rows in quarantine_date or bite_date, first we need to find the average date.\n",
    "averageDifference = preprocessed_data['difference'].mean()\n",
    "averageDifference"
   ],
   "metadata": {
    "collapsed": false,
    "ExecuteTime": {
     "end_time": "2024-01-15T10:04:59.985095Z",
     "start_time": "2024-01-15T10:04:59.943884100Z"
    }
   },
   "id": "7fdc4c64153f3b09"
  },
  {
   "cell_type": "code",
   "execution_count": 23,
   "outputs": [
    {
     "data": {
      "text/plain": "      bite_date SpeciesIDDesc      BreedIDDesc GenderIDDesc      color  \\\n2    1987-05-07           DOG              NaN      UNKNOWN        NaN   \n3    1988-10-02           DOG              NaN         MALE  BLA & BRO   \n103  2010-01-27           DOG              NaN       FEMALE  BRN-BLACK   \n2093 2011-04-14           DOG  LABRADOR RETRIV         MALE     BLONDE   \n1984 2011-04-15           DOG          MALTASE         MALE      WHITE   \n...         ...           ...              ...          ...        ...   \n8998 2017-09-05           DOG              NaN          NaN        NaN   \n8999 2017-09-07           DOG       POMERANIAN         MALE        RED   \n9000 2017-09-07           DOG  LABRADOR RETRIV         MALE      BROWN   \n9001 2017-09-07           DOG  LABRADOR RETRIV       FEMALE    BLK WHT   \n9002 2017-09-07           DOG            BOXER          NaN    BRN BLK   \n\n      vaccination_yrs     vaccination_date victim_zip AdvIssuedYNDesc  \\\n2                 NaN                  NaN      40219              NO   \n3                 NaN                  NaN        NaN              NO   \n103               1.0  2010-07-30 00:00:00      40229              NO   \n2093              3.0  2009-06-02 00:00:00      40228              NO   \n1984              3.0  2011-06-29 00:00:00      40245              NO   \n...               ...                  ...        ...             ...   \n8998              NaN                  NaN      40243             NaN   \n8999              NaN                  NaN      40204             NaN   \n9000              NaN                  NaN      47130             NaN   \n9001              NaN                  NaN      40229             NaN   \n9002              NaN                  NaN      40229             NaN   \n\n     WhereBittenIDDesc quarantine_date DispositionIDDesc head_sent_date  \\\n2                 BODY      1990-05-07           UNKNOWN            NaN   \n3                 BODY      1990-10-02           UNKNOWN            NaN   \n103               BODY      2011-01-28           UNKNOWN            NaN   \n2093              BODY      2011-07-15               NaN            NaN   \n1984              BODY      2011-06-16               NaN            NaN   \n...                ...             ...               ...            ...   \n8998           UNKNOWN             NaT               NaN            NaN   \n8999              HEAD             NaT               NaN            NaN   \n9000           UNKNOWN             NaT               NaN            NaN   \n9001              BODY             NaT               NaN            NaN   \n9002              BODY             NaT               NaN            NaN   \n\n     release_date ResultsIDDesc difference  \n2             NaN       UNKNOWN  1096 days  \n3             NaN       UNKNOWN   730 days  \n103           NaN       UNKNOWN   366 days  \n2093          NaN           NaN    92 days  \n1984          NaN           NaN    62 days  \n...           ...           ...        ...  \n8998          NaN           NaN        NaT  \n8999          NaN           NaN        NaT  \n9000          NaN           NaN        NaT  \n9001          NaN           NaN        NaT  \n9002          NaN           NaN        NaT  \n\n[9003 rows x 16 columns]",
      "text/html": "<div>\n<style scoped>\n    .dataframe tbody tr th:only-of-type {\n        vertical-align: middle;\n    }\n\n    .dataframe tbody tr th {\n        vertical-align: top;\n    }\n\n    .dataframe thead th {\n        text-align: right;\n    }\n</style>\n<table border=\"1\" class=\"dataframe\">\n  <thead>\n    <tr style=\"text-align: right;\">\n      <th></th>\n      <th>bite_date</th>\n      <th>SpeciesIDDesc</th>\n      <th>BreedIDDesc</th>\n      <th>GenderIDDesc</th>\n      <th>color</th>\n      <th>vaccination_yrs</th>\n      <th>vaccination_date</th>\n      <th>victim_zip</th>\n      <th>AdvIssuedYNDesc</th>\n      <th>WhereBittenIDDesc</th>\n      <th>quarantine_date</th>\n      <th>DispositionIDDesc</th>\n      <th>head_sent_date</th>\n      <th>release_date</th>\n      <th>ResultsIDDesc</th>\n      <th>difference</th>\n    </tr>\n  </thead>\n  <tbody>\n    <tr>\n      <th>2</th>\n      <td>1987-05-07</td>\n      <td>DOG</td>\n      <td>NaN</td>\n      <td>UNKNOWN</td>\n      <td>NaN</td>\n      <td>NaN</td>\n      <td>NaN</td>\n      <td>40219</td>\n      <td>NO</td>\n      <td>BODY</td>\n      <td>1990-05-07</td>\n      <td>UNKNOWN</td>\n      <td>NaN</td>\n      <td>NaN</td>\n      <td>UNKNOWN</td>\n      <td>1096 days</td>\n    </tr>\n    <tr>\n      <th>3</th>\n      <td>1988-10-02</td>\n      <td>DOG</td>\n      <td>NaN</td>\n      <td>MALE</td>\n      <td>BLA &amp; BRO</td>\n      <td>NaN</td>\n      <td>NaN</td>\n      <td>NaN</td>\n      <td>NO</td>\n      <td>BODY</td>\n      <td>1990-10-02</td>\n      <td>UNKNOWN</td>\n      <td>NaN</td>\n      <td>NaN</td>\n      <td>UNKNOWN</td>\n      <td>730 days</td>\n    </tr>\n    <tr>\n      <th>103</th>\n      <td>2010-01-27</td>\n      <td>DOG</td>\n      <td>NaN</td>\n      <td>FEMALE</td>\n      <td>BRN-BLACK</td>\n      <td>1.0</td>\n      <td>2010-07-30 00:00:00</td>\n      <td>40229</td>\n      <td>NO</td>\n      <td>BODY</td>\n      <td>2011-01-28</td>\n      <td>UNKNOWN</td>\n      <td>NaN</td>\n      <td>NaN</td>\n      <td>UNKNOWN</td>\n      <td>366 days</td>\n    </tr>\n    <tr>\n      <th>2093</th>\n      <td>2011-04-14</td>\n      <td>DOG</td>\n      <td>LABRADOR RETRIV</td>\n      <td>MALE</td>\n      <td>BLONDE</td>\n      <td>3.0</td>\n      <td>2009-06-02 00:00:00</td>\n      <td>40228</td>\n      <td>NO</td>\n      <td>BODY</td>\n      <td>2011-07-15</td>\n      <td>NaN</td>\n      <td>NaN</td>\n      <td>NaN</td>\n      <td>NaN</td>\n      <td>92 days</td>\n    </tr>\n    <tr>\n      <th>1984</th>\n      <td>2011-04-15</td>\n      <td>DOG</td>\n      <td>MALTASE</td>\n      <td>MALE</td>\n      <td>WHITE</td>\n      <td>3.0</td>\n      <td>2011-06-29 00:00:00</td>\n      <td>40245</td>\n      <td>NO</td>\n      <td>BODY</td>\n      <td>2011-06-16</td>\n      <td>NaN</td>\n      <td>NaN</td>\n      <td>NaN</td>\n      <td>NaN</td>\n      <td>62 days</td>\n    </tr>\n    <tr>\n      <th>...</th>\n      <td>...</td>\n      <td>...</td>\n      <td>...</td>\n      <td>...</td>\n      <td>...</td>\n      <td>...</td>\n      <td>...</td>\n      <td>...</td>\n      <td>...</td>\n      <td>...</td>\n      <td>...</td>\n      <td>...</td>\n      <td>...</td>\n      <td>...</td>\n      <td>...</td>\n      <td>...</td>\n    </tr>\n    <tr>\n      <th>8998</th>\n      <td>2017-09-05</td>\n      <td>DOG</td>\n      <td>NaN</td>\n      <td>NaN</td>\n      <td>NaN</td>\n      <td>NaN</td>\n      <td>NaN</td>\n      <td>40243</td>\n      <td>NaN</td>\n      <td>UNKNOWN</td>\n      <td>NaT</td>\n      <td>NaN</td>\n      <td>NaN</td>\n      <td>NaN</td>\n      <td>NaN</td>\n      <td>NaT</td>\n    </tr>\n    <tr>\n      <th>8999</th>\n      <td>2017-09-07</td>\n      <td>DOG</td>\n      <td>POMERANIAN</td>\n      <td>MALE</td>\n      <td>RED</td>\n      <td>NaN</td>\n      <td>NaN</td>\n      <td>40204</td>\n      <td>NaN</td>\n      <td>HEAD</td>\n      <td>NaT</td>\n      <td>NaN</td>\n      <td>NaN</td>\n      <td>NaN</td>\n      <td>NaN</td>\n      <td>NaT</td>\n    </tr>\n    <tr>\n      <th>9000</th>\n      <td>2017-09-07</td>\n      <td>DOG</td>\n      <td>LABRADOR RETRIV</td>\n      <td>MALE</td>\n      <td>BROWN</td>\n      <td>NaN</td>\n      <td>NaN</td>\n      <td>47130</td>\n      <td>NaN</td>\n      <td>UNKNOWN</td>\n      <td>NaT</td>\n      <td>NaN</td>\n      <td>NaN</td>\n      <td>NaN</td>\n      <td>NaN</td>\n      <td>NaT</td>\n    </tr>\n    <tr>\n      <th>9001</th>\n      <td>2017-09-07</td>\n      <td>DOG</td>\n      <td>LABRADOR RETRIV</td>\n      <td>FEMALE</td>\n      <td>BLK WHT</td>\n      <td>NaN</td>\n      <td>NaN</td>\n      <td>40229</td>\n      <td>NaN</td>\n      <td>BODY</td>\n      <td>NaT</td>\n      <td>NaN</td>\n      <td>NaN</td>\n      <td>NaN</td>\n      <td>NaN</td>\n      <td>NaT</td>\n    </tr>\n    <tr>\n      <th>9002</th>\n      <td>2017-09-07</td>\n      <td>DOG</td>\n      <td>BOXER</td>\n      <td>NaN</td>\n      <td>BRN BLK</td>\n      <td>NaN</td>\n      <td>NaN</td>\n      <td>40229</td>\n      <td>NaN</td>\n      <td>BODY</td>\n      <td>NaT</td>\n      <td>NaN</td>\n      <td>NaN</td>\n      <td>NaN</td>\n      <td>NaN</td>\n      <td>NaT</td>\n    </tr>\n  </tbody>\n</table>\n<p>9003 rows × 16 columns</p>\n</div>"
     },
     "execution_count": 23,
     "metadata": {},
     "output_type": "execute_result"
    }
   ],
   "source": [
    "# averageDifference cannot be a minus value. the reason can be quarantine_date lower than bite_date.\n",
    "sortByDifference = preprocessed_data.sort_values(by='difference',ascending=False)\n",
    "sortByDifference"
   ],
   "metadata": {
    "collapsed": false,
    "ExecuteTime": {
     "end_time": "2024-01-15T10:05:01.663429500Z",
     "start_time": "2024-01-15T10:05:01.565489800Z"
    }
   },
   "id": "7f2aca5bf727f805"
  },
  {
   "cell_type": "code",
   "execution_count": 24,
   "outputs": [],
   "source": [
    "# we got the error data in row numbers - 2113,526,785,771,1512. we have to correct this\n",
    "# in row number 1512, it cannot be the bite_date as year of 2101. it should be year of 2011\n",
    "preprocessed_data['bite_date'] = preprocessed_data['bite_date'].replace(pd.to_datetime('2101-02-18'), pd.to_datetime('2011-02-18'))\n",
    "\n",
    "# in row number 771 the month of bite_date can be 05 instead of 08\n",
    "preprocessed_data['bite_date'] = preprocessed_data['bite_date'].replace(pd.to_datetime('2010-08-12'), pd.to_datetime('2010-05-12'))"
   ],
   "metadata": {
    "collapsed": false,
    "ExecuteTime": {
     "end_time": "2024-01-15T10:05:08.593309400Z",
     "start_time": "2024-01-15T10:05:08.553917900Z"
    }
   },
   "id": "f7323f5369ebb4ef"
  },
  {
   "cell_type": "code",
   "execution_count": 25,
   "outputs": [],
   "source": [
    "# In row numbers  785,526 and 2113  have wrong bite_date, the difference cannot be minus value. 3 data cannot be much effect. therefore we can drop those 3 values from the dataframe\n",
    "indexesToDrop = [526,785,2113]\n",
    "preprocessed_data = preprocessed_data.drop(indexesToDrop)"
   ],
   "metadata": {
    "collapsed": false,
    "ExecuteTime": {
     "end_time": "2024-01-15T10:05:10.414635400Z",
     "start_time": "2024-01-15T10:05:10.357429900Z"
    }
   },
   "id": "91a253cbee880faa"
  },
  {
   "cell_type": "code",
   "execution_count": 26,
   "outputs": [
    {
     "data": {
      "text/plain": "      bite_date SpeciesIDDesc      BreedIDDesc GenderIDDesc       color  \\\n0    1985-05-05           DOG              NaN       FEMALE  LIG. BROWN   \n1    1986-02-12           DOG              NaN      UNKNOWN   BRO & BLA   \n2    1987-05-07           DOG              NaN      UNKNOWN         NaN   \n3    1988-10-02           DOG              NaN         MALE   BLA & BRO   \n4    1989-08-29           DOG              NaN       FEMALE     BLK-WHT   \n...         ...           ...              ...          ...         ...   \n8998 2017-09-05           DOG              NaN          NaN         NaN   \n8999 2017-09-07           DOG       POMERANIAN         MALE         RED   \n9000 2017-09-07           DOG  LABRADOR RETRIV         MALE       BROWN   \n9001 2017-09-07           DOG  LABRADOR RETRIV       FEMALE     BLK WHT   \n9002 2017-09-07           DOG            BOXER          NaN     BRN BLK   \n\n      vaccination_yrs     vaccination_date victim_zip AdvIssuedYNDesc  \\\n0                 1.0  1985-06-20 00:00:00      40229              NO   \n1                 NaN                  NaN      40218              NO   \n2                 NaN                  NaN      40219              NO   \n3                 NaN                  NaN        NaN              NO   \n4                 NaN                  NaN        NaN              NO   \n...               ...                  ...        ...             ...   \n8998              NaN                  NaN      40243             NaN   \n8999              NaN                  NaN      40204             NaN   \n9000              NaN                  NaN      47130             NaN   \n9001              NaN                  NaN      40229             NaN   \n9002              NaN                  NaN      40229             NaN   \n\n     WhereBittenIDDesc quarantine_date DispositionIDDesc head_sent_date  \\\n0                 BODY      1985-05-05           UNKNOWN            NaN   \n1                 BODY      1986-02-12           UNKNOWN            NaN   \n2                 BODY      1990-05-07           UNKNOWN            NaN   \n3                 BODY      1990-10-02           UNKNOWN            NaN   \n4                 BODY             NaT           UNKNOWN            NaN   \n...                ...             ...               ...            ...   \n8998           UNKNOWN             NaT               NaN            NaN   \n8999              HEAD             NaT               NaN            NaN   \n9000           UNKNOWN             NaT               NaN            NaN   \n9001              BODY             NaT               NaN            NaN   \n9002              BODY             NaT               NaN            NaN   \n\n     release_date ResultsIDDesc difference  \n0             NaN       UNKNOWN     0 days  \n1             NaN       UNKNOWN     0 days  \n2             NaN       UNKNOWN  1096 days  \n3             NaN       UNKNOWN   730 days  \n4             NaN       UNKNOWN        NaT  \n...           ...           ...        ...  \n8998          NaN           NaN        NaT  \n8999          NaN           NaN        NaT  \n9000          NaN           NaN        NaT  \n9001          NaN           NaN        NaT  \n9002          NaN           NaN        NaT  \n\n[9000 rows x 16 columns]",
      "text/html": "<div>\n<style scoped>\n    .dataframe tbody tr th:only-of-type {\n        vertical-align: middle;\n    }\n\n    .dataframe tbody tr th {\n        vertical-align: top;\n    }\n\n    .dataframe thead th {\n        text-align: right;\n    }\n</style>\n<table border=\"1\" class=\"dataframe\">\n  <thead>\n    <tr style=\"text-align: right;\">\n      <th></th>\n      <th>bite_date</th>\n      <th>SpeciesIDDesc</th>\n      <th>BreedIDDesc</th>\n      <th>GenderIDDesc</th>\n      <th>color</th>\n      <th>vaccination_yrs</th>\n      <th>vaccination_date</th>\n      <th>victim_zip</th>\n      <th>AdvIssuedYNDesc</th>\n      <th>WhereBittenIDDesc</th>\n      <th>quarantine_date</th>\n      <th>DispositionIDDesc</th>\n      <th>head_sent_date</th>\n      <th>release_date</th>\n      <th>ResultsIDDesc</th>\n      <th>difference</th>\n    </tr>\n  </thead>\n  <tbody>\n    <tr>\n      <th>0</th>\n      <td>1985-05-05</td>\n      <td>DOG</td>\n      <td>NaN</td>\n      <td>FEMALE</td>\n      <td>LIG. BROWN</td>\n      <td>1.0</td>\n      <td>1985-06-20 00:00:00</td>\n      <td>40229</td>\n      <td>NO</td>\n      <td>BODY</td>\n      <td>1985-05-05</td>\n      <td>UNKNOWN</td>\n      <td>NaN</td>\n      <td>NaN</td>\n      <td>UNKNOWN</td>\n      <td>0 days</td>\n    </tr>\n    <tr>\n      <th>1</th>\n      <td>1986-02-12</td>\n      <td>DOG</td>\n      <td>NaN</td>\n      <td>UNKNOWN</td>\n      <td>BRO &amp; BLA</td>\n      <td>NaN</td>\n      <td>NaN</td>\n      <td>40218</td>\n      <td>NO</td>\n      <td>BODY</td>\n      <td>1986-02-12</td>\n      <td>UNKNOWN</td>\n      <td>NaN</td>\n      <td>NaN</td>\n      <td>UNKNOWN</td>\n      <td>0 days</td>\n    </tr>\n    <tr>\n      <th>2</th>\n      <td>1987-05-07</td>\n      <td>DOG</td>\n      <td>NaN</td>\n      <td>UNKNOWN</td>\n      <td>NaN</td>\n      <td>NaN</td>\n      <td>NaN</td>\n      <td>40219</td>\n      <td>NO</td>\n      <td>BODY</td>\n      <td>1990-05-07</td>\n      <td>UNKNOWN</td>\n      <td>NaN</td>\n      <td>NaN</td>\n      <td>UNKNOWN</td>\n      <td>1096 days</td>\n    </tr>\n    <tr>\n      <th>3</th>\n      <td>1988-10-02</td>\n      <td>DOG</td>\n      <td>NaN</td>\n      <td>MALE</td>\n      <td>BLA &amp; BRO</td>\n      <td>NaN</td>\n      <td>NaN</td>\n      <td>NaN</td>\n      <td>NO</td>\n      <td>BODY</td>\n      <td>1990-10-02</td>\n      <td>UNKNOWN</td>\n      <td>NaN</td>\n      <td>NaN</td>\n      <td>UNKNOWN</td>\n      <td>730 days</td>\n    </tr>\n    <tr>\n      <th>4</th>\n      <td>1989-08-29</td>\n      <td>DOG</td>\n      <td>NaN</td>\n      <td>FEMALE</td>\n      <td>BLK-WHT</td>\n      <td>NaN</td>\n      <td>NaN</td>\n      <td>NaN</td>\n      <td>NO</td>\n      <td>BODY</td>\n      <td>NaT</td>\n      <td>UNKNOWN</td>\n      <td>NaN</td>\n      <td>NaN</td>\n      <td>UNKNOWN</td>\n      <td>NaT</td>\n    </tr>\n    <tr>\n      <th>...</th>\n      <td>...</td>\n      <td>...</td>\n      <td>...</td>\n      <td>...</td>\n      <td>...</td>\n      <td>...</td>\n      <td>...</td>\n      <td>...</td>\n      <td>...</td>\n      <td>...</td>\n      <td>...</td>\n      <td>...</td>\n      <td>...</td>\n      <td>...</td>\n      <td>...</td>\n      <td>...</td>\n    </tr>\n    <tr>\n      <th>8998</th>\n      <td>2017-09-05</td>\n      <td>DOG</td>\n      <td>NaN</td>\n      <td>NaN</td>\n      <td>NaN</td>\n      <td>NaN</td>\n      <td>NaN</td>\n      <td>40243</td>\n      <td>NaN</td>\n      <td>UNKNOWN</td>\n      <td>NaT</td>\n      <td>NaN</td>\n      <td>NaN</td>\n      <td>NaN</td>\n      <td>NaN</td>\n      <td>NaT</td>\n    </tr>\n    <tr>\n      <th>8999</th>\n      <td>2017-09-07</td>\n      <td>DOG</td>\n      <td>POMERANIAN</td>\n      <td>MALE</td>\n      <td>RED</td>\n      <td>NaN</td>\n      <td>NaN</td>\n      <td>40204</td>\n      <td>NaN</td>\n      <td>HEAD</td>\n      <td>NaT</td>\n      <td>NaN</td>\n      <td>NaN</td>\n      <td>NaN</td>\n      <td>NaN</td>\n      <td>NaT</td>\n    </tr>\n    <tr>\n      <th>9000</th>\n      <td>2017-09-07</td>\n      <td>DOG</td>\n      <td>LABRADOR RETRIV</td>\n      <td>MALE</td>\n      <td>BROWN</td>\n      <td>NaN</td>\n      <td>NaN</td>\n      <td>47130</td>\n      <td>NaN</td>\n      <td>UNKNOWN</td>\n      <td>NaT</td>\n      <td>NaN</td>\n      <td>NaN</td>\n      <td>NaN</td>\n      <td>NaN</td>\n      <td>NaT</td>\n    </tr>\n    <tr>\n      <th>9001</th>\n      <td>2017-09-07</td>\n      <td>DOG</td>\n      <td>LABRADOR RETRIV</td>\n      <td>FEMALE</td>\n      <td>BLK WHT</td>\n      <td>NaN</td>\n      <td>NaN</td>\n      <td>40229</td>\n      <td>NaN</td>\n      <td>BODY</td>\n      <td>NaT</td>\n      <td>NaN</td>\n      <td>NaN</td>\n      <td>NaN</td>\n      <td>NaN</td>\n      <td>NaT</td>\n    </tr>\n    <tr>\n      <th>9002</th>\n      <td>2017-09-07</td>\n      <td>DOG</td>\n      <td>BOXER</td>\n      <td>NaN</td>\n      <td>BRN BLK</td>\n      <td>NaN</td>\n      <td>NaN</td>\n      <td>40229</td>\n      <td>NaN</td>\n      <td>BODY</td>\n      <td>NaT</td>\n      <td>NaN</td>\n      <td>NaN</td>\n      <td>NaN</td>\n      <td>NaN</td>\n      <td>NaT</td>\n    </tr>\n  </tbody>\n</table>\n<p>9000 rows × 16 columns</p>\n</div>"
     },
     "execution_count": 26,
     "metadata": {},
     "output_type": "execute_result"
    }
   ],
   "source": [
    "preprocessed_data"
   ],
   "metadata": {
    "collapsed": false,
    "ExecuteTime": {
     "end_time": "2024-01-15T10:05:12.765212800Z",
     "start_time": "2024-01-15T10:05:12.662504600Z"
    }
   },
   "id": "2a7a1e6b521338a7"
  },
  {
   "cell_type": "code",
   "execution_count": 27,
   "outputs": [],
   "source": [
    "# after drop row values we need to reindex those\n",
    "preprocessed_data = preprocessed_data.reset_index(drop=True)\n"
   ],
   "metadata": {
    "collapsed": false,
    "ExecuteTime": {
     "end_time": "2024-01-15T10:05:19.278251300Z",
     "start_time": "2024-01-15T10:05:19.254954800Z"
    }
   },
   "id": "39198acfffd7c11e"
  },
  {
   "cell_type": "code",
   "execution_count": 28,
   "outputs": [
    {
     "data": {
      "text/plain": "0         0 days\n1         0 days\n2      1096 days\n3       730 days\n4            NaT\n          ...   \n8995         NaT\n8996         NaT\n8997         NaT\n8998         NaT\n8999         NaT\nLength: 9000, dtype: timedelta64[ns]"
     },
     "execution_count": 28,
     "metadata": {},
     "output_type": "execute_result"
    }
   ],
   "source": [
    "#before check the average of difference we need to find the difference again\n",
    "new_difference = preprocessed_data['quarantine_date'] - preprocessed_data['bite_date']\n",
    "new_difference"
   ],
   "metadata": {
    "collapsed": false,
    "ExecuteTime": {
     "end_time": "2024-01-15T10:05:20.751879100Z",
     "start_time": "2024-01-15T10:05:20.723691700Z"
    }
   },
   "id": "62aadf09b8cb2e38"
  },
  {
   "cell_type": "code",
   "execution_count": 29,
   "outputs": [],
   "source": [
    "# let's create a new_difference column to store the new difference\n",
    "preprocessed_data['new_difference'] = new_difference"
   ],
   "metadata": {
    "collapsed": false,
    "ExecuteTime": {
     "end_time": "2024-01-15T10:05:29.911755900Z",
     "start_time": "2024-01-15T10:05:29.798446700Z"
    }
   },
   "id": "1d1a7e2e10d0026e"
  },
  {
   "cell_type": "code",
   "execution_count": 30,
   "outputs": [
    {
     "data": {
      "text/plain": "      bite_date SpeciesIDDesc      BreedIDDesc GenderIDDesc       color  \\\n0    1985-05-05           DOG              NaN       FEMALE  LIG. BROWN   \n1    1986-02-12           DOG              NaN      UNKNOWN   BRO & BLA   \n2    1987-05-07           DOG              NaN      UNKNOWN         NaN   \n3    1988-10-02           DOG              NaN         MALE   BLA & BRO   \n4    1989-08-29           DOG              NaN       FEMALE     BLK-WHT   \n...         ...           ...              ...          ...         ...   \n8995 2017-09-05           DOG              NaN          NaN         NaN   \n8996 2017-09-07           DOG       POMERANIAN         MALE         RED   \n8997 2017-09-07           DOG  LABRADOR RETRIV         MALE       BROWN   \n8998 2017-09-07           DOG  LABRADOR RETRIV       FEMALE     BLK WHT   \n8999 2017-09-07           DOG            BOXER          NaN     BRN BLK   \n\n      vaccination_yrs     vaccination_date victim_zip AdvIssuedYNDesc  \\\n0                 1.0  1985-06-20 00:00:00      40229              NO   \n1                 NaN                  NaN      40218              NO   \n2                 NaN                  NaN      40219              NO   \n3                 NaN                  NaN        NaN              NO   \n4                 NaN                  NaN        NaN              NO   \n...               ...                  ...        ...             ...   \n8995              NaN                  NaN      40243             NaN   \n8996              NaN                  NaN      40204             NaN   \n8997              NaN                  NaN      47130             NaN   \n8998              NaN                  NaN      40229             NaN   \n8999              NaN                  NaN      40229             NaN   \n\n     WhereBittenIDDesc quarantine_date DispositionIDDesc head_sent_date  \\\n0                 BODY      1985-05-05           UNKNOWN            NaN   \n1                 BODY      1986-02-12           UNKNOWN            NaN   \n2                 BODY      1990-05-07           UNKNOWN            NaN   \n3                 BODY      1990-10-02           UNKNOWN            NaN   \n4                 BODY             NaT           UNKNOWN            NaN   \n...                ...             ...               ...            ...   \n8995           UNKNOWN             NaT               NaN            NaN   \n8996              HEAD             NaT               NaN            NaN   \n8997           UNKNOWN             NaT               NaN            NaN   \n8998              BODY             NaT               NaN            NaN   \n8999              BODY             NaT               NaN            NaN   \n\n     release_date ResultsIDDesc difference new_difference  \n0             NaN       UNKNOWN     0 days         0 days  \n1             NaN       UNKNOWN     0 days         0 days  \n2             NaN       UNKNOWN  1096 days      1096 days  \n3             NaN       UNKNOWN   730 days       730 days  \n4             NaN       UNKNOWN        NaT            NaT  \n...           ...           ...        ...            ...  \n8995          NaN           NaN        NaT            NaT  \n8996          NaN           NaN        NaT            NaT  \n8997          NaN           NaN        NaT            NaT  \n8998          NaN           NaN        NaT            NaT  \n8999          NaN           NaN        NaT            NaT  \n\n[9000 rows x 17 columns]",
      "text/html": "<div>\n<style scoped>\n    .dataframe tbody tr th:only-of-type {\n        vertical-align: middle;\n    }\n\n    .dataframe tbody tr th {\n        vertical-align: top;\n    }\n\n    .dataframe thead th {\n        text-align: right;\n    }\n</style>\n<table border=\"1\" class=\"dataframe\">\n  <thead>\n    <tr style=\"text-align: right;\">\n      <th></th>\n      <th>bite_date</th>\n      <th>SpeciesIDDesc</th>\n      <th>BreedIDDesc</th>\n      <th>GenderIDDesc</th>\n      <th>color</th>\n      <th>vaccination_yrs</th>\n      <th>vaccination_date</th>\n      <th>victim_zip</th>\n      <th>AdvIssuedYNDesc</th>\n      <th>WhereBittenIDDesc</th>\n      <th>quarantine_date</th>\n      <th>DispositionIDDesc</th>\n      <th>head_sent_date</th>\n      <th>release_date</th>\n      <th>ResultsIDDesc</th>\n      <th>difference</th>\n      <th>new_difference</th>\n    </tr>\n  </thead>\n  <tbody>\n    <tr>\n      <th>0</th>\n      <td>1985-05-05</td>\n      <td>DOG</td>\n      <td>NaN</td>\n      <td>FEMALE</td>\n      <td>LIG. BROWN</td>\n      <td>1.0</td>\n      <td>1985-06-20 00:00:00</td>\n      <td>40229</td>\n      <td>NO</td>\n      <td>BODY</td>\n      <td>1985-05-05</td>\n      <td>UNKNOWN</td>\n      <td>NaN</td>\n      <td>NaN</td>\n      <td>UNKNOWN</td>\n      <td>0 days</td>\n      <td>0 days</td>\n    </tr>\n    <tr>\n      <th>1</th>\n      <td>1986-02-12</td>\n      <td>DOG</td>\n      <td>NaN</td>\n      <td>UNKNOWN</td>\n      <td>BRO &amp; BLA</td>\n      <td>NaN</td>\n      <td>NaN</td>\n      <td>40218</td>\n      <td>NO</td>\n      <td>BODY</td>\n      <td>1986-02-12</td>\n      <td>UNKNOWN</td>\n      <td>NaN</td>\n      <td>NaN</td>\n      <td>UNKNOWN</td>\n      <td>0 days</td>\n      <td>0 days</td>\n    </tr>\n    <tr>\n      <th>2</th>\n      <td>1987-05-07</td>\n      <td>DOG</td>\n      <td>NaN</td>\n      <td>UNKNOWN</td>\n      <td>NaN</td>\n      <td>NaN</td>\n      <td>NaN</td>\n      <td>40219</td>\n      <td>NO</td>\n      <td>BODY</td>\n      <td>1990-05-07</td>\n      <td>UNKNOWN</td>\n      <td>NaN</td>\n      <td>NaN</td>\n      <td>UNKNOWN</td>\n      <td>1096 days</td>\n      <td>1096 days</td>\n    </tr>\n    <tr>\n      <th>3</th>\n      <td>1988-10-02</td>\n      <td>DOG</td>\n      <td>NaN</td>\n      <td>MALE</td>\n      <td>BLA &amp; BRO</td>\n      <td>NaN</td>\n      <td>NaN</td>\n      <td>NaN</td>\n      <td>NO</td>\n      <td>BODY</td>\n      <td>1990-10-02</td>\n      <td>UNKNOWN</td>\n      <td>NaN</td>\n      <td>NaN</td>\n      <td>UNKNOWN</td>\n      <td>730 days</td>\n      <td>730 days</td>\n    </tr>\n    <tr>\n      <th>4</th>\n      <td>1989-08-29</td>\n      <td>DOG</td>\n      <td>NaN</td>\n      <td>FEMALE</td>\n      <td>BLK-WHT</td>\n      <td>NaN</td>\n      <td>NaN</td>\n      <td>NaN</td>\n      <td>NO</td>\n      <td>BODY</td>\n      <td>NaT</td>\n      <td>UNKNOWN</td>\n      <td>NaN</td>\n      <td>NaN</td>\n      <td>UNKNOWN</td>\n      <td>NaT</td>\n      <td>NaT</td>\n    </tr>\n    <tr>\n      <th>...</th>\n      <td>...</td>\n      <td>...</td>\n      <td>...</td>\n      <td>...</td>\n      <td>...</td>\n      <td>...</td>\n      <td>...</td>\n      <td>...</td>\n      <td>...</td>\n      <td>...</td>\n      <td>...</td>\n      <td>...</td>\n      <td>...</td>\n      <td>...</td>\n      <td>...</td>\n      <td>...</td>\n      <td>...</td>\n    </tr>\n    <tr>\n      <th>8995</th>\n      <td>2017-09-05</td>\n      <td>DOG</td>\n      <td>NaN</td>\n      <td>NaN</td>\n      <td>NaN</td>\n      <td>NaN</td>\n      <td>NaN</td>\n      <td>40243</td>\n      <td>NaN</td>\n      <td>UNKNOWN</td>\n      <td>NaT</td>\n      <td>NaN</td>\n      <td>NaN</td>\n      <td>NaN</td>\n      <td>NaN</td>\n      <td>NaT</td>\n      <td>NaT</td>\n    </tr>\n    <tr>\n      <th>8996</th>\n      <td>2017-09-07</td>\n      <td>DOG</td>\n      <td>POMERANIAN</td>\n      <td>MALE</td>\n      <td>RED</td>\n      <td>NaN</td>\n      <td>NaN</td>\n      <td>40204</td>\n      <td>NaN</td>\n      <td>HEAD</td>\n      <td>NaT</td>\n      <td>NaN</td>\n      <td>NaN</td>\n      <td>NaN</td>\n      <td>NaN</td>\n      <td>NaT</td>\n      <td>NaT</td>\n    </tr>\n    <tr>\n      <th>8997</th>\n      <td>2017-09-07</td>\n      <td>DOG</td>\n      <td>LABRADOR RETRIV</td>\n      <td>MALE</td>\n      <td>BROWN</td>\n      <td>NaN</td>\n      <td>NaN</td>\n      <td>47130</td>\n      <td>NaN</td>\n      <td>UNKNOWN</td>\n      <td>NaT</td>\n      <td>NaN</td>\n      <td>NaN</td>\n      <td>NaN</td>\n      <td>NaN</td>\n      <td>NaT</td>\n      <td>NaT</td>\n    </tr>\n    <tr>\n      <th>8998</th>\n      <td>2017-09-07</td>\n      <td>DOG</td>\n      <td>LABRADOR RETRIV</td>\n      <td>FEMALE</td>\n      <td>BLK WHT</td>\n      <td>NaN</td>\n      <td>NaN</td>\n      <td>40229</td>\n      <td>NaN</td>\n      <td>BODY</td>\n      <td>NaT</td>\n      <td>NaN</td>\n      <td>NaN</td>\n      <td>NaN</td>\n      <td>NaN</td>\n      <td>NaT</td>\n      <td>NaT</td>\n    </tr>\n    <tr>\n      <th>8999</th>\n      <td>2017-09-07</td>\n      <td>DOG</td>\n      <td>BOXER</td>\n      <td>NaN</td>\n      <td>BRN BLK</td>\n      <td>NaN</td>\n      <td>NaN</td>\n      <td>40229</td>\n      <td>NaN</td>\n      <td>BODY</td>\n      <td>NaT</td>\n      <td>NaN</td>\n      <td>NaN</td>\n      <td>NaN</td>\n      <td>NaN</td>\n      <td>NaT</td>\n      <td>NaT</td>\n    </tr>\n  </tbody>\n</table>\n<p>9000 rows × 17 columns</p>\n</div>"
     },
     "execution_count": 30,
     "metadata": {},
     "output_type": "execute_result"
    }
   ],
   "source": [
    "preprocessed_data"
   ],
   "metadata": {
    "collapsed": false,
    "ExecuteTime": {
     "end_time": "2024-01-15T10:05:40.208118500Z",
     "start_time": "2024-01-15T10:05:40.059221800Z"
    }
   },
   "id": "d0ac647807f89e74"
  },
  {
   "cell_type": "code",
   "execution_count": 31,
   "outputs": [
    {
     "data": {
      "text/plain": "      bite_date SpeciesIDDesc      BreedIDDesc GenderIDDesc      color  \\\n2    1987-05-07           DOG              NaN      UNKNOWN        NaN   \n3    1988-10-02           DOG              NaN         MALE  BLA & BRO   \n103  2010-01-27           DOG              NaN       FEMALE  BRN-BLACK   \n767  2010-05-12           DOG              NaN         MALE      BROWN   \n768  2010-05-12           DOG              NaN       FEMALE        TRI   \n...         ...           ...              ...          ...        ...   \n8995 2017-09-05           DOG              NaN          NaN        NaN   \n8996 2017-09-07           DOG       POMERANIAN         MALE        RED   \n8997 2017-09-07           DOG  LABRADOR RETRIV         MALE      BROWN   \n8998 2017-09-07           DOG  LABRADOR RETRIV       FEMALE    BLK WHT   \n8999 2017-09-07           DOG            BOXER          NaN    BRN BLK   \n\n      vaccination_yrs     vaccination_date victim_zip AdvIssuedYNDesc  \\\n2                 NaN                  NaN      40219              NO   \n3                 NaN                  NaN        NaN              NO   \n103               1.0  2010-07-30 00:00:00      40229              NO   \n767               1.0  2010-01-04 00:00:00      40118              NO   \n768               1.0  2010-09-01 00:00:00      40229              NO   \n...               ...                  ...        ...             ...   \n8995              NaN                  NaN      40243             NaN   \n8996              NaN                  NaN      40204             NaN   \n8997              NaN                  NaN      47130             NaN   \n8998              NaN                  NaN      40229             NaN   \n8999              NaN                  NaN      40229             NaN   \n\n     WhereBittenIDDesc quarantine_date DispositionIDDesc head_sent_date  \\\n2                 BODY      1990-05-07           UNKNOWN            NaN   \n3                 BODY      1990-10-02           UNKNOWN            NaN   \n103               BODY      2011-01-28           UNKNOWN            NaN   \n767               BODY      2010-08-13          RELEASED            NaN   \n768               BODY      2010-08-13          RELEASED            NaN   \n...                ...             ...               ...            ...   \n8995           UNKNOWN             NaT               NaN            NaN   \n8996              HEAD             NaT               NaN            NaN   \n8997           UNKNOWN             NaT               NaN            NaN   \n8998              BODY             NaT               NaN            NaN   \n8999              BODY             NaT               NaN            NaN   \n\n     release_date ResultsIDDesc difference new_difference  \n2             NaN       UNKNOWN  1096 days      1096 days  \n3             NaN       UNKNOWN   730 days       730 days  \n103           NaN       UNKNOWN   366 days       366 days  \n767           NaN       UNKNOWN     1 days        93 days  \n768           NaN       UNKNOWN     1 days        93 days  \n...           ...           ...        ...            ...  \n8995          NaN           NaN        NaT            NaT  \n8996          NaN           NaN        NaT            NaT  \n8997          NaN           NaN        NaT            NaT  \n8998          NaN           NaN        NaT            NaT  \n8999          NaN           NaN        NaT            NaT  \n\n[9000 rows x 17 columns]",
      "text/html": "<div>\n<style scoped>\n    .dataframe tbody tr th:only-of-type {\n        vertical-align: middle;\n    }\n\n    .dataframe tbody tr th {\n        vertical-align: top;\n    }\n\n    .dataframe thead th {\n        text-align: right;\n    }\n</style>\n<table border=\"1\" class=\"dataframe\">\n  <thead>\n    <tr style=\"text-align: right;\">\n      <th></th>\n      <th>bite_date</th>\n      <th>SpeciesIDDesc</th>\n      <th>BreedIDDesc</th>\n      <th>GenderIDDesc</th>\n      <th>color</th>\n      <th>vaccination_yrs</th>\n      <th>vaccination_date</th>\n      <th>victim_zip</th>\n      <th>AdvIssuedYNDesc</th>\n      <th>WhereBittenIDDesc</th>\n      <th>quarantine_date</th>\n      <th>DispositionIDDesc</th>\n      <th>head_sent_date</th>\n      <th>release_date</th>\n      <th>ResultsIDDesc</th>\n      <th>difference</th>\n      <th>new_difference</th>\n    </tr>\n  </thead>\n  <tbody>\n    <tr>\n      <th>2</th>\n      <td>1987-05-07</td>\n      <td>DOG</td>\n      <td>NaN</td>\n      <td>UNKNOWN</td>\n      <td>NaN</td>\n      <td>NaN</td>\n      <td>NaN</td>\n      <td>40219</td>\n      <td>NO</td>\n      <td>BODY</td>\n      <td>1990-05-07</td>\n      <td>UNKNOWN</td>\n      <td>NaN</td>\n      <td>NaN</td>\n      <td>UNKNOWN</td>\n      <td>1096 days</td>\n      <td>1096 days</td>\n    </tr>\n    <tr>\n      <th>3</th>\n      <td>1988-10-02</td>\n      <td>DOG</td>\n      <td>NaN</td>\n      <td>MALE</td>\n      <td>BLA &amp; BRO</td>\n      <td>NaN</td>\n      <td>NaN</td>\n      <td>NaN</td>\n      <td>NO</td>\n      <td>BODY</td>\n      <td>1990-10-02</td>\n      <td>UNKNOWN</td>\n      <td>NaN</td>\n      <td>NaN</td>\n      <td>UNKNOWN</td>\n      <td>730 days</td>\n      <td>730 days</td>\n    </tr>\n    <tr>\n      <th>103</th>\n      <td>2010-01-27</td>\n      <td>DOG</td>\n      <td>NaN</td>\n      <td>FEMALE</td>\n      <td>BRN-BLACK</td>\n      <td>1.0</td>\n      <td>2010-07-30 00:00:00</td>\n      <td>40229</td>\n      <td>NO</td>\n      <td>BODY</td>\n      <td>2011-01-28</td>\n      <td>UNKNOWN</td>\n      <td>NaN</td>\n      <td>NaN</td>\n      <td>UNKNOWN</td>\n      <td>366 days</td>\n      <td>366 days</td>\n    </tr>\n    <tr>\n      <th>767</th>\n      <td>2010-05-12</td>\n      <td>DOG</td>\n      <td>NaN</td>\n      <td>MALE</td>\n      <td>BROWN</td>\n      <td>1.0</td>\n      <td>2010-01-04 00:00:00</td>\n      <td>40118</td>\n      <td>NO</td>\n      <td>BODY</td>\n      <td>2010-08-13</td>\n      <td>RELEASED</td>\n      <td>NaN</td>\n      <td>NaN</td>\n      <td>UNKNOWN</td>\n      <td>1 days</td>\n      <td>93 days</td>\n    </tr>\n    <tr>\n      <th>768</th>\n      <td>2010-05-12</td>\n      <td>DOG</td>\n      <td>NaN</td>\n      <td>FEMALE</td>\n      <td>TRI</td>\n      <td>1.0</td>\n      <td>2010-09-01 00:00:00</td>\n      <td>40229</td>\n      <td>NO</td>\n      <td>BODY</td>\n      <td>2010-08-13</td>\n      <td>RELEASED</td>\n      <td>NaN</td>\n      <td>NaN</td>\n      <td>UNKNOWN</td>\n      <td>1 days</td>\n      <td>93 days</td>\n    </tr>\n    <tr>\n      <th>...</th>\n      <td>...</td>\n      <td>...</td>\n      <td>...</td>\n      <td>...</td>\n      <td>...</td>\n      <td>...</td>\n      <td>...</td>\n      <td>...</td>\n      <td>...</td>\n      <td>...</td>\n      <td>...</td>\n      <td>...</td>\n      <td>...</td>\n      <td>...</td>\n      <td>...</td>\n      <td>...</td>\n      <td>...</td>\n    </tr>\n    <tr>\n      <th>8995</th>\n      <td>2017-09-05</td>\n      <td>DOG</td>\n      <td>NaN</td>\n      <td>NaN</td>\n      <td>NaN</td>\n      <td>NaN</td>\n      <td>NaN</td>\n      <td>40243</td>\n      <td>NaN</td>\n      <td>UNKNOWN</td>\n      <td>NaT</td>\n      <td>NaN</td>\n      <td>NaN</td>\n      <td>NaN</td>\n      <td>NaN</td>\n      <td>NaT</td>\n      <td>NaT</td>\n    </tr>\n    <tr>\n      <th>8996</th>\n      <td>2017-09-07</td>\n      <td>DOG</td>\n      <td>POMERANIAN</td>\n      <td>MALE</td>\n      <td>RED</td>\n      <td>NaN</td>\n      <td>NaN</td>\n      <td>40204</td>\n      <td>NaN</td>\n      <td>HEAD</td>\n      <td>NaT</td>\n      <td>NaN</td>\n      <td>NaN</td>\n      <td>NaN</td>\n      <td>NaN</td>\n      <td>NaT</td>\n      <td>NaT</td>\n    </tr>\n    <tr>\n      <th>8997</th>\n      <td>2017-09-07</td>\n      <td>DOG</td>\n      <td>LABRADOR RETRIV</td>\n      <td>MALE</td>\n      <td>BROWN</td>\n      <td>NaN</td>\n      <td>NaN</td>\n      <td>47130</td>\n      <td>NaN</td>\n      <td>UNKNOWN</td>\n      <td>NaT</td>\n      <td>NaN</td>\n      <td>NaN</td>\n      <td>NaN</td>\n      <td>NaN</td>\n      <td>NaT</td>\n      <td>NaT</td>\n    </tr>\n    <tr>\n      <th>8998</th>\n      <td>2017-09-07</td>\n      <td>DOG</td>\n      <td>LABRADOR RETRIV</td>\n      <td>FEMALE</td>\n      <td>BLK WHT</td>\n      <td>NaN</td>\n      <td>NaN</td>\n      <td>40229</td>\n      <td>NaN</td>\n      <td>BODY</td>\n      <td>NaT</td>\n      <td>NaN</td>\n      <td>NaN</td>\n      <td>NaN</td>\n      <td>NaN</td>\n      <td>NaT</td>\n      <td>NaT</td>\n    </tr>\n    <tr>\n      <th>8999</th>\n      <td>2017-09-07</td>\n      <td>DOG</td>\n      <td>BOXER</td>\n      <td>NaN</td>\n      <td>BRN BLK</td>\n      <td>NaN</td>\n      <td>NaN</td>\n      <td>40229</td>\n      <td>NaN</td>\n      <td>BODY</td>\n      <td>NaT</td>\n      <td>NaN</td>\n      <td>NaN</td>\n      <td>NaN</td>\n      <td>NaN</td>\n      <td>NaT</td>\n      <td>NaT</td>\n    </tr>\n  </tbody>\n</table>\n<p>9000 rows × 17 columns</p>\n</div>"
     },
     "execution_count": 31,
     "metadata": {},
     "output_type": "execute_result"
    }
   ],
   "source": [
    "sortByDifference = preprocessed_data.sort_values(by='new_difference',ascending=False)\n",
    "sortByDifference"
   ],
   "metadata": {
    "collapsed": false,
    "ExecuteTime": {
     "end_time": "2024-01-15T10:05:44.960149300Z",
     "start_time": "2024-01-15T10:05:44.821829800Z"
    }
   },
   "id": "488fbb684b89587e"
  },
  {
   "cell_type": "code",
   "execution_count": 32,
   "outputs": [
    {
     "data": {
      "text/plain": "Timedelta('3 days 16:14:23.568215892')"
     },
     "execution_count": 32,
     "metadata": {},
     "output_type": "execute_result"
    }
   ],
   "source": [
    "# Let's again check the average of difference\n",
    "average = preprocessed_data['new_difference'].mean()\n",
    "average"
   ],
   "metadata": {
    "collapsed": false,
    "ExecuteTime": {
     "end_time": "2024-01-15T10:05:48.442281500Z",
     "start_time": "2024-01-15T10:05:48.401511600Z"
    }
   },
   "id": "9ff5cc210dc60989"
  },
  {
   "cell_type": "code",
   "execution_count": 34,
   "outputs": [],
   "source": [
    "selected_cols = ['bite_date','quarantine_date','new_difference']"
   ],
   "metadata": {
    "collapsed": false,
    "ExecuteTime": {
     "end_time": "2024-01-15T10:07:54.893194200Z",
     "start_time": "2024-01-15T10:07:54.815681100Z"
    }
   },
   "id": "ffdf44a591f22ece"
  },
  {
   "cell_type": "code",
   "execution_count": 35,
   "outputs": [
    {
     "data": {
      "text/plain": "      bite_date SpeciesIDDesc      BreedIDDesc GenderIDDesc    color  \\\n4    1989-08-29           DOG              NaN       FEMALE  BLK-WHT   \n5    1989-11-24           DOG              NaN      UNKNOWN      NaN   \n71   2010-01-09           DOG              NaN      UNKNOWN  BLK-WHT   \n78   2010-01-12           DOG              NaN         MALE  BRN-WHT   \n121  2010-02-04           DOG              NaN      UNKNOWN      NaN   \n...         ...           ...              ...          ...      ...   \n8995 2017-09-05           DOG              NaN          NaN      NaN   \n8996 2017-09-07           DOG       POMERANIAN         MALE      RED   \n8997 2017-09-07           DOG  LABRADOR RETRIV         MALE    BROWN   \n8998 2017-09-07           DOG  LABRADOR RETRIV       FEMALE  BLK WHT   \n8999 2017-09-07           DOG            BOXER          NaN  BRN BLK   \n\n      vaccination_yrs vaccination_date victim_zip AdvIssuedYNDesc  \\\n4                 NaN              NaN        NaN              NO   \n5                 NaN              NaN      40211              NO   \n71                NaN              NaN      40219              NO   \n78                NaN              NaN      40214              NO   \n121               NaN              NaN      40229              NO   \n...               ...              ...        ...             ...   \n8995              NaN              NaN      40243             NaN   \n8996              NaN              NaN      40204             NaN   \n8997              NaN              NaN      47130             NaN   \n8998              NaN              NaN      40229             NaN   \n8999              NaN              NaN      40229             NaN   \n\n     WhereBittenIDDesc quarantine_date DispositionIDDesc       head_sent_date  \\\n4                 BODY             NaT           UNKNOWN                  NaN   \n5                 BODY             NaT           UNKNOWN                  NaN   \n71                BODY             NaT           UNKNOWN  2010-01-10 00:00:00   \n78                BODY             NaT           UNKNOWN  2010-01-14 00:00:00   \n121               BODY             NaT           UNKNOWN  2010-02-05 00:00:00   \n...                ...             ...               ...                  ...   \n8995           UNKNOWN             NaT               NaN                  NaN   \n8996              HEAD             NaT               NaN                  NaN   \n8997           UNKNOWN             NaT               NaN                  NaN   \n8998              BODY             NaT               NaN                  NaN   \n8999              BODY             NaT               NaN                  NaN   \n\n     release_date ResultsIDDesc difference new_difference  \n4             NaN       UNKNOWN        NaT            NaT  \n5             NaN       UNKNOWN        NaT            NaT  \n71            NaN       UNKNOWN        NaT            NaT  \n78            NaN       UNKNOWN        NaT            NaT  \n121           NaN       UNKNOWN        NaT            NaT  \n...           ...           ...        ...            ...  \n8995          NaN           NaN        NaT            NaT  \n8996          NaN           NaN        NaT            NaT  \n8997          NaN           NaN        NaT            NaT  \n8998          NaN           NaN        NaT            NaT  \n8999          NaN           NaN        NaT            NaT  \n\n[6999 rows x 17 columns]",
      "text/html": "<div>\n<style scoped>\n    .dataframe tbody tr th:only-of-type {\n        vertical-align: middle;\n    }\n\n    .dataframe tbody tr th {\n        vertical-align: top;\n    }\n\n    .dataframe thead th {\n        text-align: right;\n    }\n</style>\n<table border=\"1\" class=\"dataframe\">\n  <thead>\n    <tr style=\"text-align: right;\">\n      <th></th>\n      <th>bite_date</th>\n      <th>SpeciesIDDesc</th>\n      <th>BreedIDDesc</th>\n      <th>GenderIDDesc</th>\n      <th>color</th>\n      <th>vaccination_yrs</th>\n      <th>vaccination_date</th>\n      <th>victim_zip</th>\n      <th>AdvIssuedYNDesc</th>\n      <th>WhereBittenIDDesc</th>\n      <th>quarantine_date</th>\n      <th>DispositionIDDesc</th>\n      <th>head_sent_date</th>\n      <th>release_date</th>\n      <th>ResultsIDDesc</th>\n      <th>difference</th>\n      <th>new_difference</th>\n    </tr>\n  </thead>\n  <tbody>\n    <tr>\n      <th>4</th>\n      <td>1989-08-29</td>\n      <td>DOG</td>\n      <td>NaN</td>\n      <td>FEMALE</td>\n      <td>BLK-WHT</td>\n      <td>NaN</td>\n      <td>NaN</td>\n      <td>NaN</td>\n      <td>NO</td>\n      <td>BODY</td>\n      <td>NaT</td>\n      <td>UNKNOWN</td>\n      <td>NaN</td>\n      <td>NaN</td>\n      <td>UNKNOWN</td>\n      <td>NaT</td>\n      <td>NaT</td>\n    </tr>\n    <tr>\n      <th>5</th>\n      <td>1989-11-24</td>\n      <td>DOG</td>\n      <td>NaN</td>\n      <td>UNKNOWN</td>\n      <td>NaN</td>\n      <td>NaN</td>\n      <td>NaN</td>\n      <td>40211</td>\n      <td>NO</td>\n      <td>BODY</td>\n      <td>NaT</td>\n      <td>UNKNOWN</td>\n      <td>NaN</td>\n      <td>NaN</td>\n      <td>UNKNOWN</td>\n      <td>NaT</td>\n      <td>NaT</td>\n    </tr>\n    <tr>\n      <th>71</th>\n      <td>2010-01-09</td>\n      <td>DOG</td>\n      <td>NaN</td>\n      <td>UNKNOWN</td>\n      <td>BLK-WHT</td>\n      <td>NaN</td>\n      <td>NaN</td>\n      <td>40219</td>\n      <td>NO</td>\n      <td>BODY</td>\n      <td>NaT</td>\n      <td>UNKNOWN</td>\n      <td>2010-01-10 00:00:00</td>\n      <td>NaN</td>\n      <td>UNKNOWN</td>\n      <td>NaT</td>\n      <td>NaT</td>\n    </tr>\n    <tr>\n      <th>78</th>\n      <td>2010-01-12</td>\n      <td>DOG</td>\n      <td>NaN</td>\n      <td>MALE</td>\n      <td>BRN-WHT</td>\n      <td>NaN</td>\n      <td>NaN</td>\n      <td>40214</td>\n      <td>NO</td>\n      <td>BODY</td>\n      <td>NaT</td>\n      <td>UNKNOWN</td>\n      <td>2010-01-14 00:00:00</td>\n      <td>NaN</td>\n      <td>UNKNOWN</td>\n      <td>NaT</td>\n      <td>NaT</td>\n    </tr>\n    <tr>\n      <th>121</th>\n      <td>2010-02-04</td>\n      <td>DOG</td>\n      <td>NaN</td>\n      <td>UNKNOWN</td>\n      <td>NaN</td>\n      <td>NaN</td>\n      <td>NaN</td>\n      <td>40229</td>\n      <td>NO</td>\n      <td>BODY</td>\n      <td>NaT</td>\n      <td>UNKNOWN</td>\n      <td>2010-02-05 00:00:00</td>\n      <td>NaN</td>\n      <td>UNKNOWN</td>\n      <td>NaT</td>\n      <td>NaT</td>\n    </tr>\n    <tr>\n      <th>...</th>\n      <td>...</td>\n      <td>...</td>\n      <td>...</td>\n      <td>...</td>\n      <td>...</td>\n      <td>...</td>\n      <td>...</td>\n      <td>...</td>\n      <td>...</td>\n      <td>...</td>\n      <td>...</td>\n      <td>...</td>\n      <td>...</td>\n      <td>...</td>\n      <td>...</td>\n      <td>...</td>\n      <td>...</td>\n    </tr>\n    <tr>\n      <th>8995</th>\n      <td>2017-09-05</td>\n      <td>DOG</td>\n      <td>NaN</td>\n      <td>NaN</td>\n      <td>NaN</td>\n      <td>NaN</td>\n      <td>NaN</td>\n      <td>40243</td>\n      <td>NaN</td>\n      <td>UNKNOWN</td>\n      <td>NaT</td>\n      <td>NaN</td>\n      <td>NaN</td>\n      <td>NaN</td>\n      <td>NaN</td>\n      <td>NaT</td>\n      <td>NaT</td>\n    </tr>\n    <tr>\n      <th>8996</th>\n      <td>2017-09-07</td>\n      <td>DOG</td>\n      <td>POMERANIAN</td>\n      <td>MALE</td>\n      <td>RED</td>\n      <td>NaN</td>\n      <td>NaN</td>\n      <td>40204</td>\n      <td>NaN</td>\n      <td>HEAD</td>\n      <td>NaT</td>\n      <td>NaN</td>\n      <td>NaN</td>\n      <td>NaN</td>\n      <td>NaN</td>\n      <td>NaT</td>\n      <td>NaT</td>\n    </tr>\n    <tr>\n      <th>8997</th>\n      <td>2017-09-07</td>\n      <td>DOG</td>\n      <td>LABRADOR RETRIV</td>\n      <td>MALE</td>\n      <td>BROWN</td>\n      <td>NaN</td>\n      <td>NaN</td>\n      <td>47130</td>\n      <td>NaN</td>\n      <td>UNKNOWN</td>\n      <td>NaT</td>\n      <td>NaN</td>\n      <td>NaN</td>\n      <td>NaN</td>\n      <td>NaN</td>\n      <td>NaT</td>\n      <td>NaT</td>\n    </tr>\n    <tr>\n      <th>8998</th>\n      <td>2017-09-07</td>\n      <td>DOG</td>\n      <td>LABRADOR RETRIV</td>\n      <td>FEMALE</td>\n      <td>BLK WHT</td>\n      <td>NaN</td>\n      <td>NaN</td>\n      <td>40229</td>\n      <td>NaN</td>\n      <td>BODY</td>\n      <td>NaT</td>\n      <td>NaN</td>\n      <td>NaN</td>\n      <td>NaN</td>\n      <td>NaN</td>\n      <td>NaT</td>\n      <td>NaT</td>\n    </tr>\n    <tr>\n      <th>8999</th>\n      <td>2017-09-07</td>\n      <td>DOG</td>\n      <td>BOXER</td>\n      <td>NaN</td>\n      <td>BRN BLK</td>\n      <td>NaN</td>\n      <td>NaN</td>\n      <td>40229</td>\n      <td>NaN</td>\n      <td>BODY</td>\n      <td>NaT</td>\n      <td>NaN</td>\n      <td>NaN</td>\n      <td>NaN</td>\n      <td>NaN</td>\n      <td>NaT</td>\n      <td>NaT</td>\n    </tr>\n  </tbody>\n</table>\n<p>6999 rows × 17 columns</p>\n</div>"
     },
     "execution_count": 35,
     "metadata": {},
     "output_type": "execute_result"
    }
   ],
   "source": [
    "#to get any of column('bite_date','quarantine_date','difference') that have null values\n",
    "null_rows = preprocessed_data[preprocessed_data[selected_cols].isnull().sum(axis=1) >= 1]\n",
    "null_rows"
   ],
   "metadata": {
    "collapsed": false,
    "ExecuteTime": {
     "end_time": "2024-01-15T10:08:02.661259500Z",
     "start_time": "2024-01-15T10:08:02.565197700Z"
    }
   },
   "id": "211aa1e40123518"
  },
  {
   "cell_type": "code",
   "execution_count": 36,
   "outputs": [
    {
     "data": {
      "text/plain": "      bite_date quarantine_date new_difference\n4    1989-08-29             NaT            NaT\n5    1989-11-24             NaT            NaT\n71   2010-01-09             NaT            NaT\n78   2010-01-12             NaT            NaT\n121  2010-02-04             NaT            NaT\n...         ...             ...            ...\n8995 2017-09-05             NaT            NaT\n8996 2017-09-07             NaT            NaT\n8997 2017-09-07             NaT            NaT\n8998 2017-09-07             NaT            NaT\n8999 2017-09-07             NaT            NaT\n\n[6999 rows x 3 columns]",
      "text/html": "<div>\n<style scoped>\n    .dataframe tbody tr th:only-of-type {\n        vertical-align: middle;\n    }\n\n    .dataframe tbody tr th {\n        vertical-align: top;\n    }\n\n    .dataframe thead th {\n        text-align: right;\n    }\n</style>\n<table border=\"1\" class=\"dataframe\">\n  <thead>\n    <tr style=\"text-align: right;\">\n      <th></th>\n      <th>bite_date</th>\n      <th>quarantine_date</th>\n      <th>new_difference</th>\n    </tr>\n  </thead>\n  <tbody>\n    <tr>\n      <th>4</th>\n      <td>1989-08-29</td>\n      <td>NaT</td>\n      <td>NaT</td>\n    </tr>\n    <tr>\n      <th>5</th>\n      <td>1989-11-24</td>\n      <td>NaT</td>\n      <td>NaT</td>\n    </tr>\n    <tr>\n      <th>71</th>\n      <td>2010-01-09</td>\n      <td>NaT</td>\n      <td>NaT</td>\n    </tr>\n    <tr>\n      <th>78</th>\n      <td>2010-01-12</td>\n      <td>NaT</td>\n      <td>NaT</td>\n    </tr>\n    <tr>\n      <th>121</th>\n      <td>2010-02-04</td>\n      <td>NaT</td>\n      <td>NaT</td>\n    </tr>\n    <tr>\n      <th>...</th>\n      <td>...</td>\n      <td>...</td>\n      <td>...</td>\n    </tr>\n    <tr>\n      <th>8995</th>\n      <td>2017-09-05</td>\n      <td>NaT</td>\n      <td>NaT</td>\n    </tr>\n    <tr>\n      <th>8996</th>\n      <td>2017-09-07</td>\n      <td>NaT</td>\n      <td>NaT</td>\n    </tr>\n    <tr>\n      <th>8997</th>\n      <td>2017-09-07</td>\n      <td>NaT</td>\n      <td>NaT</td>\n    </tr>\n    <tr>\n      <th>8998</th>\n      <td>2017-09-07</td>\n      <td>NaT</td>\n      <td>NaT</td>\n    </tr>\n    <tr>\n      <th>8999</th>\n      <td>2017-09-07</td>\n      <td>NaT</td>\n      <td>NaT</td>\n    </tr>\n  </tbody>\n</table>\n<p>6999 rows × 3 columns</p>\n</div>"
     },
     "execution_count": 36,
     "metadata": {},
     "output_type": "execute_result"
    }
   ],
   "source": [
    "#select only needed columns\n",
    "null_rows[selected_cols]"
   ],
   "metadata": {
    "collapsed": false,
    "ExecuteTime": {
     "end_time": "2024-01-15T10:08:07.476021400Z",
     "start_time": "2024-01-15T10:08:07.406293900Z"
    }
   },
   "id": "aab2314a1968d62a"
  },
  {
   "cell_type": "code",
   "execution_count": 37,
   "outputs": [],
   "source": [
    "# create a copy of null_rows\n",
    "copyOfNullRows = null_rows.copy()"
   ],
   "metadata": {
    "collapsed": false,
    "ExecuteTime": {
     "end_time": "2024-01-15T10:11:56.031765Z",
     "start_time": "2024-01-15T10:11:55.965204Z"
    }
   },
   "id": "275def1ec9b13f8b"
  },
  {
   "cell_type": "code",
   "execution_count": 38,
   "outputs": [],
   "source": [
    "columns_of_interest = ['bite_date', 'quarantine_date']\n"
   ],
   "metadata": {
    "collapsed": false,
    "ExecuteTime": {
     "end_time": "2024-01-15T10:12:44.866977400Z",
     "start_time": "2024-01-15T10:12:44.808974300Z"
    }
   },
   "id": "64956a9f435bebd4"
  },
  {
   "cell_type": "code",
   "execution_count": 39,
   "outputs": [],
   "source": [
    "null_rows_indexes = preprocessed_data[preprocessed_data[columns_of_interest].isnull().any(axis=1)].index\n"
   ],
   "metadata": {
    "collapsed": false,
    "ExecuteTime": {
     "end_time": "2024-01-15T10:12:46.216030Z",
     "start_time": "2024-01-15T10:12:46.181912400Z"
    }
   },
   "id": "9dda7d5cbe6c2ac1"
  },
  {
   "cell_type": "code",
   "execution_count": 40,
   "outputs": [
    {
     "data": {
      "text/plain": "Index([   4,    5,   71,   78,  121,  145,  169,  170,  180,  181,\n       ...\n       8990, 8991, 8992, 8993, 8994, 8995, 8996, 8997, 8998, 8999],\n      dtype='int64', length=6999)"
     },
     "execution_count": 40,
     "metadata": {},
     "output_type": "execute_result"
    }
   ],
   "source": [
    "null_rows_indexes"
   ],
   "metadata": {
    "collapsed": false,
    "ExecuteTime": {
     "end_time": "2024-01-15T10:12:46.929137100Z",
     "start_time": "2024-01-15T10:12:46.911486900Z"
    }
   },
   "id": "b0eae1a3ebac3732"
  },
  {
   "cell_type": "code",
   "execution_count": 61,
   "outputs": [],
   "source": [
    "# edit quarantine_date when have only bite_date. to edit this we need to add average date difference from quarantine_date.\n",
    "preprocessed_data['quarantine_date'] = preprocessed_data['quarantine_date'].fillna(preprocessed_data['bite_date'] + pd.Timedelta(days=3))"
   ],
   "metadata": {
    "collapsed": false,
    "ExecuteTime": {
     "end_time": "2024-01-15T10:58:17.673291200Z",
     "start_time": "2024-01-15T10:58:17.630759700Z"
    }
   },
   "id": "9e50b22f3de7d9f4"
  },
  {
   "cell_type": "code",
   "execution_count": 62,
   "outputs": [
    {
     "data": {
      "text/plain": "      bite_date SpeciesIDDesc      BreedIDDesc GenderIDDesc       color  \\\n0    1985-05-05           DOG              NaN       FEMALE  LIG. BROWN   \n1    1986-02-12           DOG              NaN      UNKNOWN   BRO & BLA   \n2    1987-05-07           DOG              NaN      UNKNOWN         NaN   \n3    1988-10-02           DOG              NaN         MALE   BLA & BRO   \n4    1989-08-29           DOG              NaN       FEMALE     BLK-WHT   \n...         ...           ...              ...          ...         ...   \n8995 2017-09-05           DOG              NaN          NaN         NaN   \n8996 2017-09-07           DOG       POMERANIAN         MALE         RED   \n8997 2017-09-07           DOG  LABRADOR RETRIV         MALE       BROWN   \n8998 2017-09-07           DOG  LABRADOR RETRIV       FEMALE     BLK WHT   \n8999 2017-09-07           DOG            BOXER          NaN     BRN BLK   \n\n      vaccination_yrs     vaccination_date victim_zip AdvIssuedYNDesc  \\\n0                 1.0  1985-06-20 00:00:00      40229              NO   \n1                 NaN                  NaN      40218              NO   \n2                 NaN                  NaN      40219              NO   \n3                 NaN                  NaN        NaN              NO   \n4                 NaN                  NaN        NaN              NO   \n...               ...                  ...        ...             ...   \n8995              NaN                  NaN      40243             NaN   \n8996              NaN                  NaN      40204             NaN   \n8997              NaN                  NaN      47130             NaN   \n8998              NaN                  NaN      40229             NaN   \n8999              NaN                  NaN      40229             NaN   \n\n     WhereBittenIDDesc quarantine_date DispositionIDDesc head_sent_date  \\\n0                 BODY      1985-05-05           UNKNOWN            NaT   \n1                 BODY      1986-02-12           UNKNOWN            NaT   \n2                 BODY      1990-05-07           UNKNOWN            NaT   \n3                 BODY      1990-10-02           UNKNOWN            NaT   \n4                 BODY      1989-09-01           UNKNOWN            NaT   \n...                ...             ...               ...            ...   \n8995           UNKNOWN      2017-09-08               NaN            NaT   \n8996              HEAD      2017-09-10               NaN            NaT   \n8997           UNKNOWN      2017-09-10               NaN            NaT   \n8998              BODY      2017-09-10               NaN            NaT   \n8999              BODY      2017-09-10               NaN            NaT   \n\n     release_date ResultsIDDesc difference new_difference  \\\n0             NaN       UNKNOWN     0 days         0 days   \n1             NaN       UNKNOWN     0 days         0 days   \n2             NaN       UNKNOWN  1096 days      1096 days   \n3             NaN       UNKNOWN   730 days       730 days   \n4             NaN       UNKNOWN        NaT            NaT   \n...           ...           ...        ...            ...   \n8995          NaN           NaN        NaT            NaT   \n8996          NaN           NaN        NaT            NaT   \n8997          NaN           NaN        NaT            NaT   \n8998          NaN           NaN        NaT            NaT   \n8999          NaN           NaN        NaT            NaT   \n\n     differnceOfBiteAndHeadSent  \n0                           NaT  \n1                           NaT  \n2                           NaT  \n3                           NaT  \n4                           NaT  \n...                         ...  \n8995                        NaT  \n8996                        NaT  \n8997                        NaT  \n8998                        NaT  \n8999                        NaT  \n\n[9000 rows x 18 columns]",
      "text/html": "<div>\n<style scoped>\n    .dataframe tbody tr th:only-of-type {\n        vertical-align: middle;\n    }\n\n    .dataframe tbody tr th {\n        vertical-align: top;\n    }\n\n    .dataframe thead th {\n        text-align: right;\n    }\n</style>\n<table border=\"1\" class=\"dataframe\">\n  <thead>\n    <tr style=\"text-align: right;\">\n      <th></th>\n      <th>bite_date</th>\n      <th>SpeciesIDDesc</th>\n      <th>BreedIDDesc</th>\n      <th>GenderIDDesc</th>\n      <th>color</th>\n      <th>vaccination_yrs</th>\n      <th>vaccination_date</th>\n      <th>victim_zip</th>\n      <th>AdvIssuedYNDesc</th>\n      <th>WhereBittenIDDesc</th>\n      <th>quarantine_date</th>\n      <th>DispositionIDDesc</th>\n      <th>head_sent_date</th>\n      <th>release_date</th>\n      <th>ResultsIDDesc</th>\n      <th>difference</th>\n      <th>new_difference</th>\n      <th>differnceOfBiteAndHeadSent</th>\n    </tr>\n  </thead>\n  <tbody>\n    <tr>\n      <th>0</th>\n      <td>1985-05-05</td>\n      <td>DOG</td>\n      <td>NaN</td>\n      <td>FEMALE</td>\n      <td>LIG. BROWN</td>\n      <td>1.0</td>\n      <td>1985-06-20 00:00:00</td>\n      <td>40229</td>\n      <td>NO</td>\n      <td>BODY</td>\n      <td>1985-05-05</td>\n      <td>UNKNOWN</td>\n      <td>NaT</td>\n      <td>NaN</td>\n      <td>UNKNOWN</td>\n      <td>0 days</td>\n      <td>0 days</td>\n      <td>NaT</td>\n    </tr>\n    <tr>\n      <th>1</th>\n      <td>1986-02-12</td>\n      <td>DOG</td>\n      <td>NaN</td>\n      <td>UNKNOWN</td>\n      <td>BRO &amp; BLA</td>\n      <td>NaN</td>\n      <td>NaN</td>\n      <td>40218</td>\n      <td>NO</td>\n      <td>BODY</td>\n      <td>1986-02-12</td>\n      <td>UNKNOWN</td>\n      <td>NaT</td>\n      <td>NaN</td>\n      <td>UNKNOWN</td>\n      <td>0 days</td>\n      <td>0 days</td>\n      <td>NaT</td>\n    </tr>\n    <tr>\n      <th>2</th>\n      <td>1987-05-07</td>\n      <td>DOG</td>\n      <td>NaN</td>\n      <td>UNKNOWN</td>\n      <td>NaN</td>\n      <td>NaN</td>\n      <td>NaN</td>\n      <td>40219</td>\n      <td>NO</td>\n      <td>BODY</td>\n      <td>1990-05-07</td>\n      <td>UNKNOWN</td>\n      <td>NaT</td>\n      <td>NaN</td>\n      <td>UNKNOWN</td>\n      <td>1096 days</td>\n      <td>1096 days</td>\n      <td>NaT</td>\n    </tr>\n    <tr>\n      <th>3</th>\n      <td>1988-10-02</td>\n      <td>DOG</td>\n      <td>NaN</td>\n      <td>MALE</td>\n      <td>BLA &amp; BRO</td>\n      <td>NaN</td>\n      <td>NaN</td>\n      <td>NaN</td>\n      <td>NO</td>\n      <td>BODY</td>\n      <td>1990-10-02</td>\n      <td>UNKNOWN</td>\n      <td>NaT</td>\n      <td>NaN</td>\n      <td>UNKNOWN</td>\n      <td>730 days</td>\n      <td>730 days</td>\n      <td>NaT</td>\n    </tr>\n    <tr>\n      <th>4</th>\n      <td>1989-08-29</td>\n      <td>DOG</td>\n      <td>NaN</td>\n      <td>FEMALE</td>\n      <td>BLK-WHT</td>\n      <td>NaN</td>\n      <td>NaN</td>\n      <td>NaN</td>\n      <td>NO</td>\n      <td>BODY</td>\n      <td>1989-09-01</td>\n      <td>UNKNOWN</td>\n      <td>NaT</td>\n      <td>NaN</td>\n      <td>UNKNOWN</td>\n      <td>NaT</td>\n      <td>NaT</td>\n      <td>NaT</td>\n    </tr>\n    <tr>\n      <th>...</th>\n      <td>...</td>\n      <td>...</td>\n      <td>...</td>\n      <td>...</td>\n      <td>...</td>\n      <td>...</td>\n      <td>...</td>\n      <td>...</td>\n      <td>...</td>\n      <td>...</td>\n      <td>...</td>\n      <td>...</td>\n      <td>...</td>\n      <td>...</td>\n      <td>...</td>\n      <td>...</td>\n      <td>...</td>\n      <td>...</td>\n    </tr>\n    <tr>\n      <th>8995</th>\n      <td>2017-09-05</td>\n      <td>DOG</td>\n      <td>NaN</td>\n      <td>NaN</td>\n      <td>NaN</td>\n      <td>NaN</td>\n      <td>NaN</td>\n      <td>40243</td>\n      <td>NaN</td>\n      <td>UNKNOWN</td>\n      <td>2017-09-08</td>\n      <td>NaN</td>\n      <td>NaT</td>\n      <td>NaN</td>\n      <td>NaN</td>\n      <td>NaT</td>\n      <td>NaT</td>\n      <td>NaT</td>\n    </tr>\n    <tr>\n      <th>8996</th>\n      <td>2017-09-07</td>\n      <td>DOG</td>\n      <td>POMERANIAN</td>\n      <td>MALE</td>\n      <td>RED</td>\n      <td>NaN</td>\n      <td>NaN</td>\n      <td>40204</td>\n      <td>NaN</td>\n      <td>HEAD</td>\n      <td>2017-09-10</td>\n      <td>NaN</td>\n      <td>NaT</td>\n      <td>NaN</td>\n      <td>NaN</td>\n      <td>NaT</td>\n      <td>NaT</td>\n      <td>NaT</td>\n    </tr>\n    <tr>\n      <th>8997</th>\n      <td>2017-09-07</td>\n      <td>DOG</td>\n      <td>LABRADOR RETRIV</td>\n      <td>MALE</td>\n      <td>BROWN</td>\n      <td>NaN</td>\n      <td>NaN</td>\n      <td>47130</td>\n      <td>NaN</td>\n      <td>UNKNOWN</td>\n      <td>2017-09-10</td>\n      <td>NaN</td>\n      <td>NaT</td>\n      <td>NaN</td>\n      <td>NaN</td>\n      <td>NaT</td>\n      <td>NaT</td>\n      <td>NaT</td>\n    </tr>\n    <tr>\n      <th>8998</th>\n      <td>2017-09-07</td>\n      <td>DOG</td>\n      <td>LABRADOR RETRIV</td>\n      <td>FEMALE</td>\n      <td>BLK WHT</td>\n      <td>NaN</td>\n      <td>NaN</td>\n      <td>40229</td>\n      <td>NaN</td>\n      <td>BODY</td>\n      <td>2017-09-10</td>\n      <td>NaN</td>\n      <td>NaT</td>\n      <td>NaN</td>\n      <td>NaN</td>\n      <td>NaT</td>\n      <td>NaT</td>\n      <td>NaT</td>\n    </tr>\n    <tr>\n      <th>8999</th>\n      <td>2017-09-07</td>\n      <td>DOG</td>\n      <td>BOXER</td>\n      <td>NaN</td>\n      <td>BRN BLK</td>\n      <td>NaN</td>\n      <td>NaN</td>\n      <td>40229</td>\n      <td>NaN</td>\n      <td>BODY</td>\n      <td>2017-09-10</td>\n      <td>NaN</td>\n      <td>NaT</td>\n      <td>NaN</td>\n      <td>NaN</td>\n      <td>NaT</td>\n      <td>NaT</td>\n      <td>NaT</td>\n    </tr>\n  </tbody>\n</table>\n<p>9000 rows × 18 columns</p>\n</div>"
     },
     "execution_count": 62,
     "metadata": {},
     "output_type": "execute_result"
    }
   ],
   "source": [
    "preprocessed_data"
   ],
   "metadata": {
    "collapsed": false,
    "ExecuteTime": {
     "end_time": "2024-01-15T10:58:23.086593Z",
     "start_time": "2024-01-15T10:58:22.976636100Z"
    }
   },
   "id": "8c9e9b01242915bc"
  },
  {
   "cell_type": "code",
   "execution_count": 63,
   "outputs": [],
   "source": [
    "# edit bite_date when have only quarantine_date. to edit this we need to substract average date difference from quarantine_date.\n",
    "preprocessed_data['bite_date'] = preprocessed_data['bite_date'].fillna(preprocessed_data['quarantine_date'] - pd.Timedelta(days=3))"
   ],
   "metadata": {
    "collapsed": false,
    "ExecuteTime": {
     "end_time": "2024-01-15T10:58:40.712141900Z",
     "start_time": "2024-01-15T10:58:40.635301100Z"
    }
   },
   "id": "81dda5c150757d4e"
  },
  {
   "cell_type": "code",
   "execution_count": 64,
   "outputs": [
    {
     "data": {
      "text/plain": "      bite_date SpeciesIDDesc      BreedIDDesc GenderIDDesc       color  \\\n0    1985-05-05           DOG              NaN       FEMALE  LIG. BROWN   \n1    1986-02-12           DOG              NaN      UNKNOWN   BRO & BLA   \n2    1987-05-07           DOG              NaN      UNKNOWN         NaN   \n3    1988-10-02           DOG              NaN         MALE   BLA & BRO   \n4    1989-08-29           DOG              NaN       FEMALE     BLK-WHT   \n...         ...           ...              ...          ...         ...   \n8995 2017-09-05           DOG              NaN          NaN         NaN   \n8996 2017-09-07           DOG       POMERANIAN         MALE         RED   \n8997 2017-09-07           DOG  LABRADOR RETRIV         MALE       BROWN   \n8998 2017-09-07           DOG  LABRADOR RETRIV       FEMALE     BLK WHT   \n8999 2017-09-07           DOG            BOXER          NaN     BRN BLK   \n\n      vaccination_yrs     vaccination_date victim_zip AdvIssuedYNDesc  \\\n0                 1.0  1985-06-20 00:00:00      40229              NO   \n1                 NaN                  NaN      40218              NO   \n2                 NaN                  NaN      40219              NO   \n3                 NaN                  NaN        NaN              NO   \n4                 NaN                  NaN        NaN              NO   \n...               ...                  ...        ...             ...   \n8995              NaN                  NaN      40243             NaN   \n8996              NaN                  NaN      40204             NaN   \n8997              NaN                  NaN      47130             NaN   \n8998              NaN                  NaN      40229             NaN   \n8999              NaN                  NaN      40229             NaN   \n\n     WhereBittenIDDesc quarantine_date DispositionIDDesc head_sent_date  \\\n0                 BODY      1985-05-05           UNKNOWN            NaT   \n1                 BODY      1986-02-12           UNKNOWN            NaT   \n2                 BODY      1990-05-07           UNKNOWN            NaT   \n3                 BODY      1990-10-02           UNKNOWN            NaT   \n4                 BODY      1989-09-01           UNKNOWN            NaT   \n...                ...             ...               ...            ...   \n8995           UNKNOWN      2017-09-08               NaN            NaT   \n8996              HEAD      2017-09-10               NaN            NaT   \n8997           UNKNOWN      2017-09-10               NaN            NaT   \n8998              BODY      2017-09-10               NaN            NaT   \n8999              BODY      2017-09-10               NaN            NaT   \n\n     release_date ResultsIDDesc difference new_difference  \\\n0             NaN       UNKNOWN     0 days         0 days   \n1             NaN       UNKNOWN     0 days         0 days   \n2             NaN       UNKNOWN  1096 days      1096 days   \n3             NaN       UNKNOWN   730 days       730 days   \n4             NaN       UNKNOWN        NaT            NaT   \n...           ...           ...        ...            ...   \n8995          NaN           NaN        NaT            NaT   \n8996          NaN           NaN        NaT            NaT   \n8997          NaN           NaN        NaT            NaT   \n8998          NaN           NaN        NaT            NaT   \n8999          NaN           NaN        NaT            NaT   \n\n     differnceOfBiteAndHeadSent  \n0                           NaT  \n1                           NaT  \n2                           NaT  \n3                           NaT  \n4                           NaT  \n...                         ...  \n8995                        NaT  \n8996                        NaT  \n8997                        NaT  \n8998                        NaT  \n8999                        NaT  \n\n[9000 rows x 18 columns]",
      "text/html": "<div>\n<style scoped>\n    .dataframe tbody tr th:only-of-type {\n        vertical-align: middle;\n    }\n\n    .dataframe tbody tr th {\n        vertical-align: top;\n    }\n\n    .dataframe thead th {\n        text-align: right;\n    }\n</style>\n<table border=\"1\" class=\"dataframe\">\n  <thead>\n    <tr style=\"text-align: right;\">\n      <th></th>\n      <th>bite_date</th>\n      <th>SpeciesIDDesc</th>\n      <th>BreedIDDesc</th>\n      <th>GenderIDDesc</th>\n      <th>color</th>\n      <th>vaccination_yrs</th>\n      <th>vaccination_date</th>\n      <th>victim_zip</th>\n      <th>AdvIssuedYNDesc</th>\n      <th>WhereBittenIDDesc</th>\n      <th>quarantine_date</th>\n      <th>DispositionIDDesc</th>\n      <th>head_sent_date</th>\n      <th>release_date</th>\n      <th>ResultsIDDesc</th>\n      <th>difference</th>\n      <th>new_difference</th>\n      <th>differnceOfBiteAndHeadSent</th>\n    </tr>\n  </thead>\n  <tbody>\n    <tr>\n      <th>0</th>\n      <td>1985-05-05</td>\n      <td>DOG</td>\n      <td>NaN</td>\n      <td>FEMALE</td>\n      <td>LIG. BROWN</td>\n      <td>1.0</td>\n      <td>1985-06-20 00:00:00</td>\n      <td>40229</td>\n      <td>NO</td>\n      <td>BODY</td>\n      <td>1985-05-05</td>\n      <td>UNKNOWN</td>\n      <td>NaT</td>\n      <td>NaN</td>\n      <td>UNKNOWN</td>\n      <td>0 days</td>\n      <td>0 days</td>\n      <td>NaT</td>\n    </tr>\n    <tr>\n      <th>1</th>\n      <td>1986-02-12</td>\n      <td>DOG</td>\n      <td>NaN</td>\n      <td>UNKNOWN</td>\n      <td>BRO &amp; BLA</td>\n      <td>NaN</td>\n      <td>NaN</td>\n      <td>40218</td>\n      <td>NO</td>\n      <td>BODY</td>\n      <td>1986-02-12</td>\n      <td>UNKNOWN</td>\n      <td>NaT</td>\n      <td>NaN</td>\n      <td>UNKNOWN</td>\n      <td>0 days</td>\n      <td>0 days</td>\n      <td>NaT</td>\n    </tr>\n    <tr>\n      <th>2</th>\n      <td>1987-05-07</td>\n      <td>DOG</td>\n      <td>NaN</td>\n      <td>UNKNOWN</td>\n      <td>NaN</td>\n      <td>NaN</td>\n      <td>NaN</td>\n      <td>40219</td>\n      <td>NO</td>\n      <td>BODY</td>\n      <td>1990-05-07</td>\n      <td>UNKNOWN</td>\n      <td>NaT</td>\n      <td>NaN</td>\n      <td>UNKNOWN</td>\n      <td>1096 days</td>\n      <td>1096 days</td>\n      <td>NaT</td>\n    </tr>\n    <tr>\n      <th>3</th>\n      <td>1988-10-02</td>\n      <td>DOG</td>\n      <td>NaN</td>\n      <td>MALE</td>\n      <td>BLA &amp; BRO</td>\n      <td>NaN</td>\n      <td>NaN</td>\n      <td>NaN</td>\n      <td>NO</td>\n      <td>BODY</td>\n      <td>1990-10-02</td>\n      <td>UNKNOWN</td>\n      <td>NaT</td>\n      <td>NaN</td>\n      <td>UNKNOWN</td>\n      <td>730 days</td>\n      <td>730 days</td>\n      <td>NaT</td>\n    </tr>\n    <tr>\n      <th>4</th>\n      <td>1989-08-29</td>\n      <td>DOG</td>\n      <td>NaN</td>\n      <td>FEMALE</td>\n      <td>BLK-WHT</td>\n      <td>NaN</td>\n      <td>NaN</td>\n      <td>NaN</td>\n      <td>NO</td>\n      <td>BODY</td>\n      <td>1989-09-01</td>\n      <td>UNKNOWN</td>\n      <td>NaT</td>\n      <td>NaN</td>\n      <td>UNKNOWN</td>\n      <td>NaT</td>\n      <td>NaT</td>\n      <td>NaT</td>\n    </tr>\n    <tr>\n      <th>...</th>\n      <td>...</td>\n      <td>...</td>\n      <td>...</td>\n      <td>...</td>\n      <td>...</td>\n      <td>...</td>\n      <td>...</td>\n      <td>...</td>\n      <td>...</td>\n      <td>...</td>\n      <td>...</td>\n      <td>...</td>\n      <td>...</td>\n      <td>...</td>\n      <td>...</td>\n      <td>...</td>\n      <td>...</td>\n      <td>...</td>\n    </tr>\n    <tr>\n      <th>8995</th>\n      <td>2017-09-05</td>\n      <td>DOG</td>\n      <td>NaN</td>\n      <td>NaN</td>\n      <td>NaN</td>\n      <td>NaN</td>\n      <td>NaN</td>\n      <td>40243</td>\n      <td>NaN</td>\n      <td>UNKNOWN</td>\n      <td>2017-09-08</td>\n      <td>NaN</td>\n      <td>NaT</td>\n      <td>NaN</td>\n      <td>NaN</td>\n      <td>NaT</td>\n      <td>NaT</td>\n      <td>NaT</td>\n    </tr>\n    <tr>\n      <th>8996</th>\n      <td>2017-09-07</td>\n      <td>DOG</td>\n      <td>POMERANIAN</td>\n      <td>MALE</td>\n      <td>RED</td>\n      <td>NaN</td>\n      <td>NaN</td>\n      <td>40204</td>\n      <td>NaN</td>\n      <td>HEAD</td>\n      <td>2017-09-10</td>\n      <td>NaN</td>\n      <td>NaT</td>\n      <td>NaN</td>\n      <td>NaN</td>\n      <td>NaT</td>\n      <td>NaT</td>\n      <td>NaT</td>\n    </tr>\n    <tr>\n      <th>8997</th>\n      <td>2017-09-07</td>\n      <td>DOG</td>\n      <td>LABRADOR RETRIV</td>\n      <td>MALE</td>\n      <td>BROWN</td>\n      <td>NaN</td>\n      <td>NaN</td>\n      <td>47130</td>\n      <td>NaN</td>\n      <td>UNKNOWN</td>\n      <td>2017-09-10</td>\n      <td>NaN</td>\n      <td>NaT</td>\n      <td>NaN</td>\n      <td>NaN</td>\n      <td>NaT</td>\n      <td>NaT</td>\n      <td>NaT</td>\n    </tr>\n    <tr>\n      <th>8998</th>\n      <td>2017-09-07</td>\n      <td>DOG</td>\n      <td>LABRADOR RETRIV</td>\n      <td>FEMALE</td>\n      <td>BLK WHT</td>\n      <td>NaN</td>\n      <td>NaN</td>\n      <td>40229</td>\n      <td>NaN</td>\n      <td>BODY</td>\n      <td>2017-09-10</td>\n      <td>NaN</td>\n      <td>NaT</td>\n      <td>NaN</td>\n      <td>NaN</td>\n      <td>NaT</td>\n      <td>NaT</td>\n      <td>NaT</td>\n    </tr>\n    <tr>\n      <th>8999</th>\n      <td>2017-09-07</td>\n      <td>DOG</td>\n      <td>BOXER</td>\n      <td>NaN</td>\n      <td>BRN BLK</td>\n      <td>NaN</td>\n      <td>NaN</td>\n      <td>40229</td>\n      <td>NaN</td>\n      <td>BODY</td>\n      <td>2017-09-10</td>\n      <td>NaN</td>\n      <td>NaT</td>\n      <td>NaN</td>\n      <td>NaN</td>\n      <td>NaT</td>\n      <td>NaT</td>\n      <td>NaT</td>\n    </tr>\n  </tbody>\n</table>\n<p>9000 rows × 18 columns</p>\n</div>"
     },
     "execution_count": 64,
     "metadata": {},
     "output_type": "execute_result"
    }
   ],
   "source": [
    "preprocessed_data"
   ],
   "metadata": {
    "collapsed": false,
    "ExecuteTime": {
     "end_time": "2024-01-15T10:58:44.540794800Z",
     "start_time": "2024-01-15T10:58:44.395948400Z"
    }
   },
   "id": "1bbbd458c8daf981"
  },
  {
   "cell_type": "code",
   "execution_count": 65,
   "outputs": [
    {
     "data": {
      "text/plain": "     bite_date SpeciesIDDesc    BreedIDDesc GenderIDDesc    color  \\\n1511       NaT         OTHER            NaN          NaN      NaN   \n1512       NaT           BAT            NaN          NaN      NaN   \n1513       NaT           BAT            NaN          NaN      NaN   \n1514       NaT           BAT            NaN          NaN      NaN   \n1515       NaT           CAT            NaN          NaN      NaN   \n...        ...           ...            ...          ...      ...   \n8899       NaT           DOG  BORDER COLLIE         MALE  BLK WHT   \n8921       NaT           DOG            NaN          NaN      NaN   \n8924       NaT           BAT            NaN          NaN      NaN   \n8925       NaT           BAT            NaN          NaN      NaN   \n8928       NaT           DOG            NaN          NaN      NaN   \n\n      vaccination_yrs     vaccination_date victim_zip AdvIssuedYNDesc  \\\n1511              NaN                  NaN      40299              NO   \n1512              NaN                  NaN        NaN             NaN   \n1513              NaN                  NaN      40215             NaN   \n1514              NaN                  NaN      40214             NaN   \n1515              NaN                  NaN      40214             NaN   \n...               ...                  ...        ...             ...   \n8899              1.0  2017-07-18 00:00:00        NaN             NaN   \n8921              NaN                  NaN      40206             NaN   \n8924              NaN                  NaN      40291             YES   \n8925              NaN                  NaN      40291             YES   \n8928              NaN                  NaN      40242             NaN   \n\n     WhereBittenIDDesc quarantine_date DispositionIDDesc head_sent_date  \\\n1511               NaN             NaT              DIED     2011-05-24   \n1512               NaN             NaT               NaN     2011-08-09   \n1513               NaN             NaT               NaN     2015-02-28   \n1514               NaN             NaT               NaN     2015-03-01   \n1515              BODY             NaT               NaN     2015-03-05   \n...                ...             ...               ...            ...   \n8899               NaN             NaT               NaN            NaT   \n8921               NaN             NaT               NaN            NaT   \n8924               NaN             NaT               NaN            NaT   \n8925               NaN             NaT               NaN            NaT   \n8928               NaN             NaT               NaN            NaT   \n\n             release_date ResultsIDDesc difference new_difference  \\\n1511                  NaN      NEGATIVE        NaT            NaT   \n1512                  NaN      NEGATIVE        NaT            NaT   \n1513                  NaN      NEGATIVE        NaT            NaT   \n1514                  NaN      NEGATIVE        NaT            NaT   \n1515                  NaN      NEGATIVE        NaT            NaT   \n...                   ...           ...        ...            ...   \n8899  2017-08-18 00:00:00           NaN        NaT            NaT   \n8921                  NaN           NaN        NaT            NaT   \n8924                  NaN           NaN        NaT            NaT   \n8925                  NaN           NaN        NaT            NaT   \n8928                  NaN           NaN        NaT            NaT   \n\n     differnceOfBiteAndHeadSent  \n1511                        NaT  \n1512                        NaT  \n1513                        NaT  \n1514                        NaT  \n1515                        NaT  \n...                         ...  \n8899                        NaT  \n8921                        NaT  \n8924                        NaT  \n8925                        NaT  \n8928                        NaT  \n\n[301 rows x 18 columns]",
      "text/html": "<div>\n<style scoped>\n    .dataframe tbody tr th:only-of-type {\n        vertical-align: middle;\n    }\n\n    .dataframe tbody tr th {\n        vertical-align: top;\n    }\n\n    .dataframe thead th {\n        text-align: right;\n    }\n</style>\n<table border=\"1\" class=\"dataframe\">\n  <thead>\n    <tr style=\"text-align: right;\">\n      <th></th>\n      <th>bite_date</th>\n      <th>SpeciesIDDesc</th>\n      <th>BreedIDDesc</th>\n      <th>GenderIDDesc</th>\n      <th>color</th>\n      <th>vaccination_yrs</th>\n      <th>vaccination_date</th>\n      <th>victim_zip</th>\n      <th>AdvIssuedYNDesc</th>\n      <th>WhereBittenIDDesc</th>\n      <th>quarantine_date</th>\n      <th>DispositionIDDesc</th>\n      <th>head_sent_date</th>\n      <th>release_date</th>\n      <th>ResultsIDDesc</th>\n      <th>difference</th>\n      <th>new_difference</th>\n      <th>differnceOfBiteAndHeadSent</th>\n    </tr>\n  </thead>\n  <tbody>\n    <tr>\n      <th>1511</th>\n      <td>NaT</td>\n      <td>OTHER</td>\n      <td>NaN</td>\n      <td>NaN</td>\n      <td>NaN</td>\n      <td>NaN</td>\n      <td>NaN</td>\n      <td>40299</td>\n      <td>NO</td>\n      <td>NaN</td>\n      <td>NaT</td>\n      <td>DIED</td>\n      <td>2011-05-24</td>\n      <td>NaN</td>\n      <td>NEGATIVE</td>\n      <td>NaT</td>\n      <td>NaT</td>\n      <td>NaT</td>\n    </tr>\n    <tr>\n      <th>1512</th>\n      <td>NaT</td>\n      <td>BAT</td>\n      <td>NaN</td>\n      <td>NaN</td>\n      <td>NaN</td>\n      <td>NaN</td>\n      <td>NaN</td>\n      <td>NaN</td>\n      <td>NaN</td>\n      <td>NaN</td>\n      <td>NaT</td>\n      <td>NaN</td>\n      <td>2011-08-09</td>\n      <td>NaN</td>\n      <td>NEGATIVE</td>\n      <td>NaT</td>\n      <td>NaT</td>\n      <td>NaT</td>\n    </tr>\n    <tr>\n      <th>1513</th>\n      <td>NaT</td>\n      <td>BAT</td>\n      <td>NaN</td>\n      <td>NaN</td>\n      <td>NaN</td>\n      <td>NaN</td>\n      <td>NaN</td>\n      <td>40215</td>\n      <td>NaN</td>\n      <td>NaN</td>\n      <td>NaT</td>\n      <td>NaN</td>\n      <td>2015-02-28</td>\n      <td>NaN</td>\n      <td>NEGATIVE</td>\n      <td>NaT</td>\n      <td>NaT</td>\n      <td>NaT</td>\n    </tr>\n    <tr>\n      <th>1514</th>\n      <td>NaT</td>\n      <td>BAT</td>\n      <td>NaN</td>\n      <td>NaN</td>\n      <td>NaN</td>\n      <td>NaN</td>\n      <td>NaN</td>\n      <td>40214</td>\n      <td>NaN</td>\n      <td>NaN</td>\n      <td>NaT</td>\n      <td>NaN</td>\n      <td>2015-03-01</td>\n      <td>NaN</td>\n      <td>NEGATIVE</td>\n      <td>NaT</td>\n      <td>NaT</td>\n      <td>NaT</td>\n    </tr>\n    <tr>\n      <th>1515</th>\n      <td>NaT</td>\n      <td>CAT</td>\n      <td>NaN</td>\n      <td>NaN</td>\n      <td>NaN</td>\n      <td>NaN</td>\n      <td>NaN</td>\n      <td>40214</td>\n      <td>NaN</td>\n      <td>BODY</td>\n      <td>NaT</td>\n      <td>NaN</td>\n      <td>2015-03-05</td>\n      <td>NaN</td>\n      <td>NEGATIVE</td>\n      <td>NaT</td>\n      <td>NaT</td>\n      <td>NaT</td>\n    </tr>\n    <tr>\n      <th>...</th>\n      <td>...</td>\n      <td>...</td>\n      <td>...</td>\n      <td>...</td>\n      <td>...</td>\n      <td>...</td>\n      <td>...</td>\n      <td>...</td>\n      <td>...</td>\n      <td>...</td>\n      <td>...</td>\n      <td>...</td>\n      <td>...</td>\n      <td>...</td>\n      <td>...</td>\n      <td>...</td>\n      <td>...</td>\n      <td>...</td>\n    </tr>\n    <tr>\n      <th>8899</th>\n      <td>NaT</td>\n      <td>DOG</td>\n      <td>BORDER COLLIE</td>\n      <td>MALE</td>\n      <td>BLK WHT</td>\n      <td>1.0</td>\n      <td>2017-07-18 00:00:00</td>\n      <td>NaN</td>\n      <td>NaN</td>\n      <td>NaN</td>\n      <td>NaT</td>\n      <td>NaN</td>\n      <td>NaT</td>\n      <td>2017-08-18 00:00:00</td>\n      <td>NaN</td>\n      <td>NaT</td>\n      <td>NaT</td>\n      <td>NaT</td>\n    </tr>\n    <tr>\n      <th>8921</th>\n      <td>NaT</td>\n      <td>DOG</td>\n      <td>NaN</td>\n      <td>NaN</td>\n      <td>NaN</td>\n      <td>NaN</td>\n      <td>NaN</td>\n      <td>40206</td>\n      <td>NaN</td>\n      <td>NaN</td>\n      <td>NaT</td>\n      <td>NaN</td>\n      <td>NaT</td>\n      <td>NaN</td>\n      <td>NaN</td>\n      <td>NaT</td>\n      <td>NaT</td>\n      <td>NaT</td>\n    </tr>\n    <tr>\n      <th>8924</th>\n      <td>NaT</td>\n      <td>BAT</td>\n      <td>NaN</td>\n      <td>NaN</td>\n      <td>NaN</td>\n      <td>NaN</td>\n      <td>NaN</td>\n      <td>40291</td>\n      <td>YES</td>\n      <td>NaN</td>\n      <td>NaT</td>\n      <td>NaN</td>\n      <td>NaT</td>\n      <td>NaN</td>\n      <td>NaN</td>\n      <td>NaT</td>\n      <td>NaT</td>\n      <td>NaT</td>\n    </tr>\n    <tr>\n      <th>8925</th>\n      <td>NaT</td>\n      <td>BAT</td>\n      <td>NaN</td>\n      <td>NaN</td>\n      <td>NaN</td>\n      <td>NaN</td>\n      <td>NaN</td>\n      <td>40291</td>\n      <td>YES</td>\n      <td>NaN</td>\n      <td>NaT</td>\n      <td>NaN</td>\n      <td>NaT</td>\n      <td>NaN</td>\n      <td>NaN</td>\n      <td>NaT</td>\n      <td>NaT</td>\n      <td>NaT</td>\n    </tr>\n    <tr>\n      <th>8928</th>\n      <td>NaT</td>\n      <td>DOG</td>\n      <td>NaN</td>\n      <td>NaN</td>\n      <td>NaN</td>\n      <td>NaN</td>\n      <td>NaN</td>\n      <td>40242</td>\n      <td>NaN</td>\n      <td>NaN</td>\n      <td>NaT</td>\n      <td>NaN</td>\n      <td>NaT</td>\n      <td>NaN</td>\n      <td>NaN</td>\n      <td>NaT</td>\n      <td>NaT</td>\n      <td>NaT</td>\n    </tr>\n  </tbody>\n</table>\n<p>301 rows × 18 columns</p>\n</div>"
     },
     "execution_count": 65,
     "metadata": {},
     "output_type": "execute_result"
    }
   ],
   "source": [
    "# now we can check the rest of rows that have null data in both column\n",
    "restOfNullRows = preprocessed_data[preprocessed_data[selected_cols].isnull().sum(axis=1) > 1]\n",
    "restOfNullRows"
   ],
   "metadata": {
    "collapsed": false,
    "ExecuteTime": {
     "end_time": "2024-01-15T10:59:00.481501600Z",
     "start_time": "2024-01-15T10:59:00.363140100Z"
    }
   },
   "id": "bb740efb29a9962d"
  },
  {
   "cell_type": "code",
   "execution_count": 56,
   "outputs": [
    {
     "ename": "TypeError",
     "evalue": "cannot subtract DatetimeArray from ndarray",
     "output_type": "error",
     "traceback": [
      "\u001B[1;31m---------------------------------------------------------------------------\u001B[0m",
      "\u001B[1;31mTypeError\u001B[0m                                 Traceback (most recent call last)",
      "Cell \u001B[1;32mIn[56], line 2\u001B[0m\n\u001B[0;32m      1\u001B[0m \u001B[38;5;66;03m# before filling rest of null date in bite_date and quarantine_date column, let's check the diffence and average date between head_sent_date and bite_date\u001B[39;00m\n\u001B[1;32m----> 2\u001B[0m differnceOfBiteAndHeadSent \u001B[38;5;241m=\u001B[39m \u001B[43mpreprocessed_data\u001B[49m\u001B[43m[\u001B[49m\u001B[38;5;124;43m'\u001B[39;49m\u001B[38;5;124;43mhead_sent_date\u001B[39;49m\u001B[38;5;124;43m'\u001B[39;49m\u001B[43m]\u001B[49m\u001B[38;5;241;43m-\u001B[39;49m\u001B[43m \u001B[49m\u001B[43mpreprocessed_data\u001B[49m\u001B[43m[\u001B[49m\u001B[38;5;124;43m'\u001B[39;49m\u001B[38;5;124;43mbite_date\u001B[39;49m\u001B[38;5;124;43m'\u001B[39;49m\u001B[43m]\u001B[49m\n\u001B[0;32m      3\u001B[0m preprocessed_data[\u001B[38;5;124m'\u001B[39m\u001B[38;5;124mdiffernceOfBiteAndHeadSent\u001B[39m\u001B[38;5;124m'\u001B[39m] \u001B[38;5;241m=\u001B[39m differnceOfBiteAndHeadSent\n",
      "File \u001B[1;32m~\\AppData\\Local\\Programs\\Python\\Python311\\Lib\\site-packages\\pandas\\core\\ops\\common.py:76\u001B[0m, in \u001B[0;36m_unpack_zerodim_and_defer.<locals>.new_method\u001B[1;34m(self, other)\u001B[0m\n\u001B[0;32m     72\u001B[0m             \u001B[38;5;28;01mreturn\u001B[39;00m \u001B[38;5;28mNotImplemented\u001B[39m\n\u001B[0;32m     74\u001B[0m other \u001B[38;5;241m=\u001B[39m item_from_zerodim(other)\n\u001B[1;32m---> 76\u001B[0m \u001B[38;5;28;01mreturn\u001B[39;00m \u001B[43mmethod\u001B[49m\u001B[43m(\u001B[49m\u001B[38;5;28;43mself\u001B[39;49m\u001B[43m,\u001B[49m\u001B[43m \u001B[49m\u001B[43mother\u001B[49m\u001B[43m)\u001B[49m\n",
      "File \u001B[1;32m~\\AppData\\Local\\Programs\\Python\\Python311\\Lib\\site-packages\\pandas\\core\\arraylike.py:194\u001B[0m, in \u001B[0;36mOpsMixin.__sub__\u001B[1;34m(self, other)\u001B[0m\n\u001B[0;32m    192\u001B[0m \u001B[38;5;129m@unpack_zerodim_and_defer\u001B[39m(\u001B[38;5;124m\"\u001B[39m\u001B[38;5;124m__sub__\u001B[39m\u001B[38;5;124m\"\u001B[39m)\n\u001B[0;32m    193\u001B[0m \u001B[38;5;28;01mdef\u001B[39;00m \u001B[38;5;21m__sub__\u001B[39m(\u001B[38;5;28mself\u001B[39m, other):\n\u001B[1;32m--> 194\u001B[0m     \u001B[38;5;28;01mreturn\u001B[39;00m \u001B[38;5;28;43mself\u001B[39;49m\u001B[38;5;241;43m.\u001B[39;49m\u001B[43m_arith_method\u001B[49m\u001B[43m(\u001B[49m\u001B[43mother\u001B[49m\u001B[43m,\u001B[49m\u001B[43m \u001B[49m\u001B[43moperator\u001B[49m\u001B[38;5;241;43m.\u001B[39;49m\u001B[43msub\u001B[49m\u001B[43m)\u001B[49m\n",
      "File \u001B[1;32m~\\AppData\\Local\\Programs\\Python\\Python311\\Lib\\site-packages\\pandas\\core\\series.py:5820\u001B[0m, in \u001B[0;36mSeries._arith_method\u001B[1;34m(self, other, op)\u001B[0m\n\u001B[0;32m   5818\u001B[0m \u001B[38;5;28;01mdef\u001B[39;00m \u001B[38;5;21m_arith_method\u001B[39m(\u001B[38;5;28mself\u001B[39m, other, op):\n\u001B[0;32m   5819\u001B[0m     \u001B[38;5;28mself\u001B[39m, other \u001B[38;5;241m=\u001B[39m \u001B[38;5;28mself\u001B[39m\u001B[38;5;241m.\u001B[39m_align_for_op(other)\n\u001B[1;32m-> 5820\u001B[0m     \u001B[38;5;28;01mreturn\u001B[39;00m \u001B[43mbase\u001B[49m\u001B[38;5;241;43m.\u001B[39;49m\u001B[43mIndexOpsMixin\u001B[49m\u001B[38;5;241;43m.\u001B[39;49m\u001B[43m_arith_method\u001B[49m\u001B[43m(\u001B[49m\u001B[38;5;28;43mself\u001B[39;49m\u001B[43m,\u001B[49m\u001B[43m \u001B[49m\u001B[43mother\u001B[49m\u001B[43m,\u001B[49m\u001B[43m \u001B[49m\u001B[43mop\u001B[49m\u001B[43m)\u001B[49m\n",
      "File \u001B[1;32m~\\AppData\\Local\\Programs\\Python\\Python311\\Lib\\site-packages\\pandas\\core\\base.py:1381\u001B[0m, in \u001B[0;36mIndexOpsMixin._arith_method\u001B[1;34m(self, other, op)\u001B[0m\n\u001B[0;32m   1378\u001B[0m     rvalues \u001B[38;5;241m=\u001B[39m np\u001B[38;5;241m.\u001B[39marange(rvalues\u001B[38;5;241m.\u001B[39mstart, rvalues\u001B[38;5;241m.\u001B[39mstop, rvalues\u001B[38;5;241m.\u001B[39mstep)\n\u001B[0;32m   1380\u001B[0m \u001B[38;5;28;01mwith\u001B[39;00m np\u001B[38;5;241m.\u001B[39merrstate(\u001B[38;5;28mall\u001B[39m\u001B[38;5;241m=\u001B[39m\u001B[38;5;124m\"\u001B[39m\u001B[38;5;124mignore\u001B[39m\u001B[38;5;124m\"\u001B[39m):\n\u001B[1;32m-> 1381\u001B[0m     result \u001B[38;5;241m=\u001B[39m \u001B[43mops\u001B[49m\u001B[38;5;241;43m.\u001B[39;49m\u001B[43marithmetic_op\u001B[49m\u001B[43m(\u001B[49m\u001B[43mlvalues\u001B[49m\u001B[43m,\u001B[49m\u001B[43m \u001B[49m\u001B[43mrvalues\u001B[49m\u001B[43m,\u001B[49m\u001B[43m \u001B[49m\u001B[43mop\u001B[49m\u001B[43m)\u001B[49m\n\u001B[0;32m   1383\u001B[0m \u001B[38;5;28;01mreturn\u001B[39;00m \u001B[38;5;28mself\u001B[39m\u001B[38;5;241m.\u001B[39m_construct_result(result, name\u001B[38;5;241m=\u001B[39mres_name)\n",
      "File \u001B[1;32m~\\AppData\\Local\\Programs\\Python\\Python311\\Lib\\site-packages\\pandas\\core\\ops\\array_ops.py:275\u001B[0m, in \u001B[0;36marithmetic_op\u001B[1;34m(left, right, op)\u001B[0m\n\u001B[0;32m    262\u001B[0m \u001B[38;5;66;03m# NB: We assume that extract_array and ensure_wrapped_if_datetimelike\u001B[39;00m\n\u001B[0;32m    263\u001B[0m \u001B[38;5;66;03m#  have already been called on `left` and `right`,\u001B[39;00m\n\u001B[0;32m    264\u001B[0m \u001B[38;5;66;03m#  and `maybe_prepare_scalar_for_op` has already been called on `right`\u001B[39;00m\n\u001B[0;32m    265\u001B[0m \u001B[38;5;66;03m# We need to special-case datetime64/timedelta64 dtypes (e.g. because numpy\u001B[39;00m\n\u001B[0;32m    266\u001B[0m \u001B[38;5;66;03m# casts integer dtypes to timedelta64 when operating with timedelta64 - GH#22390)\u001B[39;00m\n\u001B[0;32m    268\u001B[0m \u001B[38;5;28;01mif\u001B[39;00m (\n\u001B[0;32m    269\u001B[0m     should_extension_dispatch(left, right)\n\u001B[0;32m    270\u001B[0m     \u001B[38;5;129;01mor\u001B[39;00m \u001B[38;5;28misinstance\u001B[39m(right, (Timedelta, BaseOffset, Timestamp))\n\u001B[1;32m   (...)\u001B[0m\n\u001B[0;32m    273\u001B[0m     \u001B[38;5;66;03m# Timedelta/Timestamp and other custom scalars are included in the check\u001B[39;00m\n\u001B[0;32m    274\u001B[0m     \u001B[38;5;66;03m# because numexpr will fail on it, see GH#31457\u001B[39;00m\n\u001B[1;32m--> 275\u001B[0m     res_values \u001B[38;5;241m=\u001B[39m \u001B[43mop\u001B[49m\u001B[43m(\u001B[49m\u001B[43mleft\u001B[49m\u001B[43m,\u001B[49m\u001B[43m \u001B[49m\u001B[43mright\u001B[49m\u001B[43m)\u001B[49m\n\u001B[0;32m    276\u001B[0m \u001B[38;5;28;01melse\u001B[39;00m:\n\u001B[0;32m    277\u001B[0m     \u001B[38;5;66;03m# TODO we should handle EAs consistently and move this check before the if/else\u001B[39;00m\n\u001B[0;32m    278\u001B[0m     \u001B[38;5;66;03m# (https://github.com/pandas-dev/pandas/issues/41165)\u001B[39;00m\n\u001B[0;32m    279\u001B[0m     \u001B[38;5;66;03m# error: Argument 2 to \"_bool_arith_check\" has incompatible type\u001B[39;00m\n\u001B[0;32m    280\u001B[0m     \u001B[38;5;66;03m# \"Union[ExtensionArray, ndarray[Any, Any]]\"; expected \"ndarray[Any, Any]\"\u001B[39;00m\n\u001B[0;32m    281\u001B[0m     _bool_arith_check(op, left, right)  \u001B[38;5;66;03m# type: ignore[arg-type]\u001B[39;00m\n",
      "File \u001B[1;32m~\\AppData\\Local\\Programs\\Python\\Python311\\Lib\\site-packages\\pandas\\core\\arrays\\datetimelike.py:2107\u001B[0m, in \u001B[0;36mTimelikeOps.__array_ufunc__\u001B[1;34m(self, ufunc, method, *inputs, **kwargs)\u001B[0m\n\u001B[0;32m   2099\u001B[0m \u001B[38;5;28;01mif\u001B[39;00m (\n\u001B[0;32m   2100\u001B[0m     ufunc \u001B[38;5;129;01min\u001B[39;00m [np\u001B[38;5;241m.\u001B[39misnan, np\u001B[38;5;241m.\u001B[39misinf, np\u001B[38;5;241m.\u001B[39misfinite]\n\u001B[0;32m   2101\u001B[0m     \u001B[38;5;129;01mand\u001B[39;00m \u001B[38;5;28mlen\u001B[39m(inputs) \u001B[38;5;241m==\u001B[39m \u001B[38;5;241m1\u001B[39m\n\u001B[0;32m   2102\u001B[0m     \u001B[38;5;129;01mand\u001B[39;00m inputs[\u001B[38;5;241m0\u001B[39m] \u001B[38;5;129;01mis\u001B[39;00m \u001B[38;5;28mself\u001B[39m\n\u001B[0;32m   2103\u001B[0m ):\n\u001B[0;32m   2104\u001B[0m     \u001B[38;5;66;03m# numpy 1.18 changed isinf and isnan to not raise on dt64/td64\u001B[39;00m\n\u001B[0;32m   2105\u001B[0m     \u001B[38;5;28;01mreturn\u001B[39;00m \u001B[38;5;28mgetattr\u001B[39m(ufunc, method)(\u001B[38;5;28mself\u001B[39m\u001B[38;5;241m.\u001B[39m_ndarray, \u001B[38;5;241m*\u001B[39m\u001B[38;5;241m*\u001B[39mkwargs)\n\u001B[1;32m-> 2107\u001B[0m \u001B[38;5;28;01mreturn\u001B[39;00m \u001B[38;5;28;43msuper\u001B[39;49m\u001B[43m(\u001B[49m\u001B[43m)\u001B[49m\u001B[38;5;241;43m.\u001B[39;49m\u001B[43m__array_ufunc__\u001B[49m\u001B[43m(\u001B[49m\u001B[43mufunc\u001B[49m\u001B[43m,\u001B[49m\u001B[43m \u001B[49m\u001B[43mmethod\u001B[49m\u001B[43m,\u001B[49m\u001B[43m \u001B[49m\u001B[38;5;241;43m*\u001B[39;49m\u001B[43minputs\u001B[49m\u001B[43m,\u001B[49m\u001B[43m \u001B[49m\u001B[38;5;241;43m*\u001B[39;49m\u001B[38;5;241;43m*\u001B[39;49m\u001B[43mkwargs\u001B[49m\u001B[43m)\u001B[49m\n",
      "File \u001B[1;32m~\\AppData\\Local\\Programs\\Python\\Python311\\Lib\\site-packages\\pandas\\core\\arrays\\base.py:2149\u001B[0m, in \u001B[0;36mExtensionArray.__array_ufunc__\u001B[1;34m(self, ufunc, method, *inputs, **kwargs)\u001B[0m\n\u001B[0;32m   2144\u001B[0m \u001B[38;5;28;01mif\u001B[39;00m \u001B[38;5;28many\u001B[39m(\n\u001B[0;32m   2145\u001B[0m     \u001B[38;5;28misinstance\u001B[39m(other, (ABCSeries, ABCIndex, ABCDataFrame)) \u001B[38;5;28;01mfor\u001B[39;00m other \u001B[38;5;129;01min\u001B[39;00m inputs\n\u001B[0;32m   2146\u001B[0m ):\n\u001B[0;32m   2147\u001B[0m     \u001B[38;5;28;01mreturn\u001B[39;00m \u001B[38;5;28mNotImplemented\u001B[39m\n\u001B[1;32m-> 2149\u001B[0m result \u001B[38;5;241m=\u001B[39m \u001B[43marraylike\u001B[49m\u001B[38;5;241;43m.\u001B[39;49m\u001B[43mmaybe_dispatch_ufunc_to_dunder_op\u001B[49m\u001B[43m(\u001B[49m\n\u001B[0;32m   2150\u001B[0m \u001B[43m    \u001B[49m\u001B[38;5;28;43mself\u001B[39;49m\u001B[43m,\u001B[49m\u001B[43m \u001B[49m\u001B[43mufunc\u001B[49m\u001B[43m,\u001B[49m\u001B[43m \u001B[49m\u001B[43mmethod\u001B[49m\u001B[43m,\u001B[49m\u001B[43m \u001B[49m\u001B[38;5;241;43m*\u001B[39;49m\u001B[43minputs\u001B[49m\u001B[43m,\u001B[49m\u001B[43m \u001B[49m\u001B[38;5;241;43m*\u001B[39;49m\u001B[38;5;241;43m*\u001B[39;49m\u001B[43mkwargs\u001B[49m\n\u001B[0;32m   2151\u001B[0m \u001B[43m\u001B[49m\u001B[43m)\u001B[49m\n\u001B[0;32m   2152\u001B[0m \u001B[38;5;28;01mif\u001B[39;00m result \u001B[38;5;129;01mis\u001B[39;00m \u001B[38;5;129;01mnot\u001B[39;00m \u001B[38;5;28mNotImplemented\u001B[39m:\n\u001B[0;32m   2153\u001B[0m     \u001B[38;5;28;01mreturn\u001B[39;00m result\n",
      "File \u001B[1;32mops_dispatch.pyx:113\u001B[0m, in \u001B[0;36mpandas._libs.ops_dispatch.maybe_dispatch_ufunc_to_dunder_op\u001B[1;34m()\u001B[0m\n",
      "File \u001B[1;32m~\\AppData\\Local\\Programs\\Python\\Python311\\Lib\\site-packages\\pandas\\core\\arrays\\datetimelike.py:1460\u001B[0m, in \u001B[0;36mDatetimeLikeArrayMixin.__rsub__\u001B[1;34m(self, other)\u001B[0m\n\u001B[0;32m   1456\u001B[0m     \u001B[38;5;28;01mreturn\u001B[39;00m other \u001B[38;5;241m-\u001B[39m \u001B[38;5;28mself\u001B[39m\n\u001B[0;32m   1457\u001B[0m \u001B[38;5;28;01melif\u001B[39;00m \u001B[38;5;28mself\u001B[39m\u001B[38;5;241m.\u001B[39mdtype\u001B[38;5;241m.\u001B[39mkind \u001B[38;5;241m==\u001B[39m \u001B[38;5;124m\"\u001B[39m\u001B[38;5;124mM\u001B[39m\u001B[38;5;124m\"\u001B[39m \u001B[38;5;129;01mand\u001B[39;00m \u001B[38;5;28mhasattr\u001B[39m(other, \u001B[38;5;124m\"\u001B[39m\u001B[38;5;124mdtype\u001B[39m\u001B[38;5;124m\"\u001B[39m) \u001B[38;5;129;01mand\u001B[39;00m \u001B[38;5;129;01mnot\u001B[39;00m other_is_dt64:\n\u001B[0;32m   1458\u001B[0m     \u001B[38;5;66;03m# GH#19959 datetime - datetime is well-defined as timedelta,\u001B[39;00m\n\u001B[0;32m   1459\u001B[0m     \u001B[38;5;66;03m# but any other type - datetime is not well-defined.\u001B[39;00m\n\u001B[1;32m-> 1460\u001B[0m     \u001B[38;5;28;01mraise\u001B[39;00m \u001B[38;5;167;01mTypeError\u001B[39;00m(\n\u001B[0;32m   1461\u001B[0m         \u001B[38;5;124mf\u001B[39m\u001B[38;5;124m\"\u001B[39m\u001B[38;5;124mcannot subtract \u001B[39m\u001B[38;5;132;01m{\u001B[39;00m\u001B[38;5;28mtype\u001B[39m(\u001B[38;5;28mself\u001B[39m)\u001B[38;5;241m.\u001B[39m\u001B[38;5;18m__name__\u001B[39m\u001B[38;5;132;01m}\u001B[39;00m\u001B[38;5;124m from \u001B[39m\u001B[38;5;132;01m{\u001B[39;00m\u001B[38;5;28mtype\u001B[39m(other)\u001B[38;5;241m.\u001B[39m\u001B[38;5;18m__name__\u001B[39m\u001B[38;5;132;01m}\u001B[39;00m\u001B[38;5;124m\"\u001B[39m\n\u001B[0;32m   1462\u001B[0m     )\n\u001B[0;32m   1463\u001B[0m \u001B[38;5;28;01melif\u001B[39;00m \u001B[38;5;28misinstance\u001B[39m(\u001B[38;5;28mself\u001B[39m\u001B[38;5;241m.\u001B[39mdtype, PeriodDtype) \u001B[38;5;129;01mand\u001B[39;00m lib\u001B[38;5;241m.\u001B[39mis_np_dtype(other_dtype, \u001B[38;5;124m\"\u001B[39m\u001B[38;5;124mm\u001B[39m\u001B[38;5;124m\"\u001B[39m):\n\u001B[0;32m   1464\u001B[0m     \u001B[38;5;66;03m# TODO: Can we simplify/generalize these cases at all?\u001B[39;00m\n\u001B[0;32m   1465\u001B[0m     \u001B[38;5;28;01mraise\u001B[39;00m \u001B[38;5;167;01mTypeError\u001B[39;00m(\u001B[38;5;124mf\u001B[39m\u001B[38;5;124m\"\u001B[39m\u001B[38;5;124mcannot subtract \u001B[39m\u001B[38;5;132;01m{\u001B[39;00m\u001B[38;5;28mtype\u001B[39m(\u001B[38;5;28mself\u001B[39m)\u001B[38;5;241m.\u001B[39m\u001B[38;5;18m__name__\u001B[39m\u001B[38;5;132;01m}\u001B[39;00m\u001B[38;5;124m from \u001B[39m\u001B[38;5;132;01m{\u001B[39;00mother\u001B[38;5;241m.\u001B[39mdtype\u001B[38;5;132;01m}\u001B[39;00m\u001B[38;5;124m\"\u001B[39m)\n",
      "\u001B[1;31mTypeError\u001B[0m: cannot subtract DatetimeArray from ndarray"
     ]
    }
   ],
   "source": [
    "# before filling rest of null date in bite_date and quarantine_date column, let's check the diffence and average date between head_sent_date and bite_date\n",
    "differnceOfBiteAndHeadSent = preprocessed_data['head_sent_date']- preprocessed_data['bite_date']\n",
    "preprocessed_data['differnceOfBiteAndHeadSent'] = differnceOfBiteAndHeadSent"
   ],
   "metadata": {
    "collapsed": false,
    "ExecuteTime": {
     "end_time": "2024-01-15T10:53:46.009089700Z",
     "start_time": "2024-01-15T10:53:45.047490900Z"
    }
   },
   "id": "cc6ccd4659a728ea"
  },
  {
   "cell_type": "code",
   "execution_count": 57,
   "outputs": [],
   "source": [
    "# before substract we need to convert head_sent_date column into datetime\n",
    "preprocessed_data['head_sent_date'] = pd.to_datetime(preprocessed_data['head_sent_date'])\n"
   ],
   "metadata": {
    "collapsed": false,
    "ExecuteTime": {
     "end_time": "2024-01-15T10:55:50.919879300Z",
     "start_time": "2024-01-15T10:55:50.861683200Z"
    }
   },
   "id": "a09bb53b431db999"
  },
  {
   "cell_type": "code",
   "execution_count": 59,
   "outputs": [],
   "source": [
    "differnceOfBiteAndHeadSent = preprocessed_data['head_sent_date']- preprocessed_data['bite_date']\n",
    "preprocessed_data['differnceOfBiteAndHeadSent'] = differnceOfBiteAndHeadSent"
   ],
   "metadata": {
    "collapsed": false,
    "ExecuteTime": {
     "end_time": "2024-01-15T10:56:27.133045600Z",
     "start_time": "2024-01-15T10:56:27.087533900Z"
    }
   },
   "id": "25c7bd8ee9dbeee8"
  },
  {
   "cell_type": "code",
   "execution_count": 60,
   "outputs": [
    {
     "data": {
      "text/plain": "      bite_date SpeciesIDDesc      BreedIDDesc GenderIDDesc       color  \\\n0    1985-05-05           DOG              NaN       FEMALE  LIG. BROWN   \n1    1986-02-12           DOG              NaN      UNKNOWN   BRO & BLA   \n2    1987-05-07           DOG              NaN      UNKNOWN         NaN   \n3    1988-10-02           DOG              NaN         MALE   BLA & BRO   \n4    1989-08-29           DOG              NaN       FEMALE     BLK-WHT   \n...         ...           ...              ...          ...         ...   \n8995 2017-09-05           DOG              NaN          NaN         NaN   \n8996 2017-09-07           DOG       POMERANIAN         MALE         RED   \n8997 2017-09-07           DOG  LABRADOR RETRIV         MALE       BROWN   \n8998 2017-09-07           DOG  LABRADOR RETRIV       FEMALE     BLK WHT   \n8999 2017-09-07           DOG            BOXER          NaN     BRN BLK   \n\n      vaccination_yrs     vaccination_date victim_zip AdvIssuedYNDesc  \\\n0                 1.0  1985-06-20 00:00:00      40229              NO   \n1                 NaN                  NaN      40218              NO   \n2                 NaN                  NaN      40219              NO   \n3                 NaN                  NaN        NaN              NO   \n4                 NaN                  NaN        NaN              NO   \n...               ...                  ...        ...             ...   \n8995              NaN                  NaN      40243             NaN   \n8996              NaN                  NaN      40204             NaN   \n8997              NaN                  NaN      47130             NaN   \n8998              NaN                  NaN      40229             NaN   \n8999              NaN                  NaN      40229             NaN   \n\n     WhereBittenIDDesc quarantine_date DispositionIDDesc head_sent_date  \\\n0                 BODY      1985-05-05           UNKNOWN            NaT   \n1                 BODY      1986-02-12           UNKNOWN            NaT   \n2                 BODY      1990-05-07           UNKNOWN            NaT   \n3                 BODY      1990-10-02           UNKNOWN            NaT   \n4                 BODY             NaT           UNKNOWN            NaT   \n...                ...             ...               ...            ...   \n8995           UNKNOWN             NaT               NaN            NaT   \n8996              HEAD             NaT               NaN            NaT   \n8997           UNKNOWN             NaT               NaN            NaT   \n8998              BODY             NaT               NaN            NaT   \n8999              BODY             NaT               NaN            NaT   \n\n     release_date ResultsIDDesc difference new_difference  \\\n0             NaN       UNKNOWN     0 days         0 days   \n1             NaN       UNKNOWN     0 days         0 days   \n2             NaN       UNKNOWN  1096 days      1096 days   \n3             NaN       UNKNOWN   730 days       730 days   \n4             NaN       UNKNOWN        NaT            NaT   \n...           ...           ...        ...            ...   \n8995          NaN           NaN        NaT            NaT   \n8996          NaN           NaN        NaT            NaT   \n8997          NaN           NaN        NaT            NaT   \n8998          NaN           NaN        NaT            NaT   \n8999          NaN           NaN        NaT            NaT   \n\n     differnceOfBiteAndHeadSent  \n0                           NaT  \n1                           NaT  \n2                           NaT  \n3                           NaT  \n4                           NaT  \n...                         ...  \n8995                        NaT  \n8996                        NaT  \n8997                        NaT  \n8998                        NaT  \n8999                        NaT  \n\n[9000 rows x 18 columns]",
      "text/html": "<div>\n<style scoped>\n    .dataframe tbody tr th:only-of-type {\n        vertical-align: middle;\n    }\n\n    .dataframe tbody tr th {\n        vertical-align: top;\n    }\n\n    .dataframe thead th {\n        text-align: right;\n    }\n</style>\n<table border=\"1\" class=\"dataframe\">\n  <thead>\n    <tr style=\"text-align: right;\">\n      <th></th>\n      <th>bite_date</th>\n      <th>SpeciesIDDesc</th>\n      <th>BreedIDDesc</th>\n      <th>GenderIDDesc</th>\n      <th>color</th>\n      <th>vaccination_yrs</th>\n      <th>vaccination_date</th>\n      <th>victim_zip</th>\n      <th>AdvIssuedYNDesc</th>\n      <th>WhereBittenIDDesc</th>\n      <th>quarantine_date</th>\n      <th>DispositionIDDesc</th>\n      <th>head_sent_date</th>\n      <th>release_date</th>\n      <th>ResultsIDDesc</th>\n      <th>difference</th>\n      <th>new_difference</th>\n      <th>differnceOfBiteAndHeadSent</th>\n    </tr>\n  </thead>\n  <tbody>\n    <tr>\n      <th>0</th>\n      <td>1985-05-05</td>\n      <td>DOG</td>\n      <td>NaN</td>\n      <td>FEMALE</td>\n      <td>LIG. BROWN</td>\n      <td>1.0</td>\n      <td>1985-06-20 00:00:00</td>\n      <td>40229</td>\n      <td>NO</td>\n      <td>BODY</td>\n      <td>1985-05-05</td>\n      <td>UNKNOWN</td>\n      <td>NaT</td>\n      <td>NaN</td>\n      <td>UNKNOWN</td>\n      <td>0 days</td>\n      <td>0 days</td>\n      <td>NaT</td>\n    </tr>\n    <tr>\n      <th>1</th>\n      <td>1986-02-12</td>\n      <td>DOG</td>\n      <td>NaN</td>\n      <td>UNKNOWN</td>\n      <td>BRO &amp; BLA</td>\n      <td>NaN</td>\n      <td>NaN</td>\n      <td>40218</td>\n      <td>NO</td>\n      <td>BODY</td>\n      <td>1986-02-12</td>\n      <td>UNKNOWN</td>\n      <td>NaT</td>\n      <td>NaN</td>\n      <td>UNKNOWN</td>\n      <td>0 days</td>\n      <td>0 days</td>\n      <td>NaT</td>\n    </tr>\n    <tr>\n      <th>2</th>\n      <td>1987-05-07</td>\n      <td>DOG</td>\n      <td>NaN</td>\n      <td>UNKNOWN</td>\n      <td>NaN</td>\n      <td>NaN</td>\n      <td>NaN</td>\n      <td>40219</td>\n      <td>NO</td>\n      <td>BODY</td>\n      <td>1990-05-07</td>\n      <td>UNKNOWN</td>\n      <td>NaT</td>\n      <td>NaN</td>\n      <td>UNKNOWN</td>\n      <td>1096 days</td>\n      <td>1096 days</td>\n      <td>NaT</td>\n    </tr>\n    <tr>\n      <th>3</th>\n      <td>1988-10-02</td>\n      <td>DOG</td>\n      <td>NaN</td>\n      <td>MALE</td>\n      <td>BLA &amp; BRO</td>\n      <td>NaN</td>\n      <td>NaN</td>\n      <td>NaN</td>\n      <td>NO</td>\n      <td>BODY</td>\n      <td>1990-10-02</td>\n      <td>UNKNOWN</td>\n      <td>NaT</td>\n      <td>NaN</td>\n      <td>UNKNOWN</td>\n      <td>730 days</td>\n      <td>730 days</td>\n      <td>NaT</td>\n    </tr>\n    <tr>\n      <th>4</th>\n      <td>1989-08-29</td>\n      <td>DOG</td>\n      <td>NaN</td>\n      <td>FEMALE</td>\n      <td>BLK-WHT</td>\n      <td>NaN</td>\n      <td>NaN</td>\n      <td>NaN</td>\n      <td>NO</td>\n      <td>BODY</td>\n      <td>NaT</td>\n      <td>UNKNOWN</td>\n      <td>NaT</td>\n      <td>NaN</td>\n      <td>UNKNOWN</td>\n      <td>NaT</td>\n      <td>NaT</td>\n      <td>NaT</td>\n    </tr>\n    <tr>\n      <th>...</th>\n      <td>...</td>\n      <td>...</td>\n      <td>...</td>\n      <td>...</td>\n      <td>...</td>\n      <td>...</td>\n      <td>...</td>\n      <td>...</td>\n      <td>...</td>\n      <td>...</td>\n      <td>...</td>\n      <td>...</td>\n      <td>...</td>\n      <td>...</td>\n      <td>...</td>\n      <td>...</td>\n      <td>...</td>\n      <td>...</td>\n    </tr>\n    <tr>\n      <th>8995</th>\n      <td>2017-09-05</td>\n      <td>DOG</td>\n      <td>NaN</td>\n      <td>NaN</td>\n      <td>NaN</td>\n      <td>NaN</td>\n      <td>NaN</td>\n      <td>40243</td>\n      <td>NaN</td>\n      <td>UNKNOWN</td>\n      <td>NaT</td>\n      <td>NaN</td>\n      <td>NaT</td>\n      <td>NaN</td>\n      <td>NaN</td>\n      <td>NaT</td>\n      <td>NaT</td>\n      <td>NaT</td>\n    </tr>\n    <tr>\n      <th>8996</th>\n      <td>2017-09-07</td>\n      <td>DOG</td>\n      <td>POMERANIAN</td>\n      <td>MALE</td>\n      <td>RED</td>\n      <td>NaN</td>\n      <td>NaN</td>\n      <td>40204</td>\n      <td>NaN</td>\n      <td>HEAD</td>\n      <td>NaT</td>\n      <td>NaN</td>\n      <td>NaT</td>\n      <td>NaN</td>\n      <td>NaN</td>\n      <td>NaT</td>\n      <td>NaT</td>\n      <td>NaT</td>\n    </tr>\n    <tr>\n      <th>8997</th>\n      <td>2017-09-07</td>\n      <td>DOG</td>\n      <td>LABRADOR RETRIV</td>\n      <td>MALE</td>\n      <td>BROWN</td>\n      <td>NaN</td>\n      <td>NaN</td>\n      <td>47130</td>\n      <td>NaN</td>\n      <td>UNKNOWN</td>\n      <td>NaT</td>\n      <td>NaN</td>\n      <td>NaT</td>\n      <td>NaN</td>\n      <td>NaN</td>\n      <td>NaT</td>\n      <td>NaT</td>\n      <td>NaT</td>\n    </tr>\n    <tr>\n      <th>8998</th>\n      <td>2017-09-07</td>\n      <td>DOG</td>\n      <td>LABRADOR RETRIV</td>\n      <td>FEMALE</td>\n      <td>BLK WHT</td>\n      <td>NaN</td>\n      <td>NaN</td>\n      <td>40229</td>\n      <td>NaN</td>\n      <td>BODY</td>\n      <td>NaT</td>\n      <td>NaN</td>\n      <td>NaT</td>\n      <td>NaN</td>\n      <td>NaN</td>\n      <td>NaT</td>\n      <td>NaT</td>\n      <td>NaT</td>\n    </tr>\n    <tr>\n      <th>8999</th>\n      <td>2017-09-07</td>\n      <td>DOG</td>\n      <td>BOXER</td>\n      <td>NaN</td>\n      <td>BRN BLK</td>\n      <td>NaN</td>\n      <td>NaN</td>\n      <td>40229</td>\n      <td>NaN</td>\n      <td>BODY</td>\n      <td>NaT</td>\n      <td>NaN</td>\n      <td>NaT</td>\n      <td>NaN</td>\n      <td>NaN</td>\n      <td>NaT</td>\n      <td>NaT</td>\n      <td>NaT</td>\n    </tr>\n  </tbody>\n</table>\n<p>9000 rows × 18 columns</p>\n</div>"
     },
     "execution_count": 60,
     "metadata": {},
     "output_type": "execute_result"
    }
   ],
   "source": [
    "preprocessed_data"
   ],
   "metadata": {
    "collapsed": false,
    "ExecuteTime": {
     "end_time": "2024-01-15T10:56:33.054240Z",
     "start_time": "2024-01-15T10:56:32.922338600Z"
    }
   },
   "id": "6dbb3efacdff0ebd"
  },
  {
   "cell_type": "code",
   "execution_count": 66,
   "outputs": [],
   "source": [
    "avgDiffernceOfBiteAndHeadSent = preprocessed_data['differnceOfBiteAndHeadSent'].mean()"
   ],
   "metadata": {
    "collapsed": false,
    "ExecuteTime": {
     "end_time": "2024-01-15T14:21:40.696510300Z",
     "start_time": "2024-01-15T14:21:40.619478500Z"
    }
   },
   "id": "37f097e1449e54e7"
  },
  {
   "cell_type": "code",
   "execution_count": 67,
   "outputs": [
    {
     "data": {
      "text/plain": "Timedelta('8 days 18:21:10.588235294')"
     },
     "execution_count": 67,
     "metadata": {},
     "output_type": "execute_result"
    }
   ],
   "source": [
    "avgDiffernceOfBiteAndHeadSent"
   ],
   "metadata": {
    "collapsed": false,
    "ExecuteTime": {
     "end_time": "2024-01-15T14:21:46.184702700Z",
     "start_time": "2024-01-15T14:21:46.127345600Z"
    }
   },
   "id": "511034e279d6ae4e"
  },
  {
   "cell_type": "code",
   "execution_count": 70,
   "outputs": [],
   "source": [
    "# now let's check that have a value in head_sent_date column.\n",
    "columnsInCount = ['bite_date','head_sent_date']\n",
    "nullRowsinHeadSentDate = preprocessed_data[preprocessed_data[columnsInCount].isnull().sum(axis=1) >= 1]\n"
   ],
   "metadata": {
    "collapsed": false,
    "ExecuteTime": {
     "end_time": "2024-01-15T14:25:32.828300900Z",
     "start_time": "2024-01-15T14:25:32.746126600Z"
    }
   },
   "id": "39bd48b75854f36f"
  },
  {
   "cell_type": "code",
   "execution_count": 73,
   "outputs": [
    {
     "data": {
      "text/plain": "      bite_date SpeciesIDDesc      BreedIDDesc GenderIDDesc       color  \\\n0    1985-05-05           DOG              NaN       FEMALE  LIG. BROWN   \n1    1986-02-12           DOG              NaN      UNKNOWN   BRO & BLA   \n2    1987-05-07           DOG              NaN      UNKNOWN         NaN   \n3    1988-10-02           DOG              NaN         MALE   BLA & BRO   \n4    1989-08-29           DOG              NaN       FEMALE     BLK-WHT   \n...         ...           ...              ...          ...         ...   \n8995 2017-09-05           DOG              NaN          NaN         NaN   \n8996 2017-09-07           DOG       POMERANIAN         MALE         RED   \n8997 2017-09-07           DOG  LABRADOR RETRIV         MALE       BROWN   \n8998 2017-09-07           DOG  LABRADOR RETRIV       FEMALE     BLK WHT   \n8999 2017-09-07           DOG            BOXER          NaN     BRN BLK   \n\n      vaccination_yrs     vaccination_date victim_zip AdvIssuedYNDesc  \\\n0                 1.0  1985-06-20 00:00:00      40229              NO   \n1                 NaN                  NaN      40218              NO   \n2                 NaN                  NaN      40219              NO   \n3                 NaN                  NaN        NaN              NO   \n4                 NaN                  NaN        NaN              NO   \n...               ...                  ...        ...             ...   \n8995              NaN                  NaN      40243             NaN   \n8996              NaN                  NaN      40204             NaN   \n8997              NaN                  NaN      47130             NaN   \n8998              NaN                  NaN      40229             NaN   \n8999              NaN                  NaN      40229             NaN   \n\n     WhereBittenIDDesc quarantine_date DispositionIDDesc head_sent_date  \\\n0                 BODY      1985-05-05           UNKNOWN            NaT   \n1                 BODY      1986-02-12           UNKNOWN            NaT   \n2                 BODY      1990-05-07           UNKNOWN            NaT   \n3                 BODY      1990-10-02           UNKNOWN            NaT   \n4                 BODY      1989-09-01           UNKNOWN            NaT   \n...                ...             ...               ...            ...   \n8995           UNKNOWN      2017-09-08               NaN            NaT   \n8996              HEAD      2017-09-10               NaN            NaT   \n8997           UNKNOWN      2017-09-10               NaN            NaT   \n8998              BODY      2017-09-10               NaN            NaT   \n8999              BODY      2017-09-10               NaN            NaT   \n\n     release_date ResultsIDDesc difference new_difference  \\\n0             NaN       UNKNOWN     0 days         0 days   \n1             NaN       UNKNOWN     0 days         0 days   \n2             NaN       UNKNOWN  1096 days      1096 days   \n3             NaN       UNKNOWN   730 days       730 days   \n4             NaN       UNKNOWN        NaT            NaT   \n...           ...           ...        ...            ...   \n8995          NaN           NaN        NaT            NaT   \n8996          NaN           NaN        NaT            NaT   \n8997          NaN           NaN        NaT            NaT   \n8998          NaN           NaN        NaT            NaT   \n8999          NaN           NaN        NaT            NaT   \n\n     differnceOfBiteAndHeadSent  \n0                           NaT  \n1                           NaT  \n2                           NaT  \n3                           NaT  \n4                           NaT  \n...                         ...  \n8995                        NaT  \n8996                        NaT  \n8997                        NaT  \n8998                        NaT  \n8999                        NaT  \n\n[8779 rows x 18 columns]",
      "text/html": "<div>\n<style scoped>\n    .dataframe tbody tr th:only-of-type {\n        vertical-align: middle;\n    }\n\n    .dataframe tbody tr th {\n        vertical-align: top;\n    }\n\n    .dataframe thead th {\n        text-align: right;\n    }\n</style>\n<table border=\"1\" class=\"dataframe\">\n  <thead>\n    <tr style=\"text-align: right;\">\n      <th></th>\n      <th>bite_date</th>\n      <th>SpeciesIDDesc</th>\n      <th>BreedIDDesc</th>\n      <th>GenderIDDesc</th>\n      <th>color</th>\n      <th>vaccination_yrs</th>\n      <th>vaccination_date</th>\n      <th>victim_zip</th>\n      <th>AdvIssuedYNDesc</th>\n      <th>WhereBittenIDDesc</th>\n      <th>quarantine_date</th>\n      <th>DispositionIDDesc</th>\n      <th>head_sent_date</th>\n      <th>release_date</th>\n      <th>ResultsIDDesc</th>\n      <th>difference</th>\n      <th>new_difference</th>\n      <th>differnceOfBiteAndHeadSent</th>\n    </tr>\n  </thead>\n  <tbody>\n    <tr>\n      <th>0</th>\n      <td>1985-05-05</td>\n      <td>DOG</td>\n      <td>NaN</td>\n      <td>FEMALE</td>\n      <td>LIG. BROWN</td>\n      <td>1.0</td>\n      <td>1985-06-20 00:00:00</td>\n      <td>40229</td>\n      <td>NO</td>\n      <td>BODY</td>\n      <td>1985-05-05</td>\n      <td>UNKNOWN</td>\n      <td>NaT</td>\n      <td>NaN</td>\n      <td>UNKNOWN</td>\n      <td>0 days</td>\n      <td>0 days</td>\n      <td>NaT</td>\n    </tr>\n    <tr>\n      <th>1</th>\n      <td>1986-02-12</td>\n      <td>DOG</td>\n      <td>NaN</td>\n      <td>UNKNOWN</td>\n      <td>BRO &amp; BLA</td>\n      <td>NaN</td>\n      <td>NaN</td>\n      <td>40218</td>\n      <td>NO</td>\n      <td>BODY</td>\n      <td>1986-02-12</td>\n      <td>UNKNOWN</td>\n      <td>NaT</td>\n      <td>NaN</td>\n      <td>UNKNOWN</td>\n      <td>0 days</td>\n      <td>0 days</td>\n      <td>NaT</td>\n    </tr>\n    <tr>\n      <th>2</th>\n      <td>1987-05-07</td>\n      <td>DOG</td>\n      <td>NaN</td>\n      <td>UNKNOWN</td>\n      <td>NaN</td>\n      <td>NaN</td>\n      <td>NaN</td>\n      <td>40219</td>\n      <td>NO</td>\n      <td>BODY</td>\n      <td>1990-05-07</td>\n      <td>UNKNOWN</td>\n      <td>NaT</td>\n      <td>NaN</td>\n      <td>UNKNOWN</td>\n      <td>1096 days</td>\n      <td>1096 days</td>\n      <td>NaT</td>\n    </tr>\n    <tr>\n      <th>3</th>\n      <td>1988-10-02</td>\n      <td>DOG</td>\n      <td>NaN</td>\n      <td>MALE</td>\n      <td>BLA &amp; BRO</td>\n      <td>NaN</td>\n      <td>NaN</td>\n      <td>NaN</td>\n      <td>NO</td>\n      <td>BODY</td>\n      <td>1990-10-02</td>\n      <td>UNKNOWN</td>\n      <td>NaT</td>\n      <td>NaN</td>\n      <td>UNKNOWN</td>\n      <td>730 days</td>\n      <td>730 days</td>\n      <td>NaT</td>\n    </tr>\n    <tr>\n      <th>4</th>\n      <td>1989-08-29</td>\n      <td>DOG</td>\n      <td>NaN</td>\n      <td>FEMALE</td>\n      <td>BLK-WHT</td>\n      <td>NaN</td>\n      <td>NaN</td>\n      <td>NaN</td>\n      <td>NO</td>\n      <td>BODY</td>\n      <td>1989-09-01</td>\n      <td>UNKNOWN</td>\n      <td>NaT</td>\n      <td>NaN</td>\n      <td>UNKNOWN</td>\n      <td>NaT</td>\n      <td>NaT</td>\n      <td>NaT</td>\n    </tr>\n    <tr>\n      <th>...</th>\n      <td>...</td>\n      <td>...</td>\n      <td>...</td>\n      <td>...</td>\n      <td>...</td>\n      <td>...</td>\n      <td>...</td>\n      <td>...</td>\n      <td>...</td>\n      <td>...</td>\n      <td>...</td>\n      <td>...</td>\n      <td>...</td>\n      <td>...</td>\n      <td>...</td>\n      <td>...</td>\n      <td>...</td>\n      <td>...</td>\n    </tr>\n    <tr>\n      <th>8995</th>\n      <td>2017-09-05</td>\n      <td>DOG</td>\n      <td>NaN</td>\n      <td>NaN</td>\n      <td>NaN</td>\n      <td>NaN</td>\n      <td>NaN</td>\n      <td>40243</td>\n      <td>NaN</td>\n      <td>UNKNOWN</td>\n      <td>2017-09-08</td>\n      <td>NaN</td>\n      <td>NaT</td>\n      <td>NaN</td>\n      <td>NaN</td>\n      <td>NaT</td>\n      <td>NaT</td>\n      <td>NaT</td>\n    </tr>\n    <tr>\n      <th>8996</th>\n      <td>2017-09-07</td>\n      <td>DOG</td>\n      <td>POMERANIAN</td>\n      <td>MALE</td>\n      <td>RED</td>\n      <td>NaN</td>\n      <td>NaN</td>\n      <td>40204</td>\n      <td>NaN</td>\n      <td>HEAD</td>\n      <td>2017-09-10</td>\n      <td>NaN</td>\n      <td>NaT</td>\n      <td>NaN</td>\n      <td>NaN</td>\n      <td>NaT</td>\n      <td>NaT</td>\n      <td>NaT</td>\n    </tr>\n    <tr>\n      <th>8997</th>\n      <td>2017-09-07</td>\n      <td>DOG</td>\n      <td>LABRADOR RETRIV</td>\n      <td>MALE</td>\n      <td>BROWN</td>\n      <td>NaN</td>\n      <td>NaN</td>\n      <td>47130</td>\n      <td>NaN</td>\n      <td>UNKNOWN</td>\n      <td>2017-09-10</td>\n      <td>NaN</td>\n      <td>NaT</td>\n      <td>NaN</td>\n      <td>NaN</td>\n      <td>NaT</td>\n      <td>NaT</td>\n      <td>NaT</td>\n    </tr>\n    <tr>\n      <th>8998</th>\n      <td>2017-09-07</td>\n      <td>DOG</td>\n      <td>LABRADOR RETRIV</td>\n      <td>FEMALE</td>\n      <td>BLK WHT</td>\n      <td>NaN</td>\n      <td>NaN</td>\n      <td>40229</td>\n      <td>NaN</td>\n      <td>BODY</td>\n      <td>2017-09-10</td>\n      <td>NaN</td>\n      <td>NaT</td>\n      <td>NaN</td>\n      <td>NaN</td>\n      <td>NaT</td>\n      <td>NaT</td>\n      <td>NaT</td>\n    </tr>\n    <tr>\n      <th>8999</th>\n      <td>2017-09-07</td>\n      <td>DOG</td>\n      <td>BOXER</td>\n      <td>NaN</td>\n      <td>BRN BLK</td>\n      <td>NaN</td>\n      <td>NaN</td>\n      <td>40229</td>\n      <td>NaN</td>\n      <td>BODY</td>\n      <td>2017-09-10</td>\n      <td>NaN</td>\n      <td>NaT</td>\n      <td>NaN</td>\n      <td>NaN</td>\n      <td>NaT</td>\n      <td>NaT</td>\n      <td>NaT</td>\n    </tr>\n  </tbody>\n</table>\n<p>8779 rows × 18 columns</p>\n</div>"
     },
     "execution_count": 73,
     "metadata": {},
     "output_type": "execute_result"
    }
   ],
   "source": [
    "nullRowsinHeadSentDate"
   ],
   "metadata": {
    "collapsed": false,
    "ExecuteTime": {
     "end_time": "2024-01-15T14:53:44.146037800Z",
     "start_time": "2024-01-15T14:53:43.951598800Z"
    }
   },
   "id": "9cbaf4fcb82058a8"
  },
  {
   "cell_type": "code",
   "execution_count": 72,
   "outputs": [
    {
     "data": {
      "text/plain": "      bite_date SpeciesIDDesc      BreedIDDesc GenderIDDesc       color  \\\n1405 2014-03-24           DOG         PIT BULL          NaN       WHITE   \n1432 2015-06-23           DOG         PIT BULL       FEMALE     BRINDLE   \n765  2010-05-12           CAT              NaN      UNKNOWN      ORANGE   \n764  2010-05-12           CAT              NaN      UNKNOWN  ORANGE-WHT   \n1434 2015-07-14           DOG         PIT BULL       FEMALE   BLUE WHIT   \n...         ...           ...              ...          ...         ...   \n8995 2017-09-05           DOG              NaN          NaN         NaN   \n8996 2017-09-07           DOG       POMERANIAN         MALE         RED   \n8997 2017-09-07           DOG  LABRADOR RETRIV         MALE       BROWN   \n8998 2017-09-07           DOG  LABRADOR RETRIV       FEMALE     BLK WHT   \n8999 2017-09-07           DOG            BOXER          NaN     BRN BLK   \n\n      vaccination_yrs vaccination_date victim_zip AdvIssuedYNDesc  \\\n1405              NaN              NaN      40205             NaN   \n1432              NaN              NaN      40215             NaN   \n765               NaN              NaN      40216              NO   \n764               NaN              NaN      40203              NO   \n1434              NaN              NaN      40219             NaN   \n...               ...              ...        ...             ...   \n8995              NaN              NaN      40243             NaN   \n8996              NaN              NaN      40204             NaN   \n8997              NaN              NaN      47130             NaN   \n8998              NaN              NaN      40229             NaN   \n8999              NaN              NaN      40229             NaN   \n\n     WhereBittenIDDesc quarantine_date DispositionIDDesc head_sent_date  \\\n1405              BODY      2014-03-27               NaN     2017-03-24   \n1432              BODY      2015-06-26               NaN     2016-06-26   \n765               BODY      2010-05-15           UNKNOWN     2010-08-13   \n764               HEAD      2010-05-15           UNKNOWN     2010-08-12   \n1434              BODY      2015-07-17               NaN     2015-07-24   \n...                ...             ...               ...            ...   \n8995           UNKNOWN      2017-09-08               NaN            NaT   \n8996              HEAD      2017-09-10               NaN            NaT   \n8997           UNKNOWN      2017-09-10               NaN            NaT   \n8998              BODY      2017-09-10               NaN            NaT   \n8999              BODY      2017-09-10               NaN            NaT   \n\n     release_date ResultsIDDesc difference new_difference  \\\n1405          NaN      NEGATIVE        NaT            NaT   \n1432          NaN      NEGATIVE        NaT            NaT   \n765           NaN       UNKNOWN        NaT            NaT   \n764           NaN       UNKNOWN        NaT            NaT   \n1434          NaN           NaN        NaT            NaT   \n...           ...           ...        ...            ...   \n8995          NaN           NaN        NaT            NaT   \n8996          NaN           NaN        NaT            NaT   \n8997          NaN           NaN        NaT            NaT   \n8998          NaN           NaN        NaT            NaT   \n8999          NaN           NaN        NaT            NaT   \n\n     differnceOfBiteAndHeadSent  \n1405                  1096 days  \n1432                   369 days  \n765                     93 days  \n764                     92 days  \n1434                    10 days  \n...                         ...  \n8995                        NaT  \n8996                        NaT  \n8997                        NaT  \n8998                        NaT  \n8999                        NaT  \n\n[9000 rows x 18 columns]",
      "text/html": "<div>\n<style scoped>\n    .dataframe tbody tr th:only-of-type {\n        vertical-align: middle;\n    }\n\n    .dataframe tbody tr th {\n        vertical-align: top;\n    }\n\n    .dataframe thead th {\n        text-align: right;\n    }\n</style>\n<table border=\"1\" class=\"dataframe\">\n  <thead>\n    <tr style=\"text-align: right;\">\n      <th></th>\n      <th>bite_date</th>\n      <th>SpeciesIDDesc</th>\n      <th>BreedIDDesc</th>\n      <th>GenderIDDesc</th>\n      <th>color</th>\n      <th>vaccination_yrs</th>\n      <th>vaccination_date</th>\n      <th>victim_zip</th>\n      <th>AdvIssuedYNDesc</th>\n      <th>WhereBittenIDDesc</th>\n      <th>quarantine_date</th>\n      <th>DispositionIDDesc</th>\n      <th>head_sent_date</th>\n      <th>release_date</th>\n      <th>ResultsIDDesc</th>\n      <th>difference</th>\n      <th>new_difference</th>\n      <th>differnceOfBiteAndHeadSent</th>\n    </tr>\n  </thead>\n  <tbody>\n    <tr>\n      <th>1405</th>\n      <td>2014-03-24</td>\n      <td>DOG</td>\n      <td>PIT BULL</td>\n      <td>NaN</td>\n      <td>WHITE</td>\n      <td>NaN</td>\n      <td>NaN</td>\n      <td>40205</td>\n      <td>NaN</td>\n      <td>BODY</td>\n      <td>2014-03-27</td>\n      <td>NaN</td>\n      <td>2017-03-24</td>\n      <td>NaN</td>\n      <td>NEGATIVE</td>\n      <td>NaT</td>\n      <td>NaT</td>\n      <td>1096 days</td>\n    </tr>\n    <tr>\n      <th>1432</th>\n      <td>2015-06-23</td>\n      <td>DOG</td>\n      <td>PIT BULL</td>\n      <td>FEMALE</td>\n      <td>BRINDLE</td>\n      <td>NaN</td>\n      <td>NaN</td>\n      <td>40215</td>\n      <td>NaN</td>\n      <td>BODY</td>\n      <td>2015-06-26</td>\n      <td>NaN</td>\n      <td>2016-06-26</td>\n      <td>NaN</td>\n      <td>NEGATIVE</td>\n      <td>NaT</td>\n      <td>NaT</td>\n      <td>369 days</td>\n    </tr>\n    <tr>\n      <th>765</th>\n      <td>2010-05-12</td>\n      <td>CAT</td>\n      <td>NaN</td>\n      <td>UNKNOWN</td>\n      <td>ORANGE</td>\n      <td>NaN</td>\n      <td>NaN</td>\n      <td>40216</td>\n      <td>NO</td>\n      <td>BODY</td>\n      <td>2010-05-15</td>\n      <td>UNKNOWN</td>\n      <td>2010-08-13</td>\n      <td>NaN</td>\n      <td>UNKNOWN</td>\n      <td>NaT</td>\n      <td>NaT</td>\n      <td>93 days</td>\n    </tr>\n    <tr>\n      <th>764</th>\n      <td>2010-05-12</td>\n      <td>CAT</td>\n      <td>NaN</td>\n      <td>UNKNOWN</td>\n      <td>ORANGE-WHT</td>\n      <td>NaN</td>\n      <td>NaN</td>\n      <td>40203</td>\n      <td>NO</td>\n      <td>HEAD</td>\n      <td>2010-05-15</td>\n      <td>UNKNOWN</td>\n      <td>2010-08-12</td>\n      <td>NaN</td>\n      <td>UNKNOWN</td>\n      <td>NaT</td>\n      <td>NaT</td>\n      <td>92 days</td>\n    </tr>\n    <tr>\n      <th>1434</th>\n      <td>2015-07-14</td>\n      <td>DOG</td>\n      <td>PIT BULL</td>\n      <td>FEMALE</td>\n      <td>BLUE WHIT</td>\n      <td>NaN</td>\n      <td>NaN</td>\n      <td>40219</td>\n      <td>NaN</td>\n      <td>BODY</td>\n      <td>2015-07-17</td>\n      <td>NaN</td>\n      <td>2015-07-24</td>\n      <td>NaN</td>\n      <td>NaN</td>\n      <td>NaT</td>\n      <td>NaT</td>\n      <td>10 days</td>\n    </tr>\n    <tr>\n      <th>...</th>\n      <td>...</td>\n      <td>...</td>\n      <td>...</td>\n      <td>...</td>\n      <td>...</td>\n      <td>...</td>\n      <td>...</td>\n      <td>...</td>\n      <td>...</td>\n      <td>...</td>\n      <td>...</td>\n      <td>...</td>\n      <td>...</td>\n      <td>...</td>\n      <td>...</td>\n      <td>...</td>\n      <td>...</td>\n      <td>...</td>\n    </tr>\n    <tr>\n      <th>8995</th>\n      <td>2017-09-05</td>\n      <td>DOG</td>\n      <td>NaN</td>\n      <td>NaN</td>\n      <td>NaN</td>\n      <td>NaN</td>\n      <td>NaN</td>\n      <td>40243</td>\n      <td>NaN</td>\n      <td>UNKNOWN</td>\n      <td>2017-09-08</td>\n      <td>NaN</td>\n      <td>NaT</td>\n      <td>NaN</td>\n      <td>NaN</td>\n      <td>NaT</td>\n      <td>NaT</td>\n      <td>NaT</td>\n    </tr>\n    <tr>\n      <th>8996</th>\n      <td>2017-09-07</td>\n      <td>DOG</td>\n      <td>POMERANIAN</td>\n      <td>MALE</td>\n      <td>RED</td>\n      <td>NaN</td>\n      <td>NaN</td>\n      <td>40204</td>\n      <td>NaN</td>\n      <td>HEAD</td>\n      <td>2017-09-10</td>\n      <td>NaN</td>\n      <td>NaT</td>\n      <td>NaN</td>\n      <td>NaN</td>\n      <td>NaT</td>\n      <td>NaT</td>\n      <td>NaT</td>\n    </tr>\n    <tr>\n      <th>8997</th>\n      <td>2017-09-07</td>\n      <td>DOG</td>\n      <td>LABRADOR RETRIV</td>\n      <td>MALE</td>\n      <td>BROWN</td>\n      <td>NaN</td>\n      <td>NaN</td>\n      <td>47130</td>\n      <td>NaN</td>\n      <td>UNKNOWN</td>\n      <td>2017-09-10</td>\n      <td>NaN</td>\n      <td>NaT</td>\n      <td>NaN</td>\n      <td>NaN</td>\n      <td>NaT</td>\n      <td>NaT</td>\n      <td>NaT</td>\n    </tr>\n    <tr>\n      <th>8998</th>\n      <td>2017-09-07</td>\n      <td>DOG</td>\n      <td>LABRADOR RETRIV</td>\n      <td>FEMALE</td>\n      <td>BLK WHT</td>\n      <td>NaN</td>\n      <td>NaN</td>\n      <td>40229</td>\n      <td>NaN</td>\n      <td>BODY</td>\n      <td>2017-09-10</td>\n      <td>NaN</td>\n      <td>NaT</td>\n      <td>NaN</td>\n      <td>NaN</td>\n      <td>NaT</td>\n      <td>NaT</td>\n      <td>NaT</td>\n    </tr>\n    <tr>\n      <th>8999</th>\n      <td>2017-09-07</td>\n      <td>DOG</td>\n      <td>BOXER</td>\n      <td>NaN</td>\n      <td>BRN BLK</td>\n      <td>NaN</td>\n      <td>NaN</td>\n      <td>40229</td>\n      <td>NaN</td>\n      <td>BODY</td>\n      <td>2017-09-10</td>\n      <td>NaN</td>\n      <td>NaT</td>\n      <td>NaN</td>\n      <td>NaN</td>\n      <td>NaT</td>\n      <td>NaT</td>\n      <td>NaT</td>\n    </tr>\n  </tbody>\n</table>\n<p>9000 rows × 18 columns</p>\n</div>"
     },
     "execution_count": 72,
     "metadata": {},
     "output_type": "execute_result"
    }
   ],
   "source": [
    "preprocessed_data.sort_values(by='differnceOfBiteAndHeadSent',ascending=False)\n"
   ],
   "metadata": {
    "collapsed": false,
    "ExecuteTime": {
     "end_time": "2024-01-15T14:48:06.165823500Z",
     "start_time": "2024-01-15T14:48:06.043164500Z"
    }
   },
   "id": "20f8e8fe7a1ad198"
  },
  {
   "cell_type": "code",
   "execution_count": 75,
   "outputs": [],
   "source": [
    "# when looking at sort values in differnceOfBiteAndHeadSent column, values cannot be 1096, 369, 93,92, days. those values should be change\n",
    "# when looking at the real dataset, row of 1404 row is filled in 2014. There for 1405 row also should be in 2014. therefore we need correct head_sent_date in R1404 into 2014. \n",
    "\n",
    "preprocessed_data.loc[1405, 'head_sent_date'] = pd.to_datetime('2014-03-24')"
   ],
   "metadata": {
    "collapsed": false,
    "ExecuteTime": {
     "end_time": "2024-01-15T15:18:33.589516800Z",
     "start_time": "2024-01-15T15:18:33.532383500Z"
    }
   },
   "id": "8967bd19911558"
  },
  {
   "cell_type": "code",
   "execution_count": 77,
   "outputs": [],
   "source": [
    "# when looking at the real dataset, row of 1431 and 1433 row is filled in 2015. There for 1432 row also should be in 2015. therefore we need to correct head_sent_date in R1432 into 2015. \n",
    "\n",
    "preprocessed_data.loc[1432, 'head_sent_date'] = pd.to_datetime('2015-06-26')"
   ],
   "metadata": {
    "collapsed": false,
    "ExecuteTime": {
     "end_time": "2024-01-15T15:22:45.064634900Z",
     "start_time": "2024-01-15T15:22:44.983720800Z"
    }
   },
   "id": "f1c5cdc2496ef235"
  },
  {
   "cell_type": "code",
   "execution_count": 79,
   "outputs": [],
   "source": [
    "# we need to change these location also 764,765\n",
    "preprocessed_data.loc[764, 'bite_date'] = pd.to_datetime('2010-08-12')\n",
    "preprocessed_data.loc[765, 'bite_date'] = pd.to_datetime('2010-08-12')"
   ],
   "metadata": {
    "collapsed": false,
    "ExecuteTime": {
     "end_time": "2024-01-15T15:27:55.003098400Z",
     "start_time": "2024-01-15T15:27:54.956053300Z"
    }
   },
   "id": "f816ad2e72d4339c"
  },
  {
   "cell_type": "code",
   "execution_count": 80,
   "outputs": [
    {
     "data": {
      "text/plain": "      bite_date SpeciesIDDesc      BreedIDDesc GenderIDDesc       color  \\\n1405 2014-03-24           DOG         PIT BULL          NaN       WHITE   \n1432 2015-06-23           DOG         PIT BULL       FEMALE     BRINDLE   \n765  2010-08-12           CAT              NaN      UNKNOWN      ORANGE   \n764  2010-08-12           CAT              NaN      UNKNOWN  ORANGE-WHT   \n1434 2015-07-14           DOG         PIT BULL       FEMALE   BLUE WHIT   \n...         ...           ...              ...          ...         ...   \n8995 2017-09-05           DOG              NaN          NaN         NaN   \n8996 2017-09-07           DOG       POMERANIAN         MALE         RED   \n8997 2017-09-07           DOG  LABRADOR RETRIV         MALE       BROWN   \n8998 2017-09-07           DOG  LABRADOR RETRIV       FEMALE     BLK WHT   \n8999 2017-09-07           DOG            BOXER          NaN     BRN BLK   \n\n      vaccination_yrs vaccination_date victim_zip AdvIssuedYNDesc  \\\n1405              NaN              NaN      40205             NaN   \n1432              NaN              NaN      40215             NaN   \n765               NaN              NaN      40216              NO   \n764               NaN              NaN      40203              NO   \n1434              NaN              NaN      40219             NaN   \n...               ...              ...        ...             ...   \n8995              NaN              NaN      40243             NaN   \n8996              NaN              NaN      40204             NaN   \n8997              NaN              NaN      47130             NaN   \n8998              NaN              NaN      40229             NaN   \n8999              NaN              NaN      40229             NaN   \n\n     WhereBittenIDDesc quarantine_date DispositionIDDesc head_sent_date  \\\n1405              BODY      2014-03-27               NaN     2014-03-24   \n1432              BODY      2015-06-26               NaN     2015-06-26   \n765               BODY      2010-05-15           UNKNOWN     2010-08-13   \n764               HEAD      2010-05-15           UNKNOWN     2010-08-12   \n1434              BODY      2015-07-17               NaN     2015-07-24   \n...                ...             ...               ...            ...   \n8995           UNKNOWN      2017-09-08               NaN            NaT   \n8996              HEAD      2017-09-10               NaN            NaT   \n8997           UNKNOWN      2017-09-10               NaN            NaT   \n8998              BODY      2017-09-10               NaN            NaT   \n8999              BODY      2017-09-10               NaN            NaT   \n\n     release_date ResultsIDDesc difference new_difference  \\\n1405          NaN      NEGATIVE        NaT            NaT   \n1432          NaN      NEGATIVE        NaT            NaT   \n765           NaN       UNKNOWN        NaT            NaT   \n764           NaN       UNKNOWN        NaT            NaT   \n1434          NaN           NaN        NaT            NaT   \n...           ...           ...        ...            ...   \n8995          NaN           NaN        NaT            NaT   \n8996          NaN           NaN        NaT            NaT   \n8997          NaN           NaN        NaT            NaT   \n8998          NaN           NaN        NaT            NaT   \n8999          NaN           NaN        NaT            NaT   \n\n     differnceOfBiteAndHeadSent  \n1405                  1096 days  \n1432                   369 days  \n765                     93 days  \n764                     92 days  \n1434                    10 days  \n...                         ...  \n8995                        NaT  \n8996                        NaT  \n8997                        NaT  \n8998                        NaT  \n8999                        NaT  \n\n[9000 rows x 18 columns]",
      "text/html": "<div>\n<style scoped>\n    .dataframe tbody tr th:only-of-type {\n        vertical-align: middle;\n    }\n\n    .dataframe tbody tr th {\n        vertical-align: top;\n    }\n\n    .dataframe thead th {\n        text-align: right;\n    }\n</style>\n<table border=\"1\" class=\"dataframe\">\n  <thead>\n    <tr style=\"text-align: right;\">\n      <th></th>\n      <th>bite_date</th>\n      <th>SpeciesIDDesc</th>\n      <th>BreedIDDesc</th>\n      <th>GenderIDDesc</th>\n      <th>color</th>\n      <th>vaccination_yrs</th>\n      <th>vaccination_date</th>\n      <th>victim_zip</th>\n      <th>AdvIssuedYNDesc</th>\n      <th>WhereBittenIDDesc</th>\n      <th>quarantine_date</th>\n      <th>DispositionIDDesc</th>\n      <th>head_sent_date</th>\n      <th>release_date</th>\n      <th>ResultsIDDesc</th>\n      <th>difference</th>\n      <th>new_difference</th>\n      <th>differnceOfBiteAndHeadSent</th>\n    </tr>\n  </thead>\n  <tbody>\n    <tr>\n      <th>1405</th>\n      <td>2014-03-24</td>\n      <td>DOG</td>\n      <td>PIT BULL</td>\n      <td>NaN</td>\n      <td>WHITE</td>\n      <td>NaN</td>\n      <td>NaN</td>\n      <td>40205</td>\n      <td>NaN</td>\n      <td>BODY</td>\n      <td>2014-03-27</td>\n      <td>NaN</td>\n      <td>2014-03-24</td>\n      <td>NaN</td>\n      <td>NEGATIVE</td>\n      <td>NaT</td>\n      <td>NaT</td>\n      <td>1096 days</td>\n    </tr>\n    <tr>\n      <th>1432</th>\n      <td>2015-06-23</td>\n      <td>DOG</td>\n      <td>PIT BULL</td>\n      <td>FEMALE</td>\n      <td>BRINDLE</td>\n      <td>NaN</td>\n      <td>NaN</td>\n      <td>40215</td>\n      <td>NaN</td>\n      <td>BODY</td>\n      <td>2015-06-26</td>\n      <td>NaN</td>\n      <td>2015-06-26</td>\n      <td>NaN</td>\n      <td>NEGATIVE</td>\n      <td>NaT</td>\n      <td>NaT</td>\n      <td>369 days</td>\n    </tr>\n    <tr>\n      <th>765</th>\n      <td>2010-08-12</td>\n      <td>CAT</td>\n      <td>NaN</td>\n      <td>UNKNOWN</td>\n      <td>ORANGE</td>\n      <td>NaN</td>\n      <td>NaN</td>\n      <td>40216</td>\n      <td>NO</td>\n      <td>BODY</td>\n      <td>2010-05-15</td>\n      <td>UNKNOWN</td>\n      <td>2010-08-13</td>\n      <td>NaN</td>\n      <td>UNKNOWN</td>\n      <td>NaT</td>\n      <td>NaT</td>\n      <td>93 days</td>\n    </tr>\n    <tr>\n      <th>764</th>\n      <td>2010-08-12</td>\n      <td>CAT</td>\n      <td>NaN</td>\n      <td>UNKNOWN</td>\n      <td>ORANGE-WHT</td>\n      <td>NaN</td>\n      <td>NaN</td>\n      <td>40203</td>\n      <td>NO</td>\n      <td>HEAD</td>\n      <td>2010-05-15</td>\n      <td>UNKNOWN</td>\n      <td>2010-08-12</td>\n      <td>NaN</td>\n      <td>UNKNOWN</td>\n      <td>NaT</td>\n      <td>NaT</td>\n      <td>92 days</td>\n    </tr>\n    <tr>\n      <th>1434</th>\n      <td>2015-07-14</td>\n      <td>DOG</td>\n      <td>PIT BULL</td>\n      <td>FEMALE</td>\n      <td>BLUE WHIT</td>\n      <td>NaN</td>\n      <td>NaN</td>\n      <td>40219</td>\n      <td>NaN</td>\n      <td>BODY</td>\n      <td>2015-07-17</td>\n      <td>NaN</td>\n      <td>2015-07-24</td>\n      <td>NaN</td>\n      <td>NaN</td>\n      <td>NaT</td>\n      <td>NaT</td>\n      <td>10 days</td>\n    </tr>\n    <tr>\n      <th>...</th>\n      <td>...</td>\n      <td>...</td>\n      <td>...</td>\n      <td>...</td>\n      <td>...</td>\n      <td>...</td>\n      <td>...</td>\n      <td>...</td>\n      <td>...</td>\n      <td>...</td>\n      <td>...</td>\n      <td>...</td>\n      <td>...</td>\n      <td>...</td>\n      <td>...</td>\n      <td>...</td>\n      <td>...</td>\n      <td>...</td>\n    </tr>\n    <tr>\n      <th>8995</th>\n      <td>2017-09-05</td>\n      <td>DOG</td>\n      <td>NaN</td>\n      <td>NaN</td>\n      <td>NaN</td>\n      <td>NaN</td>\n      <td>NaN</td>\n      <td>40243</td>\n      <td>NaN</td>\n      <td>UNKNOWN</td>\n      <td>2017-09-08</td>\n      <td>NaN</td>\n      <td>NaT</td>\n      <td>NaN</td>\n      <td>NaN</td>\n      <td>NaT</td>\n      <td>NaT</td>\n      <td>NaT</td>\n    </tr>\n    <tr>\n      <th>8996</th>\n      <td>2017-09-07</td>\n      <td>DOG</td>\n      <td>POMERANIAN</td>\n      <td>MALE</td>\n      <td>RED</td>\n      <td>NaN</td>\n      <td>NaN</td>\n      <td>40204</td>\n      <td>NaN</td>\n      <td>HEAD</td>\n      <td>2017-09-10</td>\n      <td>NaN</td>\n      <td>NaT</td>\n      <td>NaN</td>\n      <td>NaN</td>\n      <td>NaT</td>\n      <td>NaT</td>\n      <td>NaT</td>\n    </tr>\n    <tr>\n      <th>8997</th>\n      <td>2017-09-07</td>\n      <td>DOG</td>\n      <td>LABRADOR RETRIV</td>\n      <td>MALE</td>\n      <td>BROWN</td>\n      <td>NaN</td>\n      <td>NaN</td>\n      <td>47130</td>\n      <td>NaN</td>\n      <td>UNKNOWN</td>\n      <td>2017-09-10</td>\n      <td>NaN</td>\n      <td>NaT</td>\n      <td>NaN</td>\n      <td>NaN</td>\n      <td>NaT</td>\n      <td>NaT</td>\n      <td>NaT</td>\n    </tr>\n    <tr>\n      <th>8998</th>\n      <td>2017-09-07</td>\n      <td>DOG</td>\n      <td>LABRADOR RETRIV</td>\n      <td>FEMALE</td>\n      <td>BLK WHT</td>\n      <td>NaN</td>\n      <td>NaN</td>\n      <td>40229</td>\n      <td>NaN</td>\n      <td>BODY</td>\n      <td>2017-09-10</td>\n      <td>NaN</td>\n      <td>NaT</td>\n      <td>NaN</td>\n      <td>NaN</td>\n      <td>NaT</td>\n      <td>NaT</td>\n      <td>NaT</td>\n    </tr>\n    <tr>\n      <th>8999</th>\n      <td>2017-09-07</td>\n      <td>DOG</td>\n      <td>BOXER</td>\n      <td>NaN</td>\n      <td>BRN BLK</td>\n      <td>NaN</td>\n      <td>NaN</td>\n      <td>40229</td>\n      <td>NaN</td>\n      <td>BODY</td>\n      <td>2017-09-10</td>\n      <td>NaN</td>\n      <td>NaT</td>\n      <td>NaN</td>\n      <td>NaN</td>\n      <td>NaT</td>\n      <td>NaT</td>\n      <td>NaT</td>\n    </tr>\n  </tbody>\n</table>\n<p>9000 rows × 18 columns</p>\n</div>"
     },
     "execution_count": 80,
     "metadata": {},
     "output_type": "execute_result"
    }
   ],
   "source": [
    "preprocessed_data.sort_values(by='differnceOfBiteAndHeadSent',ascending=False)"
   ],
   "metadata": {
    "collapsed": false,
    "ExecuteTime": {
     "end_time": "2024-01-15T15:27:57.421083100Z",
     "start_time": "2024-01-15T15:27:57.320007Z"
    }
   },
   "id": "44f0e21c903d829b"
  },
  {
   "cell_type": "code",
   "execution_count": 82,
   "outputs": [
    {
     "data": {
      "text/plain": "      bite_date SpeciesIDDesc      BreedIDDesc GenderIDDesc       color  \\\n0    1985-05-05           DOG              NaN       FEMALE  LIG. BROWN   \n1    1986-02-12           DOG              NaN      UNKNOWN   BRO & BLA   \n2    1987-05-07           DOG              NaN      UNKNOWN         NaN   \n3    1988-10-02           DOG              NaN         MALE   BLA & BRO   \n4    1989-08-29           DOG              NaN       FEMALE     BLK-WHT   \n...         ...           ...              ...          ...         ...   \n8995 2017-09-05           DOG              NaN          NaN         NaN   \n8996 2017-09-07           DOG       POMERANIAN         MALE         RED   \n8997 2017-09-07           DOG  LABRADOR RETRIV         MALE       BROWN   \n8998 2017-09-07           DOG  LABRADOR RETRIV       FEMALE     BLK WHT   \n8999 2017-09-07           DOG            BOXER          NaN     BRN BLK   \n\n      vaccination_yrs     vaccination_date victim_zip AdvIssuedYNDesc  \\\n0                 1.0  1985-06-20 00:00:00      40229              NO   \n1                 NaN                  NaN      40218              NO   \n2                 NaN                  NaN      40219              NO   \n3                 NaN                  NaN        NaN              NO   \n4                 NaN                  NaN        NaN              NO   \n...               ...                  ...        ...             ...   \n8995              NaN                  NaN      40243             NaN   \n8996              NaN                  NaN      40204             NaN   \n8997              NaN                  NaN      47130             NaN   \n8998              NaN                  NaN      40229             NaN   \n8999              NaN                  NaN      40229             NaN   \n\n     WhereBittenIDDesc quarantine_date DispositionIDDesc head_sent_date  \\\n0                 BODY      1985-05-05           UNKNOWN            NaT   \n1                 BODY      1986-02-12           UNKNOWN            NaT   \n2                 BODY      1990-05-07           UNKNOWN            NaT   \n3                 BODY      1990-10-02           UNKNOWN            NaT   \n4                 BODY      1989-09-01           UNKNOWN            NaT   \n...                ...             ...               ...            ...   \n8995           UNKNOWN      2017-09-08               NaN            NaT   \n8996              HEAD      2017-09-10               NaN            NaT   \n8997           UNKNOWN      2017-09-10               NaN            NaT   \n8998              BODY      2017-09-10               NaN            NaT   \n8999              BODY      2017-09-10               NaN            NaT   \n\n     release_date ResultsIDDesc difference new_difference  \\\n0             NaN       UNKNOWN     0 days         0 days   \n1             NaN       UNKNOWN     0 days         0 days   \n2             NaN       UNKNOWN  1096 days      1096 days   \n3             NaN       UNKNOWN   730 days       730 days   \n4             NaN       UNKNOWN        NaT            NaT   \n...           ...           ...        ...            ...   \n8995          NaN           NaN        NaT            NaT   \n8996          NaN           NaN        NaT            NaT   \n8997          NaN           NaN        NaT            NaT   \n8998          NaN           NaN        NaT            NaT   \n8999          NaN           NaN        NaT            NaT   \n\n     differnceOfBiteAndHeadSent  \n0                           NaT  \n1                           NaT  \n2                           NaT  \n3                           NaT  \n4                           NaT  \n...                         ...  \n8995                        NaT  \n8996                        NaT  \n8997                        NaT  \n8998                        NaT  \n8999                        NaT  \n\n[9000 rows x 18 columns]",
      "text/html": "<div>\n<style scoped>\n    .dataframe tbody tr th:only-of-type {\n        vertical-align: middle;\n    }\n\n    .dataframe tbody tr th {\n        vertical-align: top;\n    }\n\n    .dataframe thead th {\n        text-align: right;\n    }\n</style>\n<table border=\"1\" class=\"dataframe\">\n  <thead>\n    <tr style=\"text-align: right;\">\n      <th></th>\n      <th>bite_date</th>\n      <th>SpeciesIDDesc</th>\n      <th>BreedIDDesc</th>\n      <th>GenderIDDesc</th>\n      <th>color</th>\n      <th>vaccination_yrs</th>\n      <th>vaccination_date</th>\n      <th>victim_zip</th>\n      <th>AdvIssuedYNDesc</th>\n      <th>WhereBittenIDDesc</th>\n      <th>quarantine_date</th>\n      <th>DispositionIDDesc</th>\n      <th>head_sent_date</th>\n      <th>release_date</th>\n      <th>ResultsIDDesc</th>\n      <th>difference</th>\n      <th>new_difference</th>\n      <th>differnceOfBiteAndHeadSent</th>\n    </tr>\n  </thead>\n  <tbody>\n    <tr>\n      <th>0</th>\n      <td>1985-05-05</td>\n      <td>DOG</td>\n      <td>NaN</td>\n      <td>FEMALE</td>\n      <td>LIG. BROWN</td>\n      <td>1.0</td>\n      <td>1985-06-20 00:00:00</td>\n      <td>40229</td>\n      <td>NO</td>\n      <td>BODY</td>\n      <td>1985-05-05</td>\n      <td>UNKNOWN</td>\n      <td>NaT</td>\n      <td>NaN</td>\n      <td>UNKNOWN</td>\n      <td>0 days</td>\n      <td>0 days</td>\n      <td>NaT</td>\n    </tr>\n    <tr>\n      <th>1</th>\n      <td>1986-02-12</td>\n      <td>DOG</td>\n      <td>NaN</td>\n      <td>UNKNOWN</td>\n      <td>BRO &amp; BLA</td>\n      <td>NaN</td>\n      <td>NaN</td>\n      <td>40218</td>\n      <td>NO</td>\n      <td>BODY</td>\n      <td>1986-02-12</td>\n      <td>UNKNOWN</td>\n      <td>NaT</td>\n      <td>NaN</td>\n      <td>UNKNOWN</td>\n      <td>0 days</td>\n      <td>0 days</td>\n      <td>NaT</td>\n    </tr>\n    <tr>\n      <th>2</th>\n      <td>1987-05-07</td>\n      <td>DOG</td>\n      <td>NaN</td>\n      <td>UNKNOWN</td>\n      <td>NaN</td>\n      <td>NaN</td>\n      <td>NaN</td>\n      <td>40219</td>\n      <td>NO</td>\n      <td>BODY</td>\n      <td>1990-05-07</td>\n      <td>UNKNOWN</td>\n      <td>NaT</td>\n      <td>NaN</td>\n      <td>UNKNOWN</td>\n      <td>1096 days</td>\n      <td>1096 days</td>\n      <td>NaT</td>\n    </tr>\n    <tr>\n      <th>3</th>\n      <td>1988-10-02</td>\n      <td>DOG</td>\n      <td>NaN</td>\n      <td>MALE</td>\n      <td>BLA &amp; BRO</td>\n      <td>NaN</td>\n      <td>NaN</td>\n      <td>NaN</td>\n      <td>NO</td>\n      <td>BODY</td>\n      <td>1990-10-02</td>\n      <td>UNKNOWN</td>\n      <td>NaT</td>\n      <td>NaN</td>\n      <td>UNKNOWN</td>\n      <td>730 days</td>\n      <td>730 days</td>\n      <td>NaT</td>\n    </tr>\n    <tr>\n      <th>4</th>\n      <td>1989-08-29</td>\n      <td>DOG</td>\n      <td>NaN</td>\n      <td>FEMALE</td>\n      <td>BLK-WHT</td>\n      <td>NaN</td>\n      <td>NaN</td>\n      <td>NaN</td>\n      <td>NO</td>\n      <td>BODY</td>\n      <td>1989-09-01</td>\n      <td>UNKNOWN</td>\n      <td>NaT</td>\n      <td>NaN</td>\n      <td>UNKNOWN</td>\n      <td>NaT</td>\n      <td>NaT</td>\n      <td>NaT</td>\n    </tr>\n    <tr>\n      <th>...</th>\n      <td>...</td>\n      <td>...</td>\n      <td>...</td>\n      <td>...</td>\n      <td>...</td>\n      <td>...</td>\n      <td>...</td>\n      <td>...</td>\n      <td>...</td>\n      <td>...</td>\n      <td>...</td>\n      <td>...</td>\n      <td>...</td>\n      <td>...</td>\n      <td>...</td>\n      <td>...</td>\n      <td>...</td>\n      <td>...</td>\n    </tr>\n    <tr>\n      <th>8995</th>\n      <td>2017-09-05</td>\n      <td>DOG</td>\n      <td>NaN</td>\n      <td>NaN</td>\n      <td>NaN</td>\n      <td>NaN</td>\n      <td>NaN</td>\n      <td>40243</td>\n      <td>NaN</td>\n      <td>UNKNOWN</td>\n      <td>2017-09-08</td>\n      <td>NaN</td>\n      <td>NaT</td>\n      <td>NaN</td>\n      <td>NaN</td>\n      <td>NaT</td>\n      <td>NaT</td>\n      <td>NaT</td>\n    </tr>\n    <tr>\n      <th>8996</th>\n      <td>2017-09-07</td>\n      <td>DOG</td>\n      <td>POMERANIAN</td>\n      <td>MALE</td>\n      <td>RED</td>\n      <td>NaN</td>\n      <td>NaN</td>\n      <td>40204</td>\n      <td>NaN</td>\n      <td>HEAD</td>\n      <td>2017-09-10</td>\n      <td>NaN</td>\n      <td>NaT</td>\n      <td>NaN</td>\n      <td>NaN</td>\n      <td>NaT</td>\n      <td>NaT</td>\n      <td>NaT</td>\n    </tr>\n    <tr>\n      <th>8997</th>\n      <td>2017-09-07</td>\n      <td>DOG</td>\n      <td>LABRADOR RETRIV</td>\n      <td>MALE</td>\n      <td>BROWN</td>\n      <td>NaN</td>\n      <td>NaN</td>\n      <td>47130</td>\n      <td>NaN</td>\n      <td>UNKNOWN</td>\n      <td>2017-09-10</td>\n      <td>NaN</td>\n      <td>NaT</td>\n      <td>NaN</td>\n      <td>NaN</td>\n      <td>NaT</td>\n      <td>NaT</td>\n      <td>NaT</td>\n    </tr>\n    <tr>\n      <th>8998</th>\n      <td>2017-09-07</td>\n      <td>DOG</td>\n      <td>LABRADOR RETRIV</td>\n      <td>FEMALE</td>\n      <td>BLK WHT</td>\n      <td>NaN</td>\n      <td>NaN</td>\n      <td>40229</td>\n      <td>NaN</td>\n      <td>BODY</td>\n      <td>2017-09-10</td>\n      <td>NaN</td>\n      <td>NaT</td>\n      <td>NaN</td>\n      <td>NaN</td>\n      <td>NaT</td>\n      <td>NaT</td>\n      <td>NaT</td>\n    </tr>\n    <tr>\n      <th>8999</th>\n      <td>2017-09-07</td>\n      <td>DOG</td>\n      <td>BOXER</td>\n      <td>NaN</td>\n      <td>BRN BLK</td>\n      <td>NaN</td>\n      <td>NaN</td>\n      <td>40229</td>\n      <td>NaN</td>\n      <td>BODY</td>\n      <td>2017-09-10</td>\n      <td>NaN</td>\n      <td>NaT</td>\n      <td>NaN</td>\n      <td>NaN</td>\n      <td>NaT</td>\n      <td>NaT</td>\n      <td>NaT</td>\n    </tr>\n  </tbody>\n</table>\n<p>9000 rows × 18 columns</p>\n</div>"
     },
     "execution_count": 82,
     "metadata": {},
     "output_type": "execute_result"
    }
   ],
   "source": [
    "preprocessed_data['differnceOfBiteAndHeadSent'] = preprocessed_data['head_sent_date']- preprocessed_data['bite_date']\n",
    "preprocessed_data"
   ],
   "metadata": {
    "collapsed": false,
    "ExecuteTime": {
     "end_time": "2024-01-15T15:30:56.248113Z",
     "start_time": "2024-01-15T15:30:56.115381200Z"
    }
   },
   "id": "73074c022810b3f1"
  },
  {
   "cell_type": "code",
   "execution_count": 83,
   "outputs": [
    {
     "data": {
      "text/plain": "Timedelta('1 days 07:36:06.515837104')"
     },
     "execution_count": 83,
     "metadata": {},
     "output_type": "execute_result"
    }
   ],
   "source": [
    "#let's again check the mean value\n",
    "avgDiffernceOfBiteAndHeadSent = preprocessed_data['differnceOfBiteAndHeadSent'].mean()\n",
    "avgDiffernceOfBiteAndHeadSent"
   ],
   "metadata": {
    "collapsed": false,
    "ExecuteTime": {
     "end_time": "2024-01-15T15:33:05.051533Z",
     "start_time": "2024-01-15T15:33:04.932425Z"
    }
   },
   "id": "70f91b651b251602"
  },
  {
   "cell_type": "code",
   "execution_count": 84,
   "outputs": [],
   "source": [
    "# there are some values in the row of head_sent_date column. by using those values we can fill bite_date column that are having null values in the rows\n",
    "preprocessed_data['bite_date'] = preprocessed_data['bite_date'].fillna( preprocessed_data['head_sent_date'] - pd.Timedelta(days=1))\n"
   ],
   "metadata": {
    "collapsed": false,
    "ExecuteTime": {
     "end_time": "2024-01-15T15:39:44.234644800Z",
     "start_time": "2024-01-15T15:39:44.113862800Z"
    }
   },
   "id": "9c894111742ec2ba"
  },
  {
   "cell_type": "code",
   "execution_count": 86,
   "outputs": [
    {
     "data": {
      "text/plain": "      bite_date SpeciesIDDesc    BreedIDDesc GenderIDDesc    color  \\\n1511 2011-05-23         OTHER            NaN          NaN      NaN   \n1512 2011-08-08           BAT            NaN          NaN      NaN   \n1513 2015-02-27           BAT            NaN          NaN      NaN   \n1514 2015-02-28           BAT            NaN          NaN      NaN   \n1515 2015-03-04           CAT            NaN          NaN      NaN   \n...         ...           ...            ...          ...      ...   \n8899        NaT           DOG  BORDER COLLIE         MALE  BLK WHT   \n8921        NaT           DOG            NaN          NaN      NaN   \n8924        NaT           BAT            NaN          NaN      NaN   \n8925        NaT           BAT            NaN          NaN      NaN   \n8928        NaT           DOG            NaN          NaN      NaN   \n\n      vaccination_yrs     vaccination_date victim_zip AdvIssuedYNDesc  \\\n1511              NaN                  NaN      40299              NO   \n1512              NaN                  NaN        NaN             NaN   \n1513              NaN                  NaN      40215             NaN   \n1514              NaN                  NaN      40214             NaN   \n1515              NaN                  NaN      40214             NaN   \n...               ...                  ...        ...             ...   \n8899              1.0  2017-07-18 00:00:00        NaN             NaN   \n8921              NaN                  NaN      40206             NaN   \n8924              NaN                  NaN      40291             YES   \n8925              NaN                  NaN      40291             YES   \n8928              NaN                  NaN      40242             NaN   \n\n     WhereBittenIDDesc quarantine_date DispositionIDDesc head_sent_date  \\\n1511               NaN             NaT              DIED     2011-05-24   \n1512               NaN             NaT               NaN     2011-08-09   \n1513               NaN             NaT               NaN     2015-02-28   \n1514               NaN             NaT               NaN     2015-03-01   \n1515              BODY             NaT               NaN     2015-03-05   \n...                ...             ...               ...            ...   \n8899               NaN             NaT               NaN            NaT   \n8921               NaN             NaT               NaN            NaT   \n8924               NaN             NaT               NaN            NaT   \n8925               NaN             NaT               NaN            NaT   \n8928               NaN             NaT               NaN            NaT   \n\n             release_date ResultsIDDesc difference new_difference  \\\n1511                  NaN      NEGATIVE        NaT            NaT   \n1512                  NaN      NEGATIVE        NaT            NaT   \n1513                  NaN      NEGATIVE        NaT            NaT   \n1514                  NaN      NEGATIVE        NaT            NaT   \n1515                  NaN      NEGATIVE        NaT            NaT   \n...                   ...           ...        ...            ...   \n8899  2017-08-18 00:00:00           NaN        NaT            NaT   \n8921                  NaN           NaN        NaT            NaT   \n8924                  NaN           NaN        NaT            NaT   \n8925                  NaN           NaN        NaT            NaT   \n8928                  NaN           NaN        NaT            NaT   \n\n     differnceOfBiteAndHeadSent  \n1511                        NaT  \n1512                        NaT  \n1513                        NaT  \n1514                        NaT  \n1515                        NaT  \n...                         ...  \n8899                        NaT  \n8921                        NaT  \n8924                        NaT  \n8925                        NaT  \n8928                        NaT  \n\n[301 rows x 18 columns]",
      "text/html": "<div>\n<style scoped>\n    .dataframe tbody tr th:only-of-type {\n        vertical-align: middle;\n    }\n\n    .dataframe tbody tr th {\n        vertical-align: top;\n    }\n\n    .dataframe thead th {\n        text-align: right;\n    }\n</style>\n<table border=\"1\" class=\"dataframe\">\n  <thead>\n    <tr style=\"text-align: right;\">\n      <th></th>\n      <th>bite_date</th>\n      <th>SpeciesIDDesc</th>\n      <th>BreedIDDesc</th>\n      <th>GenderIDDesc</th>\n      <th>color</th>\n      <th>vaccination_yrs</th>\n      <th>vaccination_date</th>\n      <th>victim_zip</th>\n      <th>AdvIssuedYNDesc</th>\n      <th>WhereBittenIDDesc</th>\n      <th>quarantine_date</th>\n      <th>DispositionIDDesc</th>\n      <th>head_sent_date</th>\n      <th>release_date</th>\n      <th>ResultsIDDesc</th>\n      <th>difference</th>\n      <th>new_difference</th>\n      <th>differnceOfBiteAndHeadSent</th>\n    </tr>\n  </thead>\n  <tbody>\n    <tr>\n      <th>1511</th>\n      <td>2011-05-23</td>\n      <td>OTHER</td>\n      <td>NaN</td>\n      <td>NaN</td>\n      <td>NaN</td>\n      <td>NaN</td>\n      <td>NaN</td>\n      <td>40299</td>\n      <td>NO</td>\n      <td>NaN</td>\n      <td>NaT</td>\n      <td>DIED</td>\n      <td>2011-05-24</td>\n      <td>NaN</td>\n      <td>NEGATIVE</td>\n      <td>NaT</td>\n      <td>NaT</td>\n      <td>NaT</td>\n    </tr>\n    <tr>\n      <th>1512</th>\n      <td>2011-08-08</td>\n      <td>BAT</td>\n      <td>NaN</td>\n      <td>NaN</td>\n      <td>NaN</td>\n      <td>NaN</td>\n      <td>NaN</td>\n      <td>NaN</td>\n      <td>NaN</td>\n      <td>NaN</td>\n      <td>NaT</td>\n      <td>NaN</td>\n      <td>2011-08-09</td>\n      <td>NaN</td>\n      <td>NEGATIVE</td>\n      <td>NaT</td>\n      <td>NaT</td>\n      <td>NaT</td>\n    </tr>\n    <tr>\n      <th>1513</th>\n      <td>2015-02-27</td>\n      <td>BAT</td>\n      <td>NaN</td>\n      <td>NaN</td>\n      <td>NaN</td>\n      <td>NaN</td>\n      <td>NaN</td>\n      <td>40215</td>\n      <td>NaN</td>\n      <td>NaN</td>\n      <td>NaT</td>\n      <td>NaN</td>\n      <td>2015-02-28</td>\n      <td>NaN</td>\n      <td>NEGATIVE</td>\n      <td>NaT</td>\n      <td>NaT</td>\n      <td>NaT</td>\n    </tr>\n    <tr>\n      <th>1514</th>\n      <td>2015-02-28</td>\n      <td>BAT</td>\n      <td>NaN</td>\n      <td>NaN</td>\n      <td>NaN</td>\n      <td>NaN</td>\n      <td>NaN</td>\n      <td>40214</td>\n      <td>NaN</td>\n      <td>NaN</td>\n      <td>NaT</td>\n      <td>NaN</td>\n      <td>2015-03-01</td>\n      <td>NaN</td>\n      <td>NEGATIVE</td>\n      <td>NaT</td>\n      <td>NaT</td>\n      <td>NaT</td>\n    </tr>\n    <tr>\n      <th>1515</th>\n      <td>2015-03-04</td>\n      <td>CAT</td>\n      <td>NaN</td>\n      <td>NaN</td>\n      <td>NaN</td>\n      <td>NaN</td>\n      <td>NaN</td>\n      <td>40214</td>\n      <td>NaN</td>\n      <td>BODY</td>\n      <td>NaT</td>\n      <td>NaN</td>\n      <td>2015-03-05</td>\n      <td>NaN</td>\n      <td>NEGATIVE</td>\n      <td>NaT</td>\n      <td>NaT</td>\n      <td>NaT</td>\n    </tr>\n    <tr>\n      <th>...</th>\n      <td>...</td>\n      <td>...</td>\n      <td>...</td>\n      <td>...</td>\n      <td>...</td>\n      <td>...</td>\n      <td>...</td>\n      <td>...</td>\n      <td>...</td>\n      <td>...</td>\n      <td>...</td>\n      <td>...</td>\n      <td>...</td>\n      <td>...</td>\n      <td>...</td>\n      <td>...</td>\n      <td>...</td>\n      <td>...</td>\n    </tr>\n    <tr>\n      <th>8899</th>\n      <td>NaT</td>\n      <td>DOG</td>\n      <td>BORDER COLLIE</td>\n      <td>MALE</td>\n      <td>BLK WHT</td>\n      <td>1.0</td>\n      <td>2017-07-18 00:00:00</td>\n      <td>NaN</td>\n      <td>NaN</td>\n      <td>NaN</td>\n      <td>NaT</td>\n      <td>NaN</td>\n      <td>NaT</td>\n      <td>2017-08-18 00:00:00</td>\n      <td>NaN</td>\n      <td>NaT</td>\n      <td>NaT</td>\n      <td>NaT</td>\n    </tr>\n    <tr>\n      <th>8921</th>\n      <td>NaT</td>\n      <td>DOG</td>\n      <td>NaN</td>\n      <td>NaN</td>\n      <td>NaN</td>\n      <td>NaN</td>\n      <td>NaN</td>\n      <td>40206</td>\n      <td>NaN</td>\n      <td>NaN</td>\n      <td>NaT</td>\n      <td>NaN</td>\n      <td>NaT</td>\n      <td>NaN</td>\n      <td>NaN</td>\n      <td>NaT</td>\n      <td>NaT</td>\n      <td>NaT</td>\n    </tr>\n    <tr>\n      <th>8924</th>\n      <td>NaT</td>\n      <td>BAT</td>\n      <td>NaN</td>\n      <td>NaN</td>\n      <td>NaN</td>\n      <td>NaN</td>\n      <td>NaN</td>\n      <td>40291</td>\n      <td>YES</td>\n      <td>NaN</td>\n      <td>NaT</td>\n      <td>NaN</td>\n      <td>NaT</td>\n      <td>NaN</td>\n      <td>NaN</td>\n      <td>NaT</td>\n      <td>NaT</td>\n      <td>NaT</td>\n    </tr>\n    <tr>\n      <th>8925</th>\n      <td>NaT</td>\n      <td>BAT</td>\n      <td>NaN</td>\n      <td>NaN</td>\n      <td>NaN</td>\n      <td>NaN</td>\n      <td>NaN</td>\n      <td>40291</td>\n      <td>YES</td>\n      <td>NaN</td>\n      <td>NaT</td>\n      <td>NaN</td>\n      <td>NaT</td>\n      <td>NaN</td>\n      <td>NaN</td>\n      <td>NaT</td>\n      <td>NaT</td>\n      <td>NaT</td>\n    </tr>\n    <tr>\n      <th>8928</th>\n      <td>NaT</td>\n      <td>DOG</td>\n      <td>NaN</td>\n      <td>NaN</td>\n      <td>NaN</td>\n      <td>NaN</td>\n      <td>NaN</td>\n      <td>40242</td>\n      <td>NaN</td>\n      <td>NaN</td>\n      <td>NaT</td>\n      <td>NaN</td>\n      <td>NaT</td>\n      <td>NaN</td>\n      <td>NaN</td>\n      <td>NaT</td>\n      <td>NaT</td>\n      <td>NaT</td>\n    </tr>\n  </tbody>\n</table>\n<p>301 rows × 18 columns</p>\n</div>"
     },
     "execution_count": 86,
     "metadata": {},
     "output_type": "execute_result"
    }
   ],
   "source": [
    "preprocessed_data[preprocessed_data[selected_cols].isnull().sum(axis=1) > 1]"
   ],
   "metadata": {
    "collapsed": false,
    "ExecuteTime": {
     "end_time": "2024-01-15T15:41:26.043353600Z",
     "start_time": "2024-01-15T15:41:25.984852200Z"
    }
   },
   "id": "caae11c66b437cab"
  },
  {
   "cell_type": "code",
   "execution_count": 88,
   "outputs": [
    {
     "name": "stderr",
     "output_type": "stream",
     "text": [
      "C:\\Users\\Christila\\AppData\\Local\\Temp\\ipykernel_14752\\1180076872.py:2: FutureWarning: Series.fillna with 'method' is deprecated and will raise in a future version. Use obj.ffill() or obj.bfill() instead.\n",
      "  preprocessed_data['bite_date'] = preprocessed_data['bite_date'].fillna(method='ffill')\n"
     ]
    }
   ],
   "source": [
    "# when see the dataset, lot of data already filled.. the rest of the data we can fill by using previous dates.\n",
    "preprocessed_data['bite_date'] = preprocessed_data['bite_date'].fillna(method='ffill')\n"
   ],
   "metadata": {
    "collapsed": false,
    "ExecuteTime": {
     "end_time": "2024-01-15T17:22:17.680205700Z",
     "start_time": "2024-01-15T17:22:17.640435Z"
    }
   },
   "id": "a7a2a612903ed52c"
  },
  {
   "cell_type": "code",
   "execution_count": 90,
   "outputs": [],
   "source": [
    "# now we can again edit the 'quatantine_date' column by using bite_date and average of difference those two columns\n",
    "preprocessed_data['quarantine_date'] = preprocessed_data['quarantine_date'].fillna(preprocessed_data['bite_date'] + pd.Timedelta(days=3))"
   ],
   "metadata": {
    "collapsed": false,
    "ExecuteTime": {
     "end_time": "2024-01-15T17:29:41.313926100Z",
     "start_time": "2024-01-15T17:29:41.254813100Z"
    }
   },
   "id": "65fcf862a9a694f"
  },
  {
   "cell_type": "code",
   "execution_count": 92,
   "outputs": [
    {
     "data": {
      "text/plain": "0"
     },
     "execution_count": 92,
     "metadata": {},
     "output_type": "execute_result"
    }
   ],
   "source": [
    "preprocessed_data['quarantine_date'].isnull().sum()"
   ],
   "metadata": {
    "collapsed": false,
    "ExecuteTime": {
     "end_time": "2024-01-15T17:30:04.534412400Z",
     "start_time": "2024-01-15T17:30:04.437306800Z"
    }
   },
   "id": "87a0431d05ca7c79"
  },
  {
   "cell_type": "code",
   "execution_count": 93,
   "outputs": [
    {
     "data": {
      "text/plain": "      bite_date SpeciesIDDesc      BreedIDDesc GenderIDDesc       color  \\\n0    1985-05-05           DOG              NaN       FEMALE  LIG. BROWN   \n1    1986-02-12           DOG              NaN      UNKNOWN   BRO & BLA   \n2    1987-05-07           DOG              NaN      UNKNOWN         NaN   \n3    1988-10-02           DOG              NaN         MALE   BLA & BRO   \n4    1989-08-29           DOG              NaN       FEMALE     BLK-WHT   \n...         ...           ...              ...          ...         ...   \n8995 2017-09-05           DOG              NaN          NaN         NaN   \n8996 2017-09-07           DOG       POMERANIAN         MALE         RED   \n8997 2017-09-07           DOG  LABRADOR RETRIV         MALE       BROWN   \n8998 2017-09-07           DOG  LABRADOR RETRIV       FEMALE     BLK WHT   \n8999 2017-09-07           DOG            BOXER          NaN     BRN BLK   \n\n      vaccination_yrs     vaccination_date victim_zip AdvIssuedYNDesc  \\\n0                 1.0  1985-06-20 00:00:00      40229              NO   \n1                 NaN                  NaN      40218              NO   \n2                 NaN                  NaN      40219              NO   \n3                 NaN                  NaN        NaN              NO   \n4                 NaN                  NaN        NaN              NO   \n...               ...                  ...        ...             ...   \n8995              NaN                  NaN      40243             NaN   \n8996              NaN                  NaN      40204             NaN   \n8997              NaN                  NaN      47130             NaN   \n8998              NaN                  NaN      40229             NaN   \n8999              NaN                  NaN      40229             NaN   \n\n     WhereBittenIDDesc quarantine_date DispositionIDDesc head_sent_date  \\\n0                 BODY      1985-05-05           UNKNOWN            NaT   \n1                 BODY      1986-02-12           UNKNOWN            NaT   \n2                 BODY      1990-05-07           UNKNOWN            NaT   \n3                 BODY      1990-10-02           UNKNOWN            NaT   \n4                 BODY      1989-09-01           UNKNOWN            NaT   \n...                ...             ...               ...            ...   \n8995           UNKNOWN      2017-09-08               NaN            NaT   \n8996              HEAD      2017-09-10               NaN            NaT   \n8997           UNKNOWN      2017-09-10               NaN            NaT   \n8998              BODY      2017-09-10               NaN            NaT   \n8999              BODY      2017-09-10               NaN            NaT   \n\n     release_date ResultsIDDesc difference new_difference  \\\n0             NaN       UNKNOWN     0 days         0 days   \n1             NaN       UNKNOWN     0 days         0 days   \n2             NaN       UNKNOWN  1096 days      1096 days   \n3             NaN       UNKNOWN   730 days       730 days   \n4             NaN       UNKNOWN        NaT            NaT   \n...           ...           ...        ...            ...   \n8995          NaN           NaN        NaT            NaT   \n8996          NaN           NaN        NaT            NaT   \n8997          NaN           NaN        NaT            NaT   \n8998          NaN           NaN        NaT            NaT   \n8999          NaN           NaN        NaT            NaT   \n\n     differnceOfBiteAndHeadSent  \n0                           NaT  \n1                           NaT  \n2                           NaT  \n3                           NaT  \n4                           NaT  \n...                         ...  \n8995                        NaT  \n8996                        NaT  \n8997                        NaT  \n8998                        NaT  \n8999                        NaT  \n\n[9000 rows x 18 columns]",
      "text/html": "<div>\n<style scoped>\n    .dataframe tbody tr th:only-of-type {\n        vertical-align: middle;\n    }\n\n    .dataframe tbody tr th {\n        vertical-align: top;\n    }\n\n    .dataframe thead th {\n        text-align: right;\n    }\n</style>\n<table border=\"1\" class=\"dataframe\">\n  <thead>\n    <tr style=\"text-align: right;\">\n      <th></th>\n      <th>bite_date</th>\n      <th>SpeciesIDDesc</th>\n      <th>BreedIDDesc</th>\n      <th>GenderIDDesc</th>\n      <th>color</th>\n      <th>vaccination_yrs</th>\n      <th>vaccination_date</th>\n      <th>victim_zip</th>\n      <th>AdvIssuedYNDesc</th>\n      <th>WhereBittenIDDesc</th>\n      <th>quarantine_date</th>\n      <th>DispositionIDDesc</th>\n      <th>head_sent_date</th>\n      <th>release_date</th>\n      <th>ResultsIDDesc</th>\n      <th>difference</th>\n      <th>new_difference</th>\n      <th>differnceOfBiteAndHeadSent</th>\n    </tr>\n  </thead>\n  <tbody>\n    <tr>\n      <th>0</th>\n      <td>1985-05-05</td>\n      <td>DOG</td>\n      <td>NaN</td>\n      <td>FEMALE</td>\n      <td>LIG. BROWN</td>\n      <td>1.0</td>\n      <td>1985-06-20 00:00:00</td>\n      <td>40229</td>\n      <td>NO</td>\n      <td>BODY</td>\n      <td>1985-05-05</td>\n      <td>UNKNOWN</td>\n      <td>NaT</td>\n      <td>NaN</td>\n      <td>UNKNOWN</td>\n      <td>0 days</td>\n      <td>0 days</td>\n      <td>NaT</td>\n    </tr>\n    <tr>\n      <th>1</th>\n      <td>1986-02-12</td>\n      <td>DOG</td>\n      <td>NaN</td>\n      <td>UNKNOWN</td>\n      <td>BRO &amp; BLA</td>\n      <td>NaN</td>\n      <td>NaN</td>\n      <td>40218</td>\n      <td>NO</td>\n      <td>BODY</td>\n      <td>1986-02-12</td>\n      <td>UNKNOWN</td>\n      <td>NaT</td>\n      <td>NaN</td>\n      <td>UNKNOWN</td>\n      <td>0 days</td>\n      <td>0 days</td>\n      <td>NaT</td>\n    </tr>\n    <tr>\n      <th>2</th>\n      <td>1987-05-07</td>\n      <td>DOG</td>\n      <td>NaN</td>\n      <td>UNKNOWN</td>\n      <td>NaN</td>\n      <td>NaN</td>\n      <td>NaN</td>\n      <td>40219</td>\n      <td>NO</td>\n      <td>BODY</td>\n      <td>1990-05-07</td>\n      <td>UNKNOWN</td>\n      <td>NaT</td>\n      <td>NaN</td>\n      <td>UNKNOWN</td>\n      <td>1096 days</td>\n      <td>1096 days</td>\n      <td>NaT</td>\n    </tr>\n    <tr>\n      <th>3</th>\n      <td>1988-10-02</td>\n      <td>DOG</td>\n      <td>NaN</td>\n      <td>MALE</td>\n      <td>BLA &amp; BRO</td>\n      <td>NaN</td>\n      <td>NaN</td>\n      <td>NaN</td>\n      <td>NO</td>\n      <td>BODY</td>\n      <td>1990-10-02</td>\n      <td>UNKNOWN</td>\n      <td>NaT</td>\n      <td>NaN</td>\n      <td>UNKNOWN</td>\n      <td>730 days</td>\n      <td>730 days</td>\n      <td>NaT</td>\n    </tr>\n    <tr>\n      <th>4</th>\n      <td>1989-08-29</td>\n      <td>DOG</td>\n      <td>NaN</td>\n      <td>FEMALE</td>\n      <td>BLK-WHT</td>\n      <td>NaN</td>\n      <td>NaN</td>\n      <td>NaN</td>\n      <td>NO</td>\n      <td>BODY</td>\n      <td>1989-09-01</td>\n      <td>UNKNOWN</td>\n      <td>NaT</td>\n      <td>NaN</td>\n      <td>UNKNOWN</td>\n      <td>NaT</td>\n      <td>NaT</td>\n      <td>NaT</td>\n    </tr>\n    <tr>\n      <th>...</th>\n      <td>...</td>\n      <td>...</td>\n      <td>...</td>\n      <td>...</td>\n      <td>...</td>\n      <td>...</td>\n      <td>...</td>\n      <td>...</td>\n      <td>...</td>\n      <td>...</td>\n      <td>...</td>\n      <td>...</td>\n      <td>...</td>\n      <td>...</td>\n      <td>...</td>\n      <td>...</td>\n      <td>...</td>\n      <td>...</td>\n    </tr>\n    <tr>\n      <th>8995</th>\n      <td>2017-09-05</td>\n      <td>DOG</td>\n      <td>NaN</td>\n      <td>NaN</td>\n      <td>NaN</td>\n      <td>NaN</td>\n      <td>NaN</td>\n      <td>40243</td>\n      <td>NaN</td>\n      <td>UNKNOWN</td>\n      <td>2017-09-08</td>\n      <td>NaN</td>\n      <td>NaT</td>\n      <td>NaN</td>\n      <td>NaN</td>\n      <td>NaT</td>\n      <td>NaT</td>\n      <td>NaT</td>\n    </tr>\n    <tr>\n      <th>8996</th>\n      <td>2017-09-07</td>\n      <td>DOG</td>\n      <td>POMERANIAN</td>\n      <td>MALE</td>\n      <td>RED</td>\n      <td>NaN</td>\n      <td>NaN</td>\n      <td>40204</td>\n      <td>NaN</td>\n      <td>HEAD</td>\n      <td>2017-09-10</td>\n      <td>NaN</td>\n      <td>NaT</td>\n      <td>NaN</td>\n      <td>NaN</td>\n      <td>NaT</td>\n      <td>NaT</td>\n      <td>NaT</td>\n    </tr>\n    <tr>\n      <th>8997</th>\n      <td>2017-09-07</td>\n      <td>DOG</td>\n      <td>LABRADOR RETRIV</td>\n      <td>MALE</td>\n      <td>BROWN</td>\n      <td>NaN</td>\n      <td>NaN</td>\n      <td>47130</td>\n      <td>NaN</td>\n      <td>UNKNOWN</td>\n      <td>2017-09-10</td>\n      <td>NaN</td>\n      <td>NaT</td>\n      <td>NaN</td>\n      <td>NaN</td>\n      <td>NaT</td>\n      <td>NaT</td>\n      <td>NaT</td>\n    </tr>\n    <tr>\n      <th>8998</th>\n      <td>2017-09-07</td>\n      <td>DOG</td>\n      <td>LABRADOR RETRIV</td>\n      <td>FEMALE</td>\n      <td>BLK WHT</td>\n      <td>NaN</td>\n      <td>NaN</td>\n      <td>40229</td>\n      <td>NaN</td>\n      <td>BODY</td>\n      <td>2017-09-10</td>\n      <td>NaN</td>\n      <td>NaT</td>\n      <td>NaN</td>\n      <td>NaN</td>\n      <td>NaT</td>\n      <td>NaT</td>\n      <td>NaT</td>\n    </tr>\n    <tr>\n      <th>8999</th>\n      <td>2017-09-07</td>\n      <td>DOG</td>\n      <td>BOXER</td>\n      <td>NaN</td>\n      <td>BRN BLK</td>\n      <td>NaN</td>\n      <td>NaN</td>\n      <td>40229</td>\n      <td>NaN</td>\n      <td>BODY</td>\n      <td>2017-09-10</td>\n      <td>NaN</td>\n      <td>NaT</td>\n      <td>NaN</td>\n      <td>NaN</td>\n      <td>NaT</td>\n      <td>NaT</td>\n      <td>NaT</td>\n    </tr>\n  </tbody>\n</table>\n<p>9000 rows × 18 columns</p>\n</div>"
     },
     "execution_count": 93,
     "metadata": {},
     "output_type": "execute_result"
    }
   ],
   "source": [
    "preprocessed_data"
   ],
   "metadata": {
    "collapsed": false,
    "ExecuteTime": {
     "end_time": "2024-01-15T17:30:20.939635200Z",
     "start_time": "2024-01-15T17:30:20.735788700Z"
    }
   },
   "id": "9c6787a19faa1be9"
  },
  {
   "cell_type": "code",
   "execution_count": 94,
   "outputs": [
    {
     "data": {
      "text/plain": "118"
     },
     "execution_count": 94,
     "metadata": {},
     "output_type": "execute_result"
    }
   ],
   "source": [
    "preprocessed_data['SpeciesIDDesc'].isnull().sum()"
   ],
   "metadata": {
    "collapsed": false,
    "ExecuteTime": {
     "end_time": "2024-01-15T17:30:44.416336500Z",
     "start_time": "2024-01-15T17:30:44.254454700Z"
    }
   },
   "id": "88964ad4eb73c722"
  },
  {
   "cell_type": "code",
   "execution_count": 115,
   "outputs": [
    {
     "data": {
      "text/plain": "'DOG'"
     },
     "execution_count": 115,
     "metadata": {},
     "output_type": "execute_result"
    }
   ],
   "source": [
    "# get the most bitten animalin the dataset\n",
    "\n",
    "mode(preprocessed_data['SpeciesIDDesc'])"
   ],
   "metadata": {
    "collapsed": false,
    "ExecuteTime": {
     "end_time": "2024-01-15T17:52:57.303269900Z",
     "start_time": "2024-01-15T17:52:57.183311200Z"
    }
   },
   "id": "80cf95aac44d27c5"
  },
  {
   "cell_type": "code",
   "execution_count": 98,
   "outputs": [],
   "source": [
    "#lets fill missing values in 'SpeciesIDDesc' column using mode value.\n",
    "preprocessed_data['SpeciesIDDesc'] = preprocessed_data['SpeciesIDDesc'].fillna('DOG')\n"
   ],
   "metadata": {
    "collapsed": false,
    "ExecuteTime": {
     "end_time": "2024-01-15T17:37:23.196272200Z",
     "start_time": "2024-01-15T17:37:23.078588100Z"
    }
   },
   "id": "36cf7a13285dc767"
  },
  {
   "cell_type": "code",
   "execution_count": 99,
   "outputs": [
    {
     "data": {
      "text/plain": "0"
     },
     "execution_count": 99,
     "metadata": {},
     "output_type": "execute_result"
    }
   ],
   "source": [
    "preprocessed_data['SpeciesIDDesc'].isnull().sum()"
   ],
   "metadata": {
    "collapsed": false,
    "ExecuteTime": {
     "end_time": "2024-01-15T17:37:40.403070600Z",
     "start_time": "2024-01-15T17:37:40.272732500Z"
    }
   },
   "id": "78014f423c5ae860"
  },
  {
   "cell_type": "code",
   "execution_count": 100,
   "outputs": [
    {
     "data": {
      "text/plain": "2525"
     },
     "execution_count": 100,
     "metadata": {},
     "output_type": "execute_result"
    }
   ],
   "source": [
    "# let's check gender column\n",
    "preprocessed_data['GenderIDDesc'].isnull().sum()\n"
   ],
   "metadata": {
    "collapsed": false,
    "ExecuteTime": {
     "end_time": "2024-01-15T17:38:39.033185500Z",
     "start_time": "2024-01-15T17:38:38.944094800Z"
    }
   },
   "id": "311bb88225c96250"
  },
  {
   "cell_type": "code",
   "execution_count": 116,
   "outputs": [
    {
     "data": {
      "text/plain": "'MALE'"
     },
     "execution_count": 116,
     "metadata": {},
     "output_type": "execute_result"
    }
   ],
   "source": [
    "# categorical_values = preprocessed_data['SpeciesIDDesc']\n",
    "mode(preprocessed_data['GenderIDDesc'])\n"
   ],
   "metadata": {
    "collapsed": false,
    "ExecuteTime": {
     "end_time": "2024-01-15T17:53:07.996979400Z",
     "start_time": "2024-01-15T17:53:07.898334900Z"
    }
   },
   "id": "bfe887f271098bc8"
  },
  {
   "cell_type": "code",
   "execution_count": 106,
   "outputs": [],
   "source": [
    "# let's fill null values using mode of gender\n",
    "preprocessed_data['GenderIDDesc'] = preprocessed_data['GenderIDDesc'].fillna('MALE')\n"
   ],
   "metadata": {
    "collapsed": false,
    "ExecuteTime": {
     "end_time": "2024-01-15T17:41:40.642915600Z",
     "start_time": "2024-01-15T17:41:40.589145600Z"
    }
   },
   "id": "fe93f4e6f53ca90b"
  },
  {
   "cell_type": "code",
   "execution_count": 109,
   "outputs": [],
   "source": [
    "preprocessed_data['GenderIDDesc'] = preprocessed_data['GenderIDDesc'].replace('UNKNOWN','MALE')"
   ],
   "metadata": {
    "collapsed": false,
    "ExecuteTime": {
     "end_time": "2024-01-15T17:47:12.501549600Z",
     "start_time": "2024-01-15T17:47:12.459258600Z"
    }
   },
   "id": "19b80b85425f1f5d"
  },
  {
   "cell_type": "code",
   "execution_count": 110,
   "outputs": [
    {
     "data": {
      "text/plain": "0       FEMALE\n1         MALE\n2         MALE\n3         MALE\n4       FEMALE\n         ...  \n8995      MALE\n8996      MALE\n8997      MALE\n8998    FEMALE\n8999      MALE\nName: GenderIDDesc, Length: 9000, dtype: object"
     },
     "execution_count": 110,
     "metadata": {},
     "output_type": "execute_result"
    }
   ],
   "source": [
    "preprocessed_data['GenderIDDesc']"
   ],
   "metadata": {
    "collapsed": false,
    "ExecuteTime": {
     "end_time": "2024-01-15T17:47:23.887002900Z",
     "start_time": "2024-01-15T17:47:23.799511500Z"
    }
   },
   "id": "7e11f2c5e75aadba"
  },
  {
   "cell_type": "code",
   "execution_count": 111,
   "outputs": [
    {
     "data": {
      "text/plain": "GenderIDDesc\nMALE      6984\nFEMALE    2016\nName: count, dtype: int64"
     },
     "execution_count": 111,
     "metadata": {},
     "output_type": "execute_result"
    }
   ],
   "source": [
    "preprocessed_data['GenderIDDesc'].value_counts()"
   ],
   "metadata": {
    "collapsed": false,
    "ExecuteTime": {
     "end_time": "2024-01-15T17:49:08.703257500Z",
     "start_time": "2024-01-15T17:49:08.583772800Z"
    }
   },
   "id": "e6a6f66c63aca0bd"
  },
  {
   "cell_type": "code",
   "execution_count": 113,
   "outputs": [
    {
     "data": {
      "text/plain": "color\nBLACK         671\nBROWN         433\nWHITE         394\nBLK WHT       277\nTAN           223\n             ... \nWH/BLACK        1\nBL/WH/BROW      1\nORG/WHITE       1\nTAN/SILVER      1\nBRONW           1\nName: count, Length: 712, dtype: int64"
     },
     "execution_count": 113,
     "metadata": {},
     "output_type": "execute_result"
    }
   ],
   "source": [
    "#let's get unique count in color column\n",
    "preprocessed_data['color'].value_counts()"
   ],
   "metadata": {
    "collapsed": false,
    "ExecuteTime": {
     "end_time": "2024-01-15T17:50:46.084164100Z",
     "start_time": "2024-01-15T17:50:46.034548200Z"
    }
   },
   "id": "4be73bbad1c37db0"
  },
  {
   "cell_type": "code",
   "execution_count": 19,
   "outputs": [
    {
     "data": {
      "text/plain": "'BLACK'"
     },
     "execution_count": 19,
     "metadata": {},
     "output_type": "execute_result"
    }
   ],
   "source": [
    "mode(preprocessed_data['color'].dropna())"
   ],
   "metadata": {
    "collapsed": false,
    "ExecuteTime": {
     "end_time": "2024-01-16T07:50:07.667222Z",
     "start_time": "2024-01-16T07:50:07.600127100Z"
    }
   },
   "id": "e3c71978b882a69f"
  },
  {
   "cell_type": "code",
   "execution_count": 117,
   "outputs": [
    {
     "data": {
      "text/plain": "2576"
     },
     "execution_count": 117,
     "metadata": {},
     "output_type": "execute_result"
    }
   ],
   "source": [
    "preprocessed_data['color'].isnull().sum()"
   ],
   "metadata": {
    "collapsed": false,
    "ExecuteTime": {
     "start_time": "2024-01-15T17:53:42.845438900Z"
    }
   },
   "id": "54c5e539607c05b"
  },
  {
   "cell_type": "code",
   "execution_count": 20,
   "outputs": [],
   "source": [
    "# we can use these null values using second mode value.. we can see that from below table\n",
    "preprocessed_data['color'] = preprocessed_data['color'].fillna('BLACK')\n"
   ],
   "metadata": {
    "collapsed": false,
    "ExecuteTime": {
     "end_time": "2024-01-16T07:50:57.512935700Z",
     "start_time": "2024-01-16T07:50:57.387905Z"
    }
   },
   "id": "b26741b815a2a514"
  },
  {
   "cell_type": "code",
   "execution_count": 21,
   "outputs": [
    {
     "data": {
      "text/plain": "'BLACK'"
     },
     "execution_count": 21,
     "metadata": {},
     "output_type": "execute_result"
    }
   ],
   "source": [
    "mode(preprocessed_data['color'])"
   ],
   "metadata": {
    "collapsed": false,
    "ExecuteTime": {
     "end_time": "2024-01-16T07:50:59.873221Z",
     "start_time": "2024-01-16T07:50:59.823874600Z"
    }
   },
   "id": "38c77dd2e7171f1f"
  },
  {
   "cell_type": "code",
   "execution_count": 22,
   "outputs": [
    {
     "data": {
      "text/plain": "0       LIG. BROWN\n1        BRO & BLA\n2            BLACK\n3        BLA & BRO\n4          BLK-WHT\n           ...    \n8998         BLACK\n8999           RED\n9000         BROWN\n9001       BLK WHT\n9002       BRN BLK\nName: color, Length: 9003, dtype: object"
     },
     "execution_count": 22,
     "metadata": {},
     "output_type": "execute_result"
    }
   ],
   "source": [
    "preprocessed_data['color']"
   ],
   "metadata": {
    "collapsed": false,
    "ExecuteTime": {
     "end_time": "2024-01-16T07:51:11.242969Z",
     "start_time": "2024-01-16T07:51:11.165071800Z"
    }
   },
   "id": "640b1d5c193ba8b0"
  },
  {
   "cell_type": "code",
   "execution_count": null,
   "outputs": [],
   "source": [
    "preprocessed_data['color'].isna()"
   ],
   "metadata": {
    "collapsed": false
   },
   "id": "381e15879d10c466"
  }
 ],
 "metadata": {
  "kernelspec": {
   "display_name": "Python 3 (ipykernel)",
   "language": "python",
   "name": "python3"
  },
  "language_info": {
   "codemirror_mode": {
    "name": "ipython",
    "version": 3
   },
   "file_extension": ".py",
   "mimetype": "text/x-python",
   "name": "python",
   "nbconvert_exporter": "python",
   "pygments_lexer": "ipython3",
   "version": "3.11.4"
  }
 },
 "nbformat": 4,
 "nbformat_minor": 5
}
